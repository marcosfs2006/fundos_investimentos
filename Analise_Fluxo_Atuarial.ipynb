{
  "nbformat": 4,
  "nbformat_minor": 0,
  "metadata": {
    "kernelspec": {
      "display_name": "R",
      "language": "R",
      "name": "ir"
    },
    "language_info": {
      "codemirror_mode": "r",
      "file_extension": ".r",
      "mimetype": "text/x-r-source",
      "name": "R",
      "pygments_lexer": "r",
      "version": "3.3.1"
    },
    "colab": {
      "name": "Analise Fluxo Atuarial.ipynb",
      "provenance": [],
      "collapsed_sections": [],
      "toc_visible": true,
      "include_colab_link": true
    }
  },
  "cells": [
    {
      "cell_type": "markdown",
      "metadata": {
        "id": "view-in-github",
        "colab_type": "text"
      },
      "source": [
        "<a href=\"https://colab.research.google.com/github/marcosfs2006/rede-rpps/blob/master/Analise_Fluxo_Atuarial.ipynb\" target=\"_parent\"><img src=\"https://colab.research.google.com/assets/colab-badge.svg\" alt=\"Open In Colab\"/></a>"
      ]
    },
    {
      "cell_type": "code",
      "metadata": {
        "id": "YW_mM173D1mu",
        "colab_type": "code",
        "colab": {}
      },
      "source": [
        "library(readr)\n",
        "library(ggplot2)\n",
        "library(dplyr)\n",
        "library(readxl)"
      ],
      "execution_count": 0,
      "outputs": []
    },
    {
      "cell_type": "markdown",
      "metadata": {
        "id": "zeCWjfyphbGB",
        "colab_type": "text"
      },
      "source": [
        "# Análise do Fluxo Atuarial\n",
        "\n",
        "O fluxo atuarial ser objeto de análise está contido no arquivo `2019_FLX_CIVIL_PREV_GA_XXXXXXXXXXXXXX.csv`. \n",
        "\n",
        "Para que seja possível realizar a análise, serão necessários dois outros arquivos:  \n",
        "\n",
        "* `2019_FLX_CIVIL_PREV_GA_cnpj - Com cálculo Duração.xlsx` \n",
        "* `Comparativo de Receita Despesa.csv`   \n",
        "\n",
        "Estes dois arquivos estão disponíveis no site da SPrev.\n",
        "\n",
        "# Importação dos dados\n",
        "\n",
        "Para realizar a análise dos dados é necessário realizar a importação dos mesmos, o que faremos a seguir. \n",
        "\n"
      ]
    },
    {
      "cell_type": "code",
      "metadata": {
        "id": "xkDjjW_2hbGQ",
        "colab_type": "code",
        "outputId": "43e7c66d-e19d-4fd3-c7b9-11d411d3f1ff",
        "colab": {
          "base_uri": "https://localhost:8080/",
          "height": 204
        }
      },
      "source": [
        "# Gerar um data frame com os nomes e os códigos das varíaveis\n",
        "\n",
        "dicionario <- read_excel(\"/content/2019_FLX_CIVIL_PREV_GA_cnpj - Com cálculo Duração.xlsx\", sheet=\"Flx_CIVIL_PREV_GA\", range=\"A7:BQ8\")\n",
        "dicionario <- t(dicionario)\n",
        "dicionario <- data.frame(cod = dimnames(dicionario)[[1]], \n",
        "                       descr = unname(dicionario[, 1]))\n",
        "dicionario$cod <- paste(\"V\", dicionario$cod, sep = \"\")\n",
        "\n",
        "head(dicionario)"
      ],
      "execution_count": 0,
      "outputs": [
        {
          "output_type": "display_data",
          "data": {
            "text/plain": [
              "  cod     descr                                                \n",
              "1 V100101 Instante                                             \n",
              "2 V100201 Ano                                                  \n",
              "3 V100301 Taxa de Juros (%)                                    \n",
              "4 V100401 Fator de Desconto                                    \n",
              "5 V109001 Base de Cálculo da Contribuição Normal               \n",
              "6 V111000 Benefícios Concedidos - Contribuições dos Aposentados"
            ],
            "text/latex": "A data.frame: 6 × 2\n\\begin{tabular}{r|ll}\n cod & descr\\\\\n <chr> & <fct>\\\\\n\\hline\n\t V100101 & Instante                                             \\\\\n\t V100201 & Ano                                                  \\\\\n\t V100301 & Taxa de Juros (\\%)                                    \\\\\n\t V100401 & Fator de Desconto                                    \\\\\n\t V109001 & Base de Cálculo da Contribuição Normal               \\\\\n\t V111000 & Benefícios Concedidos - Contribuições dos Aposentados\\\\\n\\end{tabular}\n",
            "text/markdown": "\nA data.frame: 6 × 2\n\n| cod &lt;chr&gt; | descr &lt;fct&gt; |\n|---|---|\n| V100101 | Instante                                              |\n| V100201 | Ano                                                   |\n| V100301 | Taxa de Juros (%)                                     |\n| V100401 | Fator de Desconto                                     |\n| V109001 | Base de Cálculo da Contribuição Normal                |\n| V111000 | Benefícios Concedidos - Contribuições dos Aposentados |\n\n",
            "text/html": [
              "<table>\n",
              "<caption>A data.frame: 6 × 2</caption>\n",
              "<thead>\n",
              "\t<tr><th scope=col>cod</th><th scope=col>descr</th></tr>\n",
              "\t<tr><th scope=col>&lt;chr&gt;</th><th scope=col>&lt;fct&gt;</th></tr>\n",
              "</thead>\n",
              "<tbody>\n",
              "\t<tr><td>V100101</td><td>Instante                                             </td></tr>\n",
              "\t<tr><td>V100201</td><td>Ano                                                  </td></tr>\n",
              "\t<tr><td>V100301</td><td>Taxa de Juros (%)                                    </td></tr>\n",
              "\t<tr><td>V100401</td><td>Fator de Desconto                                    </td></tr>\n",
              "\t<tr><td>V109001</td><td>Base de Cálculo da Contribuição Normal               </td></tr>\n",
              "\t<tr><td>V111000</td><td>Benefícios Concedidos - Contribuições dos Aposentados</td></tr>\n",
              "</tbody>\n",
              "</table>\n"
            ]
          },
          "metadata": {
            "tags": []
          }
        }
      ]
    },
    {
      "cell_type": "markdown",
      "metadata": {
        "id": "oRNc_FGAGJHo",
        "colab_type": "text"
      },
      "source": [
        "Vamos definir uma pequena função que calculará a o **Fator de Desconto** (`V100401`) a partir das **Taxas de Juros** (`V100301`) informadas no fluxo atuarial."
      ]
    },
    {
      "cell_type": "code",
      "metadata": {
        "id": "Hk9eMkQ_F1bT",
        "colab_type": "code",
        "colab": {}
      },
      "source": [
        "# Define uma função auxiliar para calcular as taxas de desconto\n",
        "#--------------------------------------------------------------\n",
        "calcula_tx_desconto <- function(i, postecipado = TRUE){\n",
        "  #--------------------\n",
        "  # i: Variável V100301\n",
        "  #--------------------\n",
        "  if(postecipado){\n",
        "    desconto <- 1 / (1 + i)\n",
        "  } else {\n",
        "    desconto <- c(1, 1 / (1 + i[2:length(i)])) \n",
        "  }\n",
        "  round(cumprod(desconto), 5)\n",
        "}"
      ],
      "execution_count": 0,
      "outputs": []
    },
    {
      "cell_type": "code",
      "metadata": {
        "id": "cZxbCs7fGhSu",
        "colab_type": "code",
        "colab": {}
      },
      "source": [
        "# Importação dos dados\n",
        "flx_orig <- read_csv2(\"/content/2019_FLX_CIVIL_PREV_GA_XXXXXXXXXXXXXX.csv\", skip = 5, col_names = FALSE)\n",
        "\n",
        "# Coloca nomes nas colunas\n",
        "colfluxo <- c(100101, 100201, 100301, 100401, 109001,\t111000,\t111101,\t111201, 111301,\n",
        "              111401,\t112000,\t119900,\t121000,\t121100,\t121200,\t121300,\t121400,\t121500,\n",
        "              121600,\t121700,\t122000, 122100,\t122200,\t122300,\t122400,\t122500,\t122600,\n",
        "              122700,\t123000,\t123100,\t123200,\t123300,\t123400, 124000,\t124100,\t124200,\n",
        "              124300,\t124400,\t124500,\t129000,\t130101,\t130201,\t139901,\t190000,\t210000,\n",
        "              211001,\t212001,\t213001,\t214001,\t215001,\t219901,\t220000,\t221000,\t222000,\n",
        "              223000,\t224000,\t225000, 226000,\t227000,\t229000,\t239901,\t240000,\t250001,\n",
        "              260001,\t270001,\t280001,\t290001)\n",
        "\n",
        "if(ncol(flx_orig) == 67){\n",
        "  names(flx_orig) <- paste(\"V\", colfluxo, sep=\"\")\n",
        "} else { \n",
        "  names(flx_orig) <- paste(\"V\", c(colfluxo, 310000,\t320000), sep=\"\")\n",
        "}\n",
        "\n"
      ],
      "execution_count": 0,
      "outputs": []
    }
  ]
}