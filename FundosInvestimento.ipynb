{
  "nbformat": 4,
  "nbformat_minor": 0,
  "metadata": {
    "kernelspec": {
      "display_name": "R",
      "language": "R",
      "name": "ir"
    },
    "language_info": {
      "codemirror_mode": "r",
      "file_extension": ".r",
      "mimetype": "text/x-r-source",
      "name": "R",
      "pygments_lexer": "r",
      "version": "3.3.1"
    },
    "colab": {
      "name": "___(Modelo)_Branco.ipynb",
      "provenance": [],
      "collapsed_sections": [],
      "include_colab_link": true
    }
  },
  "cells": [
    {
      "cell_type": "markdown",
      "metadata": {
        "id": "view-in-github",
        "colab_type": "text"
      },
      "source": [
        "<a href=\"https://colab.research.google.com/github/marcosfs2006/rede-rpps/blob/master/FundosInvestimento.ipynb\" target=\"_parent\"><img src=\"https://colab.research.google.com/assets/colab-badge.svg\" alt=\"Open In Colab\"/></a>"
      ]
    },
    {
      "cell_type": "markdown",
      "metadata": {
        "id": "zeCWjfyphbGB",
        "colab_type": "text"
      },
      "source": [
        "# Fundos de Investimento\n",
        "\n",
        "O código abaixo faz a importação dos aquivos disponibilizados pela SPrev contendo informações sobre o DAIR. Os arquivos importados são os seguintes:\n",
        "\n",
        "* `carteira2018_atualizacao_ de_ fev_2020.xlsx`   \n",
        "* `carteira2019_atualizacao_ de_ fev_2020_B.xlsx`   \n",
        "\n",
        "A importação desses dados e geração do conjunto de dados `dair_DtRef_FEV2020.Rds` disponibilizado neste repositório é feita utilizando-se o código contido no _script_ `importacao_dados_dair.R`."
      ]
    },
    {
      "cell_type": "code",
      "metadata": {
        "id": "Cis35TLo12FS",
        "colab_type": "code",
        "colab": {}
      },
      "source": [
        "# Anexar o repositório do GitHub contendo os dados...\n",
        "system('git clone https://github.com/marcosfs2006/rede-rpps.git')\n",
        "setwd(\"/content/rede-rpps\")"
      ],
      "execution_count": 0,
      "outputs": []
    },
    {
      "cell_type": "code",
      "metadata": {
        "id": "tLqNPbSbrWr1",
        "colab_type": "code",
        "colab": {
          "base_uri": "https://localhost:8080/",
          "height": 314
        },
        "outputId": "0c9c2eec-9028-47a8-d4fd-8205fb92f109"
      },
      "source": [
        "# Carregar os pacotes necessários...\n",
        "dair <- readRDS(\"dair_DtRef_FEV2020.Rds\")\n",
        "head(dair, 3)"
      ],
      "execution_count": 5,
      "outputs": [
        {
          "output_type": "display_data",
          "data": {
            "text/plain": [
              "  cnpj         uf ente                      competencia\n",
              "1 6.360648e+13 AC Governo do Estado do Acre 2018-01-01 \n",
              "2 6.360648e+13 AC Governo do Estado do Acre 2018-01-01 \n",
              "3 6.360648e+13 AC Governo do Estado do Acre 2018-01-01 \n",
              "  segmento                     tipo_ativo limite_resol_cmn ident_ativo\n",
              "1 Disponibilidades Financeiras Disp       NA               3550  60801\n",
              "2 Disponibilidades Financeiras Disp       NA               3550  5738X\n",
              "3 Disponibilidades Financeiras Disp       NA               3550  83070\n",
              "  nm_ativo               qtd_quotas vlr_atual_ativo vlr_total_atual\n",
              "1 1 Banco do Brasil S.A. 1                 0               0       \n",
              "2 1 Banco do Brasil S.A. 1          14391810        14391810       \n",
              "3 1 Banco do Brasil S.A. 1                 0               0       \n",
              "  perc_recursos_rpps pl_fundo perc_pl_fundo\n",
              "1  0.00              NA       NA           \n",
              "2 96.07              NA       NA           \n",
              "3  0.00              NA       NA           "
            ],
            "text/latex": "A tibble: 3 × 15\n\\begin{tabular}{r|lllllllllllllll}\n  & cnpj & uf & ente & competencia & segmento & tipo\\_ativo & limite\\_resol\\_cmn & ident\\_ativo & nm\\_ativo & qtd\\_quotas & vlr\\_atual\\_ativo & vlr\\_total\\_atual & perc\\_recursos\\_rpps & pl\\_fundo & perc\\_pl\\_fundo\\\\\n  & <dbl> & <chr> & <chr> & <date> & <chr> & <chr> & <dbl> & <chr> & <chr> & <dbl> & <dbl> & <dbl> & <dbl> & <dbl> & <dbl>\\\\\n\\hline\n\t1 & 6.360648e+13 & AC & Governo do Estado do Acre & 2018-01-01 & Disponibilidades Financeiras & Disp & NA & 3550  60801 & 1 Banco do Brasil S.A. & 1 &        0 &        0 &  0.00 & NA & NA\\\\\n\t2 & 6.360648e+13 & AC & Governo do Estado do Acre & 2018-01-01 & Disponibilidades Financeiras & Disp & NA & 3550  5738X & 1 Banco do Brasil S.A. & 1 & 14391810 & 14391810 & 96.07 & NA & NA\\\\\n\t3 & 6.360648e+13 & AC & Governo do Estado do Acre & 2018-01-01 & Disponibilidades Financeiras & Disp & NA & 3550  83070 & 1 Banco do Brasil S.A. & 1 &        0 &        0 &  0.00 & NA & NA\\\\\n\\end{tabular}\n",
            "text/markdown": "\nA tibble: 3 × 15\n\n| <!--/--> | cnpj &lt;dbl&gt; | uf &lt;chr&gt; | ente &lt;chr&gt; | competencia &lt;date&gt; | segmento &lt;chr&gt; | tipo_ativo &lt;chr&gt; | limite_resol_cmn &lt;dbl&gt; | ident_ativo &lt;chr&gt; | nm_ativo &lt;chr&gt; | qtd_quotas &lt;dbl&gt; | vlr_atual_ativo &lt;dbl&gt; | vlr_total_atual &lt;dbl&gt; | perc_recursos_rpps &lt;dbl&gt; | pl_fundo &lt;dbl&gt; | perc_pl_fundo &lt;dbl&gt; |\n|---|---|---|---|---|---|---|---|---|---|---|---|---|---|---|---|\n| 1 | 6.360648e+13 | AC | Governo do Estado do Acre | 2018-01-01 | Disponibilidades Financeiras | Disp | NA | 3550  60801 | 1 Banco do Brasil S.A. | 1 |        0 |        0 |  0.00 | NA | NA |\n| 2 | 6.360648e+13 | AC | Governo do Estado do Acre | 2018-01-01 | Disponibilidades Financeiras | Disp | NA | 3550  5738X | 1 Banco do Brasil S.A. | 1 | 14391810 | 14391810 | 96.07 | NA | NA |\n| 3 | 6.360648e+13 | AC | Governo do Estado do Acre | 2018-01-01 | Disponibilidades Financeiras | Disp | NA | 3550  83070 | 1 Banco do Brasil S.A. | 1 |        0 |        0 |  0.00 | NA | NA |\n\n",
            "text/html": [
              "<table>\n",
              "<caption>A tibble: 3 × 15</caption>\n",
              "<thead>\n",
              "\t<tr><th></th><th scope=col>cnpj</th><th scope=col>uf</th><th scope=col>ente</th><th scope=col>competencia</th><th scope=col>segmento</th><th scope=col>tipo_ativo</th><th scope=col>limite_resol_cmn</th><th scope=col>ident_ativo</th><th scope=col>nm_ativo</th><th scope=col>qtd_quotas</th><th scope=col>vlr_atual_ativo</th><th scope=col>vlr_total_atual</th><th scope=col>perc_recursos_rpps</th><th scope=col>pl_fundo</th><th scope=col>perc_pl_fundo</th></tr>\n",
              "\t<tr><th></th><th scope=col>&lt;dbl&gt;</th><th scope=col>&lt;chr&gt;</th><th scope=col>&lt;chr&gt;</th><th scope=col>&lt;date&gt;</th><th scope=col>&lt;chr&gt;</th><th scope=col>&lt;chr&gt;</th><th scope=col>&lt;dbl&gt;</th><th scope=col>&lt;chr&gt;</th><th scope=col>&lt;chr&gt;</th><th scope=col>&lt;dbl&gt;</th><th scope=col>&lt;dbl&gt;</th><th scope=col>&lt;dbl&gt;</th><th scope=col>&lt;dbl&gt;</th><th scope=col>&lt;dbl&gt;</th><th scope=col>&lt;dbl&gt;</th></tr>\n",
              "</thead>\n",
              "<tbody>\n",
              "\t<tr><th scope=row>1</th><td>6.360648e+13</td><td>AC</td><td>Governo do Estado do Acre</td><td>2018-01-01</td><td>Disponibilidades Financeiras</td><td>Disp</td><td>NA</td><td>3550  60801</td><td>1 Banco do Brasil S.A.</td><td>1</td><td>       0</td><td>       0</td><td> 0.00</td><td>NA</td><td>NA</td></tr>\n",
              "\t<tr><th scope=row>2</th><td>6.360648e+13</td><td>AC</td><td>Governo do Estado do Acre</td><td>2018-01-01</td><td>Disponibilidades Financeiras</td><td>Disp</td><td>NA</td><td>3550  5738X</td><td>1 Banco do Brasil S.A.</td><td>1</td><td>14391810</td><td>14391810</td><td>96.07</td><td>NA</td><td>NA</td></tr>\n",
              "\t<tr><th scope=row>3</th><td>6.360648e+13</td><td>AC</td><td>Governo do Estado do Acre</td><td>2018-01-01</td><td>Disponibilidades Financeiras</td><td>Disp</td><td>NA</td><td>3550  83070</td><td>1 Banco do Brasil S.A.</td><td>1</td><td>       0</td><td>       0</td><td> 0.00</td><td>NA</td><td>NA</td></tr>\n",
              "</tbody>\n",
              "</table>\n"
            ]
          },
          "metadata": {
            "tags": []
          }
        }
      ]
    }
  ]
}