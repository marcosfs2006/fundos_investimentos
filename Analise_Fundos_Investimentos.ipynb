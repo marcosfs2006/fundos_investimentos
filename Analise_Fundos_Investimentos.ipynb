{
  "nbformat": 4,
  "nbformat_minor": 0,
  "metadata": {
    "kernelspec": {
      "display_name": "R",
      "language": "R",
      "name": "ir"
    },
    "language_info": {
      "codemirror_mode": "r",
      "file_extension": ".r",
      "mimetype": "text/x-r-source",
      "name": "R",
      "pygments_lexer": "r",
      "version": "3.3.1"
    },
    "colab": {
      "name": "Analise_Fundos_Investimentos.ipynb",
      "provenance": [],
      "collapsed_sections": [],
      "include_colab_link": true
    }
  },
  "cells": [
    {
      "cell_type": "markdown",
      "metadata": {
        "id": "view-in-github",
        "colab_type": "text"
      },
      "source": [
        "<a href=\"https://colab.research.google.com/github/marcosfs2006/rede-rpps/blob/master/Analise_Fundos_Investimentos.ipynb\" target=\"_parent\"><img src=\"https://colab.research.google.com/assets/colab-badge.svg\" alt=\"Open In Colab\"/></a>"
      ]
    },
    {
      "cell_type": "markdown",
      "metadata": {
        "id": "zeCWjfyphbGB",
        "colab_type": "text"
      },
      "source": [
        "----\n",
        "\n",
        "# **FUNDOS DE INVESTIMENTOS**\n",
        "\n",
        "----\n",
        "\n",
        "O dados do DAIR utilizados neste notebook são oriundos dos aquivos disponibilizados pela SPrev em seu [site de dados abertos](http://www.previdencia.gov.br/dados-abertos/estatisticas-e-informacoes-dos-rpps/).\n",
        "\n",
        " Os arquivos importados são os seguintes:\n",
        "\n",
        "* `carteira2018_atualizacao_ de_ fev_2020.xlsx`   \n",
        "* `carteira2019_atualizacao_ de_ fev_2020_B.xlsx`   \n",
        "\n",
        "A importação desses dados e geração do conjunto de dados `dair_DtRef_FEV2020.Rds` disponibilizado neste repositório é feita utilizando-se o código contido no _script_ `importacao_dados_dair.R` também disponíbilizado neste repositório.\n",
        "\n",
        "Para conhecer um pouco mais sobre fundos de investimentos, consulte a página site http://www.cvm.gov.br/menu/regulados/fundos/sobre.html"
      ]
    },
    {
      "cell_type": "markdown",
      "metadata": {
        "id": "DA5vI44o7eZz",
        "colab_type": "text"
      },
      "source": [
        "<br>\n",
        "<br>\n",
        "\n",
        "---\n",
        "\n",
        "# **PARTE I - CONSTRUÇÃO DE UMA BASE DADOS DE FUNDOS DE INVESTIMENTOS**\n",
        "\n",
        "---\n",
        "\n",
        "<br>"
      ]
    },
    {
      "cell_type": "code",
      "metadata": {
        "id": "Cis35TLo12FS",
        "colab_type": "code",
        "colab": {}
      },
      "source": [
        "# Anexar o repositório do GitHub contendo os dados...\n",
        "system('git clone https://github.com/marcosfs2006/rede-rpps.git')\n",
        "setwd(\"/content/rede-rpps\")"
      ],
      "execution_count": 0,
      "outputs": []
    },
    {
      "cell_type": "code",
      "metadata": {
        "id": "w069CIxReU-Q",
        "colab_type": "code",
        "colab": {}
      },
      "source": [
        "# Carregar os pacotes necessários...\n",
        "options(scipen = 999, message = FALSE)\n",
        "library(readr)\n",
        "library(dplyr)\n",
        "library(ggplot2)\n",
        "library(stringr)\n",
        "library(readxl)\n",
        "library(lubridate)\n",
        "library(purrr)"
      ],
      "execution_count": 0,
      "outputs": []
    },
    {
      "cell_type": "code",
      "metadata": {
        "id": "tLqNPbSbrWr1",
        "colab_type": "code",
        "outputId": "9fbb6fdf-95a2-45d4-b48f-6e9ff67bf321",
        "colab": {
          "base_uri": "https://localhost:8080/",
          "height": 323
        }
      },
      "source": [
        "# Importar os dados do DAIR...\n",
        "\n",
        "dair  <- readRDS(\"dair_DtRef_FEV2020.Rds\") %>% \n",
        "              mutate(enquad_rpps_pad = str_extract(tipo_ativo, \"Art.*$\"),\n",
        "                     enquad_rpps_pad = toupper(gsub(\"[[:punct:]]| |º\", \"\", enquad_rpps_pad))) \n",
        "\n",
        "glimpse(dair)"
      ],
      "execution_count": 83,
      "outputs": [
        {
          "output_type": "stream",
          "text": [
            "Rows: 827,213\n",
            "Columns: 16\n",
            "$ cnpj               \u001b[3m\u001b[90m<dbl>\u001b[39m\u001b[23m 63606479000124, 63606479000124, 63606479000124, 63…\n",
            "$ uf                 \u001b[3m\u001b[90m<chr>\u001b[39m\u001b[23m \"AC\", \"AC\", \"AC\", \"AC\", \"AC\", \"AC\", \"AC\", \"AC\", \"A…\n",
            "$ ente               \u001b[3m\u001b[90m<chr>\u001b[39m\u001b[23m \"Governo do Estado do Acre\", \"Governo do Estado do…\n",
            "$ competencia        \u001b[3m\u001b[90m<date>\u001b[39m\u001b[23m 2018-01-01, 2018-01-01, 2018-01-01, 2018-01-01, 2…\n",
            "$ segmento           \u001b[3m\u001b[90m<chr>\u001b[39m\u001b[23m \"Disponibilidades Financeiras\", \"Disponibilidades …\n",
            "$ tipo_ativo         \u001b[3m\u001b[90m<chr>\u001b[39m\u001b[23m \"Disp\", \"Disp\", \"Disp\", \"FI 100% títulos TN\", \"Dis…\n",
            "$ limite_resol_cmn   \u001b[3m\u001b[90m<dbl>\u001b[39m\u001b[23m NA, NA, NA, 99.99, NA, NA, NA, NA, 99.99, NA, NA, …\n",
            "$ ident_ativo        \u001b[3m\u001b[90m<chr>\u001b[39m\u001b[23m \"3550  60801\", \"3550  5738X\", \"3550  83070\", \"1132…\n",
            "$ nm_ativo           \u001b[3m\u001b[90m<chr>\u001b[39m\u001b[23m \"1 Banco do Brasil S.A.\", \"1 Banco do Brasil S.A.\"…\n",
            "$ qtd_quotas         \u001b[3m\u001b[90m<dbl>\u001b[39m\u001b[23m 1.0, 1.0, 1.0, 252362.9, 1.0, 1.0, 1.0, 1.0, 14443…\n",
            "$ vlr_atual_ativo    \u001b[3m\u001b[90m<dbl>\u001b[39m\u001b[23m 0.000000, 14391809.910000, 0.000000, 2.330250, 0.0…\n",
            "$ vlr_total_atual    \u001b[3m\u001b[90m<dbl>\u001b[39m\u001b[23m 0.0, 14391809.9, 0.0, 588068.6, 0.0, 0.0, 0.0, 0.0…\n",
            "$ perc_recursos_rpps \u001b[3m\u001b[90m<dbl>\u001b[39m\u001b[23m 0.00, 96.07, 0.00, 3.93, 0.00, 0.00, 0.00, 0.00, 1…\n",
            "$ pl_fundo           \u001b[3m\u001b[90m<dbl>\u001b[39m\u001b[23m NA, NA, NA, 12260945819, NA, 0, NA, NA, 1256693065…\n",
            "$ perc_pl_fundo      \u001b[3m\u001b[90m<dbl>\u001b[39m\u001b[23m NA, NA, NA, 0.00, NA, NA, NA, NA, 0.03, NA, NA, NA…\n",
            "$ enquad_rpps_pad    \u001b[3m\u001b[90m<chr>\u001b[39m\u001b[23m NA, NA, NA, NA, NA, NA, NA, NA, NA, NA, NA, NA, NA…\n"
          ],
          "name": "stdout"
        }
      ]
    },
    {
      "cell_type": "markdown",
      "metadata": {
        "id": "DLDw0HxxOoI1",
        "colab_type": "text"
      },
      "source": [
        "A base do DAIR contem todos os ativos nos quais o cada RPPS aplica seus recursos."
      ]
    },
    {
      "cell_type": "markdown",
      "metadata": {
        "id": "dHswb9O0U8qt",
        "colab_type": "text"
      },
      "source": [
        "### **Base de Fundos de Investimentos**\n",
        "\n",
        "Para o nosso estudo, apenas os fundos de investimento são de interesse.\n",
        "\n",
        " No código a seguir vamos aplicar um filtro a essa base de dados de forma a só ficarmos com os fundos de investimentos."
      ]
    },
    {
      "cell_type": "code",
      "metadata": {
        "id": "kG7OFgi8NjCw",
        "colab_type": "code",
        "outputId": "f76fbff0-7cd7-4f4a-e497-28abba67ad2b",
        "colab": {
          "base_uri": "https://localhost:8080/",
          "height": 323
        }
      },
      "source": [
        "# filtrar a base para pegar apenas os registros cujos ativos sejam fundos de investimentos\n",
        "dair_fundos <- dair %>% \n",
        "              filter(competencia >= as.Date(\"2018-04-01\"),  # Pega dados posteriores a Abr/2018\n",
        "                     grepl(\"\\\\d{14}\", ident_ativo))         # Pega só fundos\n",
        "\n",
        "glimpse(dair_fundos)"
      ],
      "execution_count": 84,
      "outputs": [
        {
          "output_type": "stream",
          "text": [
            "Rows: 491,572\n",
            "Columns: 16\n",
            "$ cnpj               \u001b[3m\u001b[90m<dbl>\u001b[39m\u001b[23m 63606479000124, 63606479000124, 63606479000124, 63…\n",
            "$ uf                 \u001b[3m\u001b[90m<chr>\u001b[39m\u001b[23m \"AC\", \"AC\", \"AC\", \"AC\", \"AC\", \"AC\", \"AC\", \"AC\", \"A…\n",
            "$ ente               \u001b[3m\u001b[90m<chr>\u001b[39m\u001b[23m \"Governo do Estado do Acre\", \"Governo do Estado do…\n",
            "$ competencia        \u001b[3m\u001b[90m<date>\u001b[39m\u001b[23m 2018-04-01, 2018-05-01, 2018-06-01, 2018-07-01, 2…\n",
            "$ segmento           \u001b[3m\u001b[90m<chr>\u001b[39m\u001b[23m \"Renda Fixa\", \"Renda Fixa\", \"Renda Fixa\", \"Renda F…\n",
            "$ tipo_ativo         \u001b[3m\u001b[90m<chr>\u001b[39m\u001b[23m \"FI 100% títulos TN - Art. 7º, I, b\", \"FI 100% tít…\n",
            "$ limite_resol_cmn   \u001b[3m\u001b[90m<dbl>\u001b[39m\u001b[23m 100, 100, 100, 100, 100, 100, 100, 100, 100, 100, …\n",
            "$ ident_ativo        \u001b[3m\u001b[90m<chr>\u001b[39m\u001b[23m \"11328882000135\", \"11328882000135\", \"1132888200013…\n",
            "$ nm_ativo           \u001b[3m\u001b[90m<chr>\u001b[39m\u001b[23m \"BB PREVIDENCIÁRIO RENDA FIXA IRF M1\", \"BB PREVIDE…\n",
            "$ qtd_quotas         \u001b[3m\u001b[90m<dbl>\u001b[39m\u001b[23m 321991.422378, 988787.658155, 5770005.412829, 7141…\n",
            "$ vlr_atual_ativo    \u001b[3m\u001b[90m<dbl>\u001b[39m\u001b[23m 2.368637, 2.372936, 2.384796, 2.400908, 2.410399, …\n",
            "$ vlr_total_atual    \u001b[3m\u001b[90m<dbl>\u001b[39m\u001b[23m 762680.84, 2346329.90, 13760284.67, 17146336.11, 3…\n",
            "$ perc_recursos_rpps \u001b[3m\u001b[90m<dbl>\u001b[39m\u001b[23m 100.00, 100.00, 100.00, 100.00, 100.00, 100.00, 10…\n",
            "$ pl_fundo           \u001b[3m\u001b[90m<dbl>\u001b[39m\u001b[23m 11510460841, NA, 11461270747, 11702481616, NA, 127…\n",
            "$ perc_pl_fundo      \u001b[3m\u001b[90m<dbl>\u001b[39m\u001b[23m 0.01, NA, 0.12, 0.15, NA, 0.03, 0.02, 0.03, 0.01, …\n",
            "$ enquad_rpps_pad    \u001b[3m\u001b[90m<chr>\u001b[39m\u001b[23m \"ART7IB\", \"ART7IB\", \"ART7IB\", \"ART7IB\", \"ART7IB\", …\n"
          ],
          "name": "stdout"
        }
      ]
    },
    {
      "cell_type": "markdown",
      "metadata": {
        "id": "nXXJOCeSX12b",
        "colab_type": "text"
      },
      "source": [
        "### **Quantidade de RPPS investindo em cada FI**\n",
        "\n",
        "Vamos calcular quantos RPPS possuem investimentos em cada FI."
      ]
    },
    {
      "cell_type": "code",
      "metadata": {
        "id": "_hdbypqaXmPm",
        "colab_type": "code",
        "colab": {
          "base_uri": "https://localhost:8080/",
          "height": 288
        },
        "outputId": "520ee190-2e36-4b84-a987-129ea91f2314"
      },
      "source": [
        "# Quantos RPPS investem em cada um dos fundos de investimentos existentes na base de dados\n",
        "rpps_invest <- dair_fundos %>%\n",
        "                group_by(ident_ativo) %>%\n",
        "                distinct(cnpj) %>%\n",
        "                count() %>%\n",
        "                arrange(desc(n)) %>%\n",
        "                rename(qtd_rpps_investindo = n)\n",
        "\n",
        "head(rpps_invest, 10)"
      ],
      "execution_count": 85,
      "outputs": [
        {
          "output_type": "display_data",
          "data": {
            "text/plain": [
              "   ident_ativo    qtd_rpps_investindo\n",
              "1  10740670000106 1399               \n",
              "2  11328882000135 1258               \n",
              "3  10740658000193 1006               \n",
              "4  11060913000110  978               \n",
              "5  14386926000171  977               \n",
              "6  13322205000135  927               \n",
              "7  13077418000149  845               \n",
              "8  07111384000169  788               \n",
              "9  07442078000105  768               \n",
              "10 03737206000197  743               "
            ],
            "text/latex": "A grouped\\_df: 10 × 2\n\\begin{tabular}{ll}\n ident\\_ativo & qtd\\_rpps\\_investindo\\\\\n <chr> & <int>\\\\\n\\hline\n\t 10740670000106 & 1399\\\\\n\t 11328882000135 & 1258\\\\\n\t 10740658000193 & 1006\\\\\n\t 11060913000110 &  978\\\\\n\t 14386926000171 &  977\\\\\n\t 13322205000135 &  927\\\\\n\t 13077418000149 &  845\\\\\n\t 07111384000169 &  788\\\\\n\t 07442078000105 &  768\\\\\n\t 03737206000197 &  743\\\\\n\\end{tabular}\n",
            "text/markdown": "\nA grouped_df: 10 × 2\n\n| ident_ativo &lt;chr&gt; | qtd_rpps_investindo &lt;int&gt; |\n|---|---|\n| 10740670000106 | 1399 |\n| 11328882000135 | 1258 |\n| 10740658000193 | 1006 |\n| 11060913000110 |  978 |\n| 14386926000171 |  977 |\n| 13322205000135 |  927 |\n| 13077418000149 |  845 |\n| 07111384000169 |  788 |\n| 07442078000105 |  768 |\n| 03737206000197 |  743 |\n\n",
            "text/html": [
              "<table>\n",
              "<caption>A grouped_df: 10 × 2</caption>\n",
              "<thead>\n",
              "\t<tr><th scope=col>ident_ativo</th><th scope=col>qtd_rpps_investindo</th></tr>\n",
              "\t<tr><th scope=col>&lt;chr&gt;</th><th scope=col>&lt;int&gt;</th></tr>\n",
              "</thead>\n",
              "<tbody>\n",
              "\t<tr><td>10740670000106</td><td>1399</td></tr>\n",
              "\t<tr><td>11328882000135</td><td>1258</td></tr>\n",
              "\t<tr><td>10740658000193</td><td>1006</td></tr>\n",
              "\t<tr><td>11060913000110</td><td> 978</td></tr>\n",
              "\t<tr><td>14386926000171</td><td> 977</td></tr>\n",
              "\t<tr><td>13322205000135</td><td> 927</td></tr>\n",
              "\t<tr><td>13077418000149</td><td> 845</td></tr>\n",
              "\t<tr><td>07111384000169</td><td> 788</td></tr>\n",
              "\t<tr><td>07442078000105</td><td> 768</td></tr>\n",
              "\t<tr><td>03737206000197</td><td> 743</td></tr>\n",
              "</tbody>\n",
              "</table>\n"
            ]
          },
          "metadata": {
            "tags": []
          }
        }
      ]
    },
    {
      "cell_type": "markdown",
      "metadata": {
        "id": "6jThB4bJPL-z",
        "colab_type": "text"
      },
      "source": [
        "Essa variável será inserida posteriormente na base que estamos montando."
      ]
    },
    {
      "cell_type": "markdown",
      "metadata": {
        "id": "O3JPaO3FV3cs",
        "colab_type": "text"
      },
      "source": [
        "### **Fundos Vedados**\n",
        "\n",
        "Agora vamos importar a base de fundos vedados."
      ]
    },
    {
      "cell_type": "code",
      "metadata": {
        "id": "--jZeoupNaJF",
        "colab_type": "code",
        "outputId": "c07e5c84-7d66-4de5-bfcd-deb99a6b9339",
        "colab": {
          "base_uri": "https://localhost:8080/",
          "height": 255
        }
      },
      "source": [
        "# Importar base de fundos vedados\n",
        "fundos_vedados      <- readRDS(\"fundos_vedados.Rds\") \n",
        "\n",
        "names(fundos_vedados) <- c(\"cnpj_fundo\", \"nm_fundo\", \"classe1\", \"classe2\", \"tx_adm\",\n",
        "                           \"administrador\", \"gestor\", \"carencia\", \"conversao_cotas\",\n",
        "                           \"disp_rec_resgatado\", \"tx_saida\", \"motivo\")\n",
        "\n",
        "fundos_vedados <- fundos_vedados %>% \n",
        "                          mutate(cnpj_fundo = gsub(\"[[:punct:]]\", \"\", cnpj_fundo)) %>% \n",
        "                          map_df(as.character)\n",
        "\n",
        "glimpse(fundos_vedados)"
      ],
      "execution_count": 86,
      "outputs": [
        {
          "output_type": "stream",
          "text": [
            "Rows: 138\n",
            "Columns: 12\n",
            "$ cnpj_fundo         \u001b[3m\u001b[90m<chr>\u001b[39m\u001b[23m \"00828035000113\", \"01107772000190\", \"0137595400014…\n",
            "$ nm_fundo           \u001b[3m\u001b[90m<chr>\u001b[39m\u001b[23m \"FATOR MAX CORPORATIVO FUNDO DE INVESTIMENTO DE RE…\n",
            "$ classe1            \u001b[3m\u001b[90m<chr>\u001b[39m\u001b[23m \"FI\", \"FI\", \"FI\", \"FI\", \"FI\", \"FI\", \"FI\", \"FI\", \"F…\n",
            "$ classe2            \u001b[3m\u001b[90m<chr>\u001b[39m\u001b[23m \"Fundo de Renda Fixa\", \"Fundo de Renda Fixa\", \"Fun…\n",
            "$ tx_adm             \u001b[3m\u001b[90m<chr>\u001b[39m\u001b[23m \"0\", \"1\", \"2\", \"1\", \"2\", \"2\", \"2\", \"0\", \"0\", \"2\", …\n",
            "$ administrador      \u001b[3m\u001b[90m<chr>\u001b[39m\u001b[23m \"BANCO FATOR S/A\", \"CONCÓRDIA S.A. CVMCC\", \"PLANNE…\n",
            "$ gestor             \u001b[3m\u001b[90m<chr>\u001b[39m\u001b[23m \"FAR FATOR ADMINISTRAÇÃO DE RECURSOS LTDA\", \"CONCÓ…\n",
            "$ carencia           \u001b[3m\u001b[90m<chr>\u001b[39m\u001b[23m \"Não há.\", \"Não há.\", \"Não há.\", \"Não há.\", \"2 ano…\n",
            "$ conversao_cotas    \u001b[3m\u001b[90m<chr>\u001b[39m\u001b[23m \"D+0\", \"D+0\", \"D+0\", \"D+0\", \"D+0\", \"(vide regulame…\n",
            "$ disp_rec_resgatado \u001b[3m\u001b[90m<chr>\u001b[39m\u001b[23m \"D+0\", \"D+0\", \"D+0\", \"D+1\", \"D+10\", \"(vide regulam…\n",
            "$ tx_saida           \u001b[3m\u001b[90m<chr>\u001b[39m\u001b[23m \"0\", \"0\", \"0\", \"0\", \"0\", \"2\", \"0\", \"0\", \"0\", \"2\", …\n",
            "$ motivo             \u001b[3m\u001b[90m<chr>\u001b[39m\u001b[23m \"Ativo Vedado / CRI/CRA /\", \"Ativo Vedado / FIDC V…\n"
          ],
          "name": "stdout"
        }
      ]
    },
    {
      "cell_type": "code",
      "metadata": {
        "id": "O1kPKAZPPSGx",
        "colab_type": "code",
        "outputId": "f0f549b7-c3a0-46cc-b68d-c1b7d59bace6",
        "colab": {
          "base_uri": "https://localhost:8080/",
          "height": 51
        }
      },
      "source": [
        "# Motivos polos quais os fundos são considerados vedados...\n",
        "unique(trimws(unlist(str_split(fundos_vedados$motivo, \"/\"))))\n"
      ],
      "execution_count": 87,
      "outputs": [
        {
          "output_type": "display_data",
          "data": {
            "text/plain": [
              " [1] \"Ativo Vedado\"                                 \n",
              " [2] \"CRI\"                                          \n",
              " [3] \"CRA\"                                          \n",
              " [4] \"\"                                             \n",
              " [5] \"FIDC Vedado\"                                  \n",
              " [6] \"FIP Vedado\"                                   \n",
              " [7] \"FII Vedado\"                                   \n",
              " [8] \"FII - Negociação 60%\"                         \n",
              " [9] \"Investidor Profissional\"                      \n",
              "[10] \"FIDC Vedado - Classe Única\"                   \n",
              "[11] \"FIP Vedado, Investidor Profissional\"          \n",
              "[12] \"FII - Negociação 60%, Investidor Profissional\""
            ],
            "text/latex": "\\begin{enumerate*}\n\\item 'Ativo Vedado'\n\\item 'CRI'\n\\item 'CRA'\n\\item ''\n\\item 'FIDC Vedado'\n\\item 'FIP Vedado'\n\\item 'FII Vedado'\n\\item 'FII - Negociação 60\\%'\n\\item 'Investidor Profissional'\n\\item 'FIDC Vedado - Classe Única'\n\\item 'FIP Vedado, Investidor Profissional'\n\\item 'FII - Negociação 60\\%, Investidor Profissional'\n\\end{enumerate*}\n",
            "text/markdown": "1. 'Ativo Vedado'\n2. 'CRI'\n3. 'CRA'\n4. ''\n5. 'FIDC Vedado'\n6. 'FIP Vedado'\n7. 'FII Vedado'\n8. 'FII - Negociação 60%'\n9. 'Investidor Profissional'\n10. 'FIDC Vedado - Classe Única'\n11. 'FIP Vedado, Investidor Profissional'\n12. 'FII - Negociação 60%, Investidor Profissional'\n\n\n",
            "text/html": [
              "<style>\n",
              ".list-inline {list-style: none; margin:0; padding: 0}\n",
              ".list-inline>li {display: inline-block}\n",
              ".list-inline>li:not(:last-child)::after {content: \"\\00b7\"; padding: 0 .5ex}\n",
              "</style>\n",
              "<ol class=list-inline><li>'Ativo Vedado'</li><li>'CRI'</li><li>'CRA'</li><li>''</li><li>'FIDC Vedado'</li><li>'FIP Vedado'</li><li>'FII Vedado'</li><li>'FII - Negociação 60%'</li><li>'Investidor Profissional'</li><li>'FIDC Vedado - Classe Única'</li><li>'FIP Vedado, Investidor Profissional'</li><li>'FII - Negociação 60%, Investidor Profissional'</li></ol>\n"
            ]
          },
          "metadata": {
            "tags": []
          }
        }
      ]
    },
    {
      "cell_type": "markdown",
      "metadata": {
        "id": "hB84lnuOWD7e",
        "colab_type": "text"
      },
      "source": [
        "### **Enquadramento dos Fundos de Investimentos**\n",
        "\n",
        "Agora vamos importar a base de dados de enquadramento dos fundos de investimento. \n",
        "\n",
        "Essa base de dados informa qual a classificação do fundo de investimento com base na Resolução CMN 3922/10, segundo a SPrev.\n",
        "\n",
        "Muitas vezes essa classificação (feita pela SPrev) diverge da classificação realizada pelo RPPS e presente na base de dados do DAIR."
      ]
    },
    {
      "cell_type": "code",
      "metadata": {
        "id": "l9Lg102OlBmF",
        "colab_type": "code",
        "outputId": "74e08ce0-af7e-48d0-db08-d2e521cf5b48",
        "colab": {
          "base_uri": "https://localhost:8080/",
          "height": 153
        }
      },
      "source": [
        "# Importa a base de enquadramento\n",
        "enquadramento_sprev <- readRDS(\"enquadramento_sprev_12-03-2020.Rds\") %>% \n",
        "                          mutate(cnpj = str_remove_all(cnpj, \"[[:punct:]]\"),\n",
        "                                 enquad_sprev_pad = str_replace_all(enquad_sprev, c(\"Artigo\" = \"Art\", \"Inciso\" = \"\")),\n",
        "                                 enquad_sprev_pad = toupper(gsub(\"[[:punct:]]| |º\", \"\", enquad_sprev_pad)),\n",
        "                                 cnpj_admin = str_extract(gsub(\"[[:punct:]]\", \"\", cnpj_admin),  \"^\\\\d{8}\"),\n",
        "                                 cnpj_gestor= str_extract(gsub(\"[[:punct:]]\", \"\", cnpj_gestor), \"^\\\\d{8}\"))\n",
        "\n",
        "glimpse(enquadramento_sprev)"
      ],
      "execution_count": 88,
      "outputs": [
        {
          "output_type": "stream",
          "text": [
            "Rows: 651\n",
            "Columns: 6\n",
            "$ nm_fundo         \u001b[3m\u001b[90m<chr>\u001b[39m\u001b[23m \"BB RENDA FIXA REFERENCIADO DI ÁGIL FUNDO DE INVESTI…\n",
            "$ cnpj             \u001b[3m\u001b[90m<chr>\u001b[39m\u001b[23m \"00756851000169\", \"00812433000141\", \"00822059000165\"…\n",
            "$ cnpj_admin       \u001b[3m\u001b[90m<chr>\u001b[39m\u001b[23m \"30822936\", \"62318407\", \"30822936\", \"60701190\", \"003…\n",
            "$ cnpj_gestor      \u001b[3m\u001b[90m<chr>\u001b[39m\u001b[23m \"30822936\", \"07237373\", \"30822936\", \"60701190\", \"003…\n",
            "$ enquad_sprev     \u001b[3m\u001b[90m<chr>\u001b[39m\u001b[23m \"Artigo 7º, Inciso IV, 'a'\", \"Artigo 7º, Inciso IV, …\n",
            "$ enquad_sprev_pad \u001b[3m\u001b[90m<chr>\u001b[39m\u001b[23m \"ART7IVA\", \"ART7IVA\", \"ART8IA\", \"ART7IVA\", \"ART7IVA\"…\n"
          ],
          "name": "stdout"
        }
      ]
    },
    {
      "cell_type": "markdown",
      "metadata": {
        "id": "Wa88BPRgWkta",
        "colab_type": "text"
      },
      "source": [
        "### **Artigo 15 da Resolução CMN 3922/10**\n",
        "\n",
        "Agora vamos importar os dados das empresas autorizadas a atuar como administradoras ou gestoras de fundos de investimentos. \n",
        "\n",
        "Se um fundo de investimento tiver por administrador e gestor uma empresa fora dessa base de dados (disponibilizada pela SPrev) esse fundo de investimento não pode receber recursos dos RPPS."
      ]
    },
    {
      "cell_type": "code",
      "metadata": {
        "id": "-hiBwMj4ScKY",
        "colab_type": "code",
        "outputId": "bd08ebd7-bfe1-4d33-e658-2d7ed6468853",
        "colab": {
          "base_uri": "https://localhost:8080/",
          "height": 255
        }
      },
      "source": [
        "# Importar dados dos Administradore e gestores autorizados a distribuir fundos de investimentos\n",
        "\n",
        "art15 <- read_delim(\"Art15_ResolucaoCMN.txt\", delim=\"|\", trim_ws = TRUE) %>%\n",
        "              mutate(cnpj = gsub(\"[[:punct:]]\", \"\", cnpj))\n",
        "\n",
        "glimpse(art15)"
      ],
      "execution_count": 89,
      "outputs": [
        {
          "output_type": "stream",
          "text": [
            "Parsed with column specification:\n",
            "cols(\n",
            "  cnpj = \u001b[31mcol_character()\u001b[39m,\n",
            "  instituicao_financeira = \u001b[31mcol_character()\u001b[39m,\n",
            "  conglomerado = \u001b[31mcol_character()\u001b[39m,\n",
            "  pagina = \u001b[32mcol_double()\u001b[39m\n",
            ")\n",
            "\n"
          ],
          "name": "stderr"
        },
        {
          "output_type": "stream",
          "text": [
            "Rows: 43\n",
            "Columns: 4\n",
            "$ cnpj                   \u001b[3m\u001b[90m<chr>\u001b[39m\u001b[23m \"01023570\", \"01181521\", \"01522368\", \"01638542\"…\n",
            "$ instituicao_financeira \u001b[3m\u001b[90m<chr>\u001b[39m\u001b[23m \"BANCO RABOBANK INTERNATIONAL BRASIL S.A.\", \"B…\n",
            "$ conglomerado           \u001b[3m\u001b[90m<chr>\u001b[39m\u001b[23m \"BCO RABOBANK INTL BRASIL S.A.\", \"BCO COOPERAT…\n",
            "$ pagina                 \u001b[3m\u001b[90m<dbl>\u001b[39m\u001b[23m 1, 1, 1, 1, 1, 1, 1, 1, 1, 1, 1, 1, 1, 1, 1, 1…\n"
          ],
          "name": "stdout"
        }
      ]
    },
    {
      "cell_type": "markdown",
      "metadata": {
        "id": "gZ4yNy4pZDpt",
        "colab_type": "text"
      },
      "source": [
        "### **Relação dos fundos sob investigação**\n",
        "\n",
        "Vamos agora importar dos dados relativos a fundos de investimento que, de alguma forma, foram objeto de investigação pela Polícia Federal, SPrev ou penalizadas pela Previc ou CVM. \n",
        "\n",
        "Esta é uma base de dados que estará sendo constantemente ampliada. "
      ]
    },
    {
      "cell_type": "code",
      "metadata": {
        "id": "KLtUrpjla1DL",
        "colab_type": "code",
        "colab": {
          "base_uri": "https://localhost:8080/",
          "height": 204
        },
        "outputId": "92e6e875-2238-4459-c126-79bc41ffcef1"
      },
      "source": [
        "fundos_investigados <- read_excel(\"/content/rede-rpps/the-black-list.xlsx\")\n",
        "\n",
        "head(fundos_investigados)"
      ],
      "execution_count": 90,
      "outputs": [
        {
          "output_type": "display_data",
          "data": {
            "text/plain": [
              "  cnpj_fundo         nome_fundo                            obs               \n",
              "1 12.845.801/0001-37 TOWER BRIDGE RF FI IMA-B              Proc. 225.366-4/17\n",
              "2 15.153.656/0001-11 FI RF MONTE CARLO INSTITUCIONAL IMA-B Proc. 225.366-4/17\n",
              "3 13.651.947/0001-04 TOTEM FI RENDA FIXA                   Proc. 225.366-4/17\n",
              "4 09.315.625/0001-17 FI SECURITY REFERENCIADO DI LP CP     Proc. 225.366-4/17\n",
              "5 11.989.256/0001-90 FIDC MULTISETORIAL MASTER II          Proc. 225.366-4/17\n",
              "6 11.351.413/0001-37 CORAL FIDC MULTISETORIAL              Proc. 225.366-4/17"
            ],
            "text/latex": "A tibble: 6 × 3\n\\begin{tabular}{lll}\n cnpj\\_fundo & nome\\_fundo & obs\\\\\n <chr> & <chr> & <chr>\\\\\n\\hline\n\t 12.845.801/0001-37 & TOWER BRIDGE RF FI IMA-B              & Proc. 225.366-4/17\\\\\n\t 15.153.656/0001-11 & FI RF MONTE CARLO INSTITUCIONAL IMA-B & Proc. 225.366-4/17\\\\\n\t 13.651.947/0001-04 & TOTEM FI RENDA FIXA                   & Proc. 225.366-4/17\\\\\n\t 09.315.625/0001-17 & FI SECURITY REFERENCIADO DI LP CP     & Proc. 225.366-4/17\\\\\n\t 11.989.256/0001-90 & FIDC MULTISETORIAL MASTER II          & Proc. 225.366-4/17\\\\\n\t 11.351.413/0001-37 & CORAL FIDC MULTISETORIAL              & Proc. 225.366-4/17\\\\\n\\end{tabular}\n",
            "text/markdown": "\nA tibble: 6 × 3\n\n| cnpj_fundo &lt;chr&gt; | nome_fundo &lt;chr&gt; | obs &lt;chr&gt; |\n|---|---|---|\n| 12.845.801/0001-37 | TOWER BRIDGE RF FI IMA-B              | Proc. 225.366-4/17 |\n| 15.153.656/0001-11 | FI RF MONTE CARLO INSTITUCIONAL IMA-B | Proc. 225.366-4/17 |\n| 13.651.947/0001-04 | TOTEM FI RENDA FIXA                   | Proc. 225.366-4/17 |\n| 09.315.625/0001-17 | FI SECURITY REFERENCIADO DI LP CP     | Proc. 225.366-4/17 |\n| 11.989.256/0001-90 | FIDC MULTISETORIAL MASTER II          | Proc. 225.366-4/17 |\n| 11.351.413/0001-37 | CORAL FIDC MULTISETORIAL              | Proc. 225.366-4/17 |\n\n",
            "text/html": [
              "<table>\n",
              "<caption>A tibble: 6 × 3</caption>\n",
              "<thead>\n",
              "\t<tr><th scope=col>cnpj_fundo</th><th scope=col>nome_fundo</th><th scope=col>obs</th></tr>\n",
              "\t<tr><th scope=col>&lt;chr&gt;</th><th scope=col>&lt;chr&gt;</th><th scope=col>&lt;chr&gt;</th></tr>\n",
              "</thead>\n",
              "<tbody>\n",
              "\t<tr><td>12.845.801/0001-37</td><td>TOWER BRIDGE RF FI IMA-B             </td><td>Proc. 225.366-4/17</td></tr>\n",
              "\t<tr><td>15.153.656/0001-11</td><td>FI RF MONTE CARLO INSTITUCIONAL IMA-B</td><td>Proc. 225.366-4/17</td></tr>\n",
              "\t<tr><td>13.651.947/0001-04</td><td>TOTEM FI RENDA FIXA                  </td><td>Proc. 225.366-4/17</td></tr>\n",
              "\t<tr><td>09.315.625/0001-17</td><td>FI SECURITY REFERENCIADO DI LP CP    </td><td>Proc. 225.366-4/17</td></tr>\n",
              "\t<tr><td>11.989.256/0001-90</td><td>FIDC MULTISETORIAL MASTER II         </td><td>Proc. 225.366-4/17</td></tr>\n",
              "\t<tr><td>11.351.413/0001-37</td><td>CORAL FIDC MULTISETORIAL             </td><td>Proc. 225.366-4/17</td></tr>\n",
              "</tbody>\n",
              "</table>\n"
            ]
          },
          "metadata": {
            "tags": []
          }
        }
      ]
    },
    {
      "cell_type": "markdown",
      "metadata": {
        "id": "33dYnJincjYy",
        "colab_type": "text"
      },
      "source": [
        "Agora vamos limpar um pouco a base e obter a relação dos fundos investigados.\n",
        "\n"
      ]
    },
    {
      "cell_type": "code",
      "metadata": {
        "id": "uuxNLxHMdNVb",
        "colab_type": "code",
        "colab": {}
      },
      "source": [
        "fundos_investigados <- fundos_investigados %>%\n",
        "                          filter(obs != \"FUNDOS VEDADOS\") %>%\n",
        "                          mutate(cnpj_fundo = str_remove_all(cnpj_fundo, \"[[:punct:]]| \")) %>%\n",
        "                          pull(cnpj_fundo) %>%\n",
        "                          unique()"
      ],
      "execution_count": 0,
      "outputs": []
    },
    {
      "cell_type": "markdown",
      "metadata": {
        "id": "LrDkE7vRn0fK",
        "colab_type": "text"
      },
      "source": [
        "### **Base de Dados - Início da Construção**\n",
        "\n",
        "Importados os dados, vamos agora à relação dos fundos de investimentos nos quais os RPPS mantém recursos aplicados. \n",
        "\n",
        "A relação será criada considerando os fundos de investimentos existentes na carteira dos RPPS no mês mais recente disponível na base de dados do DAIR.\n",
        "\n",
        " É importante frisar que nem todos os RPPS encaminham o DAIR à SPrev e, portanto, não estão na base de dados. "
      ]
    },
    {
      "cell_type": "code",
      "metadata": {
        "id": "MXaONgb1N4vX",
        "colab_type": "code",
        "colab": {}
      },
      "source": [
        "# Obter a relação de Fundos de Investimentos nos quais os RPPS investem seus recursos\n",
        "relacao_fundos <- dair_fundos %>%\n",
        "                      group_by(cnpj) %>%\n",
        "                      filter(competencia == max(competencia)) %>%\n",
        "                      ungroup() %>% \n",
        "                      distinct(ident_ativo, .keep_all = TRUE) %>%\n",
        "                      arrange(ident_ativo) %>%\n",
        "                      select(ident_ativo, nm_ativo)"
      ],
      "execution_count": 0,
      "outputs": []
    },
    {
      "cell_type": "code",
      "metadata": {
        "id": "LFotsxuUv69D",
        "colab_type": "code",
        "outputId": "a9e6dda4-d079-42b1-8410-a3d6bc9abe15",
        "colab": {
          "base_uri": "https://localhost:8080/",
          "height": 85
        }
      },
      "source": [
        "glimpse(relacao_fundos)"
      ],
      "execution_count": 93,
      "outputs": [
        {
          "output_type": "stream",
          "text": [
            "Rows: 644\n",
            "Columns: 2\n",
            "$ ident_ativo \u001b[3m\u001b[90m<chr>\u001b[39m\u001b[23m \"00071477000168\", \"00360305000104\", \"00756851000169\", \"00…\n",
            "$ nm_ativo    \u001b[3m\u001b[90m<chr>\u001b[39m\u001b[23m \"BB RF CP AUTOMATICO\", \"CAIXA FI BRASIL IRF-M 1 TP RF\", \"…\n"
          ],
          "name": "stdout"
        }
      ]
    },
    {
      "cell_type": "markdown",
      "metadata": {
        "id": "HPOwZ4H0zgUx",
        "colab_type": "text"
      },
      "source": [
        "Obtida a relação de fundos nos quais os RPPS investem seus recursos, vamos começar a adicioar a esta listagem algumas variáveis contidas nas bases de dados anteriormente importadas.\n",
        "\n",
        "A primeira, será uma indicação se o fundo está na listagem de fundos vedados ou não."
      ]
    },
    {
      "cell_type": "code",
      "metadata": {
        "id": "_cfh-qtUz1R5",
        "colab_type": "code",
        "colab": {}
      },
      "source": [
        "relacao_fundos <- relacao_fundos %>%\n",
        "                    mutate(eh_fundo_vedado = ifelse(ident_ativo %in% fundos_vedados$cnpj_fundo, 1, 0))"
      ],
      "execution_count": 0,
      "outputs": []
    },
    {
      "cell_type": "code",
      "metadata": {
        "id": "uViTO0f71MyJ",
        "colab_type": "code",
        "outputId": "c1e2a76d-52fe-4987-ce63-2c6cb32d96e5",
        "colab": {
          "base_uri": "https://localhost:8080/",
          "height": 102
        }
      },
      "source": [
        "glimpse(relacao_fundos)"
      ],
      "execution_count": 95,
      "outputs": [
        {
          "output_type": "stream",
          "text": [
            "Rows: 644\n",
            "Columns: 3\n",
            "$ ident_ativo     \u001b[3m\u001b[90m<chr>\u001b[39m\u001b[23m \"00071477000168\", \"00360305000104\", \"00756851000169\",…\n",
            "$ nm_ativo        \u001b[3m\u001b[90m<chr>\u001b[39m\u001b[23m \"BB RF CP AUTOMATICO\", \"CAIXA FI BRASIL IRF-M 1 TP RF…\n",
            "$ eh_fundo_vedado \u001b[3m\u001b[90m<dbl>\u001b[39m\u001b[23m 0, 0, 0, 0, 0, 0, 0, 0, 0, 0, 0, 0, 0, 0, 0, 0, 0, 0,…\n"
          ],
          "name": "stdout"
        }
      ]
    },
    {
      "cell_type": "markdown",
      "metadata": {
        "id": "ZdlLl_PY1vb-",
        "colab_type": "text"
      },
      "source": [
        "Qual a proporção de fundos vedados existente na carteira dos RPPS?"
      ]
    },
    {
      "cell_type": "code",
      "metadata": {
        "id": "wV_12vBr12k4",
        "colab_type": "code",
        "outputId": "b80b4b98-ac5c-4def-a067-a01f65c44868",
        "colab": {
          "base_uri": "https://localhost:8080/",
          "height": 171
        }
      },
      "source": [
        "relacao_fundos %>% count(eh_fundo_vedado)\n",
        "\n",
        "prop.table(table(relacao_fundos$eh_fundo_vedado))"
      ],
      "execution_count": 96,
      "outputs": [
        {
          "output_type": "display_data",
          "data": {
            "text/plain": [
              "  eh_fundo_vedado n  \n",
              "1 0               546\n",
              "2 1                98"
            ],
            "text/latex": "A tibble: 2 × 2\n\\begin{tabular}{ll}\n eh\\_fundo\\_vedado & n\\\\\n <dbl> & <int>\\\\\n\\hline\n\t 0 & 546\\\\\n\t 1 &  98\\\\\n\\end{tabular}\n",
            "text/markdown": "\nA tibble: 2 × 2\n\n| eh_fundo_vedado &lt;dbl&gt; | n &lt;int&gt; |\n|---|---|\n| 0 | 546 |\n| 1 |  98 |\n\n",
            "text/html": [
              "<table>\n",
              "<caption>A tibble: 2 × 2</caption>\n",
              "<thead>\n",
              "\t<tr><th scope=col>eh_fundo_vedado</th><th scope=col>n</th></tr>\n",
              "\t<tr><th scope=col>&lt;dbl&gt;</th><th scope=col>&lt;int&gt;</th></tr>\n",
              "</thead>\n",
              "<tbody>\n",
              "\t<tr><td>0</td><td>546</td></tr>\n",
              "\t<tr><td>1</td><td> 98</td></tr>\n",
              "</tbody>\n",
              "</table>\n"
            ]
          },
          "metadata": {
            "tags": []
          }
        },
        {
          "output_type": "display_data",
          "data": {
            "text/plain": [
              "\n",
              "        0         1 \n",
              "0.8478261 0.1521739 "
            ]
          },
          "metadata": {
            "tags": []
          }
        }
      ]
    },
    {
      "cell_type": "markdown",
      "metadata": {
        "id": "0NHTtp6N1I2p",
        "colab_type": "text"
      },
      "source": [
        "Quase 16% dos fundos são fundos vedados.\n",
        "\n",
        "Agora vamos juntar à relação de fundos a sua classificação (variável `enquad_sprev`) contida na base de dados `enquadramento_sprev`."
      ]
    },
    {
      "cell_type": "code",
      "metadata": {
        "id": "fydWc5k7XioZ",
        "colab_type": "code",
        "colab": {}
      },
      "source": [
        "relacao_fundos <- relacao_fundos %>%\n",
        "                      left_join(enquadramento_sprev, by = c(\"ident_ativo\" = \"cnpj\"))"
      ],
      "execution_count": 0,
      "outputs": []
    },
    {
      "cell_type": "code",
      "metadata": {
        "id": "EwCIVIjOYNDN",
        "colab_type": "code",
        "outputId": "63bffe11-9aab-4c4f-c212-a9487c27d443",
        "colab": {
          "base_uri": "https://localhost:8080/",
          "height": 187
        }
      },
      "source": [
        "glimpse(relacao_fundos)"
      ],
      "execution_count": 98,
      "outputs": [
        {
          "output_type": "stream",
          "text": [
            "Rows: 644\n",
            "Columns: 8\n",
            "$ ident_ativo      \u001b[3m\u001b[90m<chr>\u001b[39m\u001b[23m \"00071477000168\", \"00360305000104\", \"00756851000169\"…\n",
            "$ nm_ativo         \u001b[3m\u001b[90m<chr>\u001b[39m\u001b[23m \"BB RF CP AUTOMATICO\", \"CAIXA FI BRASIL IRF-M 1 TP R…\n",
            "$ eh_fundo_vedado  \u001b[3m\u001b[90m<dbl>\u001b[39m\u001b[23m 0, 0, 0, 0, 0, 0, 0, 0, 0, 0, 0, 0, 0, 0, 0, 0, 0, 0…\n",
            "$ nm_fundo         \u001b[3m\u001b[90m<chr>\u001b[39m\u001b[23m NA, NA, \"BB RENDA FIXA REFERENCIADO DI ÁGIL FUNDO DE…\n",
            "$ cnpj_admin       \u001b[3m\u001b[90m<chr>\u001b[39m\u001b[23m NA, NA, \"30822936\", \"62318407\", \"30822936\", \"6070119…\n",
            "$ cnpj_gestor      \u001b[3m\u001b[90m<chr>\u001b[39m\u001b[23m NA, NA, \"30822936\", \"07237373\", \"30822936\", \"6070119…\n",
            "$ enquad_sprev     \u001b[3m\u001b[90m<chr>\u001b[39m\u001b[23m NA, NA, \"Artigo 7º, Inciso IV, 'a'\", \"Artigo 7º, Inc…\n",
            "$ enquad_sprev_pad \u001b[3m\u001b[90m<chr>\u001b[39m\u001b[23m NA, NA, \"ART7IVA\", \"ART7IVA\", \"ART8IA\", \"ART7IVA\", \"…\n"
          ],
          "name": "stdout"
        }
      ]
    },
    {
      "cell_type": "markdown",
      "metadata": {
        "id": "RMuEwaNA1KPJ",
        "colab_type": "text"
      },
      "source": [
        "Agora vamos criar uma coluna/variável na base para indicar se o fundo de investimento atende ao art. 15 da Resolução CMN 3922/10 ou não."
      ]
    },
    {
      "cell_type": "code",
      "metadata": {
        "id": "DjD9AJuqYeCk",
        "colab_type": "code",
        "outputId": "f0f8b1ec-5de4-4822-9dec-738555d1b336",
        "colab": {
          "base_uri": "https://localhost:8080/",
          "height": 340
        }
      },
      "source": [
        "relacao_fundos <- relacao_fundos %>%\n",
        "    mutate(atende_art15 = ifelse(cnpj_admin %in% art15$cnpj | cnpj_gestor %in% art15$cnpj, 1, 0))\n",
        "                          \n",
        "head(relacao_fundos)"
      ],
      "execution_count": 99,
      "outputs": [
        {
          "output_type": "display_data",
          "data": {
            "text/plain": [
              "  ident_ativo    nm_ativo                                          \n",
              "1 00071477000168 BB RF CP AUTOMATICO                               \n",
              "2 00360305000104 CAIXA FI BRASIL IRF-M 1 TP RF                     \n",
              "3 00756851000169 BB ÁGIL FIC RENDA FIXA REFERENCIADO DI            \n",
              "4 00812433000141 BNB AUTOMATICO FI RF CURTO PRAZO                  \n",
              "5 00822059000165 BB AÇÕES IBOVESPA ATIVO FIC                       \n",
              "6 00832435000100 ITAÚ INSTITUCIONAL RENDA FIXA REFERENCIADO DI - FI\n",
              "  eh_fundo_vedado\n",
              "1 0              \n",
              "2 0              \n",
              "3 0              \n",
              "4 0              \n",
              "5 0              \n",
              "6 0              \n",
              "  nm_fundo                                                                                   \n",
              "1 NA                                                                                         \n",
              "2 NA                                                                                         \n",
              "3 BB RENDA FIXA REFERENCIADO DI ÁGIL FUNDO DE INVESTIMENTO EM COTAS DE FUNDOS DE INVESTIMENTO\n",
              "4 BNB AUTOMÁTICO FUNDO DE INVESTIMENTO RENDA FIXA CURTO PRAZO                                \n",
              "5 BB AÇÕES IBOVESPA ATIVO FUNDO DE INVESTIMENTO EM COTAS DE FUNDOS DE INVESTIMENTO           \n",
              "6 ITAÚ INSTITUCIONAL RENDA FIXA REFERENCIADO DI - FUNDO DE INVESTIMENTO                      \n",
              "  cnpj_admin cnpj_gestor enquad_sprev              enquad_sprev_pad\n",
              "1 NA         NA          NA                        NA              \n",
              "2 NA         NA          NA                        NA              \n",
              "3 30822936   30822936    Artigo 7º, Inciso IV, 'a' ART7IVA         \n",
              "4 62318407   07237373    Artigo 7º, Inciso IV, 'a' ART7IVA         \n",
              "5 30822936   30822936    Artigo 8º, Inciso I, 'a'  ART8IA          \n",
              "6 60701190   60701190    Artigo 7º, Inciso IV, 'a' ART7IVA         \n",
              "  atende_art15\n",
              "1 0           \n",
              "2 0           \n",
              "3 1           \n",
              "4 1           \n",
              "5 1           \n",
              "6 1           "
            ],
            "text/latex": "A tibble: 6 × 9\n\\begin{tabular}{lllllllll}\n ident\\_ativo & nm\\_ativo & eh\\_fundo\\_vedado & nm\\_fundo & cnpj\\_admin & cnpj\\_gestor & enquad\\_sprev & enquad\\_sprev\\_pad & atende\\_art15\\\\\n <chr> & <chr> & <dbl> & <chr> & <chr> & <chr> & <chr> & <chr> & <dbl>\\\\\n\\hline\n\t 00071477000168 & BB RF CP AUTOMATICO                                & 0 & NA                                                                                          & NA       & NA       & NA                        & NA      & 0\\\\\n\t 00360305000104 & CAIXA FI BRASIL IRF-M 1 TP RF                      & 0 & NA                                                                                          & NA       & NA       & NA                        & NA      & 0\\\\\n\t 00756851000169 & BB ÁGIL FIC RENDA FIXA REFERENCIADO DI             & 0 & BB RENDA FIXA REFERENCIADO DI ÁGIL FUNDO DE INVESTIMENTO EM COTAS DE FUNDOS DE INVESTIMENTO & 30822936 & 30822936 & Artigo 7º, Inciso IV, 'a' & ART7IVA & 1\\\\\n\t 00812433000141 & BNB AUTOMATICO FI RF CURTO PRAZO                   & 0 & BNB AUTOMÁTICO FUNDO DE INVESTIMENTO RENDA FIXA CURTO PRAZO                                 & 62318407 & 07237373 & Artigo 7º, Inciso IV, 'a' & ART7IVA & 1\\\\\n\t 00822059000165 & BB AÇÕES IBOVESPA ATIVO FIC                        & 0 & BB AÇÕES IBOVESPA ATIVO FUNDO DE INVESTIMENTO EM COTAS DE FUNDOS DE INVESTIMENTO            & 30822936 & 30822936 & Artigo 8º, Inciso I, 'a'  & ART8IA  & 1\\\\\n\t 00832435000100 & ITAÚ INSTITUCIONAL RENDA FIXA REFERENCIADO DI - FI & 0 & ITAÚ INSTITUCIONAL RENDA FIXA REFERENCIADO DI - FUNDO DE INVESTIMENTO                       & 60701190 & 60701190 & Artigo 7º, Inciso IV, 'a' & ART7IVA & 1\\\\\n\\end{tabular}\n",
            "text/markdown": "\nA tibble: 6 × 9\n\n| ident_ativo &lt;chr&gt; | nm_ativo &lt;chr&gt; | eh_fundo_vedado &lt;dbl&gt; | nm_fundo &lt;chr&gt; | cnpj_admin &lt;chr&gt; | cnpj_gestor &lt;chr&gt; | enquad_sprev &lt;chr&gt; | enquad_sprev_pad &lt;chr&gt; | atende_art15 &lt;dbl&gt; |\n|---|---|---|---|---|---|---|---|---|\n| 00071477000168 | BB RF CP AUTOMATICO                                | 0 | NA                                                                                          | NA       | NA       | NA                        | NA      | 0 |\n| 00360305000104 | CAIXA FI BRASIL IRF-M 1 TP RF                      | 0 | NA                                                                                          | NA       | NA       | NA                        | NA      | 0 |\n| 00756851000169 | BB ÁGIL FIC RENDA FIXA REFERENCIADO DI             | 0 | BB RENDA FIXA REFERENCIADO DI ÁGIL FUNDO DE INVESTIMENTO EM COTAS DE FUNDOS DE INVESTIMENTO | 30822936 | 30822936 | Artigo 7º, Inciso IV, 'a' | ART7IVA | 1 |\n| 00812433000141 | BNB AUTOMATICO FI RF CURTO PRAZO                   | 0 | BNB AUTOMÁTICO FUNDO DE INVESTIMENTO RENDA FIXA CURTO PRAZO                                 | 62318407 | 07237373 | Artigo 7º, Inciso IV, 'a' | ART7IVA | 1 |\n| 00822059000165 | BB AÇÕES IBOVESPA ATIVO FIC                        | 0 | BB AÇÕES IBOVESPA ATIVO FUNDO DE INVESTIMENTO EM COTAS DE FUNDOS DE INVESTIMENTO            | 30822936 | 30822936 | Artigo 8º, Inciso I, 'a'  | ART8IA  | 1 |\n| 00832435000100 | ITAÚ INSTITUCIONAL RENDA FIXA REFERENCIADO DI - FI | 0 | ITAÚ INSTITUCIONAL RENDA FIXA REFERENCIADO DI - FUNDO DE INVESTIMENTO                       | 60701190 | 60701190 | Artigo 7º, Inciso IV, 'a' | ART7IVA | 1 |\n\n",
            "text/html": [
              "<table>\n",
              "<caption>A tibble: 6 × 9</caption>\n",
              "<thead>\n",
              "\t<tr><th scope=col>ident_ativo</th><th scope=col>nm_ativo</th><th scope=col>eh_fundo_vedado</th><th scope=col>nm_fundo</th><th scope=col>cnpj_admin</th><th scope=col>cnpj_gestor</th><th scope=col>enquad_sprev</th><th scope=col>enquad_sprev_pad</th><th scope=col>atende_art15</th></tr>\n",
              "\t<tr><th scope=col>&lt;chr&gt;</th><th scope=col>&lt;chr&gt;</th><th scope=col>&lt;dbl&gt;</th><th scope=col>&lt;chr&gt;</th><th scope=col>&lt;chr&gt;</th><th scope=col>&lt;chr&gt;</th><th scope=col>&lt;chr&gt;</th><th scope=col>&lt;chr&gt;</th><th scope=col>&lt;dbl&gt;</th></tr>\n",
              "</thead>\n",
              "<tbody>\n",
              "\t<tr><td>00071477000168</td><td>BB RF CP AUTOMATICO                               </td><td>0</td><td>NA                                                                                         </td><td>NA      </td><td>NA      </td><td>NA                       </td><td>NA     </td><td>0</td></tr>\n",
              "\t<tr><td>00360305000104</td><td>CAIXA FI BRASIL IRF-M 1 TP RF                     </td><td>0</td><td>NA                                                                                         </td><td>NA      </td><td>NA      </td><td>NA                       </td><td>NA     </td><td>0</td></tr>\n",
              "\t<tr><td>00756851000169</td><td>BB ÁGIL FIC RENDA FIXA REFERENCIADO DI            </td><td>0</td><td>BB RENDA FIXA REFERENCIADO DI ÁGIL FUNDO DE INVESTIMENTO EM COTAS DE FUNDOS DE INVESTIMENTO</td><td>30822936</td><td>30822936</td><td>Artigo 7º, Inciso IV, 'a'</td><td>ART7IVA</td><td>1</td></tr>\n",
              "\t<tr><td>00812433000141</td><td>BNB AUTOMATICO FI RF CURTO PRAZO                  </td><td>0</td><td>BNB AUTOMÁTICO FUNDO DE INVESTIMENTO RENDA FIXA CURTO PRAZO                                </td><td>62318407</td><td>07237373</td><td>Artigo 7º, Inciso IV, 'a'</td><td>ART7IVA</td><td>1</td></tr>\n",
              "\t<tr><td>00822059000165</td><td>BB AÇÕES IBOVESPA ATIVO FIC                       </td><td>0</td><td>BB AÇÕES IBOVESPA ATIVO FUNDO DE INVESTIMENTO EM COTAS DE FUNDOS DE INVESTIMENTO           </td><td>30822936</td><td>30822936</td><td>Artigo 8º, Inciso I, 'a' </td><td>ART8IA </td><td>1</td></tr>\n",
              "\t<tr><td>00832435000100</td><td>ITAÚ INSTITUCIONAL RENDA FIXA REFERENCIADO DI - FI</td><td>0</td><td>ITAÚ INSTITUCIONAL RENDA FIXA REFERENCIADO DI - FUNDO DE INVESTIMENTO                      </td><td>60701190</td><td>60701190</td><td>Artigo 7º, Inciso IV, 'a'</td><td>ART7IVA</td><td>1</td></tr>\n",
              "</tbody>\n",
              "</table>\n"
            ]
          },
          "metadata": {
            "tags": []
          }
        }
      ]
    },
    {
      "cell_type": "markdown",
      "metadata": {
        "id": "53Cik94cAWv3",
        "colab_type": "text"
      },
      "source": [
        "Na tabela acima é preciso fazer uma correção. Se o valor do CNPJ do Administrador ou Gestor for `NA` então a variável `atende_art15` deve ser `NA` e não zero, como está. Vamos fazer a correção."
      ]
    },
    {
      "cell_type": "code",
      "metadata": {
        "id": "CeZRy_6wAvZv",
        "colab_type": "code",
        "outputId": "12746eaf-fd86-441a-a0f0-b15d3cb8973f",
        "colab": {
          "base_uri": "https://localhost:8080/",
          "height": 340
        }
      },
      "source": [
        "relacao_fundos <- relacao_fundos %>%\n",
        "                    mutate(atende_art15 = ifelse(is.na(cnpj_admin) | is.na(cnpj_gestor), NA, atende_art15))\n",
        "\n",
        "head(relacao_fundos)"
      ],
      "execution_count": 100,
      "outputs": [
        {
          "output_type": "display_data",
          "data": {
            "text/plain": [
              "  ident_ativo    nm_ativo                                          \n",
              "1 00071477000168 BB RF CP AUTOMATICO                               \n",
              "2 00360305000104 CAIXA FI BRASIL IRF-M 1 TP RF                     \n",
              "3 00756851000169 BB ÁGIL FIC RENDA FIXA REFERENCIADO DI            \n",
              "4 00812433000141 BNB AUTOMATICO FI RF CURTO PRAZO                  \n",
              "5 00822059000165 BB AÇÕES IBOVESPA ATIVO FIC                       \n",
              "6 00832435000100 ITAÚ INSTITUCIONAL RENDA FIXA REFERENCIADO DI - FI\n",
              "  eh_fundo_vedado\n",
              "1 0              \n",
              "2 0              \n",
              "3 0              \n",
              "4 0              \n",
              "5 0              \n",
              "6 0              \n",
              "  nm_fundo                                                                                   \n",
              "1 NA                                                                                         \n",
              "2 NA                                                                                         \n",
              "3 BB RENDA FIXA REFERENCIADO DI ÁGIL FUNDO DE INVESTIMENTO EM COTAS DE FUNDOS DE INVESTIMENTO\n",
              "4 BNB AUTOMÁTICO FUNDO DE INVESTIMENTO RENDA FIXA CURTO PRAZO                                \n",
              "5 BB AÇÕES IBOVESPA ATIVO FUNDO DE INVESTIMENTO EM COTAS DE FUNDOS DE INVESTIMENTO           \n",
              "6 ITAÚ INSTITUCIONAL RENDA FIXA REFERENCIADO DI - FUNDO DE INVESTIMENTO                      \n",
              "  cnpj_admin cnpj_gestor enquad_sprev              enquad_sprev_pad\n",
              "1 NA         NA          NA                        NA              \n",
              "2 NA         NA          NA                        NA              \n",
              "3 30822936   30822936    Artigo 7º, Inciso IV, 'a' ART7IVA         \n",
              "4 62318407   07237373    Artigo 7º, Inciso IV, 'a' ART7IVA         \n",
              "5 30822936   30822936    Artigo 8º, Inciso I, 'a'  ART8IA          \n",
              "6 60701190   60701190    Artigo 7º, Inciso IV, 'a' ART7IVA         \n",
              "  atende_art15\n",
              "1 NA          \n",
              "2 NA          \n",
              "3  1          \n",
              "4  1          \n",
              "5  1          \n",
              "6  1          "
            ],
            "text/latex": "A tibble: 6 × 9\n\\begin{tabular}{lllllllll}\n ident\\_ativo & nm\\_ativo & eh\\_fundo\\_vedado & nm\\_fundo & cnpj\\_admin & cnpj\\_gestor & enquad\\_sprev & enquad\\_sprev\\_pad & atende\\_art15\\\\\n <chr> & <chr> & <dbl> & <chr> & <chr> & <chr> & <chr> & <chr> & <dbl>\\\\\n\\hline\n\t 00071477000168 & BB RF CP AUTOMATICO                                & 0 & NA                                                                                          & NA       & NA       & NA                        & NA      & NA\\\\\n\t 00360305000104 & CAIXA FI BRASIL IRF-M 1 TP RF                      & 0 & NA                                                                                          & NA       & NA       & NA                        & NA      & NA\\\\\n\t 00756851000169 & BB ÁGIL FIC RENDA FIXA REFERENCIADO DI             & 0 & BB RENDA FIXA REFERENCIADO DI ÁGIL FUNDO DE INVESTIMENTO EM COTAS DE FUNDOS DE INVESTIMENTO & 30822936 & 30822936 & Artigo 7º, Inciso IV, 'a' & ART7IVA &  1\\\\\n\t 00812433000141 & BNB AUTOMATICO FI RF CURTO PRAZO                   & 0 & BNB AUTOMÁTICO FUNDO DE INVESTIMENTO RENDA FIXA CURTO PRAZO                                 & 62318407 & 07237373 & Artigo 7º, Inciso IV, 'a' & ART7IVA &  1\\\\\n\t 00822059000165 & BB AÇÕES IBOVESPA ATIVO FIC                        & 0 & BB AÇÕES IBOVESPA ATIVO FUNDO DE INVESTIMENTO EM COTAS DE FUNDOS DE INVESTIMENTO            & 30822936 & 30822936 & Artigo 8º, Inciso I, 'a'  & ART8IA  &  1\\\\\n\t 00832435000100 & ITAÚ INSTITUCIONAL RENDA FIXA REFERENCIADO DI - FI & 0 & ITAÚ INSTITUCIONAL RENDA FIXA REFERENCIADO DI - FUNDO DE INVESTIMENTO                       & 60701190 & 60701190 & Artigo 7º, Inciso IV, 'a' & ART7IVA &  1\\\\\n\\end{tabular}\n",
            "text/markdown": "\nA tibble: 6 × 9\n\n| ident_ativo &lt;chr&gt; | nm_ativo &lt;chr&gt; | eh_fundo_vedado &lt;dbl&gt; | nm_fundo &lt;chr&gt; | cnpj_admin &lt;chr&gt; | cnpj_gestor &lt;chr&gt; | enquad_sprev &lt;chr&gt; | enquad_sprev_pad &lt;chr&gt; | atende_art15 &lt;dbl&gt; |\n|---|---|---|---|---|---|---|---|---|\n| 00071477000168 | BB RF CP AUTOMATICO                                | 0 | NA                                                                                          | NA       | NA       | NA                        | NA      | NA |\n| 00360305000104 | CAIXA FI BRASIL IRF-M 1 TP RF                      | 0 | NA                                                                                          | NA       | NA       | NA                        | NA      | NA |\n| 00756851000169 | BB ÁGIL FIC RENDA FIXA REFERENCIADO DI             | 0 | BB RENDA FIXA REFERENCIADO DI ÁGIL FUNDO DE INVESTIMENTO EM COTAS DE FUNDOS DE INVESTIMENTO | 30822936 | 30822936 | Artigo 7º, Inciso IV, 'a' | ART7IVA |  1 |\n| 00812433000141 | BNB AUTOMATICO FI RF CURTO PRAZO                   | 0 | BNB AUTOMÁTICO FUNDO DE INVESTIMENTO RENDA FIXA CURTO PRAZO                                 | 62318407 | 07237373 | Artigo 7º, Inciso IV, 'a' | ART7IVA |  1 |\n| 00822059000165 | BB AÇÕES IBOVESPA ATIVO FIC                        | 0 | BB AÇÕES IBOVESPA ATIVO FUNDO DE INVESTIMENTO EM COTAS DE FUNDOS DE INVESTIMENTO            | 30822936 | 30822936 | Artigo 8º, Inciso I, 'a'  | ART8IA  |  1 |\n| 00832435000100 | ITAÚ INSTITUCIONAL RENDA FIXA REFERENCIADO DI - FI | 0 | ITAÚ INSTITUCIONAL RENDA FIXA REFERENCIADO DI - FUNDO DE INVESTIMENTO                       | 60701190 | 60701190 | Artigo 7º, Inciso IV, 'a' | ART7IVA |  1 |\n\n",
            "text/html": [
              "<table>\n",
              "<caption>A tibble: 6 × 9</caption>\n",
              "<thead>\n",
              "\t<tr><th scope=col>ident_ativo</th><th scope=col>nm_ativo</th><th scope=col>eh_fundo_vedado</th><th scope=col>nm_fundo</th><th scope=col>cnpj_admin</th><th scope=col>cnpj_gestor</th><th scope=col>enquad_sprev</th><th scope=col>enquad_sprev_pad</th><th scope=col>atende_art15</th></tr>\n",
              "\t<tr><th scope=col>&lt;chr&gt;</th><th scope=col>&lt;chr&gt;</th><th scope=col>&lt;dbl&gt;</th><th scope=col>&lt;chr&gt;</th><th scope=col>&lt;chr&gt;</th><th scope=col>&lt;chr&gt;</th><th scope=col>&lt;chr&gt;</th><th scope=col>&lt;chr&gt;</th><th scope=col>&lt;dbl&gt;</th></tr>\n",
              "</thead>\n",
              "<tbody>\n",
              "\t<tr><td>00071477000168</td><td>BB RF CP AUTOMATICO                               </td><td>0</td><td>NA                                                                                         </td><td>NA      </td><td>NA      </td><td>NA                       </td><td>NA     </td><td>NA</td></tr>\n",
              "\t<tr><td>00360305000104</td><td>CAIXA FI BRASIL IRF-M 1 TP RF                     </td><td>0</td><td>NA                                                                                         </td><td>NA      </td><td>NA      </td><td>NA                       </td><td>NA     </td><td>NA</td></tr>\n",
              "\t<tr><td>00756851000169</td><td>BB ÁGIL FIC RENDA FIXA REFERENCIADO DI            </td><td>0</td><td>BB RENDA FIXA REFERENCIADO DI ÁGIL FUNDO DE INVESTIMENTO EM COTAS DE FUNDOS DE INVESTIMENTO</td><td>30822936</td><td>30822936</td><td>Artigo 7º, Inciso IV, 'a'</td><td>ART7IVA</td><td> 1</td></tr>\n",
              "\t<tr><td>00812433000141</td><td>BNB AUTOMATICO FI RF CURTO PRAZO                  </td><td>0</td><td>BNB AUTOMÁTICO FUNDO DE INVESTIMENTO RENDA FIXA CURTO PRAZO                                </td><td>62318407</td><td>07237373</td><td>Artigo 7º, Inciso IV, 'a'</td><td>ART7IVA</td><td> 1</td></tr>\n",
              "\t<tr><td>00822059000165</td><td>BB AÇÕES IBOVESPA ATIVO FIC                       </td><td>0</td><td>BB AÇÕES IBOVESPA ATIVO FUNDO DE INVESTIMENTO EM COTAS DE FUNDOS DE INVESTIMENTO           </td><td>30822936</td><td>30822936</td><td>Artigo 8º, Inciso I, 'a' </td><td>ART8IA </td><td> 1</td></tr>\n",
              "\t<tr><td>00832435000100</td><td>ITAÚ INSTITUCIONAL RENDA FIXA REFERENCIADO DI - FI</td><td>0</td><td>ITAÚ INSTITUCIONAL RENDA FIXA REFERENCIADO DI - FUNDO DE INVESTIMENTO                      </td><td>60701190</td><td>60701190</td><td>Artigo 7º, Inciso IV, 'a'</td><td>ART7IVA</td><td> 1</td></tr>\n",
              "</tbody>\n",
              "</table>\n"
            ]
          },
          "metadata": {
            "tags": []
          }
        }
      ]
    },
    {
      "cell_type": "markdown",
      "metadata": {
        "id": "N7XDezAhfjIh",
        "colab_type": "text"
      },
      "source": [
        "Agora vamos importar dados cadastrais dos fundos de investimentos. Os dados estão disponíveis no site de dados abertos da CVM: http://dados.cvm.gov.br/dataset/fie-cad\n",
        "\n"
      ]
    },
    {
      "cell_type": "code",
      "metadata": {
        "id": "jXgR0fxPfkJS",
        "colab_type": "code",
        "outputId": "88dc64e6-f78c-4abc-e167-2e1f9841639f",
        "colab": {
          "base_uri": "https://localhost:8080/",
          "height": 408
        }
      },
      "source": [
        "cadastro <- read_csv2(\"http://dados.cvm.gov.br/dados/FIE/CAD/DADOS/inf_cadastral_fie.csv\",\n",
        "                       locale = locale(encoding = \"latin1\"))"
      ],
      "execution_count": 101,
      "outputs": [
        {
          "output_type": "stream",
          "text": [
            "Using ',' as decimal and '.' as grouping mark. Use read_delim() for more control.\n",
            "\n",
            "Parsed with column specification:\n",
            "cols(\n",
            "  TP_FUNDO = \u001b[31mcol_character()\u001b[39m,\n",
            "  CNPJ_FUNDO = \u001b[31mcol_character()\u001b[39m,\n",
            "  DENOM_SOCIAL = \u001b[31mcol_character()\u001b[39m,\n",
            "  DT_REG = \u001b[34mcol_date(format = \"\")\u001b[39m,\n",
            "  DT_CONST = \u001b[34mcol_date(format = \"\")\u001b[39m,\n",
            "  DT_CANCEL = \u001b[34mcol_date(format = \"\")\u001b[39m,\n",
            "  SIT = \u001b[31mcol_character()\u001b[39m,\n",
            "  DT_INI_SIT = \u001b[34mcol_date(format = \"\")\u001b[39m,\n",
            "  DT_INI_EXERC = \u001b[34mcol_date(format = \"\")\u001b[39m,\n",
            "  DT_FIM_EXERC = \u001b[34mcol_date(format = \"\")\u001b[39m,\n",
            "  CNPJ_ADMIN = \u001b[31mcol_character()\u001b[39m,\n",
            "  ADMIN = \u001b[31mcol_character()\u001b[39m,\n",
            "  PF_PJ_GESTOR = \u001b[31mcol_character()\u001b[39m,\n",
            "  CPF_CNPJ_GESTOR = \u001b[31mcol_character()\u001b[39m,\n",
            "  GESTOR = \u001b[31mcol_character()\u001b[39m,\n",
            "  CNPJ_AUDITOR = \u001b[31mcol_character()\u001b[39m,\n",
            "  AUDITOR = \u001b[31mcol_character()\u001b[39m\n",
            ")\n",
            "\n"
          ],
          "name": "stderr"
        }
      ]
    },
    {
      "cell_type": "code",
      "metadata": {
        "id": "uIjTgMsbg32y",
        "colab_type": "code",
        "outputId": "2648bc91-a01b-47dc-d25d-d24a9768a28b",
        "colab": {
          "base_uri": "https://localhost:8080/",
          "height": 340
        }
      },
      "source": [
        "glimpse(cadastro)"
      ],
      "execution_count": 102,
      "outputs": [
        {
          "output_type": "stream",
          "text": [
            "Rows: 16,142\n",
            "Columns: 17\n",
            "$ TP_FUNDO        \u001b[3m\u001b[90m<chr>\u001b[39m\u001b[23m \"F.I.I.\", \"F.I.I.\", \"F.I.I.\", \"F.I.I.\", \"F.I.I.\", \"F.…\n",
            "$ CNPJ_FUNDO      \u001b[3m\u001b[90m<chr>\u001b[39m\u001b[23m \"19.878.616/0001-98\", \"19.419.994/0001-03\", \"19.213.2…\n",
            "$ DENOM_SOCIAL    \u001b[3m\u001b[90m<chr>\u001b[39m\u001b[23m \"17007 NAÇÕES FUNDO DE INVESTIMENTO IMOBILIÁRIO\", \"25…\n",
            "$ DT_REG          \u001b[3m\u001b[90m<date>\u001b[39m\u001b[23m 2019-12-16, 2013-12-27, 2017-12-29, 2017-12-29, 2019…\n",
            "$ DT_CONST        \u001b[3m\u001b[90m<date>\u001b[39m\u001b[23m 2019-12-13, 2013-12-10, 2013-10-11, 2014-10-10, 2018…\n",
            "$ DT_CANCEL       \u001b[3m\u001b[90m<date>\u001b[39m\u001b[23m NA, NA, NA, NA, NA, 2014-06-27, NA, NA, 2018-03-22, …\n",
            "$ SIT             \u001b[3m\u001b[90m<chr>\u001b[39m\u001b[23m \"EM FUNCIONAMENTO NORMAL\", \"EM FUNCIONAMENTO NORMAL\",…\n",
            "$ DT_INI_SIT      \u001b[3m\u001b[90m<date>\u001b[39m\u001b[23m 2019-12-27, 2013-12-27, 2017-12-29, 2017-12-29, 2019…\n",
            "$ DT_INI_EXERC    \u001b[3m\u001b[90m<date>\u001b[39m\u001b[23m 2020-01-01, 2020-01-01, 2020-01-01, 2020-01-01, 2020…\n",
            "$ DT_FIM_EXERC    \u001b[3m\u001b[90m<date>\u001b[39m\u001b[23m 2020-12-31, 2020-12-31, 2020-12-31, 2020-12-31, 2020…\n",
            "$ CNPJ_ADMIN      \u001b[3m\u001b[90m<chr>\u001b[39m\u001b[23m \"45.246.410/0001-55\", \"36.113.876/0001-91\", \"03.317.6…\n",
            "$ ADMIN           \u001b[3m\u001b[90m<chr>\u001b[39m\u001b[23m \"PLURAL S.A. BANCO MULTIPLO\", \"OLIVEIRA TRUST DTVM S.…\n",
            "$ PF_PJ_GESTOR    \u001b[3m\u001b[90m<chr>\u001b[39m\u001b[23m \"PJ\", \"PJ\", \"PJ\", \"PJ\", \"PJ\", NA, \"PJ\", \"PJ\", \"PJ\", N…\n",
            "$ CPF_CNPJ_GESTOR \u001b[3m\u001b[90m<chr>\u001b[39m\u001b[23m \"22.119.959/0001-83\", \"36.113.876/0001-91\", \"09.146.7…\n",
            "$ GESTOR          \u001b[3m\u001b[90m<chr>\u001b[39m\u001b[23m \"BRPP GESTÃO DE PRODUTOS ESTRUTURADOS LTDA.\", \"OLIVEI…\n",
            "$ CNPJ_AUDITOR    \u001b[3m\u001b[90m<chr>\u001b[39m\u001b[23m \"57.755.217/0001-29\", \"61.562.112/0001-20\", \"10.830.1…\n",
            "$ AUDITOR         \u001b[3m\u001b[90m<chr>\u001b[39m\u001b[23m \"KPMG AUDITORES INDEPENDENTES\", \"PRICEWATERHOUSECOOPE…\n"
          ],
          "name": "stdout"
        }
      ]
    },
    {
      "cell_type": "code",
      "metadata": {
        "id": "7XdlLaP9CJCv",
        "colab_type": "code",
        "outputId": "7b828d9b-0fee-4722-efbd-331eb8589da5",
        "colab": {
          "base_uri": "https://localhost:8080/",
          "height": 348
        }
      },
      "source": [
        "head(cadastro, 3)"
      ],
      "execution_count": 103,
      "outputs": [
        {
          "output_type": "display_data",
          "data": {
            "text/plain": [
              "  TP_FUNDO CNPJ_FUNDO         DENOM_SOCIAL                                  \n",
              "1 F.I.I.   19.878.616/0001-98 17007 NAÇÕES FUNDO DE INVESTIMENTO IMOBILIÁRIO\n",
              "2 F.I.I.   19.419.994/0001-03 2509 FUNDO DE INVESTIMENTO IMOBILIÁRIO - FII  \n",
              "3 F.I.I.   19.213.231/0001-01 AB CAPITAL FUNDO DE INVESTIMENTO IMOBILIÁRIO  \n",
              "  DT_REG     DT_CONST   DT_CANCEL SIT                     DT_INI_SIT\n",
              "1 2019-12-16 2019-12-13 <NA>      EM FUNCIONAMENTO NORMAL 2019-12-27\n",
              "2 2013-12-27 2013-12-10 <NA>      EM FUNCIONAMENTO NORMAL 2013-12-27\n",
              "3 2017-12-29 2013-10-11 <NA>      EM FUNCIONAMENTO NORMAL 2017-12-29\n",
              "  DT_INI_EXERC DT_FIM_EXERC CNPJ_ADMIN        \n",
              "1 2020-01-01   2020-12-31   45.246.410/0001-55\n",
              "2 2020-01-01   2020-12-31   36.113.876/0001-91\n",
              "3 2020-01-01   2020-12-31   03.317.692/0001-94\n",
              "  ADMIN                                                   PF_PJ_GESTOR\n",
              "1 PLURAL S.A. BANCO MULTIPLO                              PJ          \n",
              "2 OLIVEIRA TRUST DTVM S.A.                                PJ          \n",
              "3 FINAXIS CORRETORA DE TÍTULOS E VALORES MOBILIÁRIOS S.A. PJ          \n",
              "  CPF_CNPJ_GESTOR    GESTOR                                    \n",
              "1 22.119.959/0001-83 BRPP GESTÃO DE PRODUTOS ESTRUTURADOS LTDA.\n",
              "2 36.113.876/0001-91 OLIVEIRA TRUST DTVM S.A.                  \n",
              "3 09.146.756/0001-18 JERA CAPITAL GESTAO DE RECURSOS LTDA      \n",
              "  CNPJ_AUDITOR       AUDITOR                                       \n",
              "1 57.755.217/0001-29 KPMG AUDITORES INDEPENDENTES                  \n",
              "2 61.562.112/0001-20 PRICEWATERHOUSECOOPERS AUDITORES INDEPENDENTES\n",
              "3 10.830.108/0001-65 GRANT THORNTON AUDITORES INDEPENDENTES        "
            ],
            "text/latex": "A tibble: 3 × 17\n\\begin{tabular}{lllllllllllllllll}\n TP\\_FUNDO & CNPJ\\_FUNDO & DENOM\\_SOCIAL & DT\\_REG & DT\\_CONST & DT\\_CANCEL & SIT & DT\\_INI\\_SIT & DT\\_INI\\_EXERC & DT\\_FIM\\_EXERC & CNPJ\\_ADMIN & ADMIN & PF\\_PJ\\_GESTOR & CPF\\_CNPJ\\_GESTOR & GESTOR & CNPJ\\_AUDITOR & AUDITOR\\\\\n <chr> & <chr> & <chr> & <date> & <date> & <date> & <chr> & <date> & <date> & <date> & <chr> & <chr> & <chr> & <chr> & <chr> & <chr> & <chr>\\\\\n\\hline\n\t F.I.I. & 19.878.616/0001-98 & 17007 NAÇÕES FUNDO DE INVESTIMENTO IMOBILIÁRIO & 2019-12-16 & 2019-12-13 & NA & EM FUNCIONAMENTO NORMAL & 2019-12-27 & 2020-01-01 & 2020-12-31 & 45.246.410/0001-55 & PLURAL S.A. BANCO MULTIPLO                              & PJ & 22.119.959/0001-83 & BRPP GESTÃO DE PRODUTOS ESTRUTURADOS LTDA. & 57.755.217/0001-29 & KPMG AUDITORES INDEPENDENTES                  \\\\\n\t F.I.I. & 19.419.994/0001-03 & 2509 FUNDO DE INVESTIMENTO IMOBILIÁRIO - FII   & 2013-12-27 & 2013-12-10 & NA & EM FUNCIONAMENTO NORMAL & 2013-12-27 & 2020-01-01 & 2020-12-31 & 36.113.876/0001-91 & OLIVEIRA TRUST DTVM S.A.                                & PJ & 36.113.876/0001-91 & OLIVEIRA TRUST DTVM S.A.                   & 61.562.112/0001-20 & PRICEWATERHOUSECOOPERS AUDITORES INDEPENDENTES\\\\\n\t F.I.I. & 19.213.231/0001-01 & AB CAPITAL FUNDO DE INVESTIMENTO IMOBILIÁRIO   & 2017-12-29 & 2013-10-11 & NA & EM FUNCIONAMENTO NORMAL & 2017-12-29 & 2020-01-01 & 2020-12-31 & 03.317.692/0001-94 & FINAXIS CORRETORA DE TÍTULOS E VALORES MOBILIÁRIOS S.A. & PJ & 09.146.756/0001-18 & JERA CAPITAL GESTAO DE RECURSOS LTDA       & 10.830.108/0001-65 & GRANT THORNTON AUDITORES INDEPENDENTES        \\\\\n\\end{tabular}\n",
            "text/markdown": "\nA tibble: 3 × 17\n\n| TP_FUNDO &lt;chr&gt; | CNPJ_FUNDO &lt;chr&gt; | DENOM_SOCIAL &lt;chr&gt; | DT_REG &lt;date&gt; | DT_CONST &lt;date&gt; | DT_CANCEL &lt;date&gt; | SIT &lt;chr&gt; | DT_INI_SIT &lt;date&gt; | DT_INI_EXERC &lt;date&gt; | DT_FIM_EXERC &lt;date&gt; | CNPJ_ADMIN &lt;chr&gt; | ADMIN &lt;chr&gt; | PF_PJ_GESTOR &lt;chr&gt; | CPF_CNPJ_GESTOR &lt;chr&gt; | GESTOR &lt;chr&gt; | CNPJ_AUDITOR &lt;chr&gt; | AUDITOR &lt;chr&gt; |\n|---|---|---|---|---|---|---|---|---|---|---|---|---|---|---|---|---|\n| F.I.I. | 19.878.616/0001-98 | 17007 NAÇÕES FUNDO DE INVESTIMENTO IMOBILIÁRIO | 2019-12-16 | 2019-12-13 | NA | EM FUNCIONAMENTO NORMAL | 2019-12-27 | 2020-01-01 | 2020-12-31 | 45.246.410/0001-55 | PLURAL S.A. BANCO MULTIPLO                              | PJ | 22.119.959/0001-83 | BRPP GESTÃO DE PRODUTOS ESTRUTURADOS LTDA. | 57.755.217/0001-29 | KPMG AUDITORES INDEPENDENTES                   |\n| F.I.I. | 19.419.994/0001-03 | 2509 FUNDO DE INVESTIMENTO IMOBILIÁRIO - FII   | 2013-12-27 | 2013-12-10 | NA | EM FUNCIONAMENTO NORMAL | 2013-12-27 | 2020-01-01 | 2020-12-31 | 36.113.876/0001-91 | OLIVEIRA TRUST DTVM S.A.                                | PJ | 36.113.876/0001-91 | OLIVEIRA TRUST DTVM S.A.                   | 61.562.112/0001-20 | PRICEWATERHOUSECOOPERS AUDITORES INDEPENDENTES |\n| F.I.I. | 19.213.231/0001-01 | AB CAPITAL FUNDO DE INVESTIMENTO IMOBILIÁRIO   | 2017-12-29 | 2013-10-11 | NA | EM FUNCIONAMENTO NORMAL | 2017-12-29 | 2020-01-01 | 2020-12-31 | 03.317.692/0001-94 | FINAXIS CORRETORA DE TÍTULOS E VALORES MOBILIÁRIOS S.A. | PJ | 09.146.756/0001-18 | JERA CAPITAL GESTAO DE RECURSOS LTDA       | 10.830.108/0001-65 | GRANT THORNTON AUDITORES INDEPENDENTES         |\n\n",
            "text/html": [
              "<table>\n",
              "<caption>A tibble: 3 × 17</caption>\n",
              "<thead>\n",
              "\t<tr><th scope=col>TP_FUNDO</th><th scope=col>CNPJ_FUNDO</th><th scope=col>DENOM_SOCIAL</th><th scope=col>DT_REG</th><th scope=col>DT_CONST</th><th scope=col>DT_CANCEL</th><th scope=col>SIT</th><th scope=col>DT_INI_SIT</th><th scope=col>DT_INI_EXERC</th><th scope=col>DT_FIM_EXERC</th><th scope=col>CNPJ_ADMIN</th><th scope=col>ADMIN</th><th scope=col>PF_PJ_GESTOR</th><th scope=col>CPF_CNPJ_GESTOR</th><th scope=col>GESTOR</th><th scope=col>CNPJ_AUDITOR</th><th scope=col>AUDITOR</th></tr>\n",
              "\t<tr><th scope=col>&lt;chr&gt;</th><th scope=col>&lt;chr&gt;</th><th scope=col>&lt;chr&gt;</th><th scope=col>&lt;date&gt;</th><th scope=col>&lt;date&gt;</th><th scope=col>&lt;date&gt;</th><th scope=col>&lt;chr&gt;</th><th scope=col>&lt;date&gt;</th><th scope=col>&lt;date&gt;</th><th scope=col>&lt;date&gt;</th><th scope=col>&lt;chr&gt;</th><th scope=col>&lt;chr&gt;</th><th scope=col>&lt;chr&gt;</th><th scope=col>&lt;chr&gt;</th><th scope=col>&lt;chr&gt;</th><th scope=col>&lt;chr&gt;</th><th scope=col>&lt;chr&gt;</th></tr>\n",
              "</thead>\n",
              "<tbody>\n",
              "\t<tr><td>F.I.I.</td><td>19.878.616/0001-98</td><td>17007 NAÇÕES FUNDO DE INVESTIMENTO IMOBILIÁRIO</td><td>2019-12-16</td><td>2019-12-13</td><td>NA</td><td>EM FUNCIONAMENTO NORMAL</td><td>2019-12-27</td><td>2020-01-01</td><td>2020-12-31</td><td>45.246.410/0001-55</td><td>PLURAL S.A. BANCO MULTIPLO                             </td><td>PJ</td><td>22.119.959/0001-83</td><td>BRPP GESTÃO DE PRODUTOS ESTRUTURADOS LTDA.</td><td>57.755.217/0001-29</td><td>KPMG AUDITORES INDEPENDENTES                  </td></tr>\n",
              "\t<tr><td>F.I.I.</td><td>19.419.994/0001-03</td><td>2509 FUNDO DE INVESTIMENTO IMOBILIÁRIO - FII  </td><td>2013-12-27</td><td>2013-12-10</td><td>NA</td><td>EM FUNCIONAMENTO NORMAL</td><td>2013-12-27</td><td>2020-01-01</td><td>2020-12-31</td><td>36.113.876/0001-91</td><td>OLIVEIRA TRUST DTVM S.A.                               </td><td>PJ</td><td>36.113.876/0001-91</td><td>OLIVEIRA TRUST DTVM S.A.                  </td><td>61.562.112/0001-20</td><td>PRICEWATERHOUSECOOPERS AUDITORES INDEPENDENTES</td></tr>\n",
              "\t<tr><td>F.I.I.</td><td>19.213.231/0001-01</td><td>AB CAPITAL FUNDO DE INVESTIMENTO IMOBILIÁRIO  </td><td>2017-12-29</td><td>2013-10-11</td><td>NA</td><td>EM FUNCIONAMENTO NORMAL</td><td>2017-12-29</td><td>2020-01-01</td><td>2020-12-31</td><td>03.317.692/0001-94</td><td>FINAXIS CORRETORA DE TÍTULOS E VALORES MOBILIÁRIOS S.A.</td><td>PJ</td><td>09.146.756/0001-18</td><td>JERA CAPITAL GESTAO DE RECURSOS LTDA      </td><td>10.830.108/0001-65</td><td>GRANT THORNTON AUDITORES INDEPENDENTES        </td></tr>\n",
              "</tbody>\n",
              "</table>\n"
            ]
          },
          "metadata": {
            "tags": []
          }
        }
      ]
    },
    {
      "cell_type": "markdown",
      "metadata": {
        "id": "lFZDtPK4074l",
        "colab_type": "text"
      },
      "source": [
        "Agora podemos juntar à relação de fundos os dados cadastrais de cada fundo. Mas antes é necessário relizar uma pequena limpeza na variável `CNPJ_FUNDO`."
      ]
    },
    {
      "cell_type": "code",
      "metadata": {
        "id": "NpRDIrthZuUA",
        "colab_type": "code",
        "colab": {}
      },
      "source": [
        "cadastro <- cadastro %>%\n",
        "                mutate(CNPJ_FUNDO = str_remove_all(CNPJ_FUNDO, \"[[:punct:]]\"))"
      ],
      "execution_count": 0,
      "outputs": []
    },
    {
      "cell_type": "code",
      "metadata": {
        "id": "AQ1lJBx3OtnW",
        "colab_type": "code",
        "colab": {}
      },
      "source": [
        "relacao_fundos <- relacao_fundos %>%\n",
        "                      left_join(cadastro, by=c(\"ident_ativo\" = \"CNPJ_FUNDO\"))"
      ],
      "execution_count": 0,
      "outputs": []
    },
    {
      "cell_type": "code",
      "metadata": {
        "id": "vaTecbwJCl_v",
        "colab_type": "code",
        "outputId": "056afe81-2bdd-422e-ab00-d9f40e6947ba",
        "colab": {
          "base_uri": "https://localhost:8080/",
          "height": 476
        }
      },
      "source": [
        "glimpse(relacao_fundos)"
      ],
      "execution_count": 106,
      "outputs": [
        {
          "output_type": "stream",
          "text": [
            "Rows: 656\n",
            "Columns: 25\n",
            "$ ident_ativo      \u001b[3m\u001b[90m<chr>\u001b[39m\u001b[23m \"00071477000168\", \"00360305000104\", \"00756851000169\"…\n",
            "$ nm_ativo         \u001b[3m\u001b[90m<chr>\u001b[39m\u001b[23m \"BB RF CP AUTOMATICO\", \"CAIXA FI BRASIL IRF-M 1 TP R…\n",
            "$ eh_fundo_vedado  \u001b[3m\u001b[90m<dbl>\u001b[39m\u001b[23m 0, 0, 0, 0, 0, 0, 0, 0, 0, 0, 0, 0, 0, 0, 0, 0, 0, 0…\n",
            "$ nm_fundo         \u001b[3m\u001b[90m<chr>\u001b[39m\u001b[23m NA, NA, \"BB RENDA FIXA REFERENCIADO DI ÁGIL FUNDO DE…\n",
            "$ cnpj_admin       \u001b[3m\u001b[90m<chr>\u001b[39m\u001b[23m NA, NA, \"30822936\", \"62318407\", \"30822936\", \"6070119…\n",
            "$ cnpj_gestor      \u001b[3m\u001b[90m<chr>\u001b[39m\u001b[23m NA, NA, \"30822936\", \"07237373\", \"30822936\", \"6070119…\n",
            "$ enquad_sprev     \u001b[3m\u001b[90m<chr>\u001b[39m\u001b[23m NA, NA, \"Artigo 7º, Inciso IV, 'a'\", \"Artigo 7º, Inc…\n",
            "$ enquad_sprev_pad \u001b[3m\u001b[90m<chr>\u001b[39m\u001b[23m NA, NA, \"ART7IVA\", \"ART7IVA\", \"ART8IA\", \"ART7IVA\", \"…\n",
            "$ atende_art15     \u001b[3m\u001b[90m<dbl>\u001b[39m\u001b[23m NA, NA, 1, 1, 1, 1, 1, 1, 1, 1, 1, 1, 1, NA, 1, 1, 1…\n",
            "$ TP_FUNDO         \u001b[3m\u001b[90m<chr>\u001b[39m\u001b[23m \"FACFIF\", NA, \"FACFIF\", \"FIF\", NA, \"FIF\", \"FIF\", \"FI…\n",
            "$ DENOM_SOCIAL     \u001b[3m\u001b[90m<chr>\u001b[39m\u001b[23m \"BB RENDA FIXA CURTO PRAZO AUTOMÁTICO EMPRESA FUNDO …\n",
            "$ DT_REG           \u001b[3m\u001b[90m<date>\u001b[39m\u001b[23m 2003-04-30, NA, 2003-04-30, 2003-04-30, NA, 2003-04…\n",
            "$ DT_CONST         \u001b[3m\u001b[90m<date>\u001b[39m\u001b[23m 1994-05-19, NA, 1995-08-07, 1995-10-02, NA, 1995-10…\n",
            "$ DT_CANCEL        \u001b[3m\u001b[90m<date>\u001b[39m\u001b[23m 2005-03-24, NA, 2005-03-24, 2005-03-21, NA, 2005-03…\n",
            "$ SIT              \u001b[3m\u001b[90m<chr>\u001b[39m\u001b[23m \"CANCELADA\", NA, \"CANCELADA\", \"CANCELADA\", NA, \"CANC…\n",
            "$ DT_INI_SIT       \u001b[3m\u001b[90m<date>\u001b[39m\u001b[23m 2005-03-24, NA, 2005-03-24, 2005-03-21, NA, 2005-03…\n",
            "$ DT_INI_EXERC     \u001b[3m\u001b[90m<date>\u001b[39m\u001b[23m NA, NA, NA, 2004-04-01, NA, NA, NA, NA, NA, 2005-01…\n",
            "$ DT_FIM_EXERC     \u001b[3m\u001b[90m<date>\u001b[39m\u001b[23m NA, NA, NA, 2005-03-31, NA, NA, NA, NA, NA, 2005-12…\n",
            "$ CNPJ_ADMIN       \u001b[3m\u001b[90m<chr>\u001b[39m\u001b[23m \"30.822.936/0001-69\", NA, \"30.822.936/0001-69\", \"07.…\n",
            "$ ADMIN            \u001b[3m\u001b[90m<chr>\u001b[39m\u001b[23m \"BB GESTAO DE RECURSOS DTVM S.A\", NA, \"BB GESTAO DE …\n",
            "$ PF_PJ_GESTOR     \u001b[3m\u001b[90m<chr>\u001b[39m\u001b[23m NA, NA, NA, NA, NA, NA, NA, NA, NA, NA, NA, NA, NA, …\n",
            "$ CPF_CNPJ_GESTOR  \u001b[3m\u001b[90m<chr>\u001b[39m\u001b[23m NA, NA, NA, NA, NA, NA, NA, NA, NA, NA, NA, NA, NA, …\n",
            "$ GESTOR           \u001b[3m\u001b[90m<chr>\u001b[39m\u001b[23m NA, NA, NA, NA, NA, NA, NA, NA, NA, NA, NA, NA, NA, …\n",
            "$ CNPJ_AUDITOR     \u001b[3m\u001b[90m<chr>\u001b[39m\u001b[23m NA, NA, NA, NA, NA, NA, NA, NA, NA, NA, NA, NA, NA, …\n",
            "$ AUDITOR          \u001b[3m\u001b[90m<chr>\u001b[39m\u001b[23m NA, NA, NA, NA, NA, NA, NA, NA, NA, NA, NA, NA, NA, …\n"
          ],
          "name": "stdout"
        }
      ]
    },
    {
      "cell_type": "code",
      "metadata": {
        "id": "RyyxMZgKC6F8",
        "colab_type": "code",
        "outputId": "6d80b282-09c2-436e-8947-58a6399b6ae1",
        "colab": {
          "base_uri": "https://localhost:8080/",
          "height": 700
        }
      },
      "source": [
        "head(relacao_fundos)"
      ],
      "execution_count": 107,
      "outputs": [
        {
          "output_type": "display_data",
          "data": {
            "text/plain": [
              "  ident_ativo    nm_ativo                                          \n",
              "1 00071477000168 BB RF CP AUTOMATICO                               \n",
              "2 00360305000104 CAIXA FI BRASIL IRF-M 1 TP RF                     \n",
              "3 00756851000169 BB ÁGIL FIC RENDA FIXA REFERENCIADO DI            \n",
              "4 00812433000141 BNB AUTOMATICO FI RF CURTO PRAZO                  \n",
              "5 00822059000165 BB AÇÕES IBOVESPA ATIVO FIC                       \n",
              "6 00832435000100 ITAÚ INSTITUCIONAL RENDA FIXA REFERENCIADO DI - FI\n",
              "  eh_fundo_vedado\n",
              "1 0              \n",
              "2 0              \n",
              "3 0              \n",
              "4 0              \n",
              "5 0              \n",
              "6 0              \n",
              "  nm_fundo                                                                                   \n",
              "1 NA                                                                                         \n",
              "2 NA                                                                                         \n",
              "3 BB RENDA FIXA REFERENCIADO DI ÁGIL FUNDO DE INVESTIMENTO EM COTAS DE FUNDOS DE INVESTIMENTO\n",
              "4 BNB AUTOMÁTICO FUNDO DE INVESTIMENTO RENDA FIXA CURTO PRAZO                                \n",
              "5 BB AÇÕES IBOVESPA ATIVO FUNDO DE INVESTIMENTO EM COTAS DE FUNDOS DE INVESTIMENTO           \n",
              "6 ITAÚ INSTITUCIONAL RENDA FIXA REFERENCIADO DI - FUNDO DE INVESTIMENTO                      \n",
              "  cnpj_admin cnpj_gestor enquad_sprev              enquad_sprev_pad\n",
              "1 NA         NA          NA                        NA              \n",
              "2 NA         NA          NA                        NA              \n",
              "3 30822936   30822936    Artigo 7º, Inciso IV, 'a' ART7IVA         \n",
              "4 62318407   07237373    Artigo 7º, Inciso IV, 'a' ART7IVA         \n",
              "5 30822936   30822936    Artigo 8º, Inciso I, 'a'  ART8IA          \n",
              "6 60701190   60701190    Artigo 7º, Inciso IV, 'a' ART7IVA         \n",
              "  atende_art15 TP_FUNDO ⋯ DT_INI_SIT DT_INI_EXERC DT_FIM_EXERC\n",
              "1 NA           FACFIF   ⋯ 2005-03-24 <NA>         <NA>        \n",
              "2 NA           NA       ⋯ <NA>       <NA>         <NA>        \n",
              "3  1           FACFIF   ⋯ 2005-03-24 <NA>         <NA>        \n",
              "4  1           FIF      ⋯ 2005-03-21 2004-04-01   2005-03-31  \n",
              "5  1           NA       ⋯ <NA>       <NA>         <NA>        \n",
              "6  1           FIF      ⋯ 2005-03-07 <NA>         <NA>        \n",
              "  CNPJ_ADMIN         ADMIN                          PF_PJ_GESTOR\n",
              "1 30.822.936/0001-69 BB GESTAO DE RECURSOS DTVM S.A NA          \n",
              "2 NA                 NA                             NA          \n",
              "3 30.822.936/0001-69 BB GESTAO DE RECURSOS DTVM S.A NA          \n",
              "4 07.237.373/0001-20 BANCO DO NORDESTE DO BRASIL SA NA          \n",
              "5 NA                 NA                             NA          \n",
              "6 17.192.451/0001-70 BANCO ITAUCARD S.A.            NA          \n",
              "  CPF_CNPJ_GESTOR GESTOR CNPJ_AUDITOR AUDITOR\n",
              "1 NA              NA     NA           NA     \n",
              "2 NA              NA     NA           NA     \n",
              "3 NA              NA     NA           NA     \n",
              "4 NA              NA     NA           NA     \n",
              "5 NA              NA     NA           NA     \n",
              "6 NA              NA     NA           NA     "
            ],
            "text/latex": "A tibble: 6 × 25\n\\begin{tabular}{lllllllllllllllllllll}\n ident\\_ativo & nm\\_ativo & eh\\_fundo\\_vedado & nm\\_fundo & cnpj\\_admin & cnpj\\_gestor & enquad\\_sprev & enquad\\_sprev\\_pad & atende\\_art15 & TP\\_FUNDO & ⋯ & DT\\_INI\\_SIT & DT\\_INI\\_EXERC & DT\\_FIM\\_EXERC & CNPJ\\_ADMIN & ADMIN & PF\\_PJ\\_GESTOR & CPF\\_CNPJ\\_GESTOR & GESTOR & CNPJ\\_AUDITOR & AUDITOR\\\\\n <chr> & <chr> & <dbl> & <chr> & <chr> & <chr> & <chr> & <chr> & <dbl> & <chr> & ⋯ & <date> & <date> & <date> & <chr> & <chr> & <chr> & <chr> & <chr> & <chr> & <chr>\\\\\n\\hline\n\t 00071477000168 & BB RF CP AUTOMATICO                                & 0 & NA                                                                                          & NA       & NA       & NA                        & NA      & NA & FACFIF & ⋯ & 2005-03-24 & NA & NA & 30.822.936/0001-69 & BB GESTAO DE RECURSOS DTVM S.A & NA & NA & NA & NA & NA\\\\\n\t 00360305000104 & CAIXA FI BRASIL IRF-M 1 TP RF                      & 0 & NA                                                                                          & NA       & NA       & NA                        & NA      & NA & NA     & ⋯ & NA & NA & NA & NA                 & NA                             & NA & NA & NA & NA & NA\\\\\n\t 00756851000169 & BB ÁGIL FIC RENDA FIXA REFERENCIADO DI             & 0 & BB RENDA FIXA REFERENCIADO DI ÁGIL FUNDO DE INVESTIMENTO EM COTAS DE FUNDOS DE INVESTIMENTO & 30822936 & 30822936 & Artigo 7º, Inciso IV, 'a' & ART7IVA &  1 & FACFIF & ⋯ & 2005-03-24 & NA & NA & 30.822.936/0001-69 & BB GESTAO DE RECURSOS DTVM S.A & NA & NA & NA & NA & NA\\\\\n\t 00812433000141 & BNB AUTOMATICO FI RF CURTO PRAZO                   & 0 & BNB AUTOMÁTICO FUNDO DE INVESTIMENTO RENDA FIXA CURTO PRAZO                                 & 62318407 & 07237373 & Artigo 7º, Inciso IV, 'a' & ART7IVA &  1 & FIF    & ⋯ & 2005-03-21 & 2004-04-01 & 2005-03-31 & 07.237.373/0001-20 & BANCO DO NORDESTE DO BRASIL SA & NA & NA & NA & NA & NA\\\\\n\t 00822059000165 & BB AÇÕES IBOVESPA ATIVO FIC                        & 0 & BB AÇÕES IBOVESPA ATIVO FUNDO DE INVESTIMENTO EM COTAS DE FUNDOS DE INVESTIMENTO            & 30822936 & 30822936 & Artigo 8º, Inciso I, 'a'  & ART8IA  &  1 & NA     & ⋯ & NA & NA & NA & NA                 & NA                             & NA & NA & NA & NA & NA\\\\\n\t 00832435000100 & ITAÚ INSTITUCIONAL RENDA FIXA REFERENCIADO DI - FI & 0 & ITAÚ INSTITUCIONAL RENDA FIXA REFERENCIADO DI - FUNDO DE INVESTIMENTO                       & 60701190 & 60701190 & Artigo 7º, Inciso IV, 'a' & ART7IVA &  1 & FIF    & ⋯ & 2005-03-07 & NA & NA & 17.192.451/0001-70 & BANCO ITAUCARD S.A.            & NA & NA & NA & NA & NA\\\\\n\\end{tabular}\n",
            "text/markdown": "\nA tibble: 6 × 25\n\n| ident_ativo &lt;chr&gt; | nm_ativo &lt;chr&gt; | eh_fundo_vedado &lt;dbl&gt; | nm_fundo &lt;chr&gt; | cnpj_admin &lt;chr&gt; | cnpj_gestor &lt;chr&gt; | enquad_sprev &lt;chr&gt; | enquad_sprev_pad &lt;chr&gt; | atende_art15 &lt;dbl&gt; | TP_FUNDO &lt;chr&gt; | ⋯ ⋯ | DT_INI_SIT &lt;date&gt; | DT_INI_EXERC &lt;date&gt; | DT_FIM_EXERC &lt;date&gt; | CNPJ_ADMIN &lt;chr&gt; | ADMIN &lt;chr&gt; | PF_PJ_GESTOR &lt;chr&gt; | CPF_CNPJ_GESTOR &lt;chr&gt; | GESTOR &lt;chr&gt; | CNPJ_AUDITOR &lt;chr&gt; | AUDITOR &lt;chr&gt; |\n|---|---|---|---|---|---|---|---|---|---|---|---|---|---|---|---|---|---|---|---|---|\n| 00071477000168 | BB RF CP AUTOMATICO                                | 0 | NA                                                                                          | NA       | NA       | NA                        | NA      | NA | FACFIF | ⋯ | 2005-03-24 | NA | NA | 30.822.936/0001-69 | BB GESTAO DE RECURSOS DTVM S.A | NA | NA | NA | NA | NA |\n| 00360305000104 | CAIXA FI BRASIL IRF-M 1 TP RF                      | 0 | NA                                                                                          | NA       | NA       | NA                        | NA      | NA | NA     | ⋯ | NA | NA | NA | NA                 | NA                             | NA | NA | NA | NA | NA |\n| 00756851000169 | BB ÁGIL FIC RENDA FIXA REFERENCIADO DI             | 0 | BB RENDA FIXA REFERENCIADO DI ÁGIL FUNDO DE INVESTIMENTO EM COTAS DE FUNDOS DE INVESTIMENTO | 30822936 | 30822936 | Artigo 7º, Inciso IV, 'a' | ART7IVA |  1 | FACFIF | ⋯ | 2005-03-24 | NA | NA | 30.822.936/0001-69 | BB GESTAO DE RECURSOS DTVM S.A | NA | NA | NA | NA | NA |\n| 00812433000141 | BNB AUTOMATICO FI RF CURTO PRAZO                   | 0 | BNB AUTOMÁTICO FUNDO DE INVESTIMENTO RENDA FIXA CURTO PRAZO                                 | 62318407 | 07237373 | Artigo 7º, Inciso IV, 'a' | ART7IVA |  1 | FIF    | ⋯ | 2005-03-21 | 2004-04-01 | 2005-03-31 | 07.237.373/0001-20 | BANCO DO NORDESTE DO BRASIL SA | NA | NA | NA | NA | NA |\n| 00822059000165 | BB AÇÕES IBOVESPA ATIVO FIC                        | 0 | BB AÇÕES IBOVESPA ATIVO FUNDO DE INVESTIMENTO EM COTAS DE FUNDOS DE INVESTIMENTO            | 30822936 | 30822936 | Artigo 8º, Inciso I, 'a'  | ART8IA  |  1 | NA     | ⋯ | NA | NA | NA | NA                 | NA                             | NA | NA | NA | NA | NA |\n| 00832435000100 | ITAÚ INSTITUCIONAL RENDA FIXA REFERENCIADO DI - FI | 0 | ITAÚ INSTITUCIONAL RENDA FIXA REFERENCIADO DI - FUNDO DE INVESTIMENTO                       | 60701190 | 60701190 | Artigo 7º, Inciso IV, 'a' | ART7IVA |  1 | FIF    | ⋯ | 2005-03-07 | NA | NA | 17.192.451/0001-70 | BANCO ITAUCARD S.A.            | NA | NA | NA | NA | NA |\n\n",
            "text/html": [
              "<table>\n",
              "<caption>A tibble: 6 × 25</caption>\n",
              "<thead>\n",
              "\t<tr><th scope=col>ident_ativo</th><th scope=col>nm_ativo</th><th scope=col>eh_fundo_vedado</th><th scope=col>nm_fundo</th><th scope=col>cnpj_admin</th><th scope=col>cnpj_gestor</th><th scope=col>enquad_sprev</th><th scope=col>enquad_sprev_pad</th><th scope=col>atende_art15</th><th scope=col>TP_FUNDO</th><th scope=col>⋯</th><th scope=col>DT_INI_SIT</th><th scope=col>DT_INI_EXERC</th><th scope=col>DT_FIM_EXERC</th><th scope=col>CNPJ_ADMIN</th><th scope=col>ADMIN</th><th scope=col>PF_PJ_GESTOR</th><th scope=col>CPF_CNPJ_GESTOR</th><th scope=col>GESTOR</th><th scope=col>CNPJ_AUDITOR</th><th scope=col>AUDITOR</th></tr>\n",
              "\t<tr><th scope=col>&lt;chr&gt;</th><th scope=col>&lt;chr&gt;</th><th scope=col>&lt;dbl&gt;</th><th scope=col>&lt;chr&gt;</th><th scope=col>&lt;chr&gt;</th><th scope=col>&lt;chr&gt;</th><th scope=col>&lt;chr&gt;</th><th scope=col>&lt;chr&gt;</th><th scope=col>&lt;dbl&gt;</th><th scope=col>&lt;chr&gt;</th><th scope=col>⋯</th><th scope=col>&lt;date&gt;</th><th scope=col>&lt;date&gt;</th><th scope=col>&lt;date&gt;</th><th scope=col>&lt;chr&gt;</th><th scope=col>&lt;chr&gt;</th><th scope=col>&lt;chr&gt;</th><th scope=col>&lt;chr&gt;</th><th scope=col>&lt;chr&gt;</th><th scope=col>&lt;chr&gt;</th><th scope=col>&lt;chr&gt;</th></tr>\n",
              "</thead>\n",
              "<tbody>\n",
              "\t<tr><td>00071477000168</td><td>BB RF CP AUTOMATICO                               </td><td>0</td><td>NA                                                                                         </td><td>NA      </td><td>NA      </td><td>NA                       </td><td>NA     </td><td>NA</td><td>FACFIF</td><td>⋯</td><td>2005-03-24</td><td>NA</td><td>NA</td><td>30.822.936/0001-69</td><td>BB GESTAO DE RECURSOS DTVM S.A</td><td>NA</td><td>NA</td><td>NA</td><td>NA</td><td>NA</td></tr>\n",
              "\t<tr><td>00360305000104</td><td>CAIXA FI BRASIL IRF-M 1 TP RF                     </td><td>0</td><td>NA                                                                                         </td><td>NA      </td><td>NA      </td><td>NA                       </td><td>NA     </td><td>NA</td><td>NA    </td><td>⋯</td><td>NA</td><td>NA</td><td>NA</td><td>NA                </td><td>NA                            </td><td>NA</td><td>NA</td><td>NA</td><td>NA</td><td>NA</td></tr>\n",
              "\t<tr><td>00756851000169</td><td>BB ÁGIL FIC RENDA FIXA REFERENCIADO DI            </td><td>0</td><td>BB RENDA FIXA REFERENCIADO DI ÁGIL FUNDO DE INVESTIMENTO EM COTAS DE FUNDOS DE INVESTIMENTO</td><td>30822936</td><td>30822936</td><td>Artigo 7º, Inciso IV, 'a'</td><td>ART7IVA</td><td> 1</td><td>FACFIF</td><td>⋯</td><td>2005-03-24</td><td>NA</td><td>NA</td><td>30.822.936/0001-69</td><td>BB GESTAO DE RECURSOS DTVM S.A</td><td>NA</td><td>NA</td><td>NA</td><td>NA</td><td>NA</td></tr>\n",
              "\t<tr><td>00812433000141</td><td>BNB AUTOMATICO FI RF CURTO PRAZO                  </td><td>0</td><td>BNB AUTOMÁTICO FUNDO DE INVESTIMENTO RENDA FIXA CURTO PRAZO                                </td><td>62318407</td><td>07237373</td><td>Artigo 7º, Inciso IV, 'a'</td><td>ART7IVA</td><td> 1</td><td>FIF   </td><td>⋯</td><td>2005-03-21</td><td>2004-04-01</td><td>2005-03-31</td><td>07.237.373/0001-20</td><td>BANCO DO NORDESTE DO BRASIL SA</td><td>NA</td><td>NA</td><td>NA</td><td>NA</td><td>NA</td></tr>\n",
              "\t<tr><td>00822059000165</td><td>BB AÇÕES IBOVESPA ATIVO FIC                       </td><td>0</td><td>BB AÇÕES IBOVESPA ATIVO FUNDO DE INVESTIMENTO EM COTAS DE FUNDOS DE INVESTIMENTO           </td><td>30822936</td><td>30822936</td><td>Artigo 8º, Inciso I, 'a' </td><td>ART8IA </td><td> 1</td><td>NA    </td><td>⋯</td><td>NA</td><td>NA</td><td>NA</td><td>NA                </td><td>NA                            </td><td>NA</td><td>NA</td><td>NA</td><td>NA</td><td>NA</td></tr>\n",
              "\t<tr><td>00832435000100</td><td>ITAÚ INSTITUCIONAL RENDA FIXA REFERENCIADO DI - FI</td><td>0</td><td>ITAÚ INSTITUCIONAL RENDA FIXA REFERENCIADO DI - FUNDO DE INVESTIMENTO                      </td><td>60701190</td><td>60701190</td><td>Artigo 7º, Inciso IV, 'a'</td><td>ART7IVA</td><td> 1</td><td>FIF   </td><td>⋯</td><td>2005-03-07</td><td>NA</td><td>NA</td><td>17.192.451/0001-70</td><td>BANCO ITAUCARD S.A.           </td><td>NA</td><td>NA</td><td>NA</td><td>NA</td><td>NA</td></tr>\n",
              "</tbody>\n",
              "</table>\n"
            ]
          },
          "metadata": {
            "tags": []
          }
        }
      ]
    },
    {
      "cell_type": "markdown",
      "metadata": {
        "id": "D8zbHQgODJxJ",
        "colab_type": "text"
      },
      "source": [
        "A base de dados **`relacao_fundos`** contem os fundos de investimentos nos quais ao menos um RPPS constante da base de dados do DAIR possui recursos aplicados. \n",
        "\n",
        "Vamos incluir na base de dados a quantidade de RPPS que possuem recursos aplicados em cada fundo de investimento. Esta informação está contida na base de dados `rpps_invest`."
      ]
    },
    {
      "cell_type": "code",
      "metadata": {
        "id": "xCQWVJyT0lZC",
        "colab_type": "code",
        "colab": {
          "base_uri": "https://localhost:8080/",
          "height": 700
        },
        "outputId": "4098cbba-0c4b-4cf7-89a2-c6aa042152fa"
      },
      "source": [
        "relacao_fundos <- relacao_fundos %>%\n",
        "                      left_join(rpps_invest, by=\"ident_ativo\")\n",
        "head(relacao_fundos)"
      ],
      "execution_count": 108,
      "outputs": [
        {
          "output_type": "display_data",
          "data": {
            "text/plain": [
              "  ident_ativo    nm_ativo                                          \n",
              "1 00071477000168 BB RF CP AUTOMATICO                               \n",
              "2 00360305000104 CAIXA FI BRASIL IRF-M 1 TP RF                     \n",
              "3 00756851000169 BB ÁGIL FIC RENDA FIXA REFERENCIADO DI            \n",
              "4 00812433000141 BNB AUTOMATICO FI RF CURTO PRAZO                  \n",
              "5 00822059000165 BB AÇÕES IBOVESPA ATIVO FIC                       \n",
              "6 00832435000100 ITAÚ INSTITUCIONAL RENDA FIXA REFERENCIADO DI - FI\n",
              "  eh_fundo_vedado\n",
              "1 0              \n",
              "2 0              \n",
              "3 0              \n",
              "4 0              \n",
              "5 0              \n",
              "6 0              \n",
              "  nm_fundo                                                                                   \n",
              "1 NA                                                                                         \n",
              "2 NA                                                                                         \n",
              "3 BB RENDA FIXA REFERENCIADO DI ÁGIL FUNDO DE INVESTIMENTO EM COTAS DE FUNDOS DE INVESTIMENTO\n",
              "4 BNB AUTOMÁTICO FUNDO DE INVESTIMENTO RENDA FIXA CURTO PRAZO                                \n",
              "5 BB AÇÕES IBOVESPA ATIVO FUNDO DE INVESTIMENTO EM COTAS DE FUNDOS DE INVESTIMENTO           \n",
              "6 ITAÚ INSTITUCIONAL RENDA FIXA REFERENCIADO DI - FUNDO DE INVESTIMENTO                      \n",
              "  cnpj_admin cnpj_gestor enquad_sprev              enquad_sprev_pad\n",
              "1 NA         NA          NA                        NA              \n",
              "2 NA         NA          NA                        NA              \n",
              "3 30822936   30822936    Artigo 7º, Inciso IV, 'a' ART7IVA         \n",
              "4 62318407   07237373    Artigo 7º, Inciso IV, 'a' ART7IVA         \n",
              "5 30822936   30822936    Artigo 8º, Inciso I, 'a'  ART8IA          \n",
              "6 60701190   60701190    Artigo 7º, Inciso IV, 'a' ART7IVA         \n",
              "  atende_art15 TP_FUNDO ⋯ DT_INI_EXERC DT_FIM_EXERC CNPJ_ADMIN        \n",
              "1 NA           FACFIF   ⋯ <NA>         <NA>         30.822.936/0001-69\n",
              "2 NA           NA       ⋯ <NA>         <NA>         NA                \n",
              "3  1           FACFIF   ⋯ <NA>         <NA>         30.822.936/0001-69\n",
              "4  1           FIF      ⋯ 2004-04-01   2005-03-31   07.237.373/0001-20\n",
              "5  1           NA       ⋯ <NA>         <NA>         NA                \n",
              "6  1           FIF      ⋯ <NA>         <NA>         17.192.451/0001-70\n",
              "  ADMIN                          PF_PJ_GESTOR CPF_CNPJ_GESTOR GESTOR\n",
              "1 BB GESTAO DE RECURSOS DTVM S.A NA           NA              NA    \n",
              "2 NA                             NA           NA              NA    \n",
              "3 BB GESTAO DE RECURSOS DTVM S.A NA           NA              NA    \n",
              "4 BANCO DO NORDESTE DO BRASIL SA NA           NA              NA    \n",
              "5 NA                             NA           NA              NA    \n",
              "6 BANCO ITAUCARD S.A.            NA           NA              NA    \n",
              "  CNPJ_AUDITOR AUDITOR qtd_rpps_investindo\n",
              "1 NA           NA       1                 \n",
              "2 NA           NA       7                 \n",
              "3 NA           NA       2                 \n",
              "4 NA           NA       2                 \n",
              "5 NA           NA       6                 \n",
              "6 NA           NA      31                 "
            ],
            "text/latex": "A tibble: 6 × 26\n\\begin{tabular}{lllllllllllllllllllll}\n ident\\_ativo & nm\\_ativo & eh\\_fundo\\_vedado & nm\\_fundo & cnpj\\_admin & cnpj\\_gestor & enquad\\_sprev & enquad\\_sprev\\_pad & atende\\_art15 & TP\\_FUNDO & ⋯ & DT\\_INI\\_EXERC & DT\\_FIM\\_EXERC & CNPJ\\_ADMIN & ADMIN & PF\\_PJ\\_GESTOR & CPF\\_CNPJ\\_GESTOR & GESTOR & CNPJ\\_AUDITOR & AUDITOR & qtd\\_rpps\\_investindo\\\\\n <chr> & <chr> & <dbl> & <chr> & <chr> & <chr> & <chr> & <chr> & <dbl> & <chr> & ⋯ & <date> & <date> & <chr> & <chr> & <chr> & <chr> & <chr> & <chr> & <chr> & <int>\\\\\n\\hline\n\t 00071477000168 & BB RF CP AUTOMATICO                                & 0 & NA                                                                                          & NA       & NA       & NA                        & NA      & NA & FACFIF & ⋯ & NA & NA & 30.822.936/0001-69 & BB GESTAO DE RECURSOS DTVM S.A & NA & NA & NA & NA & NA &  1\\\\\n\t 00360305000104 & CAIXA FI BRASIL IRF-M 1 TP RF                      & 0 & NA                                                                                          & NA       & NA       & NA                        & NA      & NA & NA     & ⋯ & NA & NA & NA                 & NA                             & NA & NA & NA & NA & NA &  7\\\\\n\t 00756851000169 & BB ÁGIL FIC RENDA FIXA REFERENCIADO DI             & 0 & BB RENDA FIXA REFERENCIADO DI ÁGIL FUNDO DE INVESTIMENTO EM COTAS DE FUNDOS DE INVESTIMENTO & 30822936 & 30822936 & Artigo 7º, Inciso IV, 'a' & ART7IVA &  1 & FACFIF & ⋯ & NA & NA & 30.822.936/0001-69 & BB GESTAO DE RECURSOS DTVM S.A & NA & NA & NA & NA & NA &  2\\\\\n\t 00812433000141 & BNB AUTOMATICO FI RF CURTO PRAZO                   & 0 & BNB AUTOMÁTICO FUNDO DE INVESTIMENTO RENDA FIXA CURTO PRAZO                                 & 62318407 & 07237373 & Artigo 7º, Inciso IV, 'a' & ART7IVA &  1 & FIF    & ⋯ & 2004-04-01 & 2005-03-31 & 07.237.373/0001-20 & BANCO DO NORDESTE DO BRASIL SA & NA & NA & NA & NA & NA &  2\\\\\n\t 00822059000165 & BB AÇÕES IBOVESPA ATIVO FIC                        & 0 & BB AÇÕES IBOVESPA ATIVO FUNDO DE INVESTIMENTO EM COTAS DE FUNDOS DE INVESTIMENTO            & 30822936 & 30822936 & Artigo 8º, Inciso I, 'a'  & ART8IA  &  1 & NA     & ⋯ & NA & NA & NA                 & NA                             & NA & NA & NA & NA & NA &  6\\\\\n\t 00832435000100 & ITAÚ INSTITUCIONAL RENDA FIXA REFERENCIADO DI - FI & 0 & ITAÚ INSTITUCIONAL RENDA FIXA REFERENCIADO DI - FUNDO DE INVESTIMENTO                       & 60701190 & 60701190 & Artigo 7º, Inciso IV, 'a' & ART7IVA &  1 & FIF    & ⋯ & NA & NA & 17.192.451/0001-70 & BANCO ITAUCARD S.A.            & NA & NA & NA & NA & NA & 31\\\\\n\\end{tabular}\n",
            "text/markdown": "\nA tibble: 6 × 26\n\n| ident_ativo &lt;chr&gt; | nm_ativo &lt;chr&gt; | eh_fundo_vedado &lt;dbl&gt; | nm_fundo &lt;chr&gt; | cnpj_admin &lt;chr&gt; | cnpj_gestor &lt;chr&gt; | enquad_sprev &lt;chr&gt; | enquad_sprev_pad &lt;chr&gt; | atende_art15 &lt;dbl&gt; | TP_FUNDO &lt;chr&gt; | ⋯ ⋯ | DT_INI_EXERC &lt;date&gt; | DT_FIM_EXERC &lt;date&gt; | CNPJ_ADMIN &lt;chr&gt; | ADMIN &lt;chr&gt; | PF_PJ_GESTOR &lt;chr&gt; | CPF_CNPJ_GESTOR &lt;chr&gt; | GESTOR &lt;chr&gt; | CNPJ_AUDITOR &lt;chr&gt; | AUDITOR &lt;chr&gt; | qtd_rpps_investindo &lt;int&gt; |\n|---|---|---|---|---|---|---|---|---|---|---|---|---|---|---|---|---|---|---|---|---|\n| 00071477000168 | BB RF CP AUTOMATICO                                | 0 | NA                                                                                          | NA       | NA       | NA                        | NA      | NA | FACFIF | ⋯ | NA | NA | 30.822.936/0001-69 | BB GESTAO DE RECURSOS DTVM S.A | NA | NA | NA | NA | NA |  1 |\n| 00360305000104 | CAIXA FI BRASIL IRF-M 1 TP RF                      | 0 | NA                                                                                          | NA       | NA       | NA                        | NA      | NA | NA     | ⋯ | NA | NA | NA                 | NA                             | NA | NA | NA | NA | NA |  7 |\n| 00756851000169 | BB ÁGIL FIC RENDA FIXA REFERENCIADO DI             | 0 | BB RENDA FIXA REFERENCIADO DI ÁGIL FUNDO DE INVESTIMENTO EM COTAS DE FUNDOS DE INVESTIMENTO | 30822936 | 30822936 | Artigo 7º, Inciso IV, 'a' | ART7IVA |  1 | FACFIF | ⋯ | NA | NA | 30.822.936/0001-69 | BB GESTAO DE RECURSOS DTVM S.A | NA | NA | NA | NA | NA |  2 |\n| 00812433000141 | BNB AUTOMATICO FI RF CURTO PRAZO                   | 0 | BNB AUTOMÁTICO FUNDO DE INVESTIMENTO RENDA FIXA CURTO PRAZO                                 | 62318407 | 07237373 | Artigo 7º, Inciso IV, 'a' | ART7IVA |  1 | FIF    | ⋯ | 2004-04-01 | 2005-03-31 | 07.237.373/0001-20 | BANCO DO NORDESTE DO BRASIL SA | NA | NA | NA | NA | NA |  2 |\n| 00822059000165 | BB AÇÕES IBOVESPA ATIVO FIC                        | 0 | BB AÇÕES IBOVESPA ATIVO FUNDO DE INVESTIMENTO EM COTAS DE FUNDOS DE INVESTIMENTO            | 30822936 | 30822936 | Artigo 8º, Inciso I, 'a'  | ART8IA  |  1 | NA     | ⋯ | NA | NA | NA                 | NA                             | NA | NA | NA | NA | NA |  6 |\n| 00832435000100 | ITAÚ INSTITUCIONAL RENDA FIXA REFERENCIADO DI - FI | 0 | ITAÚ INSTITUCIONAL RENDA FIXA REFERENCIADO DI - FUNDO DE INVESTIMENTO                       | 60701190 | 60701190 | Artigo 7º, Inciso IV, 'a' | ART7IVA |  1 | FIF    | ⋯ | NA | NA | 17.192.451/0001-70 | BANCO ITAUCARD S.A.            | NA | NA | NA | NA | NA | 31 |\n\n",
            "text/html": [
              "<table>\n",
              "<caption>A tibble: 6 × 26</caption>\n",
              "<thead>\n",
              "\t<tr><th scope=col>ident_ativo</th><th scope=col>nm_ativo</th><th scope=col>eh_fundo_vedado</th><th scope=col>nm_fundo</th><th scope=col>cnpj_admin</th><th scope=col>cnpj_gestor</th><th scope=col>enquad_sprev</th><th scope=col>enquad_sprev_pad</th><th scope=col>atende_art15</th><th scope=col>TP_FUNDO</th><th scope=col>⋯</th><th scope=col>DT_INI_EXERC</th><th scope=col>DT_FIM_EXERC</th><th scope=col>CNPJ_ADMIN</th><th scope=col>ADMIN</th><th scope=col>PF_PJ_GESTOR</th><th scope=col>CPF_CNPJ_GESTOR</th><th scope=col>GESTOR</th><th scope=col>CNPJ_AUDITOR</th><th scope=col>AUDITOR</th><th scope=col>qtd_rpps_investindo</th></tr>\n",
              "\t<tr><th scope=col>&lt;chr&gt;</th><th scope=col>&lt;chr&gt;</th><th scope=col>&lt;dbl&gt;</th><th scope=col>&lt;chr&gt;</th><th scope=col>&lt;chr&gt;</th><th scope=col>&lt;chr&gt;</th><th scope=col>&lt;chr&gt;</th><th scope=col>&lt;chr&gt;</th><th scope=col>&lt;dbl&gt;</th><th scope=col>&lt;chr&gt;</th><th scope=col>⋯</th><th scope=col>&lt;date&gt;</th><th scope=col>&lt;date&gt;</th><th scope=col>&lt;chr&gt;</th><th scope=col>&lt;chr&gt;</th><th scope=col>&lt;chr&gt;</th><th scope=col>&lt;chr&gt;</th><th scope=col>&lt;chr&gt;</th><th scope=col>&lt;chr&gt;</th><th scope=col>&lt;chr&gt;</th><th scope=col>&lt;int&gt;</th></tr>\n",
              "</thead>\n",
              "<tbody>\n",
              "\t<tr><td>00071477000168</td><td>BB RF CP AUTOMATICO                               </td><td>0</td><td>NA                                                                                         </td><td>NA      </td><td>NA      </td><td>NA                       </td><td>NA     </td><td>NA</td><td>FACFIF</td><td>⋯</td><td>NA</td><td>NA</td><td>30.822.936/0001-69</td><td>BB GESTAO DE RECURSOS DTVM S.A</td><td>NA</td><td>NA</td><td>NA</td><td>NA</td><td>NA</td><td> 1</td></tr>\n",
              "\t<tr><td>00360305000104</td><td>CAIXA FI BRASIL IRF-M 1 TP RF                     </td><td>0</td><td>NA                                                                                         </td><td>NA      </td><td>NA      </td><td>NA                       </td><td>NA     </td><td>NA</td><td>NA    </td><td>⋯</td><td>NA</td><td>NA</td><td>NA                </td><td>NA                            </td><td>NA</td><td>NA</td><td>NA</td><td>NA</td><td>NA</td><td> 7</td></tr>\n",
              "\t<tr><td>00756851000169</td><td>BB ÁGIL FIC RENDA FIXA REFERENCIADO DI            </td><td>0</td><td>BB RENDA FIXA REFERENCIADO DI ÁGIL FUNDO DE INVESTIMENTO EM COTAS DE FUNDOS DE INVESTIMENTO</td><td>30822936</td><td>30822936</td><td>Artigo 7º, Inciso IV, 'a'</td><td>ART7IVA</td><td> 1</td><td>FACFIF</td><td>⋯</td><td>NA</td><td>NA</td><td>30.822.936/0001-69</td><td>BB GESTAO DE RECURSOS DTVM S.A</td><td>NA</td><td>NA</td><td>NA</td><td>NA</td><td>NA</td><td> 2</td></tr>\n",
              "\t<tr><td>00812433000141</td><td>BNB AUTOMATICO FI RF CURTO PRAZO                  </td><td>0</td><td>BNB AUTOMÁTICO FUNDO DE INVESTIMENTO RENDA FIXA CURTO PRAZO                                </td><td>62318407</td><td>07237373</td><td>Artigo 7º, Inciso IV, 'a'</td><td>ART7IVA</td><td> 1</td><td>FIF   </td><td>⋯</td><td>2004-04-01</td><td>2005-03-31</td><td>07.237.373/0001-20</td><td>BANCO DO NORDESTE DO BRASIL SA</td><td>NA</td><td>NA</td><td>NA</td><td>NA</td><td>NA</td><td> 2</td></tr>\n",
              "\t<tr><td>00822059000165</td><td>BB AÇÕES IBOVESPA ATIVO FIC                       </td><td>0</td><td>BB AÇÕES IBOVESPA ATIVO FUNDO DE INVESTIMENTO EM COTAS DE FUNDOS DE INVESTIMENTO           </td><td>30822936</td><td>30822936</td><td>Artigo 8º, Inciso I, 'a' </td><td>ART8IA </td><td> 1</td><td>NA    </td><td>⋯</td><td>NA</td><td>NA</td><td>NA                </td><td>NA                            </td><td>NA</td><td>NA</td><td>NA</td><td>NA</td><td>NA</td><td> 6</td></tr>\n",
              "\t<tr><td>00832435000100</td><td>ITAÚ INSTITUCIONAL RENDA FIXA REFERENCIADO DI - FI</td><td>0</td><td>ITAÚ INSTITUCIONAL RENDA FIXA REFERENCIADO DI - FUNDO DE INVESTIMENTO                      </td><td>60701190</td><td>60701190</td><td>Artigo 7º, Inciso IV, 'a'</td><td>ART7IVA</td><td> 1</td><td>FIF   </td><td>⋯</td><td>NA</td><td>NA</td><td>17.192.451/0001-70</td><td>BANCO ITAUCARD S.A.           </td><td>NA</td><td>NA</td><td>NA</td><td>NA</td><td>NA</td><td>31</td></tr>\n",
              "</tbody>\n",
              "</table>\n"
            ]
          },
          "metadata": {
            "tags": []
          }
        }
      ]
    },
    {
      "cell_type": "markdown",
      "metadata": {
        "id": "I8sA1fwI1-FZ",
        "colab_type": "text"
      },
      "source": [
        "Agora vamos criar uma nova variável para indicar quais fundos estão na lista de fundos investigados."
      ]
    },
    {
      "cell_type": "code",
      "metadata": {
        "id": "hSoOQt3Y2LdH",
        "colab_type": "code",
        "colab": {
          "base_uri": "https://localhost:8080/",
          "height": 700
        },
        "outputId": "72d90f77-f673-47ef-f9cc-41136a23d109"
      },
      "source": [
        "relacao_fundos <- relacao_fundos %>%\n",
        "                    mutate(eh_investigado = ifelse(ident_ativo %in% fundos_investigados, 1, 0))\n",
        "\n",
        "head(relacao_fundos)"
      ],
      "execution_count": 109,
      "outputs": [
        {
          "output_type": "display_data",
          "data": {
            "text/plain": [
              "  ident_ativo    nm_ativo                                          \n",
              "1 00071477000168 BB RF CP AUTOMATICO                               \n",
              "2 00360305000104 CAIXA FI BRASIL IRF-M 1 TP RF                     \n",
              "3 00756851000169 BB ÁGIL FIC RENDA FIXA REFERENCIADO DI            \n",
              "4 00812433000141 BNB AUTOMATICO FI RF CURTO PRAZO                  \n",
              "5 00822059000165 BB AÇÕES IBOVESPA ATIVO FIC                       \n",
              "6 00832435000100 ITAÚ INSTITUCIONAL RENDA FIXA REFERENCIADO DI - FI\n",
              "  eh_fundo_vedado\n",
              "1 0              \n",
              "2 0              \n",
              "3 0              \n",
              "4 0              \n",
              "5 0              \n",
              "6 0              \n",
              "  nm_fundo                                                                                   \n",
              "1 NA                                                                                         \n",
              "2 NA                                                                                         \n",
              "3 BB RENDA FIXA REFERENCIADO DI ÁGIL FUNDO DE INVESTIMENTO EM COTAS DE FUNDOS DE INVESTIMENTO\n",
              "4 BNB AUTOMÁTICO FUNDO DE INVESTIMENTO RENDA FIXA CURTO PRAZO                                \n",
              "5 BB AÇÕES IBOVESPA ATIVO FUNDO DE INVESTIMENTO EM COTAS DE FUNDOS DE INVESTIMENTO           \n",
              "6 ITAÚ INSTITUCIONAL RENDA FIXA REFERENCIADO DI - FUNDO DE INVESTIMENTO                      \n",
              "  cnpj_admin cnpj_gestor enquad_sprev              enquad_sprev_pad\n",
              "1 NA         NA          NA                        NA              \n",
              "2 NA         NA          NA                        NA              \n",
              "3 30822936   30822936    Artigo 7º, Inciso IV, 'a' ART7IVA         \n",
              "4 62318407   07237373    Artigo 7º, Inciso IV, 'a' ART7IVA         \n",
              "5 30822936   30822936    Artigo 8º, Inciso I, 'a'  ART8IA          \n",
              "6 60701190   60701190    Artigo 7º, Inciso IV, 'a' ART7IVA         \n",
              "  atende_art15 TP_FUNDO ⋯ DT_FIM_EXERC CNPJ_ADMIN        \n",
              "1 NA           FACFIF   ⋯ <NA>         30.822.936/0001-69\n",
              "2 NA           NA       ⋯ <NA>         NA                \n",
              "3  1           FACFIF   ⋯ <NA>         30.822.936/0001-69\n",
              "4  1           FIF      ⋯ 2005-03-31   07.237.373/0001-20\n",
              "5  1           NA       ⋯ <NA>         NA                \n",
              "6  1           FIF      ⋯ <NA>         17.192.451/0001-70\n",
              "  ADMIN                          PF_PJ_GESTOR CPF_CNPJ_GESTOR GESTOR\n",
              "1 BB GESTAO DE RECURSOS DTVM S.A NA           NA              NA    \n",
              "2 NA                             NA           NA              NA    \n",
              "3 BB GESTAO DE RECURSOS DTVM S.A NA           NA              NA    \n",
              "4 BANCO DO NORDESTE DO BRASIL SA NA           NA              NA    \n",
              "5 NA                             NA           NA              NA    \n",
              "6 BANCO ITAUCARD S.A.            NA           NA              NA    \n",
              "  CNPJ_AUDITOR AUDITOR qtd_rpps_investindo eh_investigado\n",
              "1 NA           NA       1                  0             \n",
              "2 NA           NA       7                  0             \n",
              "3 NA           NA       2                  0             \n",
              "4 NA           NA       2                  0             \n",
              "5 NA           NA       6                  0             \n",
              "6 NA           NA      31                  0             "
            ],
            "text/latex": "A tibble: 6 × 27\n\\begin{tabular}{lllllllllllllllllllll}\n ident\\_ativo & nm\\_ativo & eh\\_fundo\\_vedado & nm\\_fundo & cnpj\\_admin & cnpj\\_gestor & enquad\\_sprev & enquad\\_sprev\\_pad & atende\\_art15 & TP\\_FUNDO & ⋯ & DT\\_FIM\\_EXERC & CNPJ\\_ADMIN & ADMIN & PF\\_PJ\\_GESTOR & CPF\\_CNPJ\\_GESTOR & GESTOR & CNPJ\\_AUDITOR & AUDITOR & qtd\\_rpps\\_investindo & eh\\_investigado\\\\\n <chr> & <chr> & <dbl> & <chr> & <chr> & <chr> & <chr> & <chr> & <dbl> & <chr> & ⋯ & <date> & <chr> & <chr> & <chr> & <chr> & <chr> & <chr> & <chr> & <int> & <dbl>\\\\\n\\hline\n\t 00071477000168 & BB RF CP AUTOMATICO                                & 0 & NA                                                                                          & NA       & NA       & NA                        & NA      & NA & FACFIF & ⋯ & NA & 30.822.936/0001-69 & BB GESTAO DE RECURSOS DTVM S.A & NA & NA & NA & NA & NA &  1 & 0\\\\\n\t 00360305000104 & CAIXA FI BRASIL IRF-M 1 TP RF                      & 0 & NA                                                                                          & NA       & NA       & NA                        & NA      & NA & NA     & ⋯ & NA & NA                 & NA                             & NA & NA & NA & NA & NA &  7 & 0\\\\\n\t 00756851000169 & BB ÁGIL FIC RENDA FIXA REFERENCIADO DI             & 0 & BB RENDA FIXA REFERENCIADO DI ÁGIL FUNDO DE INVESTIMENTO EM COTAS DE FUNDOS DE INVESTIMENTO & 30822936 & 30822936 & Artigo 7º, Inciso IV, 'a' & ART7IVA &  1 & FACFIF & ⋯ & NA & 30.822.936/0001-69 & BB GESTAO DE RECURSOS DTVM S.A & NA & NA & NA & NA & NA &  2 & 0\\\\\n\t 00812433000141 & BNB AUTOMATICO FI RF CURTO PRAZO                   & 0 & BNB AUTOMÁTICO FUNDO DE INVESTIMENTO RENDA FIXA CURTO PRAZO                                 & 62318407 & 07237373 & Artigo 7º, Inciso IV, 'a' & ART7IVA &  1 & FIF    & ⋯ & 2005-03-31 & 07.237.373/0001-20 & BANCO DO NORDESTE DO BRASIL SA & NA & NA & NA & NA & NA &  2 & 0\\\\\n\t 00822059000165 & BB AÇÕES IBOVESPA ATIVO FIC                        & 0 & BB AÇÕES IBOVESPA ATIVO FUNDO DE INVESTIMENTO EM COTAS DE FUNDOS DE INVESTIMENTO            & 30822936 & 30822936 & Artigo 8º, Inciso I, 'a'  & ART8IA  &  1 & NA     & ⋯ & NA & NA                 & NA                             & NA & NA & NA & NA & NA &  6 & 0\\\\\n\t 00832435000100 & ITAÚ INSTITUCIONAL RENDA FIXA REFERENCIADO DI - FI & 0 & ITAÚ INSTITUCIONAL RENDA FIXA REFERENCIADO DI - FUNDO DE INVESTIMENTO                       & 60701190 & 60701190 & Artigo 7º, Inciso IV, 'a' & ART7IVA &  1 & FIF    & ⋯ & NA & 17.192.451/0001-70 & BANCO ITAUCARD S.A.            & NA & NA & NA & NA & NA & 31 & 0\\\\\n\\end{tabular}\n",
            "text/markdown": "\nA tibble: 6 × 27\n\n| ident_ativo &lt;chr&gt; | nm_ativo &lt;chr&gt; | eh_fundo_vedado &lt;dbl&gt; | nm_fundo &lt;chr&gt; | cnpj_admin &lt;chr&gt; | cnpj_gestor &lt;chr&gt; | enquad_sprev &lt;chr&gt; | enquad_sprev_pad &lt;chr&gt; | atende_art15 &lt;dbl&gt; | TP_FUNDO &lt;chr&gt; | ⋯ ⋯ | DT_FIM_EXERC &lt;date&gt; | CNPJ_ADMIN &lt;chr&gt; | ADMIN &lt;chr&gt; | PF_PJ_GESTOR &lt;chr&gt; | CPF_CNPJ_GESTOR &lt;chr&gt; | GESTOR &lt;chr&gt; | CNPJ_AUDITOR &lt;chr&gt; | AUDITOR &lt;chr&gt; | qtd_rpps_investindo &lt;int&gt; | eh_investigado &lt;dbl&gt; |\n|---|---|---|---|---|---|---|---|---|---|---|---|---|---|---|---|---|---|---|---|---|\n| 00071477000168 | BB RF CP AUTOMATICO                                | 0 | NA                                                                                          | NA       | NA       | NA                        | NA      | NA | FACFIF | ⋯ | NA | 30.822.936/0001-69 | BB GESTAO DE RECURSOS DTVM S.A | NA | NA | NA | NA | NA |  1 | 0 |\n| 00360305000104 | CAIXA FI BRASIL IRF-M 1 TP RF                      | 0 | NA                                                                                          | NA       | NA       | NA                        | NA      | NA | NA     | ⋯ | NA | NA                 | NA                             | NA | NA | NA | NA | NA |  7 | 0 |\n| 00756851000169 | BB ÁGIL FIC RENDA FIXA REFERENCIADO DI             | 0 | BB RENDA FIXA REFERENCIADO DI ÁGIL FUNDO DE INVESTIMENTO EM COTAS DE FUNDOS DE INVESTIMENTO | 30822936 | 30822936 | Artigo 7º, Inciso IV, 'a' | ART7IVA |  1 | FACFIF | ⋯ | NA | 30.822.936/0001-69 | BB GESTAO DE RECURSOS DTVM S.A | NA | NA | NA | NA | NA |  2 | 0 |\n| 00812433000141 | BNB AUTOMATICO FI RF CURTO PRAZO                   | 0 | BNB AUTOMÁTICO FUNDO DE INVESTIMENTO RENDA FIXA CURTO PRAZO                                 | 62318407 | 07237373 | Artigo 7º, Inciso IV, 'a' | ART7IVA |  1 | FIF    | ⋯ | 2005-03-31 | 07.237.373/0001-20 | BANCO DO NORDESTE DO BRASIL SA | NA | NA | NA | NA | NA |  2 | 0 |\n| 00822059000165 | BB AÇÕES IBOVESPA ATIVO FIC                        | 0 | BB AÇÕES IBOVESPA ATIVO FUNDO DE INVESTIMENTO EM COTAS DE FUNDOS DE INVESTIMENTO            | 30822936 | 30822936 | Artigo 8º, Inciso I, 'a'  | ART8IA  |  1 | NA     | ⋯ | NA | NA                 | NA                             | NA | NA | NA | NA | NA |  6 | 0 |\n| 00832435000100 | ITAÚ INSTITUCIONAL RENDA FIXA REFERENCIADO DI - FI | 0 | ITAÚ INSTITUCIONAL RENDA FIXA REFERENCIADO DI - FUNDO DE INVESTIMENTO                       | 60701190 | 60701190 | Artigo 7º, Inciso IV, 'a' | ART7IVA |  1 | FIF    | ⋯ | NA | 17.192.451/0001-70 | BANCO ITAUCARD S.A.            | NA | NA | NA | NA | NA | 31 | 0 |\n\n",
            "text/html": [
              "<table>\n",
              "<caption>A tibble: 6 × 27</caption>\n",
              "<thead>\n",
              "\t<tr><th scope=col>ident_ativo</th><th scope=col>nm_ativo</th><th scope=col>eh_fundo_vedado</th><th scope=col>nm_fundo</th><th scope=col>cnpj_admin</th><th scope=col>cnpj_gestor</th><th scope=col>enquad_sprev</th><th scope=col>enquad_sprev_pad</th><th scope=col>atende_art15</th><th scope=col>TP_FUNDO</th><th scope=col>⋯</th><th scope=col>DT_FIM_EXERC</th><th scope=col>CNPJ_ADMIN</th><th scope=col>ADMIN</th><th scope=col>PF_PJ_GESTOR</th><th scope=col>CPF_CNPJ_GESTOR</th><th scope=col>GESTOR</th><th scope=col>CNPJ_AUDITOR</th><th scope=col>AUDITOR</th><th scope=col>qtd_rpps_investindo</th><th scope=col>eh_investigado</th></tr>\n",
              "\t<tr><th scope=col>&lt;chr&gt;</th><th scope=col>&lt;chr&gt;</th><th scope=col>&lt;dbl&gt;</th><th scope=col>&lt;chr&gt;</th><th scope=col>&lt;chr&gt;</th><th scope=col>&lt;chr&gt;</th><th scope=col>&lt;chr&gt;</th><th scope=col>&lt;chr&gt;</th><th scope=col>&lt;dbl&gt;</th><th scope=col>&lt;chr&gt;</th><th scope=col>⋯</th><th scope=col>&lt;date&gt;</th><th scope=col>&lt;chr&gt;</th><th scope=col>&lt;chr&gt;</th><th scope=col>&lt;chr&gt;</th><th scope=col>&lt;chr&gt;</th><th scope=col>&lt;chr&gt;</th><th scope=col>&lt;chr&gt;</th><th scope=col>&lt;chr&gt;</th><th scope=col>&lt;int&gt;</th><th scope=col>&lt;dbl&gt;</th></tr>\n",
              "</thead>\n",
              "<tbody>\n",
              "\t<tr><td>00071477000168</td><td>BB RF CP AUTOMATICO                               </td><td>0</td><td>NA                                                                                         </td><td>NA      </td><td>NA      </td><td>NA                       </td><td>NA     </td><td>NA</td><td>FACFIF</td><td>⋯</td><td>NA</td><td>30.822.936/0001-69</td><td>BB GESTAO DE RECURSOS DTVM S.A</td><td>NA</td><td>NA</td><td>NA</td><td>NA</td><td>NA</td><td> 1</td><td>0</td></tr>\n",
              "\t<tr><td>00360305000104</td><td>CAIXA FI BRASIL IRF-M 1 TP RF                     </td><td>0</td><td>NA                                                                                         </td><td>NA      </td><td>NA      </td><td>NA                       </td><td>NA     </td><td>NA</td><td>NA    </td><td>⋯</td><td>NA</td><td>NA                </td><td>NA                            </td><td>NA</td><td>NA</td><td>NA</td><td>NA</td><td>NA</td><td> 7</td><td>0</td></tr>\n",
              "\t<tr><td>00756851000169</td><td>BB ÁGIL FIC RENDA FIXA REFERENCIADO DI            </td><td>0</td><td>BB RENDA FIXA REFERENCIADO DI ÁGIL FUNDO DE INVESTIMENTO EM COTAS DE FUNDOS DE INVESTIMENTO</td><td>30822936</td><td>30822936</td><td>Artigo 7º, Inciso IV, 'a'</td><td>ART7IVA</td><td> 1</td><td>FACFIF</td><td>⋯</td><td>NA</td><td>30.822.936/0001-69</td><td>BB GESTAO DE RECURSOS DTVM S.A</td><td>NA</td><td>NA</td><td>NA</td><td>NA</td><td>NA</td><td> 2</td><td>0</td></tr>\n",
              "\t<tr><td>00812433000141</td><td>BNB AUTOMATICO FI RF CURTO PRAZO                  </td><td>0</td><td>BNB AUTOMÁTICO FUNDO DE INVESTIMENTO RENDA FIXA CURTO PRAZO                                </td><td>62318407</td><td>07237373</td><td>Artigo 7º, Inciso IV, 'a'</td><td>ART7IVA</td><td> 1</td><td>FIF   </td><td>⋯</td><td>2005-03-31</td><td>07.237.373/0001-20</td><td>BANCO DO NORDESTE DO BRASIL SA</td><td>NA</td><td>NA</td><td>NA</td><td>NA</td><td>NA</td><td> 2</td><td>0</td></tr>\n",
              "\t<tr><td>00822059000165</td><td>BB AÇÕES IBOVESPA ATIVO FIC                       </td><td>0</td><td>BB AÇÕES IBOVESPA ATIVO FUNDO DE INVESTIMENTO EM COTAS DE FUNDOS DE INVESTIMENTO           </td><td>30822936</td><td>30822936</td><td>Artigo 8º, Inciso I, 'a' </td><td>ART8IA </td><td> 1</td><td>NA    </td><td>⋯</td><td>NA</td><td>NA                </td><td>NA                            </td><td>NA</td><td>NA</td><td>NA</td><td>NA</td><td>NA</td><td> 6</td><td>0</td></tr>\n",
              "\t<tr><td>00832435000100</td><td>ITAÚ INSTITUCIONAL RENDA FIXA REFERENCIADO DI - FI</td><td>0</td><td>ITAÚ INSTITUCIONAL RENDA FIXA REFERENCIADO DI - FUNDO DE INVESTIMENTO                      </td><td>60701190</td><td>60701190</td><td>Artigo 7º, Inciso IV, 'a'</td><td>ART7IVA</td><td> 1</td><td>FIF   </td><td>⋯</td><td>NA</td><td>17.192.451/0001-70</td><td>BANCO ITAUCARD S.A.           </td><td>NA</td><td>NA</td><td>NA</td><td>NA</td><td>NA</td><td>31</td><td>0</td></tr>\n",
              "</tbody>\n",
              "</table>\n"
            ]
          },
          "metadata": {
            "tags": []
          }
        }
      ]
    },
    {
      "cell_type": "markdown",
      "metadata": {
        "id": "qRd3eD1-czNj",
        "colab_type": "text"
      },
      "source": [
        "Vamos agora importar dados das transações diárias disponíveis no site de dados abertos da CVM: http://dados.cvm.gov.br/dataset/fi-doc-inf_diario\n"
      ]
    },
    {
      "cell_type": "code",
      "metadata": {
        "id": "Ggm8BdlAeLXk",
        "colab_type": "code",
        "outputId": "e309e81f-9600-42af-e689-b4c81164ee71",
        "colab": {
          "base_uri": "https://localhost:8080/",
          "height": 221
        }
      },
      "source": [
        "trans2020_05 <- read_delim(\"http://dados.cvm.gov.br/dados/FI/DOC/INF_DIARIO/DADOS/inf_diario_fi_202005.csv\",\n",
        "                            delim = \";\",\n",
        "                            locale = locale(decimal_mark = \".\",\n",
        "                                            grouping_mark = \"\"))\n"
      ],
      "execution_count": 110,
      "outputs": [
        {
          "output_type": "stream",
          "text": [
            "Parsed with column specification:\n",
            "cols(\n",
            "  CNPJ_FUNDO = \u001b[31mcol_character()\u001b[39m,\n",
            "  DT_COMPTC = \u001b[34mcol_date(format = \"\")\u001b[39m,\n",
            "  VL_TOTAL = \u001b[32mcol_double()\u001b[39m,\n",
            "  VL_QUOTA = \u001b[32mcol_double()\u001b[39m,\n",
            "  VL_PATRIM_LIQ = \u001b[32mcol_double()\u001b[39m,\n",
            "  CAPTC_DIA = \u001b[32mcol_double()\u001b[39m,\n",
            "  RESG_DIA = \u001b[32mcol_double()\u001b[39m,\n",
            "  NR_COTST = \u001b[32mcol_double()\u001b[39m\n",
            ")\n",
            "\n"
          ],
          "name": "stderr"
        }
      ]
    },
    {
      "cell_type": "code",
      "metadata": {
        "id": "AK1FFSGLgrij",
        "colab_type": "code",
        "outputId": "56c4d4cc-74f9-4242-c8ef-f67f8053ac21",
        "colab": {
          "base_uri": "https://localhost:8080/",
          "height": 187
        }
      },
      "source": [
        "glimpse(trans2020_05)"
      ],
      "execution_count": 111,
      "outputs": [
        {
          "output_type": "stream",
          "text": [
            "Rows: 243,487\n",
            "Columns: 8\n",
            "$ CNPJ_FUNDO    \u001b[3m\u001b[90m<chr>\u001b[39m\u001b[23m \"00.017.024/0001-53\", \"00.017.024/0001-53\", \"00.017.024…\n",
            "$ DT_COMPTC     \u001b[3m\u001b[90m<date>\u001b[39m\u001b[23m 2020-05-04, 2020-05-05, 2020-05-06, 2020-05-07, 2020-0…\n",
            "$ VL_TOTAL      \u001b[3m\u001b[90m<dbl>\u001b[39m\u001b[23m 1124995, 1125158, 1125317, 1125478, 1125299, 1125428, 1…\n",
            "$ VL_QUOTA      \u001b[3m\u001b[90m<dbl>\u001b[39m\u001b[23m 27.42568, 27.42878, 27.43193, 27.43498, 27.43729, 27.43…\n",
            "$ VL_PATRIM_LIQ \u001b[3m\u001b[90m<dbl>\u001b[39m\u001b[23m 1119404, 1119530, 1119659, 1119784, 1119878, 1119971, 1…\n",
            "$ CAPTC_DIA     \u001b[3m\u001b[90m<dbl>\u001b[39m\u001b[23m 0.00, 0.00, 0.00, 0.00, 0.00, 0.00, 0.00, 0.00, 0.00, 0…\n",
            "$ RESG_DIA      \u001b[3m\u001b[90m<dbl>\u001b[39m\u001b[23m 0.00, 0.00, 0.00, 0.00, 0.00, 0.00, 0.00, 0.00, 0.00, 0…\n",
            "$ NR_COTST      \u001b[3m\u001b[90m<dbl>\u001b[39m\u001b[23m 1, 1, 1, 1, 1, 1, 1, 1, 1, 1, 1, 1, 1, 1, 7660, 7660, 7…\n"
          ],
          "name": "stdout"
        }
      ]
    },
    {
      "cell_type": "code",
      "metadata": {
        "id": "Nz-8ZuEQFyle",
        "colab_type": "code",
        "outputId": "d246b13c-568f-4267-ba37-13f4d47b0674",
        "colab": {
          "base_uri": "https://localhost:8080/",
          "height": 204
        }
      },
      "source": [
        "head(trans2020_05)"
      ],
      "execution_count": 112,
      "outputs": [
        {
          "output_type": "display_data",
          "data": {
            "text/plain": [
              "  CNPJ_FUNDO         DT_COMPTC  VL_TOTAL VL_QUOTA VL_PATRIM_LIQ CAPTC_DIA\n",
              "1 00.017.024/0001-53 2020-05-04 1124995  27.42568 1119404       0        \n",
              "2 00.017.024/0001-53 2020-05-05 1125158  27.42878 1119530       0        \n",
              "3 00.017.024/0001-53 2020-05-06 1125317  27.43193 1119659       0        \n",
              "4 00.017.024/0001-53 2020-05-07 1125478  27.43498 1119784       0        \n",
              "5 00.017.024/0001-53 2020-05-08 1125299  27.43729 1119878       0        \n",
              "6 00.017.024/0001-53 2020-05-11 1125428  27.43957 1119971       0        \n",
              "  RESG_DIA NR_COTST\n",
              "1 0        1       \n",
              "2 0        1       \n",
              "3 0        1       \n",
              "4 0        1       \n",
              "5 0        1       \n",
              "6 0        1       "
            ],
            "text/latex": "A tibble: 6 × 8\n\\begin{tabular}{llllllll}\n CNPJ\\_FUNDO & DT\\_COMPTC & VL\\_TOTAL & VL\\_QUOTA & VL\\_PATRIM\\_LIQ & CAPTC\\_DIA & RESG\\_DIA & NR\\_COTST\\\\\n <chr> & <date> & <dbl> & <dbl> & <dbl> & <dbl> & <dbl> & <dbl>\\\\\n\\hline\n\t 00.017.024/0001-53 & 2020-05-04 & 1124995 & 27.42568 & 1119404 & 0 & 0 & 1\\\\\n\t 00.017.024/0001-53 & 2020-05-05 & 1125158 & 27.42878 & 1119530 & 0 & 0 & 1\\\\\n\t 00.017.024/0001-53 & 2020-05-06 & 1125317 & 27.43193 & 1119659 & 0 & 0 & 1\\\\\n\t 00.017.024/0001-53 & 2020-05-07 & 1125478 & 27.43498 & 1119784 & 0 & 0 & 1\\\\\n\t 00.017.024/0001-53 & 2020-05-08 & 1125299 & 27.43729 & 1119878 & 0 & 0 & 1\\\\\n\t 00.017.024/0001-53 & 2020-05-11 & 1125428 & 27.43957 & 1119971 & 0 & 0 & 1\\\\\n\\end{tabular}\n",
            "text/markdown": "\nA tibble: 6 × 8\n\n| CNPJ_FUNDO &lt;chr&gt; | DT_COMPTC &lt;date&gt; | VL_TOTAL &lt;dbl&gt; | VL_QUOTA &lt;dbl&gt; | VL_PATRIM_LIQ &lt;dbl&gt; | CAPTC_DIA &lt;dbl&gt; | RESG_DIA &lt;dbl&gt; | NR_COTST &lt;dbl&gt; |\n|---|---|---|---|---|---|---|---|\n| 00.017.024/0001-53 | 2020-05-04 | 1124995 | 27.42568 | 1119404 | 0 | 0 | 1 |\n| 00.017.024/0001-53 | 2020-05-05 | 1125158 | 27.42878 | 1119530 | 0 | 0 | 1 |\n| 00.017.024/0001-53 | 2020-05-06 | 1125317 | 27.43193 | 1119659 | 0 | 0 | 1 |\n| 00.017.024/0001-53 | 2020-05-07 | 1125478 | 27.43498 | 1119784 | 0 | 0 | 1 |\n| 00.017.024/0001-53 | 2020-05-08 | 1125299 | 27.43729 | 1119878 | 0 | 0 | 1 |\n| 00.017.024/0001-53 | 2020-05-11 | 1125428 | 27.43957 | 1119971 | 0 | 0 | 1 |\n\n",
            "text/html": [
              "<table>\n",
              "<caption>A tibble: 6 × 8</caption>\n",
              "<thead>\n",
              "\t<tr><th scope=col>CNPJ_FUNDO</th><th scope=col>DT_COMPTC</th><th scope=col>VL_TOTAL</th><th scope=col>VL_QUOTA</th><th scope=col>VL_PATRIM_LIQ</th><th scope=col>CAPTC_DIA</th><th scope=col>RESG_DIA</th><th scope=col>NR_COTST</th></tr>\n",
              "\t<tr><th scope=col>&lt;chr&gt;</th><th scope=col>&lt;date&gt;</th><th scope=col>&lt;dbl&gt;</th><th scope=col>&lt;dbl&gt;</th><th scope=col>&lt;dbl&gt;</th><th scope=col>&lt;dbl&gt;</th><th scope=col>&lt;dbl&gt;</th><th scope=col>&lt;dbl&gt;</th></tr>\n",
              "</thead>\n",
              "<tbody>\n",
              "\t<tr><td>00.017.024/0001-53</td><td>2020-05-04</td><td>1124995</td><td>27.42568</td><td>1119404</td><td>0</td><td>0</td><td>1</td></tr>\n",
              "\t<tr><td>00.017.024/0001-53</td><td>2020-05-05</td><td>1125158</td><td>27.42878</td><td>1119530</td><td>0</td><td>0</td><td>1</td></tr>\n",
              "\t<tr><td>00.017.024/0001-53</td><td>2020-05-06</td><td>1125317</td><td>27.43193</td><td>1119659</td><td>0</td><td>0</td><td>1</td></tr>\n",
              "\t<tr><td>00.017.024/0001-53</td><td>2020-05-07</td><td>1125478</td><td>27.43498</td><td>1119784</td><td>0</td><td>0</td><td>1</td></tr>\n",
              "\t<tr><td>00.017.024/0001-53</td><td>2020-05-08</td><td>1125299</td><td>27.43729</td><td>1119878</td><td>0</td><td>0</td><td>1</td></tr>\n",
              "\t<tr><td>00.017.024/0001-53</td><td>2020-05-11</td><td>1125428</td><td>27.43957</td><td>1119971</td><td>0</td><td>0</td><td>1</td></tr>\n",
              "</tbody>\n",
              "</table>\n"
            ]
          },
          "metadata": {
            "tags": []
          }
        }
      ]
    },
    {
      "cell_type": "markdown",
      "metadata": {
        "id": "cgM0l5HjOA6s",
        "colab_type": "text"
      },
      "source": [
        "Para efeito de juntar à nossa base de dados as variáveis `NR_COTST` e `VL_PATRIM_LIQ` vamos pegar os registros relativos à data mais recente. "
      ]
    },
    {
      "cell_type": "code",
      "metadata": {
        "id": "fsW1zVR_ECny",
        "colab_type": "code",
        "colab": {
          "base_uri": "https://localhost:8080/",
          "height": 204
        },
        "outputId": "05a5ed4e-8f7c-403b-98e2-a0464d99c517"
      },
      "source": [
        "trans2020_05_tmp <- trans2020_05 %>%\n",
        "                        mutate(CNPJ_FUNDO = str_remove_all(CNPJ_FUNDO, \"[[:punct:]]\")) %>%\n",
        "                        filter(DT_COMPTC == max(DT_COMPTC)) %>%\n",
        "                        select(CNPJ_FUNDO, DT_COMPTC, VL_PATRIM_LIQ, NR_COTST)\n",
        "\n",
        "head(trans2020_05_tmp)"
      ],
      "execution_count": 113,
      "outputs": [
        {
          "output_type": "display_data",
          "data": {
            "text/plain": [
              "  CNPJ_FUNDO     DT_COMPTC  VL_PATRIM_LIQ NR_COTST\n",
              "1 00017024000153 2020-05-21     1120720        1  \n",
              "2 00068305000135 2020-05-21    52367246     7648  \n",
              "3 00071477000168 2020-05-21 28124448644   318889  \n",
              "4 00073041000108 2020-05-21    19443285      969  \n",
              "5 00083181000167 2020-05-21 12392080061        4  \n",
              "6 00089915000115 2020-05-21    14783172      155  "
            ],
            "text/latex": "A tibble: 6 × 4\n\\begin{tabular}{llll}\n CNPJ\\_FUNDO & DT\\_COMPTC & VL\\_PATRIM\\_LIQ & NR\\_COTST\\\\\n <chr> & <date> & <dbl> & <dbl>\\\\\n\\hline\n\t 00017024000153 & 2020-05-21 &     1120720 &      1\\\\\n\t 00068305000135 & 2020-05-21 &    52367246 &   7648\\\\\n\t 00071477000168 & 2020-05-21 & 28124448644 & 318889\\\\\n\t 00073041000108 & 2020-05-21 &    19443285 &    969\\\\\n\t 00083181000167 & 2020-05-21 & 12392080061 &      4\\\\\n\t 00089915000115 & 2020-05-21 &    14783172 &    155\\\\\n\\end{tabular}\n",
            "text/markdown": "\nA tibble: 6 × 4\n\n| CNPJ_FUNDO &lt;chr&gt; | DT_COMPTC &lt;date&gt; | VL_PATRIM_LIQ &lt;dbl&gt; | NR_COTST &lt;dbl&gt; |\n|---|---|---|---|\n| 00017024000153 | 2020-05-21 |     1120720 |      1 |\n| 00068305000135 | 2020-05-21 |    52367246 |   7648 |\n| 00071477000168 | 2020-05-21 | 28124448644 | 318889 |\n| 00073041000108 | 2020-05-21 |    19443285 |    969 |\n| 00083181000167 | 2020-05-21 | 12392080061 |      4 |\n| 00089915000115 | 2020-05-21 |    14783172 |    155 |\n\n",
            "text/html": [
              "<table>\n",
              "<caption>A tibble: 6 × 4</caption>\n",
              "<thead>\n",
              "\t<tr><th scope=col>CNPJ_FUNDO</th><th scope=col>DT_COMPTC</th><th scope=col>VL_PATRIM_LIQ</th><th scope=col>NR_COTST</th></tr>\n",
              "\t<tr><th scope=col>&lt;chr&gt;</th><th scope=col>&lt;date&gt;</th><th scope=col>&lt;dbl&gt;</th><th scope=col>&lt;dbl&gt;</th></tr>\n",
              "</thead>\n",
              "<tbody>\n",
              "\t<tr><td>00017024000153</td><td>2020-05-21</td><td>    1120720</td><td>     1</td></tr>\n",
              "\t<tr><td>00068305000135</td><td>2020-05-21</td><td>   52367246</td><td>  7648</td></tr>\n",
              "\t<tr><td>00071477000168</td><td>2020-05-21</td><td>28124448644</td><td>318889</td></tr>\n",
              "\t<tr><td>00073041000108</td><td>2020-05-21</td><td>   19443285</td><td>   969</td></tr>\n",
              "\t<tr><td>00083181000167</td><td>2020-05-21</td><td>12392080061</td><td>     4</td></tr>\n",
              "\t<tr><td>00089915000115</td><td>2020-05-21</td><td>   14783172</td><td>   155</td></tr>\n",
              "</tbody>\n",
              "</table>\n"
            ]
          },
          "metadata": {
            "tags": []
          }
        }
      ]
    },
    {
      "cell_type": "code",
      "metadata": {
        "id": "qpU6MVVtFkub",
        "colab_type": "code",
        "colab": {}
      },
      "source": [
        "relacao_fundos <- relacao_fundos %>%\n",
        "                    left_join(trans2020_05_tmp, by=c(\"ident_ativo\" = \"CNPJ_FUNDO\"))"
      ],
      "execution_count": 0,
      "outputs": []
    },
    {
      "cell_type": "code",
      "metadata": {
        "id": "CQ_Gq6LMGBx9",
        "colab_type": "code",
        "colab": {
          "base_uri": "https://localhost:8080/",
          "height": 858
        },
        "outputId": "6dce27f7-6607-493a-e55b-1727b0905b4d"
      },
      "source": [
        "head(relacao_fundos, 3)\n",
        "glimpse(relacao_fundos)"
      ],
      "execution_count": 115,
      "outputs": [
        {
          "output_type": "display_data",
          "data": {
            "text/plain": [
              "  ident_ativo    nm_ativo                               eh_fundo_vedado\n",
              "1 00071477000168 BB RF CP AUTOMATICO                    0              \n",
              "2 00360305000104 CAIXA FI BRASIL IRF-M 1 TP RF          0              \n",
              "3 00756851000169 BB ÁGIL FIC RENDA FIXA REFERENCIADO DI 0              \n",
              "  nm_fundo                                                                                   \n",
              "1 NA                                                                                         \n",
              "2 NA                                                                                         \n",
              "3 BB RENDA FIXA REFERENCIADO DI ÁGIL FUNDO DE INVESTIMENTO EM COTAS DE FUNDOS DE INVESTIMENTO\n",
              "  cnpj_admin cnpj_gestor enquad_sprev              enquad_sprev_pad\n",
              "1 NA         NA          NA                        NA              \n",
              "2 NA         NA          NA                        NA              \n",
              "3 30822936   30822936    Artigo 7º, Inciso IV, 'a' ART7IVA         \n",
              "  atende_art15 TP_FUNDO ⋯ PF_PJ_GESTOR CPF_CNPJ_GESTOR GESTOR CNPJ_AUDITOR\n",
              "1 NA           FACFIF   ⋯ NA           NA              NA     NA          \n",
              "2 NA           NA       ⋯ NA           NA              NA     NA          \n",
              "3  1           FACFIF   ⋯ NA           NA              NA     NA          \n",
              "  AUDITOR qtd_rpps_investindo eh_investigado DT_COMPTC  VL_PATRIM_LIQ NR_COTST\n",
              "1 NA      1                   0              2020-05-21 28124448644   318889  \n",
              "2 NA      7                   0              <NA>                NA       NA  \n",
              "3 NA      2                   0              2020-05-21 14176405416   420083  "
            ],
            "text/latex": "A tibble: 3 × 30\n\\begin{tabular}{lllllllllllllllllllll}\n ident\\_ativo & nm\\_ativo & eh\\_fundo\\_vedado & nm\\_fundo & cnpj\\_admin & cnpj\\_gestor & enquad\\_sprev & enquad\\_sprev\\_pad & atende\\_art15 & TP\\_FUNDO & ⋯ & PF\\_PJ\\_GESTOR & CPF\\_CNPJ\\_GESTOR & GESTOR & CNPJ\\_AUDITOR & AUDITOR & qtd\\_rpps\\_investindo & eh\\_investigado & DT\\_COMPTC & VL\\_PATRIM\\_LIQ & NR\\_COTST\\\\\n <chr> & <chr> & <dbl> & <chr> & <chr> & <chr> & <chr> & <chr> & <dbl> & <chr> & ⋯ & <chr> & <chr> & <chr> & <chr> & <chr> & <int> & <dbl> & <date> & <dbl> & <dbl>\\\\\n\\hline\n\t 00071477000168 & BB RF CP AUTOMATICO                    & 0 & NA                                                                                          & NA       & NA       & NA                        & NA      & NA & FACFIF & ⋯ & NA & NA & NA & NA & NA & 1 & 0 & 2020-05-21 & 28124448644 & 318889\\\\\n\t 00360305000104 & CAIXA FI BRASIL IRF-M 1 TP RF          & 0 & NA                                                                                          & NA       & NA       & NA                        & NA      & NA & NA     & ⋯ & NA & NA & NA & NA & NA & 7 & 0 & NA &          NA &     NA\\\\\n\t 00756851000169 & BB ÁGIL FIC RENDA FIXA REFERENCIADO DI & 0 & BB RENDA FIXA REFERENCIADO DI ÁGIL FUNDO DE INVESTIMENTO EM COTAS DE FUNDOS DE INVESTIMENTO & 30822936 & 30822936 & Artigo 7º, Inciso IV, 'a' & ART7IVA &  1 & FACFIF & ⋯ & NA & NA & NA & NA & NA & 2 & 0 & 2020-05-21 & 14176405416 & 420083\\\\\n\\end{tabular}\n",
            "text/markdown": "\nA tibble: 3 × 30\n\n| ident_ativo &lt;chr&gt; | nm_ativo &lt;chr&gt; | eh_fundo_vedado &lt;dbl&gt; | nm_fundo &lt;chr&gt; | cnpj_admin &lt;chr&gt; | cnpj_gestor &lt;chr&gt; | enquad_sprev &lt;chr&gt; | enquad_sprev_pad &lt;chr&gt; | atende_art15 &lt;dbl&gt; | TP_FUNDO &lt;chr&gt; | ⋯ ⋯ | PF_PJ_GESTOR &lt;chr&gt; | CPF_CNPJ_GESTOR &lt;chr&gt; | GESTOR &lt;chr&gt; | CNPJ_AUDITOR &lt;chr&gt; | AUDITOR &lt;chr&gt; | qtd_rpps_investindo &lt;int&gt; | eh_investigado &lt;dbl&gt; | DT_COMPTC &lt;date&gt; | VL_PATRIM_LIQ &lt;dbl&gt; | NR_COTST &lt;dbl&gt; |\n|---|---|---|---|---|---|---|---|---|---|---|---|---|---|---|---|---|---|---|---|---|\n| 00071477000168 | BB RF CP AUTOMATICO                    | 0 | NA                                                                                          | NA       | NA       | NA                        | NA      | NA | FACFIF | ⋯ | NA | NA | NA | NA | NA | 1 | 0 | 2020-05-21 | 28124448644 | 318889 |\n| 00360305000104 | CAIXA FI BRASIL IRF-M 1 TP RF          | 0 | NA                                                                                          | NA       | NA       | NA                        | NA      | NA | NA     | ⋯ | NA | NA | NA | NA | NA | 7 | 0 | NA |          NA |     NA |\n| 00756851000169 | BB ÁGIL FIC RENDA FIXA REFERENCIADO DI | 0 | BB RENDA FIXA REFERENCIADO DI ÁGIL FUNDO DE INVESTIMENTO EM COTAS DE FUNDOS DE INVESTIMENTO | 30822936 | 30822936 | Artigo 7º, Inciso IV, 'a' | ART7IVA |  1 | FACFIF | ⋯ | NA | NA | NA | NA | NA | 2 | 0 | 2020-05-21 | 14176405416 | 420083 |\n\n",
            "text/html": [
              "<table>\n",
              "<caption>A tibble: 3 × 30</caption>\n",
              "<thead>\n",
              "\t<tr><th scope=col>ident_ativo</th><th scope=col>nm_ativo</th><th scope=col>eh_fundo_vedado</th><th scope=col>nm_fundo</th><th scope=col>cnpj_admin</th><th scope=col>cnpj_gestor</th><th scope=col>enquad_sprev</th><th scope=col>enquad_sprev_pad</th><th scope=col>atende_art15</th><th scope=col>TP_FUNDO</th><th scope=col>⋯</th><th scope=col>PF_PJ_GESTOR</th><th scope=col>CPF_CNPJ_GESTOR</th><th scope=col>GESTOR</th><th scope=col>CNPJ_AUDITOR</th><th scope=col>AUDITOR</th><th scope=col>qtd_rpps_investindo</th><th scope=col>eh_investigado</th><th scope=col>DT_COMPTC</th><th scope=col>VL_PATRIM_LIQ</th><th scope=col>NR_COTST</th></tr>\n",
              "\t<tr><th scope=col>&lt;chr&gt;</th><th scope=col>&lt;chr&gt;</th><th scope=col>&lt;dbl&gt;</th><th scope=col>&lt;chr&gt;</th><th scope=col>&lt;chr&gt;</th><th scope=col>&lt;chr&gt;</th><th scope=col>&lt;chr&gt;</th><th scope=col>&lt;chr&gt;</th><th scope=col>&lt;dbl&gt;</th><th scope=col>&lt;chr&gt;</th><th scope=col>⋯</th><th scope=col>&lt;chr&gt;</th><th scope=col>&lt;chr&gt;</th><th scope=col>&lt;chr&gt;</th><th scope=col>&lt;chr&gt;</th><th scope=col>&lt;chr&gt;</th><th scope=col>&lt;int&gt;</th><th scope=col>&lt;dbl&gt;</th><th scope=col>&lt;date&gt;</th><th scope=col>&lt;dbl&gt;</th><th scope=col>&lt;dbl&gt;</th></tr>\n",
              "</thead>\n",
              "<tbody>\n",
              "\t<tr><td>00071477000168</td><td>BB RF CP AUTOMATICO                   </td><td>0</td><td>NA                                                                                         </td><td>NA      </td><td>NA      </td><td>NA                       </td><td>NA     </td><td>NA</td><td>FACFIF</td><td>⋯</td><td>NA</td><td>NA</td><td>NA</td><td>NA</td><td>NA</td><td>1</td><td>0</td><td>2020-05-21</td><td>28124448644</td><td>318889</td></tr>\n",
              "\t<tr><td>00360305000104</td><td>CAIXA FI BRASIL IRF-M 1 TP RF         </td><td>0</td><td>NA                                                                                         </td><td>NA      </td><td>NA      </td><td>NA                       </td><td>NA     </td><td>NA</td><td>NA    </td><td>⋯</td><td>NA</td><td>NA</td><td>NA</td><td>NA</td><td>NA</td><td>7</td><td>0</td><td>NA</td><td>         NA</td><td>    NA</td></tr>\n",
              "\t<tr><td>00756851000169</td><td>BB ÁGIL FIC RENDA FIXA REFERENCIADO DI</td><td>0</td><td>BB RENDA FIXA REFERENCIADO DI ÁGIL FUNDO DE INVESTIMENTO EM COTAS DE FUNDOS DE INVESTIMENTO</td><td>30822936</td><td>30822936</td><td>Artigo 7º, Inciso IV, 'a'</td><td>ART7IVA</td><td> 1</td><td>FACFIF</td><td>⋯</td><td>NA</td><td>NA</td><td>NA</td><td>NA</td><td>NA</td><td>2</td><td>0</td><td>2020-05-21</td><td>14176405416</td><td>420083</td></tr>\n",
              "</tbody>\n",
              "</table>\n"
            ]
          },
          "metadata": {
            "tags": []
          }
        },
        {
          "output_type": "stream",
          "text": [
            "Rows: 656\n",
            "Columns: 30\n",
            "$ ident_ativo         \u001b[3m\u001b[90m<chr>\u001b[39m\u001b[23m \"00071477000168\", \"00360305000104\", \"007568510001…\n",
            "$ nm_ativo            \u001b[3m\u001b[90m<chr>\u001b[39m\u001b[23m \"BB RF CP AUTOMATICO\", \"CAIXA FI BRASIL IRF-M 1 T…\n",
            "$ eh_fundo_vedado     \u001b[3m\u001b[90m<dbl>\u001b[39m\u001b[23m 0, 0, 0, 0, 0, 0, 0, 0, 0, 0, 0, 0, 0, 0, 0, 0, 0…\n",
            "$ nm_fundo            \u001b[3m\u001b[90m<chr>\u001b[39m\u001b[23m NA, NA, \"BB RENDA FIXA REFERENCIADO DI ÁGIL FUNDO…\n",
            "$ cnpj_admin          \u001b[3m\u001b[90m<chr>\u001b[39m\u001b[23m NA, NA, \"30822936\", \"62318407\", \"30822936\", \"6070…\n",
            "$ cnpj_gestor         \u001b[3m\u001b[90m<chr>\u001b[39m\u001b[23m NA, NA, \"30822936\", \"07237373\", \"30822936\", \"6070…\n",
            "$ enquad_sprev        \u001b[3m\u001b[90m<chr>\u001b[39m\u001b[23m NA, NA, \"Artigo 7º, Inciso IV, 'a'\", \"Artigo 7º, …\n",
            "$ enquad_sprev_pad    \u001b[3m\u001b[90m<chr>\u001b[39m\u001b[23m NA, NA, \"ART7IVA\", \"ART7IVA\", \"ART8IA\", \"ART7IVA\"…\n",
            "$ atende_art15        \u001b[3m\u001b[90m<dbl>\u001b[39m\u001b[23m NA, NA, 1, 1, 1, 1, 1, 1, 1, 1, 1, 1, 1, NA, 1, 1…\n",
            "$ TP_FUNDO            \u001b[3m\u001b[90m<chr>\u001b[39m\u001b[23m \"FACFIF\", NA, \"FACFIF\", \"FIF\", NA, \"FIF\", \"FIF\", …\n",
            "$ DENOM_SOCIAL        \u001b[3m\u001b[90m<chr>\u001b[39m\u001b[23m \"BB RENDA FIXA CURTO PRAZO AUTOMÁTICO EMPRESA FUN…\n",
            "$ DT_REG              \u001b[3m\u001b[90m<date>\u001b[39m\u001b[23m 2003-04-30, NA, 2003-04-30, 2003-04-30, NA, 2003…\n",
            "$ DT_CONST            \u001b[3m\u001b[90m<date>\u001b[39m\u001b[23m 1994-05-19, NA, 1995-08-07, 1995-10-02, NA, 1995…\n",
            "$ DT_CANCEL           \u001b[3m\u001b[90m<date>\u001b[39m\u001b[23m 2005-03-24, NA, 2005-03-24, 2005-03-21, NA, 2005…\n",
            "$ SIT                 \u001b[3m\u001b[90m<chr>\u001b[39m\u001b[23m \"CANCELADA\", NA, \"CANCELADA\", \"CANCELADA\", NA, \"C…\n",
            "$ DT_INI_SIT          \u001b[3m\u001b[90m<date>\u001b[39m\u001b[23m 2005-03-24, NA, 2005-03-24, 2005-03-21, NA, 2005…\n",
            "$ DT_INI_EXERC        \u001b[3m\u001b[90m<date>\u001b[39m\u001b[23m NA, NA, NA, 2004-04-01, NA, NA, NA, NA, NA, 2005…\n",
            "$ DT_FIM_EXERC        \u001b[3m\u001b[90m<date>\u001b[39m\u001b[23m NA, NA, NA, 2005-03-31, NA, NA, NA, NA, NA, 2005…\n",
            "$ CNPJ_ADMIN          \u001b[3m\u001b[90m<chr>\u001b[39m\u001b[23m \"30.822.936/0001-69\", NA, \"30.822.936/0001-69\", \"…\n",
            "$ ADMIN               \u001b[3m\u001b[90m<chr>\u001b[39m\u001b[23m \"BB GESTAO DE RECURSOS DTVM S.A\", NA, \"BB GESTAO …\n",
            "$ PF_PJ_GESTOR        \u001b[3m\u001b[90m<chr>\u001b[39m\u001b[23m NA, NA, NA, NA, NA, NA, NA, NA, NA, NA, NA, NA, N…\n",
            "$ CPF_CNPJ_GESTOR     \u001b[3m\u001b[90m<chr>\u001b[39m\u001b[23m NA, NA, NA, NA, NA, NA, NA, NA, NA, NA, NA, NA, N…\n",
            "$ GESTOR              \u001b[3m\u001b[90m<chr>\u001b[39m\u001b[23m NA, NA, NA, NA, NA, NA, NA, NA, NA, NA, NA, NA, N…\n",
            "$ CNPJ_AUDITOR        \u001b[3m\u001b[90m<chr>\u001b[39m\u001b[23m NA, NA, NA, NA, NA, NA, NA, NA, NA, NA, NA, NA, N…\n",
            "$ AUDITOR             \u001b[3m\u001b[90m<chr>\u001b[39m\u001b[23m NA, NA, NA, NA, NA, NA, NA, NA, NA, NA, NA, NA, N…\n",
            "$ qtd_rpps_investindo \u001b[3m\u001b[90m<int>\u001b[39m\u001b[23m 1, 7, 2, 2, 6, 31, 223, 12, 3, 2, 1, 2, 16, 4, 1,…\n",
            "$ eh_investigado      \u001b[3m\u001b[90m<dbl>\u001b[39m\u001b[23m 0, 0, 0, 0, 0, 0, 0, 0, 0, 0, 0, 0, 0, 0, 0, 0, 0…\n",
            "$ DT_COMPTC           \u001b[3m\u001b[90m<date>\u001b[39m\u001b[23m 2020-05-21, NA, 2020-05-21, 2020-05-21, 2020-05-…\n",
            "$ VL_PATRIM_LIQ       \u001b[3m\u001b[90m<dbl>\u001b[39m\u001b[23m 28124448644, NA, 14176405416, 1710969943, 1332158…\n",
            "$ NR_COTST            \u001b[3m\u001b[90m<dbl>\u001b[39m\u001b[23m 318889, NA, 420083, 41896, 6385, 113, 15930, 9605…\n"
          ],
          "name": "stdout"
        }
      ]
    },
    {
      "cell_type": "markdown",
      "metadata": {
        "id": "TVep41he3jRG",
        "colab_type": "text"
      },
      "source": [
        "Pronto. Chegamos á nossa base de dados final. Agora é começar a explorá-la para ver se sai alguma coisa interessante."
      ]
    },
    {
      "cell_type": "markdown",
      "metadata": {
        "id": "xwGYHzYTDK0M",
        "colab_type": "text"
      },
      "source": [
        "<br>\n",
        "<br>\n",
        "\n",
        "---\n",
        "\n",
        "# **PARTE II - CÁLCULO DA RENTABILIDADE DA CARTEIRA DE FUNDOS DE INVESTIMENTOS**\n",
        "\n",
        "---\n",
        "\n",
        "<br>"
      ]
    },
    {
      "cell_type": "markdown",
      "metadata": {
        "id": "-wGuL9vEPRBG",
        "colab_type": "text"
      },
      "source": [
        "Nesta parte do documento, nosso objetivo é estruturar uma metodologia para calcular a rentabilidade de uma carteira de fundos de investimentos de um RPPS."
      ]
    },
    {
      "cell_type": "markdown",
      "metadata": {
        "id": "3YECrPbBPR20",
        "colab_type": "text"
      },
      "source": [
        "<br>\n",
        "<br>\n",
        "\n",
        "---\n",
        "\n",
        "# **PARTE III - ANÁLISE FUNDOS DE INVESTIMENTOS DE RPPS DO RJ**\n",
        "\n",
        "---\n",
        "\n",
        "<br>"
      ]
    },
    {
      "cell_type": "markdown",
      "metadata": {
        "id": "gM0TmJGsPf45",
        "colab_type": "text"
      },
      "source": [
        "Vamos agora restringir a base de dados para examinar apenas os registros relativos a RPPS do Estado do Rio de Janeiro."
      ]
    },
    {
      "cell_type": "code",
      "metadata": {
        "id": "xk62DjWXSykT",
        "colab_type": "code",
        "colab": {}
      },
      "source": [
        "dair_fundos_rj <- dair_fundos %>%\n",
        "                    filter(uf == \"RJ\")\n",
        "\n",
        "# criar uma lista contendo os rpps de um ente"
      ],
      "execution_count": 0,
      "outputs": []
    },
    {
      "cell_type": "code",
      "metadata": {
        "id": "zqHXV0OBPhpw",
        "colab_type": "code",
        "colab": {}
      },
      "source": [
        "fundos_representacao_sprev_rj <- c(12845801000137, # \n",
        "                                   13344834000166,\n",
        "                                   13594673000169,\n",
        "                                   12845801000137,\n",
        "                                   14655180000154,\n",
        "                                   18373362000193,\n",
        "                                   15798354000109)\n"
      ],
      "execution_count": 0,
      "outputs": []
    },
    {
      "cell_type": "markdown",
      "metadata": {
        "id": "MjkcINMDHKf9",
        "colab_type": "text"
      },
      "source": [
        "**Quais RPPS possuem recursos aplicados nos fundos elencados acima?**"
      ]
    },
    {
      "cell_type": "code",
      "metadata": {
        "id": "Sz29X00cHUmf",
        "colab_type": "code",
        "colab": {}
      },
      "source": [
        "entes_fundos_ruins <- dair_fundos_rj %>%\n",
        "                          filter(ident_ativo %in% fundos_representacao_sprev_rj) %>%\n",
        "                          distinct(ident_ativo, nm_ativo, ente, tipo_ativo, ) %>%\n",
        "                          arrange(ident_ativo)"
      ],
      "execution_count": 0,
      "outputs": []
    },
    {
      "cell_type": "code",
      "metadata": {
        "id": "Tw4TFFNwH5S_",
        "colab_type": "code",
        "colab": {
          "base_uri": "https://localhost:8080/",
          "height": 288
        },
        "outputId": "7186c868-0b5e-4b93-f1c7-9843c1b175b8"
      },
      "source": [
        "entes_fundos_ruins"
      ],
      "execution_count": 46,
      "outputs": [
        {
          "output_type": "display_data",
          "data": {
            "text/plain": [
              "   ident_ativo    nm_ativo                                 ente         \n",
              "1  12845801000137 TOWER BRIDGE FI RF IMAB 5                Japeri       \n",
              "2  12845801000137 TOWER BRIDGE RF FI IMA-B 5               Japeri       \n",
              "3  12845801000137 TOWER BRIDGE IMA-B 5 FI RENDA FIXA       Queimados    \n",
              "4  12845801000137 TOWER BRIDGE IMA-B 5 FI RENDA FIXA       Queimados    \n",
              "5  13344834000166 INCENTIVO FI em DC MULTISETORIAL II      Japeri       \n",
              "6  13594673000169 TMJ IMA B FI RF                          Japeri       \n",
              "7  13594673000169 TMJ IMA B FI RF                          Japeri       \n",
              "8  14655180000154 FI MULTIMERCADO SCULPTOR CRÉDITO PRIVADO Belford Roxo \n",
              "9  15798354000109 FIP LSH MULTIESTRATÉGIA                  Iguaba Grande\n",
              "10 18373362000193 ÁTICO  GESTÃO EMPRESARIAL - FIP          Belford Roxo \n",
              "   tipo_ativo                                                \n",
              "1  ETF - Renda Fixa \"Referenciado\" - Art. 7º, III, b         \n",
              "2  FI Renda Fixa - Geral - Art. 7º, IV, a                    \n",
              "3  FI Renda Fixa \"Referenciado\" - Art. 7º, III, a            \n",
              "4  FI Renda Fixa - Geral - Art. 7º, IV, a                    \n",
              "5  FI em Direitos Creditórios - Cota Sênior - Art. 7º, VII, a\n",
              "6  FI Renda Fixa - Geral - Art. 7º, IV, a                    \n",
              "7  ETF - Renda Fixa \"Referenciado\" - Art. 7º, III, b         \n",
              "8  FI Multimercado - Aberto - Art. 8º, III                   \n",
              "9  FI em Participações - Art. 8º, IV, a                      \n",
              "10 FI em Participações - Art. 8º, IV, a                      "
            ],
            "text/latex": "A tibble: 10 × 4\n\\begin{tabular}{llll}\n ident\\_ativo & nm\\_ativo & ente & tipo\\_ativo\\\\\n <chr> & <chr> & <chr> & <chr>\\\\\n\\hline\n\t 12845801000137 & TOWER BRIDGE FI RF IMAB 5                & Japeri        & ETF - Renda Fixa \"Referenciado\" - Art. 7º, III, b         \\\\\n\t 12845801000137 & TOWER BRIDGE RF FI IMA-B 5               & Japeri        & FI Renda Fixa - Geral - Art. 7º, IV, a                    \\\\\n\t 12845801000137 & TOWER BRIDGE IMA-B 5 FI RENDA FIXA       & Queimados     & FI Renda Fixa \"Referenciado\" - Art. 7º, III, a            \\\\\n\t 12845801000137 & TOWER BRIDGE IMA-B 5 FI RENDA FIXA       & Queimados     & FI Renda Fixa - Geral - Art. 7º, IV, a                    \\\\\n\t 13344834000166 & INCENTIVO FI em DC MULTISETORIAL II      & Japeri        & FI em Direitos Creditórios - Cota Sênior - Art. 7º, VII, a\\\\\n\t 13594673000169 & TMJ IMA B FI RF                          & Japeri        & FI Renda Fixa - Geral - Art. 7º, IV, a                    \\\\\n\t 13594673000169 & TMJ IMA B FI RF                          & Japeri        & ETF - Renda Fixa \"Referenciado\" - Art. 7º, III, b         \\\\\n\t 14655180000154 & FI MULTIMERCADO SCULPTOR CRÉDITO PRIVADO & Belford Roxo  & FI Multimercado - Aberto - Art. 8º, III                   \\\\\n\t 15798354000109 & FIP LSH MULTIESTRATÉGIA                  & Iguaba Grande & FI em Participações - Art. 8º, IV, a                      \\\\\n\t 18373362000193 & ÁTICO  GESTÃO EMPRESARIAL - FIP          & Belford Roxo  & FI em Participações - Art. 8º, IV, a                      \\\\\n\\end{tabular}\n",
            "text/markdown": "\nA tibble: 10 × 4\n\n| ident_ativo &lt;chr&gt; | nm_ativo &lt;chr&gt; | ente &lt;chr&gt; | tipo_ativo &lt;chr&gt; |\n|---|---|---|---|\n| 12845801000137 | TOWER BRIDGE FI RF IMAB 5                | Japeri        | ETF - Renda Fixa \"Referenciado\" - Art. 7º, III, b          |\n| 12845801000137 | TOWER BRIDGE RF FI IMA-B 5               | Japeri        | FI Renda Fixa - Geral - Art. 7º, IV, a                     |\n| 12845801000137 | TOWER BRIDGE IMA-B 5 FI RENDA FIXA       | Queimados     | FI Renda Fixa \"Referenciado\" - Art. 7º, III, a             |\n| 12845801000137 | TOWER BRIDGE IMA-B 5 FI RENDA FIXA       | Queimados     | FI Renda Fixa - Geral - Art. 7º, IV, a                     |\n| 13344834000166 | INCENTIVO FI em DC MULTISETORIAL II      | Japeri        | FI em Direitos Creditórios - Cota Sênior - Art. 7º, VII, a |\n| 13594673000169 | TMJ IMA B FI RF                          | Japeri        | FI Renda Fixa - Geral - Art. 7º, IV, a                     |\n| 13594673000169 | TMJ IMA B FI RF                          | Japeri        | ETF - Renda Fixa \"Referenciado\" - Art. 7º, III, b          |\n| 14655180000154 | FI MULTIMERCADO SCULPTOR CRÉDITO PRIVADO | Belford Roxo  | FI Multimercado - Aberto - Art. 8º, III                    |\n| 15798354000109 | FIP LSH MULTIESTRATÉGIA                  | Iguaba Grande | FI em Participações - Art. 8º, IV, a                       |\n| 18373362000193 | ÁTICO  GESTÃO EMPRESARIAL - FIP          | Belford Roxo  | FI em Participações - Art. 8º, IV, a                       |\n\n",
            "text/html": [
              "<table>\n",
              "<caption>A tibble: 10 × 4</caption>\n",
              "<thead>\n",
              "\t<tr><th scope=col>ident_ativo</th><th scope=col>nm_ativo</th><th scope=col>ente</th><th scope=col>tipo_ativo</th></tr>\n",
              "\t<tr><th scope=col>&lt;chr&gt;</th><th scope=col>&lt;chr&gt;</th><th scope=col>&lt;chr&gt;</th><th scope=col>&lt;chr&gt;</th></tr>\n",
              "</thead>\n",
              "<tbody>\n",
              "\t<tr><td>12845801000137</td><td>TOWER BRIDGE FI RF IMAB 5               </td><td>Japeri       </td><td>ETF - Renda Fixa \"Referenciado\" - Art. 7º, III, b         </td></tr>\n",
              "\t<tr><td>12845801000137</td><td>TOWER BRIDGE RF FI IMA-B 5              </td><td>Japeri       </td><td>FI Renda Fixa - Geral - Art. 7º, IV, a                    </td></tr>\n",
              "\t<tr><td>12845801000137</td><td>TOWER BRIDGE IMA-B 5 FI RENDA FIXA      </td><td>Queimados    </td><td>FI Renda Fixa \"Referenciado\" - Art. 7º, III, a            </td></tr>\n",
              "\t<tr><td>12845801000137</td><td>TOWER BRIDGE IMA-B 5 FI RENDA FIXA      </td><td>Queimados    </td><td>FI Renda Fixa - Geral - Art. 7º, IV, a                    </td></tr>\n",
              "\t<tr><td>13344834000166</td><td>INCENTIVO FI em DC MULTISETORIAL II     </td><td>Japeri       </td><td>FI em Direitos Creditórios - Cota Sênior - Art. 7º, VII, a</td></tr>\n",
              "\t<tr><td>13594673000169</td><td>TMJ IMA B FI RF                         </td><td>Japeri       </td><td>FI Renda Fixa - Geral - Art. 7º, IV, a                    </td></tr>\n",
              "\t<tr><td>13594673000169</td><td>TMJ IMA B FI RF                         </td><td>Japeri       </td><td>ETF - Renda Fixa \"Referenciado\" - Art. 7º, III, b         </td></tr>\n",
              "\t<tr><td>14655180000154</td><td>FI MULTIMERCADO SCULPTOR CRÉDITO PRIVADO</td><td>Belford Roxo </td><td>FI Multimercado - Aberto - Art. 8º, III                   </td></tr>\n",
              "\t<tr><td>15798354000109</td><td>FIP LSH MULTIESTRATÉGIA                 </td><td>Iguaba Grande</td><td>FI em Participações - Art. 8º, IV, a                      </td></tr>\n",
              "\t<tr><td>18373362000193</td><td>ÁTICO  GESTÃO EMPRESARIAL - FIP         </td><td>Belford Roxo </td><td>FI em Participações - Art. 8º, IV, a                      </td></tr>\n",
              "</tbody>\n",
              "</table>\n"
            ]
          },
          "metadata": {
            "tags": []
          }
        }
      ]
    },
    {
      "cell_type": "markdown",
      "metadata": {
        "id": "5VESDCjrtK3t",
        "colab_type": "text"
      },
      "source": [
        ""
      ]
    }
  ]
}