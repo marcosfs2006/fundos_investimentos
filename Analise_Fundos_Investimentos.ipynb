{
  "nbformat": 4,
  "nbformat_minor": 0,
  "metadata": {
    "kernelspec": {
      "display_name": "R",
      "language": "R",
      "name": "ir"
    },
    "language_info": {
      "codemirror_mode": "r",
      "file_extension": ".r",
      "mimetype": "text/x-r-source",
      "name": "R",
      "pygments_lexer": "r",
      "version": "3.3.1"
    },
    "colab": {
      "name": "Analise_Fundos_Investimentos.ipynb",
      "provenance": [],
      "collapsed_sections": [],
      "include_colab_link": true
    }
  },
  "cells": [
    {
      "cell_type": "markdown",
      "metadata": {
        "id": "view-in-github",
        "colab_type": "text"
      },
      "source": [
        "<a href=\"https://colab.research.google.com/github/marcosfs2006/fundos_investimentos/blob/master/Analise_Fundos_Investimentos.ipynb\" target=\"_parent\"><img src=\"https://colab.research.google.com/assets/colab-badge.svg\" alt=\"Open In Colab\"/></a>"
      ]
    },
    {
      "cell_type": "markdown",
      "metadata": {
        "id": "zeCWjfyphbGB",
        "colab_type": "text"
      },
      "source": [
        "----\n",
        "\n",
        "# **FUNDOS DE INVESTIMENTOS**\n",
        "\n",
        "----\n",
        "Para garantir que os RPPS tenham recursos acumulados para pagar os benefícios (aposentadorias e pensões) a seus beneficiários eles possuem uma carteira de ativos, chamados de ativos garantidores, dos quais os **fundos de investimentos** são os mais expressivos. \n",
        "\n",
        "Para quem quiser saber mais sobre fundos de investimenos recomendo o documento denominado [**Fundos de Investimentos para RPPS – CVM – CADERNO 10**](http://sa.previdencia.gov.br/site/2016/08/CVM-Caderno-10semISBNparaimpressao.pdf).\n",
        "\n",
        "Neste documento utilizamos alguns conjuntos de dados. A relação de fundos de investimentos será obtida a partir da base e dados do DAIR disponibilizados pela SPrev em seu [site de dados abertos](http://www.previdencia.gov.br/dados-abertos/estatisticas-e-informacoes-dos-rpps/).\n",
        "\n",
        "Os dados disponíveis são relativos à atualização de ABR de 2020. O arquivo do DRAA importado é o seguinte:\n",
        "\n",
        "* `Carteira 2013_a_2020_Atualizacao_de_abr_2020_extração_em_18.05.20202020-05-18.csv`   \n",
        "\n",
        "Para conhecer um pouco mais sobre fundos de investimentos, consulte a página http://www.cvm.gov.br/menu/regulados/fundos/sobre.html"
      ]
    },
    {
      "cell_type": "markdown",
      "metadata": {
        "id": "DA5vI44o7eZz",
        "colab_type": "text"
      },
      "source": [
        "<br>\n",
        "<br>\n",
        "\n",
        "---\n",
        "\n",
        "# **PARTE I - CONSTRUÇÃO DE UMA BASE DADOS DE FUNDOS DE INVESTIMENTOS**\n",
        "\n",
        "---\n",
        "\n",
        "<br>"
      ]
    },
    {
      "cell_type": "markdown",
      "metadata": {
        "id": "wapouimNKz3S",
        "colab_type": "text"
      },
      "source": [
        "Nesta parte do notebook o objetivo é construir uma base de dados de fundos de investimentos nos quais existam investimentos de RPPS. A relação dos fundos será retirada da base de dados do DAIR. "
      ]
    },
    {
      "cell_type": "code",
      "metadata": {
        "id": "Cis35TLo12FS",
        "colab_type": "code",
        "colab": {}
      },
      "source": [
        "# Anexar o repositório do GitHub contendo os dados...\n",
        "system('git clone https://github.com/marcosfs2006/fundos_investimentos.git')\n",
        "setwd(\"/content/fundos_investimentos\")"
      ],
      "execution_count": 0,
      "outputs": []
    },
    {
      "cell_type": "code",
      "metadata": {
        "id": "AhpPy9_iMkSt",
        "colab_type": "code",
        "outputId": "44928486-4f5b-45e3-af07-cbb75f08cb0b",
        "colab": {
          "base_uri": "https://localhost:8080/",
          "height": 119
        }
      },
      "source": [
        "install.packages(\"plotly\")"
      ],
      "execution_count": 0,
      "outputs": [
        {
          "output_type": "stream",
          "text": [
            "Installing package into ‘/usr/local/lib/R/site-library’\n",
            "(as ‘lib’ is unspecified)\n",
            "\n",
            "also installing the dependencies ‘hexbin’, ‘data.table’\n",
            "\n",
            "\n"
          ],
          "name": "stderr"
        }
      ]
    },
    {
      "cell_type": "code",
      "metadata": {
        "id": "w069CIxReU-Q",
        "colab_type": "code",
        "outputId": "52ead018-87b7-40cb-f484-c3ba7c38b39c",
        "colab": {
          "base_uri": "https://localhost:8080/",
          "height": 340
        }
      },
      "source": [
        "# Carregar os pacotes necessários...\n",
        "options(scipen = 999, message = FALSE)\n",
        "library(readr)\n",
        "library(dplyr)\n",
        "library(ggplot2)\n",
        "library(stringr)\n",
        "library(readxl)\n",
        "library(lubridate)\n",
        "library(purrr)\n",
        "library(plotly)"
      ],
      "execution_count": 0,
      "outputs": [
        {
          "output_type": "stream",
          "text": [
            "\n",
            "Attaching package: ‘plotly’\n",
            "\n",
            "\n",
            "The following object is masked from ‘package:ggplot2’:\n",
            "\n",
            "    last_plot\n",
            "\n",
            "\n",
            "The following object is masked from ‘package:stats’:\n",
            "\n",
            "    filter\n",
            "\n",
            "\n",
            "The following object is masked from ‘package:graphics’:\n",
            "\n",
            "    layout\n",
            "\n",
            "\n"
          ],
          "name": "stderr"
        }
      ]
    },
    {
      "cell_type": "code",
      "metadata": {
        "id": "tLqNPbSbrWr1",
        "colab_type": "code",
        "outputId": "02415aee-e463-4392-bb84-61c60554c6dd",
        "colab": {
          "base_uri": "https://localhost:8080/",
          "height": 323
        }
      },
      "source": [
        "# Importar os dados do DAIR...\n",
        "\n",
        "dair  <- readRDS(\"dair_DtRef_ABR2020.Rds\") %>% \n",
        "              mutate(enquad_rpps_pad = str_extract(tipo_ativo, \"Art.*$\"),\n",
        "                     enquad_rpps_pad = toupper(gsub(\"[[:punct:]]| |º\", \"\", enquad_rpps_pad))) \n",
        "\n",
        "glimpse(dair)"
      ],
      "execution_count": 0,
      "outputs": [
        {
          "output_type": "stream",
          "text": [
            "Rows: 942,343\n",
            "Columns: 16\n",
            "$ cnpj               \u001b[3m\u001b[90m<chr>\u001b[39m\u001b[23m \"63606479000124\", \"63606479000124\", \"6360647900012…\n",
            "$ uf                 \u001b[3m\u001b[90m<chr>\u001b[39m\u001b[23m \"AC\", \"AC\", \"AC\", \"AC\", \"AC\", \"AC\", \"AC\", \"AC\", \"A…\n",
            "$ ente               \u001b[3m\u001b[90m<chr>\u001b[39m\u001b[23m \"Governo do Estado do Acre\", \"Governo do Estado do…\n",
            "$ competencia        \u001b[3m\u001b[90m<date>\u001b[39m\u001b[23m 2018-01-01, 2018-01-01, 2018-01-01, 2018-01-01, 2…\n",
            "$ segmento           \u001b[3m\u001b[90m<chr>\u001b[39m\u001b[23m \"Disponibilidades Financeiras\", \"Disponibilidades …\n",
            "$ tipo_ativo         \u001b[3m\u001b[90m<chr>\u001b[39m\u001b[23m \"Disp\", \"Disp\", \"Disp\", \"Disp\", \"FI 100% títulos T…\n",
            "$ limite_resol_cmn   \u001b[3m\u001b[90m<dbl>\u001b[39m\u001b[23m NA, NA, NA, NA, 99.99, NA, NA, 100.00, NA, NA, NA,…\n",
            "$ ident_ativo        \u001b[3m\u001b[90m<chr>\u001b[39m\u001b[23m \"2358  61786\", \"3550  83615\", \"3550  5738X\", \"3550…\n",
            "$ nm_ativo           \u001b[3m\u001b[90m<chr>\u001b[39m\u001b[23m \" 1 Banco do Brasil S.A.\", \" 1 Banco do Brasil S.A…\n",
            "$ qtd_quotas         \u001b[3m\u001b[90m<dbl>\u001b[39m\u001b[23m 1.0, 1.0, 1.0, 1.0, 252362.9, 1.0, 1.0, 8266289.1,…\n",
            "$ vlr_atual_ativo    \u001b[3m\u001b[90m<dbl>\u001b[39m\u001b[23m 0.000000, 0.000000, 14391809.910000, 0.000000, 2.3…\n",
            "$ vlr_total_atual    \u001b[3m\u001b[90m<dbl>\u001b[39m\u001b[23m 0.0, 0.0, 14391809.9, 0.0, 588068.6, 0.0, 12988.7,…\n",
            "$ perc_recursos_rpps \u001b[3m\u001b[90m<dbl>\u001b[39m\u001b[23m 0.00, 0.00, 96.07, 0.00, 3.93, 0.00, 0.06, 99.94, …\n",
            "$ pl_fundo           \u001b[3m\u001b[90m<dbl>\u001b[39m\u001b[23m NA, 0, NA, NA, 12260945819, NA, NA, 11421020246, N…\n",
            "$ perc_pl_fundo      \u001b[3m\u001b[90m<dbl>\u001b[39m\u001b[23m NA, NA, NA, NA, 0.00, NA, NA, 0.18, NA, NA, NA, NA…\n",
            "$ enquad_rpps_pad    \u001b[3m\u001b[90m<chr>\u001b[39m\u001b[23m NA, NA, NA, NA, NA, NA, NA, \"ART7IB\", NA, NA, NA, …\n"
          ],
          "name": "stdout"
        }
      ]
    },
    {
      "cell_type": "markdown",
      "metadata": {
        "id": "DLDw0HxxOoI1",
        "colab_type": "text"
      },
      "source": [
        "A base do DAIR contem todos os ativos nos quais o cada RPPS aplica seus recursos.\n",
        "\n",
        "Vamos explicitar o significado de cada variável:\n",
        "\n",
        "Variável    |  Descrição\n",
        "------------|--------------------------------------------\n",
        "`cnpj`      | CNPJ do ente federativo\n",
        "`uf`        | sigla da unidade da federação\n",
        "`ente`      | nome do ente\n",
        "`competencia`| mês e ano de competência do DAIR. o dia é sempre o dia 1o.\n",
        "`segmento` | segmento a que pertence o ativo\n",
        "`tipo_ativo`| tipo de ativo no qual o RPPS investiu\n",
        "limite_resol_cmn` | percentual máximo de seus recursos que o RPPS pode investir no tipo de ativo em referência\n",
        "`ident_ativo`     | identificação do ativo. \n",
        "`nm_ativo`        | nome do ativo\n",
        "`qtd_quotas`      | quantidade de cotas do ativo que o RPPS possui\n",
        "`vlr_atual_ativo` |valor da unitário do ativo\n",
        "`vlr_total_atual` |valor total do ativo que o RPPS possui\n",
        "`perc_recursos_rpps` |percentual dos recursos do RPPS que o ativo representa\n",
        "`pl_fundo`           |patrimônio líquido do fundo de investimento\n",
        "`perc_pl_fundo`   | percentual do património líquido do fundo que o valor investido pelo RPPS representa\n",
        "`enquad_rpps_pad` |enquadramento do fundo de investimentos realizado pelo RPPS.\n",
        "\n",
        "\n"
      ]
    },
    {
      "cell_type": "markdown",
      "metadata": {
        "id": "wM1foCDcwZsD",
        "colab_type": "text"
      },
      "source": [
        "Vamos dar uma olhada em quais segmentos os RPPS posem aplicar seus recursos:"
      ]
    },
    {
      "cell_type": "code",
      "metadata": {
        "id": "9Y56dv0Iwi4p",
        "colab_type": "code",
        "outputId": "f89f3cf9-3883-4b34-ba50-68d2fef2aa72",
        "colab": {
          "base_uri": "https://localhost:8080/",
          "height": 225
        }
      },
      "source": [
        "dair %>%\n",
        "  distinct(segmento)"
      ],
      "execution_count": 0,
      "outputs": [
        {
          "output_type": "display_data",
          "data": {
            "text/plain": [
              "  segmento                                   \n",
              "1 Disponibilidades Financeiras               \n",
              "2 Renda Fixa                                 \n",
              "3 Renda Vari?vel e Investimentos Estruturados\n",
              "4 Investimentos no Exterior                  \n",
              "5 Demais Bens, Direitos e Ativos             \n",
              "6 Imóveis                                    \n",
              "7 Aplicações Vedadas em Resolução CMN        "
            ],
            "text/latex": "A spec\\_tbl\\_df: 7 × 1\n\\begin{tabular}{l}\n segmento\\\\\n <chr>\\\\\n\\hline\n\t Disponibilidades Financeiras               \\\\\n\t Renda Fixa                                 \\\\\n\t Renda Vari?vel e Investimentos Estruturados\\\\\n\t Investimentos no Exterior                  \\\\\n\t Demais Bens, Direitos e Ativos             \\\\\n\t Imóveis                                    \\\\\n\t Aplicações Vedadas em Resolução CMN        \\\\\n\\end{tabular}\n",
            "text/markdown": "\nA spec_tbl_df: 7 × 1\n\n| segmento &lt;chr&gt; |\n|---|\n| Disponibilidades Financeiras                |\n| Renda Fixa                                  |\n| Renda Vari?vel e Investimentos Estruturados |\n| Investimentos no Exterior                   |\n| Demais Bens, Direitos e Ativos              |\n| Imóveis                                     |\n| Aplicações Vedadas em Resolução CMN         |\n\n",
            "text/html": [
              "<table>\n",
              "<caption>A spec_tbl_df: 7 × 1</caption>\n",
              "<thead>\n",
              "\t<tr><th scope=col>segmento</th></tr>\n",
              "\t<tr><th scope=col>&lt;chr&gt;</th></tr>\n",
              "</thead>\n",
              "<tbody>\n",
              "\t<tr><td>Disponibilidades Financeiras               </td></tr>\n",
              "\t<tr><td>Renda Fixa                                 </td></tr>\n",
              "\t<tr><td>Renda Vari?vel e Investimentos Estruturados</td></tr>\n",
              "\t<tr><td>Investimentos no Exterior                  </td></tr>\n",
              "\t<tr><td>Demais Bens, Direitos e Ativos             </td></tr>\n",
              "\t<tr><td>Imóveis                                    </td></tr>\n",
              "\t<tr><td>Aplicações Vedadas em Resolução CMN        </td></tr>\n",
              "</tbody>\n",
              "</table>\n"
            ]
          },
          "metadata": {
            "tags": []
          }
        }
      ]
    },
    {
      "cell_type": "markdown",
      "metadata": {
        "id": "VTfujpQLwul1",
        "colab_type": "text"
      },
      "source": [
        "Agora vamos dar uma olhada nos tipos de ativos:"
      ]
    },
    {
      "cell_type": "code",
      "metadata": {
        "id": "vWeVtiJUw3TO",
        "colab_type": "code",
        "outputId": "a808f6d3-eb81-45af-832f-951efeac3455",
        "colab": {
          "base_uri": "https://localhost:8080/",
          "height": 876
        }
      },
      "source": [
        "dair %>%\n",
        "  filter(competencia >= dmy(\"01042018\")) %>%\n",
        "  distinct(tipo_ativo)"
      ],
      "execution_count": 0,
      "outputs": [
        {
          "output_type": "display_data",
          "data": {
            "text/plain": [
              "   tipo_ativo                                                          \n",
              "1  Disp                                                                \n",
              "2  FI 100% títulos TN - Art. 7º, I, b                                  \n",
              "3  FI Multimercado - Aberto - Art. 8º, III                             \n",
              "4  FI de Ações - Índices c/ no mínimo 50 ações - Art. 8º, I, a         \n",
              "5  FI Imobiliários - Art. 8º, IV, b                                    \n",
              "6  FI Renda Fixa - Geral - Art. 7º, IV, a                              \n",
              "7  FI de Ações - Geral - Art. 8º, II, a                                \n",
              "8  FI Renda Fixa \"Crédito Privado\" - Art. 7º, VII, b                   \n",
              "9  FI Renda Fixa \"Referenciado\" - Art. 7º, III, a                      \n",
              "10 Fundo de Ações BDR Nível 1 - Art. 9º-A, III                         \n",
              "11 ETF - Índice de Ações (c/ no mínimo 50) - Art. 8º, I, b             \n",
              "12 Poupança - Art. 7º, VI, b                                           \n",
              "13 CDB - Certificado de Depósito Bancário - Art. 7º, VI, a             \n",
              "14 Títulos de Renda Fixa                                               \n",
              "15 ETF - Demais Indicadores de RF - Art. 7º, IV, b                     \n",
              "16 Títulos Públicos de emissão do TN - Art. 7º , I, a                  \n",
              "17 Valores Mobiliários                                                 \n",
              "18 Outros Bens, Direitos e Ativos                                      \n",
              "19 ETF - Renda Fixa \"Referenciado\" - Art. 7º, III, b                   \n",
              "20 FI em Participações - Art. 8º, IV, a                                \n",
              "21 FI em Direitos Creditórios - Cota Sênior - Art. 7º, VII, a          \n",
              "22 Prédio Comercial                                                    \n",
              "23 Operações compromissadas - Art. 7º , II                             \n",
              "24 Casa                                                                \n",
              "25 Terreno                                                             \n",
              "26 Apartamento                                                         \n",
              "27 Outros - Imóveis                                                    \n",
              "28 Loja                                                                \n",
              "29 ETF - Demais Índices de Ações - Art. 8º, II, b                      \n",
              "30 Prédio Residencial                                                  \n",
              "31 Fundos de Investimento não previstos em Resolução CMN               \n",
              "32 Fundo Investimento - Sufixo Investimento no Exterior - Art. 9-Aº, II\n",
              "33 ETF - 100% Títulos Públicos - Art. 7º, I, c                         \n",
              "34 FI 100% títulos TN                                                  \n",
              "35 FI em Ações                                                         \n",
              "36 FI Multimercado - Aberto                                            \n",
              "37 FI de Renda Fixa                                                    \n",
              "38 NA                                                                  "
            ],
            "text/latex": "A spec\\_tbl\\_df: 38 × 1\n\\begin{tabular}{l}\n tipo\\_ativo\\\\\n <chr>\\\\\n\\hline\n\t Disp                                                                \\\\\n\t FI 100\\% títulos TN - Art. 7º, I, b                                  \\\\\n\t FI Multimercado - Aberto - Art. 8º, III                             \\\\\n\t FI de Ações - Índices c/ no mínimo 50 ações - Art. 8º, I, a         \\\\\n\t FI Imobiliários - Art. 8º, IV, b                                    \\\\\n\t FI Renda Fixa - Geral - Art. 7º, IV, a                              \\\\\n\t FI de Ações - Geral - Art. 8º, II, a                                \\\\\n\t FI Renda Fixa \"Crédito Privado\" - Art. 7º, VII, b                   \\\\\n\t FI Renda Fixa \"Referenciado\" - Art. 7º, III, a                      \\\\\n\t Fundo de Ações BDR Nível 1 - Art. 9º-A, III                         \\\\\n\t ETF - Índice de Ações (c/ no mínimo 50) - Art. 8º, I, b             \\\\\n\t Poupança - Art. 7º, VI, b                                           \\\\\n\t CDB - Certificado de Depósito Bancário - Art. 7º, VI, a             \\\\\n\t Títulos de Renda Fixa                                               \\\\\n\t ETF - Demais Indicadores de RF - Art. 7º, IV, b                     \\\\\n\t Títulos Públicos de emissão do TN - Art. 7º , I, a                  \\\\\n\t Valores Mobiliários                                                 \\\\\n\t Outros Bens, Direitos e Ativos                                      \\\\\n\t ETF - Renda Fixa \"Referenciado\" - Art. 7º, III, b                   \\\\\n\t FI em Participações - Art. 8º, IV, a                                \\\\\n\t FI em Direitos Creditórios - Cota Sênior - Art. 7º, VII, a          \\\\\n\t Prédio Comercial                                                    \\\\\n\t Operações compromissadas - Art. 7º , II                             \\\\\n\t Casa                                                                \\\\\n\t Terreno                                                             \\\\\n\t Apartamento                                                         \\\\\n\t Outros - Imóveis                                                    \\\\\n\t Loja                                                                \\\\\n\t ETF - Demais Índices de Ações - Art. 8º, II, b                      \\\\\n\t Prédio Residencial                                                  \\\\\n\t Fundos de Investimento não previstos em Resolução CMN               \\\\\n\t Fundo Investimento - Sufixo Investimento no Exterior - Art. 9-Aº, II\\\\\n\t ETF - 100\\% Títulos Públicos - Art. 7º, I, c                         \\\\\n\t FI 100\\% títulos TN                                                  \\\\\n\t FI em Ações                                                         \\\\\n\t FI Multimercado - Aberto                                            \\\\\n\t FI de Renda Fixa                                                    \\\\\n\t NA                                                                  \\\\\n\\end{tabular}\n",
            "text/markdown": "\nA spec_tbl_df: 38 × 1\n\n| tipo_ativo &lt;chr&gt; |\n|---|\n| Disp                                                                 |\n| FI 100% títulos TN - Art. 7º, I, b                                   |\n| FI Multimercado - Aberto - Art. 8º, III                              |\n| FI de Ações - Índices c/ no mínimo 50 ações - Art. 8º, I, a          |\n| FI Imobiliários - Art. 8º, IV, b                                     |\n| FI Renda Fixa - Geral - Art. 7º, IV, a                               |\n| FI de Ações - Geral - Art. 8º, II, a                                 |\n| FI Renda Fixa \"Crédito Privado\" - Art. 7º, VII, b                    |\n| FI Renda Fixa \"Referenciado\" - Art. 7º, III, a                       |\n| Fundo de Ações BDR Nível 1 - Art. 9º-A, III                          |\n| ETF - Índice de Ações (c/ no mínimo 50) - Art. 8º, I, b              |\n| Poupança - Art. 7º, VI, b                                            |\n| CDB - Certificado de Depósito Bancário - Art. 7º, VI, a              |\n| Títulos de Renda Fixa                                                |\n| ETF - Demais Indicadores de RF - Art. 7º, IV, b                      |\n| Títulos Públicos de emissão do TN - Art. 7º , I, a                   |\n| Valores Mobiliários                                                  |\n| Outros Bens, Direitos e Ativos                                       |\n| ETF - Renda Fixa \"Referenciado\" - Art. 7º, III, b                    |\n| FI em Participações - Art. 8º, IV, a                                 |\n| FI em Direitos Creditórios - Cota Sênior - Art. 7º, VII, a           |\n| Prédio Comercial                                                     |\n| Operações compromissadas - Art. 7º , II                              |\n| Casa                                                                 |\n| Terreno                                                              |\n| Apartamento                                                          |\n| Outros - Imóveis                                                     |\n| Loja                                                                 |\n| ETF - Demais Índices de Ações - Art. 8º, II, b                       |\n| Prédio Residencial                                                   |\n| Fundos de Investimento não previstos em Resolução CMN                |\n| Fundo Investimento - Sufixo Investimento no Exterior - Art. 9-Aº, II |\n| ETF - 100% Títulos Públicos - Art. 7º, I, c                          |\n| FI 100% títulos TN                                                   |\n| FI em Ações                                                          |\n| FI Multimercado - Aberto                                             |\n| FI de Renda Fixa                                                     |\n| NA                                                                   |\n\n",
            "text/html": [
              "<table>\n",
              "<caption>A spec_tbl_df: 38 × 1</caption>\n",
              "<thead>\n",
              "\t<tr><th scope=col>tipo_ativo</th></tr>\n",
              "\t<tr><th scope=col>&lt;chr&gt;</th></tr>\n",
              "</thead>\n",
              "<tbody>\n",
              "\t<tr><td>Disp                                                                </td></tr>\n",
              "\t<tr><td>FI 100% títulos TN - Art. 7º, I, b                                  </td></tr>\n",
              "\t<tr><td>FI Multimercado - Aberto - Art. 8º, III                             </td></tr>\n",
              "\t<tr><td>FI de Ações - Índices c/ no mínimo 50 ações - Art. 8º, I, a         </td></tr>\n",
              "\t<tr><td>FI Imobiliários - Art. 8º, IV, b                                    </td></tr>\n",
              "\t<tr><td>FI Renda Fixa - Geral - Art. 7º, IV, a                              </td></tr>\n",
              "\t<tr><td>FI de Ações - Geral - Art. 8º, II, a                                </td></tr>\n",
              "\t<tr><td>FI Renda Fixa \"Crédito Privado\" - Art. 7º, VII, b                   </td></tr>\n",
              "\t<tr><td>FI Renda Fixa \"Referenciado\" - Art. 7º, III, a                      </td></tr>\n",
              "\t<tr><td>Fundo de Ações BDR Nível 1 - Art. 9º-A, III                         </td></tr>\n",
              "\t<tr><td>ETF - Índice de Ações (c/ no mínimo 50) - Art. 8º, I, b             </td></tr>\n",
              "\t<tr><td>Poupança - Art. 7º, VI, b                                           </td></tr>\n",
              "\t<tr><td>CDB - Certificado de Depósito Bancário - Art. 7º, VI, a             </td></tr>\n",
              "\t<tr><td>Títulos de Renda Fixa                                               </td></tr>\n",
              "\t<tr><td>ETF - Demais Indicadores de RF - Art. 7º, IV, b                     </td></tr>\n",
              "\t<tr><td>Títulos Públicos de emissão do TN - Art. 7º , I, a                  </td></tr>\n",
              "\t<tr><td>Valores Mobiliários                                                 </td></tr>\n",
              "\t<tr><td>Outros Bens, Direitos e Ativos                                      </td></tr>\n",
              "\t<tr><td>ETF - Renda Fixa \"Referenciado\" - Art. 7º, III, b                   </td></tr>\n",
              "\t<tr><td>FI em Participações - Art. 8º, IV, a                                </td></tr>\n",
              "\t<tr><td>FI em Direitos Creditórios - Cota Sênior - Art. 7º, VII, a          </td></tr>\n",
              "\t<tr><td>Prédio Comercial                                                    </td></tr>\n",
              "\t<tr><td>Operações compromissadas - Art. 7º , II                             </td></tr>\n",
              "\t<tr><td>Casa                                                                </td></tr>\n",
              "\t<tr><td>Terreno                                                             </td></tr>\n",
              "\t<tr><td>Apartamento                                                         </td></tr>\n",
              "\t<tr><td>Outros - Imóveis                                                    </td></tr>\n",
              "\t<tr><td>Loja                                                                </td></tr>\n",
              "\t<tr><td>ETF - Demais Índices de Ações - Art. 8º, II, b                      </td></tr>\n",
              "\t<tr><td>Prédio Residencial                                                  </td></tr>\n",
              "\t<tr><td>Fundos de Investimento não previstos em Resolução CMN               </td></tr>\n",
              "\t<tr><td>Fundo Investimento - Sufixo Investimento no Exterior - Art. 9-Aº, II</td></tr>\n",
              "\t<tr><td>ETF - 100% Títulos Públicos - Art. 7º, I, c                         </td></tr>\n",
              "\t<tr><td>FI 100% títulos TN                                                  </td></tr>\n",
              "\t<tr><td>FI em Ações                                                         </td></tr>\n",
              "\t<tr><td>FI Multimercado - Aberto                                            </td></tr>\n",
              "\t<tr><td>FI de Renda Fixa                                                    </td></tr>\n",
              "\t<tr><td>NA                                                                  </td></tr>\n",
              "</tbody>\n",
              "</table>\n"
            ]
          },
          "metadata": {
            "tags": []
          }
        }
      ]
    },
    {
      "cell_type": "markdown",
      "metadata": {
        "id": "dHswb9O0U8qt",
        "colab_type": "text"
      },
      "source": [
        "### **Base de Fundos de Investimentos**\n",
        "\n",
        "Para o nosso estudo, apenas os fundos de investimento são de interesse. Os demais ativos nos quais o RPPS possui recursos aplicados não serão utilizados.\n",
        "\n",
        " No código a seguir vamos aplicar um filtro a essa base de dados de forma a só ficarmos com os fundos de investimentos."
      ]
    },
    {
      "cell_type": "code",
      "metadata": {
        "id": "kG7OFgi8NjCw",
        "colab_type": "code",
        "outputId": "407a5ff8-794e-40f2-d6cc-765dd25531e3",
        "colab": {
          "base_uri": "https://localhost:8080/",
          "height": 323
        }
      },
      "source": [
        "# filtrar a base para pegar apenas os registros cujos ativos sejam fundos de investimentos\n",
        "dair_fundos <- dair %>% \n",
        "              filter(competencia >= as.Date(\"2018-04-01\"),  # Pega dados posteriores a Abr/2018\n",
        "                     grepl(\"\\\\d{14}\", ident_ativo))         # Pega só fundos\n",
        "\n",
        "glimpse(dair_fundos)"
      ],
      "execution_count": 0,
      "outputs": [
        {
          "output_type": "stream",
          "text": [
            "Rows: 569,428\n",
            "Columns: 16\n",
            "$ cnpj               \u001b[3m\u001b[90m<chr>\u001b[39m\u001b[23m \"63606479000124\", \"63606479000124\", \"6360647900012…\n",
            "$ uf                 \u001b[3m\u001b[90m<chr>\u001b[39m\u001b[23m \"AC\", \"AC\", \"AC\", \"AC\", \"AC\", \"AC\", \"AC\", \"AC\", \"A…\n",
            "$ ente               \u001b[3m\u001b[90m<chr>\u001b[39m\u001b[23m \"Governo do Estado do Acre\", \"Governo do Estado do…\n",
            "$ competencia        \u001b[3m\u001b[90m<date>\u001b[39m\u001b[23m 2019-01-01, 2020-01-01, 2020-01-01, 2019-02-01, 2…\n",
            "$ segmento           \u001b[3m\u001b[90m<chr>\u001b[39m\u001b[23m \"Renda Fixa\", \"Renda Fixa\", \"Renda Fixa\", \"Renda F…\n",
            "$ tipo_ativo         \u001b[3m\u001b[90m<chr>\u001b[39m\u001b[23m \"FI 100% títulos TN - Art. 7º, I, b\", \"FI 100% tít…\n",
            "$ limite_resol_cmn   \u001b[3m\u001b[90m<dbl>\u001b[39m\u001b[23m 100, 100, 100, 100, 100, 100, 100, 100, 100, 100, …\n",
            "$ ident_ativo        \u001b[3m\u001b[90m<chr>\u001b[39m\u001b[23m \"11328882000135\", \"11328882000135\", \"1307741500010…\n",
            "$ nm_ativo           \u001b[3m\u001b[90m<chr>\u001b[39m\u001b[23m \" BB PREVIDENCIÁRIO RENDA FIXA IRF M1\", \" BB PREVI…\n",
            "$ qtd_quotas         \u001b[3m\u001b[90m<dbl>\u001b[39m\u001b[23m 8266289.1, 8266289.1, 5708220.8, 8266289.1, 216786…\n",
            "$ vlr_atual_ativo    \u001b[3m\u001b[90m<dbl>\u001b[39m\u001b[23m 2.487444, NA, 2.086017, 0.000000, 2.001452, NA, 2.…\n",
            "$ vlr_total_atual    \u001b[3m\u001b[90m<dbl>\u001b[39m\u001b[23m 20561933.1, NA, 11907446.2, 0.0, 4338885.0, NA, 14…\n",
            "$ perc_recursos_rpps \u001b[3m\u001b[90m<dbl>\u001b[39m\u001b[23m 99.94, NA, 100.00, 0.00, 100.00, NA, 100.00, NA, 1…\n",
            "$ pl_fundo           \u001b[3m\u001b[90m<dbl>\u001b[39m\u001b[23m 11421020246, NA, 1500776660, 0, 1231918985, NA, 13…\n",
            "$ perc_pl_fundo      \u001b[3m\u001b[90m<dbl>\u001b[39m\u001b[23m 0.18, NA, 0.79, NA, 0.35, NA, 1.09, NA, 0.05, 1.11…\n",
            "$ enquad_rpps_pad    \u001b[3m\u001b[90m<chr>\u001b[39m\u001b[23m \"ART7IB\", \"ART7IB\", \"ART7IB\", \"ART7IB\", \"ART7IB\", …\n"
          ],
          "name": "stdout"
        }
      ]
    },
    {
      "cell_type": "code",
      "metadata": {
        "id": "TI326o84AC-f",
        "colab_type": "code",
        "outputId": "55c2135a-b81f-4ef9-d0c2-b5982313d30b",
        "colab": {
          "base_uri": "https://localhost:8080/",
          "height": 399
        }
      },
      "source": [
        "head(dair_fundos, 3)"
      ],
      "execution_count": 0,
      "outputs": [
        {
          "output_type": "display_data",
          "data": {
            "text/plain": [
              "  cnpj           uf ente                      competencia segmento  \n",
              "1 63606479000124 AC Governo do Estado do Acre 2019-01-01  Renda Fixa\n",
              "2 63606479000124 AC Governo do Estado do Acre 2020-01-01  Renda Fixa\n",
              "3 63606479000124 AC Governo do Estado do Acre 2020-01-01  Renda Fixa\n",
              "  tipo_ativo                         limite_resol_cmn ident_ativo   \n",
              "1 FI 100% títulos TN - Art. 7º, I, b 100              11328882000135\n",
              "2 FI 100% títulos TN - Art. 7º, I, b 100              11328882000135\n",
              "3 FI 100% títulos TN - Art. 7º, I, b 100              13077415000105\n",
              "  nm_ativo                                                                                    \n",
              "1  BB PREVIDENCIÁRIO RENDA FIXA IRF M1                                                        \n",
              "2  BB PREVIDENCIÁRIO RENDA FIXA IRF M1                                                        \n",
              "3  BB PREVIDENCIARIO RENDA FIXA FLUXO FUNDO DE INVESTIMENTO EM COTAS DE FUNDOS DE INVESTIMENTO\n",
              "  qtd_quotas vlr_atual_ativo vlr_total_atual perc_recursos_rpps pl_fundo   \n",
              "1 8266289    2.487444        20561933         99.94             11421020246\n",
              "2 8266289          NA              NA            NA                      NA\n",
              "3 5708221    2.086017        11907446        100.00              1500776660\n",
              "  perc_pl_fundo enquad_rpps_pad\n",
              "1 0.18          ART7IB         \n",
              "2   NA          ART7IB         \n",
              "3 0.79          ART7IB         "
            ],
            "text/latex": "A tibble: 3 × 16\n\\begin{tabular}{llllllllllllllll}\n cnpj & uf & ente & competencia & segmento & tipo\\_ativo & limite\\_resol\\_cmn & ident\\_ativo & nm\\_ativo & qtd\\_quotas & vlr\\_atual\\_ativo & vlr\\_total\\_atual & perc\\_recursos\\_rpps & pl\\_fundo & perc\\_pl\\_fundo & enquad\\_rpps\\_pad\\\\\n <chr> & <chr> & <chr> & <date> & <chr> & <chr> & <dbl> & <chr> & <chr> & <dbl> & <dbl> & <dbl> & <dbl> & <dbl> & <dbl> & <chr>\\\\\n\\hline\n\t 63606479000124 & AC & Governo do Estado do Acre & 2019-01-01 & Renda Fixa & FI 100\\% títulos TN - Art. 7º, I, b & 100 & 11328882000135 &  BB PREVIDENCIÁRIO RENDA FIXA IRF M1                                                         & 8266289 & 2.487444 & 20561933 &  99.94 & 11421020246 & 0.18 & ART7IB\\\\\n\t 63606479000124 & AC & Governo do Estado do Acre & 2020-01-01 & Renda Fixa & FI 100\\% títulos TN - Art. 7º, I, b & 100 & 11328882000135 &  BB PREVIDENCIÁRIO RENDA FIXA IRF M1                                                         & 8266289 &       NA &       NA &     NA &          NA &   NA & ART7IB\\\\\n\t 63606479000124 & AC & Governo do Estado do Acre & 2020-01-01 & Renda Fixa & FI 100\\% títulos TN - Art. 7º, I, b & 100 & 13077415000105 &  BB PREVIDENCIARIO RENDA FIXA FLUXO FUNDO DE INVESTIMENTO EM COTAS DE FUNDOS DE INVESTIMENTO & 5708221 & 2.086017 & 11907446 & 100.00 &  1500776660 & 0.79 & ART7IB\\\\\n\\end{tabular}\n",
            "text/markdown": "\nA tibble: 3 × 16\n\n| cnpj &lt;chr&gt; | uf &lt;chr&gt; | ente &lt;chr&gt; | competencia &lt;date&gt; | segmento &lt;chr&gt; | tipo_ativo &lt;chr&gt; | limite_resol_cmn &lt;dbl&gt; | ident_ativo &lt;chr&gt; | nm_ativo &lt;chr&gt; | qtd_quotas &lt;dbl&gt; | vlr_atual_ativo &lt;dbl&gt; | vlr_total_atual &lt;dbl&gt; | perc_recursos_rpps &lt;dbl&gt; | pl_fundo &lt;dbl&gt; | perc_pl_fundo &lt;dbl&gt; | enquad_rpps_pad &lt;chr&gt; |\n|---|---|---|---|---|---|---|---|---|---|---|---|---|---|---|---|\n| 63606479000124 | AC | Governo do Estado do Acre | 2019-01-01 | Renda Fixa | FI 100% títulos TN - Art. 7º, I, b | 100 | 11328882000135 |  BB PREVIDENCIÁRIO RENDA FIXA IRF M1                                                         | 8266289 | 2.487444 | 20561933 |  99.94 | 11421020246 | 0.18 | ART7IB |\n| 63606479000124 | AC | Governo do Estado do Acre | 2020-01-01 | Renda Fixa | FI 100% títulos TN - Art. 7º, I, b | 100 | 11328882000135 |  BB PREVIDENCIÁRIO RENDA FIXA IRF M1                                                         | 8266289 |       NA |       NA |     NA |          NA |   NA | ART7IB |\n| 63606479000124 | AC | Governo do Estado do Acre | 2020-01-01 | Renda Fixa | FI 100% títulos TN - Art. 7º, I, b | 100 | 13077415000105 |  BB PREVIDENCIARIO RENDA FIXA FLUXO FUNDO DE INVESTIMENTO EM COTAS DE FUNDOS DE INVESTIMENTO | 5708221 | 2.086017 | 11907446 | 100.00 |  1500776660 | 0.79 | ART7IB |\n\n",
            "text/html": [
              "<table>\n",
              "<caption>A tibble: 3 × 16</caption>\n",
              "<thead>\n",
              "\t<tr><th scope=col>cnpj</th><th scope=col>uf</th><th scope=col>ente</th><th scope=col>competencia</th><th scope=col>segmento</th><th scope=col>tipo_ativo</th><th scope=col>limite_resol_cmn</th><th scope=col>ident_ativo</th><th scope=col>nm_ativo</th><th scope=col>qtd_quotas</th><th scope=col>vlr_atual_ativo</th><th scope=col>vlr_total_atual</th><th scope=col>perc_recursos_rpps</th><th scope=col>pl_fundo</th><th scope=col>perc_pl_fundo</th><th scope=col>enquad_rpps_pad</th></tr>\n",
              "\t<tr><th scope=col>&lt;chr&gt;</th><th scope=col>&lt;chr&gt;</th><th scope=col>&lt;chr&gt;</th><th scope=col>&lt;date&gt;</th><th scope=col>&lt;chr&gt;</th><th scope=col>&lt;chr&gt;</th><th scope=col>&lt;dbl&gt;</th><th scope=col>&lt;chr&gt;</th><th scope=col>&lt;chr&gt;</th><th scope=col>&lt;dbl&gt;</th><th scope=col>&lt;dbl&gt;</th><th scope=col>&lt;dbl&gt;</th><th scope=col>&lt;dbl&gt;</th><th scope=col>&lt;dbl&gt;</th><th scope=col>&lt;dbl&gt;</th><th scope=col>&lt;chr&gt;</th></tr>\n",
              "</thead>\n",
              "<tbody>\n",
              "\t<tr><td>63606479000124</td><td>AC</td><td>Governo do Estado do Acre</td><td>2019-01-01</td><td>Renda Fixa</td><td>FI 100% títulos TN - Art. 7º, I, b</td><td>100</td><td>11328882000135</td><td> BB PREVIDENCIÁRIO RENDA FIXA IRF M1                                                        </td><td>8266289</td><td>2.487444</td><td>20561933</td><td> 99.94</td><td>11421020246</td><td>0.18</td><td>ART7IB</td></tr>\n",
              "\t<tr><td>63606479000124</td><td>AC</td><td>Governo do Estado do Acre</td><td>2020-01-01</td><td>Renda Fixa</td><td>FI 100% títulos TN - Art. 7º, I, b</td><td>100</td><td>11328882000135</td><td> BB PREVIDENCIÁRIO RENDA FIXA IRF M1                                                        </td><td>8266289</td><td>      NA</td><td>      NA</td><td>    NA</td><td>         NA</td><td>  NA</td><td>ART7IB</td></tr>\n",
              "\t<tr><td>63606479000124</td><td>AC</td><td>Governo do Estado do Acre</td><td>2020-01-01</td><td>Renda Fixa</td><td>FI 100% títulos TN - Art. 7º, I, b</td><td>100</td><td>13077415000105</td><td> BB PREVIDENCIARIO RENDA FIXA FLUXO FUNDO DE INVESTIMENTO EM COTAS DE FUNDOS DE INVESTIMENTO</td><td>5708221</td><td>2.086017</td><td>11907446</td><td>100.00</td><td> 1500776660</td><td>0.79</td><td>ART7IB</td></tr>\n",
              "</tbody>\n",
              "</table>\n"
            ]
          },
          "metadata": {
            "tags": []
          }
        }
      ]
    },
    {
      "cell_type": "markdown",
      "metadata": {
        "id": "nXXJOCeSX12b",
        "colab_type": "text"
      },
      "source": [
        "### **Quantidade de RPPS investindo em cada FI**\n",
        "\n",
        "Vamos calcular quantos RPPS possuem investimentos em cada FI."
      ]
    },
    {
      "cell_type": "code",
      "metadata": {
        "id": "_hdbypqaXmPm",
        "colab_type": "code",
        "outputId": "03120f6c-a756-4174-b6fd-6662a5dd029c",
        "colab": {
          "base_uri": "https://localhost:8080/",
          "height": 288
        }
      },
      "source": [
        "# Quantos RPPS investem em cada um dos fundos de investimentos existentes na base de dados\n",
        "rpps_invest <- dair_fundos %>%\n",
        "                group_by(ident_ativo) %>%\n",
        "                distinct(cnpj) %>%\n",
        "                count() %>%\n",
        "                arrange(desc(n)) %>%\n",
        "                rename(qtd_rpps_investindo = n)\n",
        "\n",
        "head(rpps_invest, 10)"
      ],
      "execution_count": 0,
      "outputs": [
        {
          "output_type": "display_data",
          "data": {
            "text/plain": [
              "   ident_ativo    qtd_rpps_investindo\n",
              "1  10740670000106 1408               \n",
              "2  11328882000135 1280               \n",
              "3  10740658000193 1021               \n",
              "4  11060913000110  990               \n",
              "5  14386926000171  987               \n",
              "6  13322205000135  944               \n",
              "7  13077418000149  855               \n",
              "8  07111384000169  801               \n",
              "9  07442078000105  786               \n",
              "10 03737206000197  746               "
            ],
            "text/latex": "A grouped\\_df: 10 × 2\n\\begin{tabular}{ll}\n ident\\_ativo & qtd\\_rpps\\_investindo\\\\\n <chr> & <int>\\\\\n\\hline\n\t 10740670000106 & 1408\\\\\n\t 11328882000135 & 1280\\\\\n\t 10740658000193 & 1021\\\\\n\t 11060913000110 &  990\\\\\n\t 14386926000171 &  987\\\\\n\t 13322205000135 &  944\\\\\n\t 13077418000149 &  855\\\\\n\t 07111384000169 &  801\\\\\n\t 07442078000105 &  786\\\\\n\t 03737206000197 &  746\\\\\n\\end{tabular}\n",
            "text/markdown": "\nA grouped_df: 10 × 2\n\n| ident_ativo &lt;chr&gt; | qtd_rpps_investindo &lt;int&gt; |\n|---|---|\n| 10740670000106 | 1408 |\n| 11328882000135 | 1280 |\n| 10740658000193 | 1021 |\n| 11060913000110 |  990 |\n| 14386926000171 |  987 |\n| 13322205000135 |  944 |\n| 13077418000149 |  855 |\n| 07111384000169 |  801 |\n| 07442078000105 |  786 |\n| 03737206000197 |  746 |\n\n",
            "text/html": [
              "<table>\n",
              "<caption>A grouped_df: 10 × 2</caption>\n",
              "<thead>\n",
              "\t<tr><th scope=col>ident_ativo</th><th scope=col>qtd_rpps_investindo</th></tr>\n",
              "\t<tr><th scope=col>&lt;chr&gt;</th><th scope=col>&lt;int&gt;</th></tr>\n",
              "</thead>\n",
              "<tbody>\n",
              "\t<tr><td>10740670000106</td><td>1408</td></tr>\n",
              "\t<tr><td>11328882000135</td><td>1280</td></tr>\n",
              "\t<tr><td>10740658000193</td><td>1021</td></tr>\n",
              "\t<tr><td>11060913000110</td><td> 990</td></tr>\n",
              "\t<tr><td>14386926000171</td><td> 987</td></tr>\n",
              "\t<tr><td>13322205000135</td><td> 944</td></tr>\n",
              "\t<tr><td>13077418000149</td><td> 855</td></tr>\n",
              "\t<tr><td>07111384000169</td><td> 801</td></tr>\n",
              "\t<tr><td>07442078000105</td><td> 786</td></tr>\n",
              "\t<tr><td>03737206000197</td><td> 746</td></tr>\n",
              "</tbody>\n",
              "</table>\n"
            ]
          },
          "metadata": {
            "tags": []
          }
        }
      ]
    },
    {
      "cell_type": "markdown",
      "metadata": {
        "id": "6jThB4bJPL-z",
        "colab_type": "text"
      },
      "source": [
        "Essa variável será inserida posteriormente na base que estamos montando."
      ]
    },
    {
      "cell_type": "markdown",
      "metadata": {
        "id": "O3JPaO3FV3cs",
        "colab_type": "text"
      },
      "source": [
        "### **Fundos Vedados**\n",
        "\n",
        "Agora vamos importar a base de fundos vedados. Essa base de dados disponibilizada pela SPrev está com data de referência em dezembro de 2018. Infelizmente não foi atualizada desde então."
      ]
    },
    {
      "cell_type": "code",
      "metadata": {
        "id": "--jZeoupNaJF",
        "colab_type": "code",
        "outputId": "f90938e0-0fa8-4920-c96f-30d86fc173ea",
        "colab": {
          "base_uri": "https://localhost:8080/",
          "height": 255
        }
      },
      "source": [
        "# Importar base de fundos vedados\n",
        "fundos_vedados      <- readRDS(\"fundos_vedados.Rds\") \n",
        "\n",
        "names(fundos_vedados) <- c(\"cnpj_fundo\", \"nm_fundo\", \"classe1\", \"classe2\", \"tx_adm\",\n",
        "                           \"administrador\", \"gestor\", \"carencia\", \"conversao_cotas\",\n",
        "                           \"disp_rec_resgatado\", \"tx_saida\", \"motivo\")\n",
        "\n",
        "fundos_vedados <- fundos_vedados %>% \n",
        "                          mutate(cnpj_fundo = gsub(\"[[:punct:]]\", \"\", cnpj_fundo)) %>% \n",
        "                          map_df(as.character)\n",
        "\n",
        "glimpse(fundos_vedados)"
      ],
      "execution_count": 0,
      "outputs": [
        {
          "output_type": "stream",
          "text": [
            "Rows: 138\n",
            "Columns: 12\n",
            "$ cnpj_fundo         \u001b[3m\u001b[90m<chr>\u001b[39m\u001b[23m \"00828035000113\", \"01107772000190\", \"0137595400014…\n",
            "$ nm_fundo           \u001b[3m\u001b[90m<chr>\u001b[39m\u001b[23m \"FATOR MAX CORPORATIVO FUNDO DE INVESTIMENTO DE RE…\n",
            "$ classe1            \u001b[3m\u001b[90m<chr>\u001b[39m\u001b[23m \"FI\", \"FI\", \"FI\", \"FI\", \"FI\", \"FI\", \"FI\", \"FI\", \"F…\n",
            "$ classe2            \u001b[3m\u001b[90m<chr>\u001b[39m\u001b[23m \"Fundo de Renda Fixa\", \"Fundo de Renda Fixa\", \"Fun…\n",
            "$ tx_adm             \u001b[3m\u001b[90m<chr>\u001b[39m\u001b[23m \"0\", \"1\", \"2\", \"1\", \"2\", \"2\", \"2\", \"0\", \"0\", \"2\", …\n",
            "$ administrador      \u001b[3m\u001b[90m<chr>\u001b[39m\u001b[23m \"BANCO FATOR S/A\", \"CONCÓRDIA S.A. CVMCC\", \"PLANNE…\n",
            "$ gestor             \u001b[3m\u001b[90m<chr>\u001b[39m\u001b[23m \"FAR FATOR ADMINISTRAÇÃO DE RECURSOS LTDA\", \"CONCÓ…\n",
            "$ carencia           \u001b[3m\u001b[90m<chr>\u001b[39m\u001b[23m \"Não há.\", \"Não há.\", \"Não há.\", \"Não há.\", \"2 ano…\n",
            "$ conversao_cotas    \u001b[3m\u001b[90m<chr>\u001b[39m\u001b[23m \"D+0\", \"D+0\", \"D+0\", \"D+0\", \"D+0\", \"(vide regulame…\n",
            "$ disp_rec_resgatado \u001b[3m\u001b[90m<chr>\u001b[39m\u001b[23m \"D+0\", \"D+0\", \"D+0\", \"D+1\", \"D+10\", \"(vide regulam…\n",
            "$ tx_saida           \u001b[3m\u001b[90m<chr>\u001b[39m\u001b[23m \"0\", \"0\", \"0\", \"0\", \"0\", \"2\", \"0\", \"0\", \"0\", \"2\", …\n",
            "$ motivo             \u001b[3m\u001b[90m<chr>\u001b[39m\u001b[23m \"Ativo Vedado / CRI/CRA /\", \"Ativo Vedado / FIDC V…\n"
          ],
          "name": "stdout"
        }
      ]
    },
    {
      "cell_type": "code",
      "metadata": {
        "id": "O1kPKAZPPSGx",
        "colab_type": "code",
        "outputId": "838e2b03-bbdb-496b-aead-fcea26da7a97",
        "colab": {
          "base_uri": "https://localhost:8080/",
          "height": 51
        }
      },
      "source": [
        "# Motivos polos quais os fundos são considerados vedados...\n",
        "unique(trimws(unlist(str_split(fundos_vedados$motivo, \"/\"))))\n"
      ],
      "execution_count": 0,
      "outputs": [
        {
          "output_type": "display_data",
          "data": {
            "text/plain": [
              " [1] \"Ativo Vedado\"                                 \n",
              " [2] \"CRI\"                                          \n",
              " [3] \"CRA\"                                          \n",
              " [4] \"\"                                             \n",
              " [5] \"FIDC Vedado\"                                  \n",
              " [6] \"FIP Vedado\"                                   \n",
              " [7] \"FII Vedado\"                                   \n",
              " [8] \"FII - Negociação 60%\"                         \n",
              " [9] \"Investidor Profissional\"                      \n",
              "[10] \"FIDC Vedado - Classe Única\"                   \n",
              "[11] \"FIP Vedado, Investidor Profissional\"          \n",
              "[12] \"FII - Negociação 60%, Investidor Profissional\""
            ],
            "text/latex": "\\begin{enumerate*}\n\\item 'Ativo Vedado'\n\\item 'CRI'\n\\item 'CRA'\n\\item ''\n\\item 'FIDC Vedado'\n\\item 'FIP Vedado'\n\\item 'FII Vedado'\n\\item 'FII - Negociação 60\\%'\n\\item 'Investidor Profissional'\n\\item 'FIDC Vedado - Classe Única'\n\\item 'FIP Vedado, Investidor Profissional'\n\\item 'FII - Negociação 60\\%, Investidor Profissional'\n\\end{enumerate*}\n",
            "text/markdown": "1. 'Ativo Vedado'\n2. 'CRI'\n3. 'CRA'\n4. ''\n5. 'FIDC Vedado'\n6. 'FIP Vedado'\n7. 'FII Vedado'\n8. 'FII - Negociação 60%'\n9. 'Investidor Profissional'\n10. 'FIDC Vedado - Classe Única'\n11. 'FIP Vedado, Investidor Profissional'\n12. 'FII - Negociação 60%, Investidor Profissional'\n\n\n",
            "text/html": [
              "<style>\n",
              ".list-inline {list-style: none; margin:0; padding: 0}\n",
              ".list-inline>li {display: inline-block}\n",
              ".list-inline>li:not(:last-child)::after {content: \"\\00b7\"; padding: 0 .5ex}\n",
              "</style>\n",
              "<ol class=list-inline><li>'Ativo Vedado'</li><li>'CRI'</li><li>'CRA'</li><li>''</li><li>'FIDC Vedado'</li><li>'FIP Vedado'</li><li>'FII Vedado'</li><li>'FII - Negociação 60%'</li><li>'Investidor Profissional'</li><li>'FIDC Vedado - Classe Única'</li><li>'FIP Vedado, Investidor Profissional'</li><li>'FII - Negociação 60%, Investidor Profissional'</li></ol>\n"
            ]
          },
          "metadata": {
            "tags": []
          }
        }
      ]
    },
    {
      "cell_type": "markdown",
      "metadata": {
        "id": "hB84lnuOWD7e",
        "colab_type": "text"
      },
      "source": [
        "### **Enquadramento dos Fundos de Investimentos**\n",
        "\n",
        "Agora vamos importar a base de dados de enquadramento dos fundos de investimento. \n",
        "\n",
        "Essa base de dados informa qual a classificação do fundo de investimento com base na Resolução CMN 3922/10, segundo a SPrev.\n",
        "\n",
        "Muitas vezes essa classificação (feita pela SPrev) diverge da classificação realizada pelo RPPS e presente na base de dados do DAIR."
      ]
    },
    {
      "cell_type": "code",
      "metadata": {
        "id": "l9Lg102OlBmF",
        "colab_type": "code",
        "outputId": "d177fdba-bac1-46b2-91c2-be35627cf676",
        "colab": {
          "base_uri": "https://localhost:8080/",
          "height": 153
        }
      },
      "source": [
        "# Importa a base de enquadramento\n",
        "enquadramento_sprev <- readRDS(\"enquadramento_sprev_12-03-2020.Rds\") %>% \n",
        "                          mutate(cnpj = str_remove_all(cnpj, \"[[:punct:]]\"),\n",
        "                                 enquad_sprev_pad = str_replace_all(enquad_sprev, c(\"Artigo\" = \"Art\", \"Inciso\" = \"\")),\n",
        "                                 enquad_sprev_pad = toupper(gsub(\"[[:punct:]]| |º\", \"\", enquad_sprev_pad)),\n",
        "                                 cnpj_admin = str_extract(gsub(\"[[:punct:]]\", \"\", cnpj_admin),  \"^\\\\d{8}\"),\n",
        "                                 cnpj_gestor= str_extract(gsub(\"[[:punct:]]\", \"\", cnpj_gestor), \"^\\\\d{8}\"))\n",
        "\n",
        "glimpse(enquadramento_sprev)"
      ],
      "execution_count": 0,
      "outputs": [
        {
          "output_type": "stream",
          "text": [
            "Rows: 651\n",
            "Columns: 6\n",
            "$ nm_fundo         \u001b[3m\u001b[90m<chr>\u001b[39m\u001b[23m \"BB RENDA FIXA REFERENCIADO DI ÁGIL FUNDO DE INVESTI…\n",
            "$ cnpj             \u001b[3m\u001b[90m<chr>\u001b[39m\u001b[23m \"00756851000169\", \"00812433000141\", \"00822059000165\"…\n",
            "$ cnpj_admin       \u001b[3m\u001b[90m<chr>\u001b[39m\u001b[23m \"30822936\", \"62318407\", \"30822936\", \"60701190\", \"003…\n",
            "$ cnpj_gestor      \u001b[3m\u001b[90m<chr>\u001b[39m\u001b[23m \"30822936\", \"07237373\", \"30822936\", \"60701190\", \"003…\n",
            "$ enquad_sprev     \u001b[3m\u001b[90m<chr>\u001b[39m\u001b[23m \"Artigo 7º, Inciso IV, 'a'\", \"Artigo 7º, Inciso IV, …\n",
            "$ enquad_sprev_pad \u001b[3m\u001b[90m<chr>\u001b[39m\u001b[23m \"ART7IVA\", \"ART7IVA\", \"ART8IA\", \"ART7IVA\", \"ART7IVA\"…\n"
          ],
          "name": "stdout"
        }
      ]
    },
    {
      "cell_type": "code",
      "metadata": {
        "id": "njA-qEXEAuOp",
        "colab_type": "code",
        "outputId": "9c0c6e01-430b-40e8-da59-ca57c9082e32",
        "colab": {
          "base_uri": "https://localhost:8080/",
          "height": 192
        }
      },
      "source": [
        "head(enquadramento_sprev, 3)"
      ],
      "execution_count": 0,
      "outputs": [
        {
          "output_type": "display_data",
          "data": {
            "text/plain": [
              "  nm_fundo                                                                                   \n",
              "1 BB RENDA FIXA REFERENCIADO DI ÁGIL FUNDO DE INVESTIMENTO EM COTAS DE FUNDOS DE INVESTIMENTO\n",
              "2 BNB AUTOMÁTICO FUNDO DE INVESTIMENTO RENDA FIXA CURTO PRAZO                                \n",
              "3 BB AÇÕES IBOVESPA ATIVO FUNDO DE INVESTIMENTO EM COTAS DE FUNDOS DE INVESTIMENTO           \n",
              "  cnpj           cnpj_admin cnpj_gestor enquad_sprev             \n",
              "1 00756851000169 30822936   30822936    Artigo 7º, Inciso IV, 'a'\n",
              "2 00812433000141 62318407   07237373    Artigo 7º, Inciso IV, 'a'\n",
              "3 00822059000165 30822936   30822936    Artigo 8º, Inciso I, 'a' \n",
              "  enquad_sprev_pad\n",
              "1 ART7IVA         \n",
              "2 ART7IVA         \n",
              "3 ART8IA          "
            ],
            "text/latex": "A tibble: 3 × 6\n\\begin{tabular}{llllll}\n nm\\_fundo & cnpj & cnpj\\_admin & cnpj\\_gestor & enquad\\_sprev & enquad\\_sprev\\_pad\\\\\n <chr> & <chr> & <chr> & <chr> & <chr> & <chr>\\\\\n\\hline\n\t BB RENDA FIXA REFERENCIADO DI ÁGIL FUNDO DE INVESTIMENTO EM COTAS DE FUNDOS DE INVESTIMENTO & 00756851000169 & 30822936 & 30822936 & Artigo 7º, Inciso IV, 'a' & ART7IVA\\\\\n\t BNB AUTOMÁTICO FUNDO DE INVESTIMENTO RENDA FIXA CURTO PRAZO                                 & 00812433000141 & 62318407 & 07237373 & Artigo 7º, Inciso IV, 'a' & ART7IVA\\\\\n\t BB AÇÕES IBOVESPA ATIVO FUNDO DE INVESTIMENTO EM COTAS DE FUNDOS DE INVESTIMENTO            & 00822059000165 & 30822936 & 30822936 & Artigo 8º, Inciso I, 'a'  & ART8IA \\\\\n\\end{tabular}\n",
            "text/markdown": "\nA tibble: 3 × 6\n\n| nm_fundo &lt;chr&gt; | cnpj &lt;chr&gt; | cnpj_admin &lt;chr&gt; | cnpj_gestor &lt;chr&gt; | enquad_sprev &lt;chr&gt; | enquad_sprev_pad &lt;chr&gt; |\n|---|---|---|---|---|---|\n| BB RENDA FIXA REFERENCIADO DI ÁGIL FUNDO DE INVESTIMENTO EM COTAS DE FUNDOS DE INVESTIMENTO | 00756851000169 | 30822936 | 30822936 | Artigo 7º, Inciso IV, 'a' | ART7IVA |\n| BNB AUTOMÁTICO FUNDO DE INVESTIMENTO RENDA FIXA CURTO PRAZO                                 | 00812433000141 | 62318407 | 07237373 | Artigo 7º, Inciso IV, 'a' | ART7IVA |\n| BB AÇÕES IBOVESPA ATIVO FUNDO DE INVESTIMENTO EM COTAS DE FUNDOS DE INVESTIMENTO            | 00822059000165 | 30822936 | 30822936 | Artigo 8º, Inciso I, 'a'  | ART8IA  |\n\n",
            "text/html": [
              "<table>\n",
              "<caption>A tibble: 3 × 6</caption>\n",
              "<thead>\n",
              "\t<tr><th scope=col>nm_fundo</th><th scope=col>cnpj</th><th scope=col>cnpj_admin</th><th scope=col>cnpj_gestor</th><th scope=col>enquad_sprev</th><th scope=col>enquad_sprev_pad</th></tr>\n",
              "\t<tr><th scope=col>&lt;chr&gt;</th><th scope=col>&lt;chr&gt;</th><th scope=col>&lt;chr&gt;</th><th scope=col>&lt;chr&gt;</th><th scope=col>&lt;chr&gt;</th><th scope=col>&lt;chr&gt;</th></tr>\n",
              "</thead>\n",
              "<tbody>\n",
              "\t<tr><td>BB RENDA FIXA REFERENCIADO DI ÁGIL FUNDO DE INVESTIMENTO EM COTAS DE FUNDOS DE INVESTIMENTO</td><td>00756851000169</td><td>30822936</td><td>30822936</td><td>Artigo 7º, Inciso IV, 'a'</td><td>ART7IVA</td></tr>\n",
              "\t<tr><td>BNB AUTOMÁTICO FUNDO DE INVESTIMENTO RENDA FIXA CURTO PRAZO                                </td><td>00812433000141</td><td>62318407</td><td>07237373</td><td>Artigo 7º, Inciso IV, 'a'</td><td>ART7IVA</td></tr>\n",
              "\t<tr><td>BB AÇÕES IBOVESPA ATIVO FUNDO DE INVESTIMENTO EM COTAS DE FUNDOS DE INVESTIMENTO           </td><td>00822059000165</td><td>30822936</td><td>30822936</td><td>Artigo 8º, Inciso I, 'a' </td><td>ART8IA </td></tr>\n",
              "</tbody>\n",
              "</table>\n"
            ]
          },
          "metadata": {
            "tags": []
          }
        }
      ]
    },
    {
      "cell_type": "markdown",
      "metadata": {
        "id": "Wa88BPRgWkta",
        "colab_type": "text"
      },
      "source": [
        "### **Artigo 15 da Resolução CMN 3922/10**\n",
        "\n",
        "Agora vamos importar os dados das empresas autorizadas a atuar como administradoras ou gestoras de fundos de investimentos. \n",
        "\n",
        "Se um fundo de investimento tiver por administrador e gestor uma empresa fora dessa base de dados (disponibilizada pela SPrev) esse fundo de investimento não pode receber recursos dos RPPS."
      ]
    },
    {
      "cell_type": "code",
      "metadata": {
        "id": "-hiBwMj4ScKY",
        "colab_type": "code",
        "outputId": "a7ea9b69-c095-42b8-95d9-80834ffbc7ff",
        "colab": {
          "base_uri": "https://localhost:8080/",
          "height": 255
        }
      },
      "source": [
        "# Importar dados dos Administradore e gestores autorizados a gerir fundos de investimentos elegíveis aos RPPS\n",
        "\n",
        "art15 <- read_delim(\"Art15_ResolucaoCMN.txt\", delim=\"|\", trim_ws = TRUE) %>%\n",
        "              mutate(cnpj = gsub(\"[[:punct:]]\", \"\", cnpj))\n",
        "\n",
        "glimpse(art15)"
      ],
      "execution_count": 0,
      "outputs": [
        {
          "output_type": "stream",
          "text": [
            "Parsed with column specification:\n",
            "cols(\n",
            "  cnpj = \u001b[31mcol_character()\u001b[39m,\n",
            "  instituicao_financeira = \u001b[31mcol_character()\u001b[39m,\n",
            "  conglomerado = \u001b[31mcol_character()\u001b[39m,\n",
            "  pagina = \u001b[32mcol_double()\u001b[39m\n",
            ")\n",
            "\n"
          ],
          "name": "stderr"
        },
        {
          "output_type": "stream",
          "text": [
            "Rows: 43\n",
            "Columns: 4\n",
            "$ cnpj                   \u001b[3m\u001b[90m<chr>\u001b[39m\u001b[23m \"01023570\", \"01181521\", \"01522368\", \"01638542\"…\n",
            "$ instituicao_financeira \u001b[3m\u001b[90m<chr>\u001b[39m\u001b[23m \"BANCO RABOBANK INTERNATIONAL BRASIL S.A.\", \"B…\n",
            "$ conglomerado           \u001b[3m\u001b[90m<chr>\u001b[39m\u001b[23m \"BCO RABOBANK INTL BRASIL S.A.\", \"BCO COOPERAT…\n",
            "$ pagina                 \u001b[3m\u001b[90m<dbl>\u001b[39m\u001b[23m 1, 1, 1, 1, 1, 1, 1, 1, 1, 1, 1, 1, 1, 1, 1, 1…\n"
          ],
          "name": "stdout"
        }
      ]
    },
    {
      "cell_type": "code",
      "metadata": {
        "id": "uiWGgefoA1nT",
        "colab_type": "code",
        "outputId": "c8f36487-f1df-4e67-eb68-fd71df63c6a6",
        "colab": {
          "base_uri": "https://localhost:8080/",
          "height": 141
        }
      },
      "source": [
        "head(art15, 3)"
      ],
      "execution_count": 0,
      "outputs": [
        {
          "output_type": "display_data",
          "data": {
            "text/plain": [
              "  cnpj     instituicao_financeira                  \n",
              "1 01023570 BANCO RABOBANK INTERNATIONAL BRASIL S.A.\n",
              "2 01181521 BANCO COOPERATIVO SICREDI S.A.          \n",
              "3 01522368 BANCO BNP PARIBAS BRASIL S.A.           \n",
              "  conglomerado                  pagina\n",
              "1 BCO RABOBANK INTL BRASIL S.A. 1     \n",
              "2 BCO COOPERATIVO SICREDI S.A.  1     \n",
              "3 BNP PARIBAS                   1     "
            ],
            "text/latex": "A tibble: 3 × 4\n\\begin{tabular}{llll}\n cnpj & instituicao\\_financeira & conglomerado & pagina\\\\\n <chr> & <chr> & <chr> & <dbl>\\\\\n\\hline\n\t 01023570 & BANCO RABOBANK INTERNATIONAL BRASIL S.A. & BCO RABOBANK INTL BRASIL S.A. & 1\\\\\n\t 01181521 & BANCO COOPERATIVO SICREDI S.A.           & BCO COOPERATIVO SICREDI S.A.  & 1\\\\\n\t 01522368 & BANCO BNP PARIBAS BRASIL S.A.            & BNP PARIBAS                   & 1\\\\\n\\end{tabular}\n",
            "text/markdown": "\nA tibble: 3 × 4\n\n| cnpj &lt;chr&gt; | instituicao_financeira &lt;chr&gt; | conglomerado &lt;chr&gt; | pagina &lt;dbl&gt; |\n|---|---|---|---|\n| 01023570 | BANCO RABOBANK INTERNATIONAL BRASIL S.A. | BCO RABOBANK INTL BRASIL S.A. | 1 |\n| 01181521 | BANCO COOPERATIVO SICREDI S.A.           | BCO COOPERATIVO SICREDI S.A.  | 1 |\n| 01522368 | BANCO BNP PARIBAS BRASIL S.A.            | BNP PARIBAS                   | 1 |\n\n",
            "text/html": [
              "<table>\n",
              "<caption>A tibble: 3 × 4</caption>\n",
              "<thead>\n",
              "\t<tr><th scope=col>cnpj</th><th scope=col>instituicao_financeira</th><th scope=col>conglomerado</th><th scope=col>pagina</th></tr>\n",
              "\t<tr><th scope=col>&lt;chr&gt;</th><th scope=col>&lt;chr&gt;</th><th scope=col>&lt;chr&gt;</th><th scope=col>&lt;dbl&gt;</th></tr>\n",
              "</thead>\n",
              "<tbody>\n",
              "\t<tr><td>01023570</td><td>BANCO RABOBANK INTERNATIONAL BRASIL S.A.</td><td>BCO RABOBANK INTL BRASIL S.A.</td><td>1</td></tr>\n",
              "\t<tr><td>01181521</td><td>BANCO COOPERATIVO SICREDI S.A.          </td><td>BCO COOPERATIVO SICREDI S.A. </td><td>1</td></tr>\n",
              "\t<tr><td>01522368</td><td>BANCO BNP PARIBAS BRASIL S.A.           </td><td>BNP PARIBAS                  </td><td>1</td></tr>\n",
              "</tbody>\n",
              "</table>\n"
            ]
          },
          "metadata": {
            "tags": []
          }
        }
      ]
    },
    {
      "cell_type": "markdown",
      "metadata": {
        "id": "gZ4yNy4pZDpt",
        "colab_type": "text"
      },
      "source": [
        "### **Relação dos fundos sob investigação**\n",
        "\n",
        "Vamos agora importar dos dados relativos a fundos de investimento que, de alguma forma, foram objeto de investigação pela Polícia Federal ou SPrev. \n",
        "\n",
        "Esta é uma base de dados que estará sendo constantemente ampliada. "
      ]
    },
    {
      "cell_type": "code",
      "metadata": {
        "id": "KLtUrpjla1DL",
        "colab_type": "code",
        "outputId": "06c0a2a8-9cbd-4a80-f248-c7f42ced5de0",
        "colab": {
          "base_uri": "https://localhost:8080/",
          "height": 204
        }
      },
      "source": [
        "fundos_investigados <- read_excel(\"/content/fundos_investimentos/the-black-list_v3.xlsx\")\n",
        "\n",
        "head(fundos_investigados)"
      ],
      "execution_count": 0,
      "outputs": [
        {
          "output_type": "display_data",
          "data": {
            "text/plain": [
              "  cnpj_fundo         nome_fundo                           \n",
              "1 12.845.801/0001-37 TOWER BRIDGE RF FI IMA-B             \n",
              "2 15.153.656/0001-11 FI RF MONTE CARLO INSTITUCIONAL IMA-B\n",
              "3 13.651.947/0001-04 TOTEM FI RENDA FIXA                  \n",
              "4 09.315.625/0001-17 FI SECURITY REFERENCIADO DI LP CP    \n",
              "5 11.989.256/0001-90 FIDC MULTISETORIAL MASTER II         \n",
              "6 11.351.413/0001-37 CORAL FIDC MULTISETORIAL             "
            ],
            "text/latex": "A tibble: 6 × 2\n\\begin{tabular}{ll}\n cnpj\\_fundo & nome\\_fundo\\\\\n <chr> & <chr>\\\\\n\\hline\n\t 12.845.801/0001-37 & TOWER BRIDGE RF FI IMA-B             \\\\\n\t 15.153.656/0001-11 & FI RF MONTE CARLO INSTITUCIONAL IMA-B\\\\\n\t 13.651.947/0001-04 & TOTEM FI RENDA FIXA                  \\\\\n\t 09.315.625/0001-17 & FI SECURITY REFERENCIADO DI LP CP    \\\\\n\t 11.989.256/0001-90 & FIDC MULTISETORIAL MASTER II         \\\\\n\t 11.351.413/0001-37 & CORAL FIDC MULTISETORIAL             \\\\\n\\end{tabular}\n",
            "text/markdown": "\nA tibble: 6 × 2\n\n| cnpj_fundo &lt;chr&gt; | nome_fundo &lt;chr&gt; |\n|---|---|\n| 12.845.801/0001-37 | TOWER BRIDGE RF FI IMA-B              |\n| 15.153.656/0001-11 | FI RF MONTE CARLO INSTITUCIONAL IMA-B |\n| 13.651.947/0001-04 | TOTEM FI RENDA FIXA                   |\n| 09.315.625/0001-17 | FI SECURITY REFERENCIADO DI LP CP     |\n| 11.989.256/0001-90 | FIDC MULTISETORIAL MASTER II          |\n| 11.351.413/0001-37 | CORAL FIDC MULTISETORIAL              |\n\n",
            "text/html": [
              "<table>\n",
              "<caption>A tibble: 6 × 2</caption>\n",
              "<thead>\n",
              "\t<tr><th scope=col>cnpj_fundo</th><th scope=col>nome_fundo</th></tr>\n",
              "\t<tr><th scope=col>&lt;chr&gt;</th><th scope=col>&lt;chr&gt;</th></tr>\n",
              "</thead>\n",
              "<tbody>\n",
              "\t<tr><td>12.845.801/0001-37</td><td>TOWER BRIDGE RF FI IMA-B             </td></tr>\n",
              "\t<tr><td>15.153.656/0001-11</td><td>FI RF MONTE CARLO INSTITUCIONAL IMA-B</td></tr>\n",
              "\t<tr><td>13.651.947/0001-04</td><td>TOTEM FI RENDA FIXA                  </td></tr>\n",
              "\t<tr><td>09.315.625/0001-17</td><td>FI SECURITY REFERENCIADO DI LP CP    </td></tr>\n",
              "\t<tr><td>11.989.256/0001-90</td><td>FIDC MULTISETORIAL MASTER II         </td></tr>\n",
              "\t<tr><td>11.351.413/0001-37</td><td>CORAL FIDC MULTISETORIAL             </td></tr>\n",
              "</tbody>\n",
              "</table>\n"
            ]
          },
          "metadata": {
            "tags": []
          }
        }
      ]
    },
    {
      "cell_type": "markdown",
      "metadata": {
        "id": "33dYnJincjYy",
        "colab_type": "text"
      },
      "source": [
        "Agora vamos limpar um pouco a base e obter a relação dos fundos investigados.\n",
        "\n"
      ]
    },
    {
      "cell_type": "code",
      "metadata": {
        "id": "uuxNLxHMdNVb",
        "colab_type": "code",
        "colab": {}
      },
      "source": [
        "fundos_investigados <- fundos_investigados %>%\n",
        "                          mutate(cnpj_fundo = str_remove_all(cnpj_fundo, \"[[:punct:]]| \")) %>%\n",
        "                          pull(cnpj_fundo) %>%\n",
        "                          unique()"
      ],
      "execution_count": 0,
      "outputs": []
    },
    {
      "cell_type": "code",
      "metadata": {
        "id": "Ya290fqX6NIo",
        "colab_type": "code",
        "outputId": "d5b86f05-0be9-46f8-def9-2bbb66ea2f2b",
        "colab": {
          "base_uri": "https://localhost:8080/",
          "height": 102
        }
      },
      "source": [
        "fundos_investigados <- fundos_investigados[!is.na(fundos_investigados)]\n",
        "fundos_investigados"
      ],
      "execution_count": 0,
      "outputs": [
        {
          "output_type": "display_data",
          "data": {
            "text/plain": [
              " [1] \"12845801000137\" \"15153656000111\" \"13651947000104\" \"09315625000117\"\n",
              " [5] \"11989256000190\" \"11351413000137\" \"09613226000132\" \"09613232000190\"\n",
              " [9] \"07214377000192\" \"12053694000104\" \"13072136000159\" \"15769621000101\"\n",
              "[13] \"14655180000154\" \"14631148000139\" \"13555918000149\" \"11212322000110\"\n",
              "[17] \"12330846000179\" \"11902276000181\" \"10355516000102\" \"15350909000147\"\n",
              "[21] \"11675457000112\" \"13990000000128\" \"13593438000172\" \"12197527000137\"\n",
              "[25] \"15461076000191\" \"13344834000166\" \"13594673000169\" \"18373362000193\"\n",
              "[29] \"15798354000109\" \"26327862000117\" \"26326285000149\" \"26326321000174\"\n",
              "[33] \"23948236000150\" \"26326293000195\" \"26326334000143\""
            ],
            "text/latex": "\\begin{enumerate*}\n\\item '12845801000137'\n\\item '15153656000111'\n\\item '13651947000104'\n\\item '09315625000117'\n\\item '11989256000190'\n\\item '11351413000137'\n\\item '09613226000132'\n\\item '09613232000190'\n\\item '07214377000192'\n\\item '12053694000104'\n\\item '13072136000159'\n\\item '15769621000101'\n\\item '14655180000154'\n\\item '14631148000139'\n\\item '13555918000149'\n\\item '11212322000110'\n\\item '12330846000179'\n\\item '11902276000181'\n\\item '10355516000102'\n\\item '15350909000147'\n\\item '11675457000112'\n\\item '13990000000128'\n\\item '13593438000172'\n\\item '12197527000137'\n\\item '15461076000191'\n\\item '13344834000166'\n\\item '13594673000169'\n\\item '18373362000193'\n\\item '15798354000109'\n\\item '26327862000117'\n\\item '26326285000149'\n\\item '26326321000174'\n\\item '23948236000150'\n\\item '26326293000195'\n\\item '26326334000143'\n\\end{enumerate*}\n",
            "text/markdown": "1. '12845801000137'\n2. '15153656000111'\n3. '13651947000104'\n4. '09315625000117'\n5. '11989256000190'\n6. '11351413000137'\n7. '09613226000132'\n8. '09613232000190'\n9. '07214377000192'\n10. '12053694000104'\n11. '13072136000159'\n12. '15769621000101'\n13. '14655180000154'\n14. '14631148000139'\n15. '13555918000149'\n16. '11212322000110'\n17. '12330846000179'\n18. '11902276000181'\n19. '10355516000102'\n20. '15350909000147'\n21. '11675457000112'\n22. '13990000000128'\n23. '13593438000172'\n24. '12197527000137'\n25. '15461076000191'\n26. '13344834000166'\n27. '13594673000169'\n28. '18373362000193'\n29. '15798354000109'\n30. '26327862000117'\n31. '26326285000149'\n32. '26326321000174'\n33. '23948236000150'\n34. '26326293000195'\n35. '26326334000143'\n\n\n",
            "text/html": [
              "<style>\n",
              ".list-inline {list-style: none; margin:0; padding: 0}\n",
              ".list-inline>li {display: inline-block}\n",
              ".list-inline>li:not(:last-child)::after {content: \"\\00b7\"; padding: 0 .5ex}\n",
              "</style>\n",
              "<ol class=list-inline><li>'12845801000137'</li><li>'15153656000111'</li><li>'13651947000104'</li><li>'09315625000117'</li><li>'11989256000190'</li><li>'11351413000137'</li><li>'09613226000132'</li><li>'09613232000190'</li><li>'07214377000192'</li><li>'12053694000104'</li><li>'13072136000159'</li><li>'15769621000101'</li><li>'14655180000154'</li><li>'14631148000139'</li><li>'13555918000149'</li><li>'11212322000110'</li><li>'12330846000179'</li><li>'11902276000181'</li><li>'10355516000102'</li><li>'15350909000147'</li><li>'11675457000112'</li><li>'13990000000128'</li><li>'13593438000172'</li><li>'12197527000137'</li><li>'15461076000191'</li><li>'13344834000166'</li><li>'13594673000169'</li><li>'18373362000193'</li><li>'15798354000109'</li><li>'26327862000117'</li><li>'26326285000149'</li><li>'26326321000174'</li><li>'23948236000150'</li><li>'26326293000195'</li><li>'26326334000143'</li></ol>\n"
            ]
          },
          "metadata": {
            "tags": []
          }
        }
      ]
    },
    {
      "cell_type": "markdown",
      "metadata": {
        "id": "LrDkE7vRn0fK",
        "colab_type": "text"
      },
      "source": [
        "### **Início da Construção da Base de Dados de Fundos de Investimentos**\n",
        "\n",
        "Importados os dados, vamos agora à relação dos fundos de investimentos nos quais os RPPS mantém recursos aplicados. \n",
        "\n",
        "A relação será criada considerando os fundos de investimentos existentes na carteira dos RPPS no mês mais recente disponível na base de dados do DAIR.\n",
        "\n",
        " É importante frisar que nem todos os RPPS encaminham o DAIR à SPrev e, portanto, não estão na base de dados. "
      ]
    },
    {
      "cell_type": "code",
      "metadata": {
        "id": "MXaONgb1N4vX",
        "colab_type": "code",
        "colab": {}
      },
      "source": [
        "# Obter a relação de Fundos de Investimentos nos quais os RPPS investem seus recursos\n",
        "relacao_fundos <- dair_fundos %>%\n",
        "                      group_by(cnpj) %>%\n",
        "                      filter(competencia == max(competencia)) %>%\n",
        "                      ungroup() %>% \n",
        "                      distinct(ident_ativo, .keep_all = TRUE) %>%\n",
        "                      arrange(ident_ativo) %>%\n",
        "                      select(ident_ativo, nm_ativo)"
      ],
      "execution_count": 0,
      "outputs": []
    },
    {
      "cell_type": "code",
      "metadata": {
        "id": "LFotsxuUv69D",
        "colab_type": "code",
        "outputId": "e32aa896-fe8f-49bf-ad21-a9bf9ad4b622",
        "colab": {
          "base_uri": "https://localhost:8080/",
          "height": 85
        }
      },
      "source": [
        "glimpse(relacao_fundos)"
      ],
      "execution_count": 0,
      "outputs": [
        {
          "output_type": "stream",
          "text": [
            "Rows: 650\n",
            "Columns: 2\n",
            "$ ident_ativo \u001b[3m\u001b[90m<chr>\u001b[39m\u001b[23m \"00071477000168\", \"00360305000104\", \"00756851000169\", \"00…\n",
            "$ nm_ativo    \u001b[3m\u001b[90m<chr>\u001b[39m\u001b[23m \" BB RF CP AUTOMATICO\", \" CAIXA FI BRASIL IRF-M 1 TP RF\",…\n"
          ],
          "name": "stdout"
        }
      ]
    },
    {
      "cell_type": "markdown",
      "metadata": {
        "id": "HPOwZ4H0zgUx",
        "colab_type": "text"
      },
      "source": [
        "Obtida a relação de fundos nos quais os RPPS investem seus recursos (650 fundos em ABR2020), vamos começar a adicionar a esta listagem algumas variáveis contidas nas bases de dados anteriormente importadas.\n",
        "\n",
        "A primeira, será uma indicação se o fundo está na listagem de fundos vedados ou não."
      ]
    },
    {
      "cell_type": "code",
      "metadata": {
        "id": "_cfh-qtUz1R5",
        "colab_type": "code",
        "colab": {}
      },
      "source": [
        "relacao_fundos <- relacao_fundos %>%\n",
        "                    mutate(eh_fundo_vedado = ifelse(ident_ativo %in% fundos_vedados$cnpj_fundo, 1, 0))"
      ],
      "execution_count": 0,
      "outputs": []
    },
    {
      "cell_type": "code",
      "metadata": {
        "id": "uViTO0f71MyJ",
        "colab_type": "code",
        "outputId": "bbd96acd-eca8-4af3-d59f-3f63038a6bb6",
        "colab": {
          "base_uri": "https://localhost:8080/",
          "height": 102
        }
      },
      "source": [
        "glimpse(relacao_fundos)"
      ],
      "execution_count": 0,
      "outputs": [
        {
          "output_type": "stream",
          "text": [
            "Rows: 650\n",
            "Columns: 3\n",
            "$ ident_ativo     \u001b[3m\u001b[90m<chr>\u001b[39m\u001b[23m \"00071477000168\", \"00360305000104\", \"00756851000169\",…\n",
            "$ nm_ativo        \u001b[3m\u001b[90m<chr>\u001b[39m\u001b[23m \" BB RF CP AUTOMATICO\", \" CAIXA FI BRASIL IRF-M 1 TP …\n",
            "$ eh_fundo_vedado \u001b[3m\u001b[90m<dbl>\u001b[39m\u001b[23m 0, 0, 0, 0, 0, 0, 0, 0, 0, 0, 0, 0, 0, 0, 0, 0, 0, 0,…\n"
          ],
          "name": "stdout"
        }
      ]
    },
    {
      "cell_type": "markdown",
      "metadata": {
        "id": "ZdlLl_PY1vb-",
        "colab_type": "text"
      },
      "source": [
        "Qual a proporção de fundos vedados existente na carteira dos RPPS?"
      ]
    },
    {
      "cell_type": "code",
      "metadata": {
        "id": "wV_12vBr12k4",
        "colab_type": "code",
        "outputId": "0dcbe08a-222d-47c6-ad0d-a53398cac190",
        "colab": {
          "base_uri": "https://localhost:8080/",
          "height": 171
        }
      },
      "source": [
        "relacao_fundos %>% count(eh_fundo_vedado)\n",
        "prop.table(table(relacao_fundos$eh_fundo_vedado))"
      ],
      "execution_count": 0,
      "outputs": [
        {
          "output_type": "display_data",
          "data": {
            "text/plain": [
              "  eh_fundo_vedado n  \n",
              "1 0               553\n",
              "2 1                97"
            ],
            "text/latex": "A tibble: 2 × 2\n\\begin{tabular}{ll}\n eh\\_fundo\\_vedado & n\\\\\n <dbl> & <int>\\\\\n\\hline\n\t 0 & 553\\\\\n\t 1 &  97\\\\\n\\end{tabular}\n",
            "text/markdown": "\nA tibble: 2 × 2\n\n| eh_fundo_vedado &lt;dbl&gt; | n &lt;int&gt; |\n|---|---|\n| 0 | 553 |\n| 1 |  97 |\n\n",
            "text/html": [
              "<table>\n",
              "<caption>A tibble: 2 × 2</caption>\n",
              "<thead>\n",
              "\t<tr><th scope=col>eh_fundo_vedado</th><th scope=col>n</th></tr>\n",
              "\t<tr><th scope=col>&lt;dbl&gt;</th><th scope=col>&lt;int&gt;</th></tr>\n",
              "</thead>\n",
              "<tbody>\n",
              "\t<tr><td>0</td><td>553</td></tr>\n",
              "\t<tr><td>1</td><td> 97</td></tr>\n",
              "</tbody>\n",
              "</table>\n"
            ]
          },
          "metadata": {
            "tags": []
          }
        },
        {
          "output_type": "display_data",
          "data": {
            "text/plain": [
              "\n",
              "        0         1 \n",
              "0.8507692 0.1492308 "
            ]
          },
          "metadata": {
            "tags": []
          }
        }
      ]
    },
    {
      "cell_type": "markdown",
      "metadata": {
        "id": "0NHTtp6N1I2p",
        "colab_type": "text"
      },
      "source": [
        "Aproximadamente 15% dos fundos de investimentos são vedados. Esta nos parece uma proporção bem elevada.\n",
        "\n",
        "Agora vamos juntar à relação de fundos a sua classificação (variável `enquad_sprev`) contida na base de dados `enquadramento_sprev`."
      ]
    },
    {
      "cell_type": "code",
      "metadata": {
        "id": "fydWc5k7XioZ",
        "colab_type": "code",
        "colab": {}
      },
      "source": [
        "relacao_fundos <- relacao_fundos %>%\n",
        "                      left_join(enquadramento_sprev, by = c(\"ident_ativo\" = \"cnpj\"))"
      ],
      "execution_count": 0,
      "outputs": []
    },
    {
      "cell_type": "code",
      "metadata": {
        "id": "EwCIVIjOYNDN",
        "colab_type": "code",
        "outputId": "842cc221-2cec-4cc1-eb9b-a2445fe13f84",
        "colab": {
          "base_uri": "https://localhost:8080/",
          "height": 187
        }
      },
      "source": [
        "glimpse(relacao_fundos)"
      ],
      "execution_count": 0,
      "outputs": [
        {
          "output_type": "stream",
          "text": [
            "Rows: 650\n",
            "Columns: 8\n",
            "$ ident_ativo      \u001b[3m\u001b[90m<chr>\u001b[39m\u001b[23m \"00071477000168\", \"00360305000104\", \"00756851000169\"…\n",
            "$ nm_ativo         \u001b[3m\u001b[90m<chr>\u001b[39m\u001b[23m \" BB RF CP AUTOMATICO\", \" CAIXA FI BRASIL IRF-M 1 TP…\n",
            "$ eh_fundo_vedado  \u001b[3m\u001b[90m<dbl>\u001b[39m\u001b[23m 0, 0, 0, 0, 0, 0, 0, 0, 0, 0, 0, 0, 0, 0, 0, 0, 0, 0…\n",
            "$ nm_fundo         \u001b[3m\u001b[90m<chr>\u001b[39m\u001b[23m NA, NA, \"BB RENDA FIXA REFERENCIADO DI ÁGIL FUNDO DE…\n",
            "$ cnpj_admin       \u001b[3m\u001b[90m<chr>\u001b[39m\u001b[23m NA, NA, \"30822936\", \"62318407\", \"30822936\", \"6070119…\n",
            "$ cnpj_gestor      \u001b[3m\u001b[90m<chr>\u001b[39m\u001b[23m NA, NA, \"30822936\", \"07237373\", \"30822936\", \"6070119…\n",
            "$ enquad_sprev     \u001b[3m\u001b[90m<chr>\u001b[39m\u001b[23m NA, NA, \"Artigo 7º, Inciso IV, 'a'\", \"Artigo 7º, Inc…\n",
            "$ enquad_sprev_pad \u001b[3m\u001b[90m<chr>\u001b[39m\u001b[23m NA, NA, \"ART7IVA\", \"ART7IVA\", \"ART8IA\", \"ART7IVA\", \"…\n"
          ],
          "name": "stdout"
        }
      ]
    },
    {
      "cell_type": "markdown",
      "metadata": {
        "id": "RMuEwaNA1KPJ",
        "colab_type": "text"
      },
      "source": [
        "Agora vamos criar uma coluna/variável na base para indicar se o fundo de investimento atende ao art. 15 da Resolução CMN 3922/10 ou não."
      ]
    },
    {
      "cell_type": "code",
      "metadata": {
        "id": "DjD9AJuqYeCk",
        "colab_type": "code",
        "outputId": "c48fb36a-4d10-4117-b1dd-050004629d7d",
        "colab": {
          "base_uri": "https://localhost:8080/",
          "height": 666
        }
      },
      "source": [
        "relacao_fundos <- relacao_fundos %>%\n",
        "    mutate(atende_art15 = ifelse(cnpj_admin %in% art15$cnpj | cnpj_gestor %in% art15$cnpj, 1, 0))\n",
        "                          \n",
        "head(relacao_fundos)"
      ],
      "execution_count": 0,
      "outputs": [
        {
          "output_type": "display_data",
          "data": {
            "text/plain": [
              "  ident_ativo    nm_ativo                                           \n",
              "1 00071477000168  BB RF CP AUTOMATICO                               \n",
              "2 00360305000104  CAIXA FI BRASIL IRF-M 1 TP RF                     \n",
              "3 00756851000169  BB ÁGIL FIC RENDA FIXA REFERENCIADO DI            \n",
              "4 00812433000141  BNB AUTOMÁTICO FI RENDA FIXA CURTO PRAZO          \n",
              "5 00822059000165  BB AÇÕES IBOVESPA ATIVO FIC                       \n",
              "6 00832435000100  ITAÚ INSTITUCIONAL RENDA FIXA REFERENCIADO DI - FI\n",
              "  eh_fundo_vedado\n",
              "1 0              \n",
              "2 0              \n",
              "3 0              \n",
              "4 0              \n",
              "5 0              \n",
              "6 0              \n",
              "  nm_fundo                                                                                   \n",
              "1 NA                                                                                         \n",
              "2 NA                                                                                         \n",
              "3 BB RENDA FIXA REFERENCIADO DI ÁGIL FUNDO DE INVESTIMENTO EM COTAS DE FUNDOS DE INVESTIMENTO\n",
              "4 BNB AUTOMÁTICO FUNDO DE INVESTIMENTO RENDA FIXA CURTO PRAZO                                \n",
              "5 BB AÇÕES IBOVESPA ATIVO FUNDO DE INVESTIMENTO EM COTAS DE FUNDOS DE INVESTIMENTO           \n",
              "6 ITAÚ INSTITUCIONAL RENDA FIXA REFERENCIADO DI - FUNDO DE INVESTIMENTO                      \n",
              "  cnpj_admin cnpj_gestor enquad_sprev              enquad_sprev_pad\n",
              "1 NA         NA          NA                        NA              \n",
              "2 NA         NA          NA                        NA              \n",
              "3 30822936   30822936    Artigo 7º, Inciso IV, 'a' ART7IVA         \n",
              "4 62318407   07237373    Artigo 7º, Inciso IV, 'a' ART7IVA         \n",
              "5 30822936   30822936    Artigo 8º, Inciso I, 'a'  ART8IA          \n",
              "6 60701190   60701190    Artigo 7º, Inciso IV, 'a' ART7IVA         \n",
              "  atende_art15\n",
              "1 0           \n",
              "2 0           \n",
              "3 1           \n",
              "4 1           \n",
              "5 1           \n",
              "6 1           "
            ],
            "text/latex": "A tibble: 6 × 9\n\\begin{tabular}{lllllllll}\n ident\\_ativo & nm\\_ativo & eh\\_fundo\\_vedado & nm\\_fundo & cnpj\\_admin & cnpj\\_gestor & enquad\\_sprev & enquad\\_sprev\\_pad & atende\\_art15\\\\\n <chr> & <chr> & <dbl> & <chr> & <chr> & <chr> & <chr> & <chr> & <dbl>\\\\\n\\hline\n\t 00071477000168 &  BB RF CP AUTOMATICO                                & 0 & NA                                                                                          & NA       & NA       & NA                        & NA      & 0\\\\\n\t 00360305000104 &  CAIXA FI BRASIL IRF-M 1 TP RF                      & 0 & NA                                                                                          & NA       & NA       & NA                        & NA      & 0\\\\\n\t 00756851000169 &  BB ÁGIL FIC RENDA FIXA REFERENCIADO DI             & 0 & BB RENDA FIXA REFERENCIADO DI ÁGIL FUNDO DE INVESTIMENTO EM COTAS DE FUNDOS DE INVESTIMENTO & 30822936 & 30822936 & Artigo 7º, Inciso IV, 'a' & ART7IVA & 1\\\\\n\t 00812433000141 &  BNB AUTOMÁTICO FI RENDA FIXA CURTO PRAZO           & 0 & BNB AUTOMÁTICO FUNDO DE INVESTIMENTO RENDA FIXA CURTO PRAZO                                 & 62318407 & 07237373 & Artigo 7º, Inciso IV, 'a' & ART7IVA & 1\\\\\n\t 00822059000165 &  BB AÇÕES IBOVESPA ATIVO FIC                        & 0 & BB AÇÕES IBOVESPA ATIVO FUNDO DE INVESTIMENTO EM COTAS DE FUNDOS DE INVESTIMENTO            & 30822936 & 30822936 & Artigo 8º, Inciso I, 'a'  & ART8IA  & 1\\\\\n\t 00832435000100 &  ITAÚ INSTITUCIONAL RENDA FIXA REFERENCIADO DI - FI & 0 & ITAÚ INSTITUCIONAL RENDA FIXA REFERENCIADO DI - FUNDO DE INVESTIMENTO                       & 60701190 & 60701190 & Artigo 7º, Inciso IV, 'a' & ART7IVA & 1\\\\\n\\end{tabular}\n",
            "text/markdown": "\nA tibble: 6 × 9\n\n| ident_ativo &lt;chr&gt; | nm_ativo &lt;chr&gt; | eh_fundo_vedado &lt;dbl&gt; | nm_fundo &lt;chr&gt; | cnpj_admin &lt;chr&gt; | cnpj_gestor &lt;chr&gt; | enquad_sprev &lt;chr&gt; | enquad_sprev_pad &lt;chr&gt; | atende_art15 &lt;dbl&gt; |\n|---|---|---|---|---|---|---|---|---|\n| 00071477000168 |  BB RF CP AUTOMATICO                                | 0 | NA                                                                                          | NA       | NA       | NA                        | NA      | 0 |\n| 00360305000104 |  CAIXA FI BRASIL IRF-M 1 TP RF                      | 0 | NA                                                                                          | NA       | NA       | NA                        | NA      | 0 |\n| 00756851000169 |  BB ÁGIL FIC RENDA FIXA REFERENCIADO DI             | 0 | BB RENDA FIXA REFERENCIADO DI ÁGIL FUNDO DE INVESTIMENTO EM COTAS DE FUNDOS DE INVESTIMENTO | 30822936 | 30822936 | Artigo 7º, Inciso IV, 'a' | ART7IVA | 1 |\n| 00812433000141 |  BNB AUTOMÁTICO FI RENDA FIXA CURTO PRAZO           | 0 | BNB AUTOMÁTICO FUNDO DE INVESTIMENTO RENDA FIXA CURTO PRAZO                                 | 62318407 | 07237373 | Artigo 7º, Inciso IV, 'a' | ART7IVA | 1 |\n| 00822059000165 |  BB AÇÕES IBOVESPA ATIVO FIC                        | 0 | BB AÇÕES IBOVESPA ATIVO FUNDO DE INVESTIMENTO EM COTAS DE FUNDOS DE INVESTIMENTO            | 30822936 | 30822936 | Artigo 8º, Inciso I, 'a'  | ART8IA  | 1 |\n| 00832435000100 |  ITAÚ INSTITUCIONAL RENDA FIXA REFERENCIADO DI - FI | 0 | ITAÚ INSTITUCIONAL RENDA FIXA REFERENCIADO DI - FUNDO DE INVESTIMENTO                       | 60701190 | 60701190 | Artigo 7º, Inciso IV, 'a' | ART7IVA | 1 |\n\n",
            "text/html": [
              "<table>\n",
              "<caption>A tibble: 6 × 9</caption>\n",
              "<thead>\n",
              "\t<tr><th scope=col>ident_ativo</th><th scope=col>nm_ativo</th><th scope=col>eh_fundo_vedado</th><th scope=col>nm_fundo</th><th scope=col>cnpj_admin</th><th scope=col>cnpj_gestor</th><th scope=col>enquad_sprev</th><th scope=col>enquad_sprev_pad</th><th scope=col>atende_art15</th></tr>\n",
              "\t<tr><th scope=col>&lt;chr&gt;</th><th scope=col>&lt;chr&gt;</th><th scope=col>&lt;dbl&gt;</th><th scope=col>&lt;chr&gt;</th><th scope=col>&lt;chr&gt;</th><th scope=col>&lt;chr&gt;</th><th scope=col>&lt;chr&gt;</th><th scope=col>&lt;chr&gt;</th><th scope=col>&lt;dbl&gt;</th></tr>\n",
              "</thead>\n",
              "<tbody>\n",
              "\t<tr><td>00071477000168</td><td> BB RF CP AUTOMATICO                               </td><td>0</td><td>NA                                                                                         </td><td>NA      </td><td>NA      </td><td>NA                       </td><td>NA     </td><td>0</td></tr>\n",
              "\t<tr><td>00360305000104</td><td> CAIXA FI BRASIL IRF-M 1 TP RF                     </td><td>0</td><td>NA                                                                                         </td><td>NA      </td><td>NA      </td><td>NA                       </td><td>NA     </td><td>0</td></tr>\n",
              "\t<tr><td>00756851000169</td><td> BB ÁGIL FIC RENDA FIXA REFERENCIADO DI            </td><td>0</td><td>BB RENDA FIXA REFERENCIADO DI ÁGIL FUNDO DE INVESTIMENTO EM COTAS DE FUNDOS DE INVESTIMENTO</td><td>30822936</td><td>30822936</td><td>Artigo 7º, Inciso IV, 'a'</td><td>ART7IVA</td><td>1</td></tr>\n",
              "\t<tr><td>00812433000141</td><td> BNB AUTOMÁTICO FI RENDA FIXA CURTO PRAZO          </td><td>0</td><td>BNB AUTOMÁTICO FUNDO DE INVESTIMENTO RENDA FIXA CURTO PRAZO                                </td><td>62318407</td><td>07237373</td><td>Artigo 7º, Inciso IV, 'a'</td><td>ART7IVA</td><td>1</td></tr>\n",
              "\t<tr><td>00822059000165</td><td> BB AÇÕES IBOVESPA ATIVO FIC                       </td><td>0</td><td>BB AÇÕES IBOVESPA ATIVO FUNDO DE INVESTIMENTO EM COTAS DE FUNDOS DE INVESTIMENTO           </td><td>30822936</td><td>30822936</td><td>Artigo 8º, Inciso I, 'a' </td><td>ART8IA </td><td>1</td></tr>\n",
              "\t<tr><td>00832435000100</td><td> ITAÚ INSTITUCIONAL RENDA FIXA REFERENCIADO DI - FI</td><td>0</td><td>ITAÚ INSTITUCIONAL RENDA FIXA REFERENCIADO DI - FUNDO DE INVESTIMENTO                      </td><td>60701190</td><td>60701190</td><td>Artigo 7º, Inciso IV, 'a'</td><td>ART7IVA</td><td>1</td></tr>\n",
              "</tbody>\n",
              "</table>\n"
            ]
          },
          "metadata": {
            "tags": []
          }
        }
      ]
    },
    {
      "cell_type": "markdown",
      "metadata": {
        "id": "53Cik94cAWv3",
        "colab_type": "text"
      },
      "source": [
        "Na tabela acima é preciso fazer uma correção. Se o valor do CNPJ do Administrador ou Gestor for `NA` então a variável `atende_art15` deve ser `NA` e não zero, como está. Vamos fazer a correção."
      ]
    },
    {
      "cell_type": "code",
      "metadata": {
        "id": "CeZRy_6wAvZv",
        "colab_type": "code",
        "outputId": "cca3479d-6037-4a5c-8816-76c13672f503",
        "colab": {
          "base_uri": "https://localhost:8080/",
          "height": 666
        }
      },
      "source": [
        "relacao_fundos <- relacao_fundos %>%\n",
        "                    mutate(atende_art15 = ifelse(is.na(cnpj_admin) | is.na(cnpj_gestor), NA, atende_art15))\n",
        "\n",
        "head(relacao_fundos)"
      ],
      "execution_count": 0,
      "outputs": [
        {
          "output_type": "display_data",
          "data": {
            "text/plain": [
              "  ident_ativo    nm_ativo                                           \n",
              "1 00071477000168  BB RF CP AUTOMATICO                               \n",
              "2 00360305000104  CAIXA FI BRASIL IRF-M 1 TP RF                     \n",
              "3 00756851000169  BB ÁGIL FIC RENDA FIXA REFERENCIADO DI            \n",
              "4 00812433000141  BNB AUTOMÁTICO FI RENDA FIXA CURTO PRAZO          \n",
              "5 00822059000165  BB AÇÕES IBOVESPA ATIVO FIC                       \n",
              "6 00832435000100  ITAÚ INSTITUCIONAL RENDA FIXA REFERENCIADO DI - FI\n",
              "  eh_fundo_vedado\n",
              "1 0              \n",
              "2 0              \n",
              "3 0              \n",
              "4 0              \n",
              "5 0              \n",
              "6 0              \n",
              "  nm_fundo                                                                                   \n",
              "1 NA                                                                                         \n",
              "2 NA                                                                                         \n",
              "3 BB RENDA FIXA REFERENCIADO DI ÁGIL FUNDO DE INVESTIMENTO EM COTAS DE FUNDOS DE INVESTIMENTO\n",
              "4 BNB AUTOMÁTICO FUNDO DE INVESTIMENTO RENDA FIXA CURTO PRAZO                                \n",
              "5 BB AÇÕES IBOVESPA ATIVO FUNDO DE INVESTIMENTO EM COTAS DE FUNDOS DE INVESTIMENTO           \n",
              "6 ITAÚ INSTITUCIONAL RENDA FIXA REFERENCIADO DI - FUNDO DE INVESTIMENTO                      \n",
              "  cnpj_admin cnpj_gestor enquad_sprev              enquad_sprev_pad\n",
              "1 NA         NA          NA                        NA              \n",
              "2 NA         NA          NA                        NA              \n",
              "3 30822936   30822936    Artigo 7º, Inciso IV, 'a' ART7IVA         \n",
              "4 62318407   07237373    Artigo 7º, Inciso IV, 'a' ART7IVA         \n",
              "5 30822936   30822936    Artigo 8º, Inciso I, 'a'  ART8IA          \n",
              "6 60701190   60701190    Artigo 7º, Inciso IV, 'a' ART7IVA         \n",
              "  atende_art15\n",
              "1 NA          \n",
              "2 NA          \n",
              "3  1          \n",
              "4  1          \n",
              "5  1          \n",
              "6  1          "
            ],
            "text/latex": "A tibble: 6 × 9\n\\begin{tabular}{lllllllll}\n ident\\_ativo & nm\\_ativo & eh\\_fundo\\_vedado & nm\\_fundo & cnpj\\_admin & cnpj\\_gestor & enquad\\_sprev & enquad\\_sprev\\_pad & atende\\_art15\\\\\n <chr> & <chr> & <dbl> & <chr> & <chr> & <chr> & <chr> & <chr> & <dbl>\\\\\n\\hline\n\t 00071477000168 &  BB RF CP AUTOMATICO                                & 0 & NA                                                                                          & NA       & NA       & NA                        & NA      & NA\\\\\n\t 00360305000104 &  CAIXA FI BRASIL IRF-M 1 TP RF                      & 0 & NA                                                                                          & NA       & NA       & NA                        & NA      & NA\\\\\n\t 00756851000169 &  BB ÁGIL FIC RENDA FIXA REFERENCIADO DI             & 0 & BB RENDA FIXA REFERENCIADO DI ÁGIL FUNDO DE INVESTIMENTO EM COTAS DE FUNDOS DE INVESTIMENTO & 30822936 & 30822936 & Artigo 7º, Inciso IV, 'a' & ART7IVA &  1\\\\\n\t 00812433000141 &  BNB AUTOMÁTICO FI RENDA FIXA CURTO PRAZO           & 0 & BNB AUTOMÁTICO FUNDO DE INVESTIMENTO RENDA FIXA CURTO PRAZO                                 & 62318407 & 07237373 & Artigo 7º, Inciso IV, 'a' & ART7IVA &  1\\\\\n\t 00822059000165 &  BB AÇÕES IBOVESPA ATIVO FIC                        & 0 & BB AÇÕES IBOVESPA ATIVO FUNDO DE INVESTIMENTO EM COTAS DE FUNDOS DE INVESTIMENTO            & 30822936 & 30822936 & Artigo 8º, Inciso I, 'a'  & ART8IA  &  1\\\\\n\t 00832435000100 &  ITAÚ INSTITUCIONAL RENDA FIXA REFERENCIADO DI - FI & 0 & ITAÚ INSTITUCIONAL RENDA FIXA REFERENCIADO DI - FUNDO DE INVESTIMENTO                       & 60701190 & 60701190 & Artigo 7º, Inciso IV, 'a' & ART7IVA &  1\\\\\n\\end{tabular}\n",
            "text/markdown": "\nA tibble: 6 × 9\n\n| ident_ativo &lt;chr&gt; | nm_ativo &lt;chr&gt; | eh_fundo_vedado &lt;dbl&gt; | nm_fundo &lt;chr&gt; | cnpj_admin &lt;chr&gt; | cnpj_gestor &lt;chr&gt; | enquad_sprev &lt;chr&gt; | enquad_sprev_pad &lt;chr&gt; | atende_art15 &lt;dbl&gt; |\n|---|---|---|---|---|---|---|---|---|\n| 00071477000168 |  BB RF CP AUTOMATICO                                | 0 | NA                                                                                          | NA       | NA       | NA                        | NA      | NA |\n| 00360305000104 |  CAIXA FI BRASIL IRF-M 1 TP RF                      | 0 | NA                                                                                          | NA       | NA       | NA                        | NA      | NA |\n| 00756851000169 |  BB ÁGIL FIC RENDA FIXA REFERENCIADO DI             | 0 | BB RENDA FIXA REFERENCIADO DI ÁGIL FUNDO DE INVESTIMENTO EM COTAS DE FUNDOS DE INVESTIMENTO | 30822936 | 30822936 | Artigo 7º, Inciso IV, 'a' | ART7IVA |  1 |\n| 00812433000141 |  BNB AUTOMÁTICO FI RENDA FIXA CURTO PRAZO           | 0 | BNB AUTOMÁTICO FUNDO DE INVESTIMENTO RENDA FIXA CURTO PRAZO                                 | 62318407 | 07237373 | Artigo 7º, Inciso IV, 'a' | ART7IVA |  1 |\n| 00822059000165 |  BB AÇÕES IBOVESPA ATIVO FIC                        | 0 | BB AÇÕES IBOVESPA ATIVO FUNDO DE INVESTIMENTO EM COTAS DE FUNDOS DE INVESTIMENTO            | 30822936 | 30822936 | Artigo 8º, Inciso I, 'a'  | ART8IA  |  1 |\n| 00832435000100 |  ITAÚ INSTITUCIONAL RENDA FIXA REFERENCIADO DI - FI | 0 | ITAÚ INSTITUCIONAL RENDA FIXA REFERENCIADO DI - FUNDO DE INVESTIMENTO                       | 60701190 | 60701190 | Artigo 7º, Inciso IV, 'a' | ART7IVA |  1 |\n\n",
            "text/html": [
              "<table>\n",
              "<caption>A tibble: 6 × 9</caption>\n",
              "<thead>\n",
              "\t<tr><th scope=col>ident_ativo</th><th scope=col>nm_ativo</th><th scope=col>eh_fundo_vedado</th><th scope=col>nm_fundo</th><th scope=col>cnpj_admin</th><th scope=col>cnpj_gestor</th><th scope=col>enquad_sprev</th><th scope=col>enquad_sprev_pad</th><th scope=col>atende_art15</th></tr>\n",
              "\t<tr><th scope=col>&lt;chr&gt;</th><th scope=col>&lt;chr&gt;</th><th scope=col>&lt;dbl&gt;</th><th scope=col>&lt;chr&gt;</th><th scope=col>&lt;chr&gt;</th><th scope=col>&lt;chr&gt;</th><th scope=col>&lt;chr&gt;</th><th scope=col>&lt;chr&gt;</th><th scope=col>&lt;dbl&gt;</th></tr>\n",
              "</thead>\n",
              "<tbody>\n",
              "\t<tr><td>00071477000168</td><td> BB RF CP AUTOMATICO                               </td><td>0</td><td>NA                                                                                         </td><td>NA      </td><td>NA      </td><td>NA                       </td><td>NA     </td><td>NA</td></tr>\n",
              "\t<tr><td>00360305000104</td><td> CAIXA FI BRASIL IRF-M 1 TP RF                     </td><td>0</td><td>NA                                                                                         </td><td>NA      </td><td>NA      </td><td>NA                       </td><td>NA     </td><td>NA</td></tr>\n",
              "\t<tr><td>00756851000169</td><td> BB ÁGIL FIC RENDA FIXA REFERENCIADO DI            </td><td>0</td><td>BB RENDA FIXA REFERENCIADO DI ÁGIL FUNDO DE INVESTIMENTO EM COTAS DE FUNDOS DE INVESTIMENTO</td><td>30822936</td><td>30822936</td><td>Artigo 7º, Inciso IV, 'a'</td><td>ART7IVA</td><td> 1</td></tr>\n",
              "\t<tr><td>00812433000141</td><td> BNB AUTOMÁTICO FI RENDA FIXA CURTO PRAZO          </td><td>0</td><td>BNB AUTOMÁTICO FUNDO DE INVESTIMENTO RENDA FIXA CURTO PRAZO                                </td><td>62318407</td><td>07237373</td><td>Artigo 7º, Inciso IV, 'a'</td><td>ART7IVA</td><td> 1</td></tr>\n",
              "\t<tr><td>00822059000165</td><td> BB AÇÕES IBOVESPA ATIVO FIC                       </td><td>0</td><td>BB AÇÕES IBOVESPA ATIVO FUNDO DE INVESTIMENTO EM COTAS DE FUNDOS DE INVESTIMENTO           </td><td>30822936</td><td>30822936</td><td>Artigo 8º, Inciso I, 'a' </td><td>ART8IA </td><td> 1</td></tr>\n",
              "\t<tr><td>00832435000100</td><td> ITAÚ INSTITUCIONAL RENDA FIXA REFERENCIADO DI - FI</td><td>0</td><td>ITAÚ INSTITUCIONAL RENDA FIXA REFERENCIADO DI - FUNDO DE INVESTIMENTO                      </td><td>60701190</td><td>60701190</td><td>Artigo 7º, Inciso IV, 'a'</td><td>ART7IVA</td><td> 1</td></tr>\n",
              "</tbody>\n",
              "</table>\n"
            ]
          },
          "metadata": {
            "tags": []
          }
        }
      ]
    },
    {
      "cell_type": "markdown",
      "metadata": {
        "id": "N7XDezAhfjIh",
        "colab_type": "text"
      },
      "source": [
        "# **Dados Cadastrais dos Fundos de Investimentos**\n",
        "\n",
        "Na parte anterior deste documento identificamos os fundos de investimentos nos quais os RPPS investem seus recursos e à relação obtida fomos juntando informações contidas em outras bases de dados: fundos vedados, enquadramento da SPrev, instituições que atendem ao Art. 15, par. 2o da Resolução CMN 3922/10, fundos sob investigação.  \n",
        "\n",
        "Agora vamos importar dados cadastrais dos fundos de investimentos com o objetivo de adicionar mais variáveis ao nosso conjunto de dados.\n",
        "\n",
        " Os dados estão disponíveis no [site de dados abertos da CVM](http://dados.cvm.gov.br/dataset?q=fundos+investimentos):\n",
        "\n",
        "**Fundos**: http://dados.cvm.gov.br/dataset/fi-cad    \n",
        "**Fundos Estruturados**: http://dados.cvm.gov.br/dataset/fie-cad    \n",
        "\n"
      ]
    },
    {
      "cell_type": "code",
      "metadata": {
        "id": "jXgR0fxPfkJS",
        "colab_type": "code",
        "outputId": "c4b5b161-b430-4c61-9296-f0b5e9d4af60",
        "colab": {
          "base_uri": "https://localhost:8080/",
          "height": 799
        }
      },
      "source": [
        "# Fundos\n",
        "cadastro_fi <- read_csv2(\"/content/fundos_investimentos/cad_fi.csv\",\n",
        "                       locale = locale(encoding = \"latin1\"))\n",
        "\n",
        "# Fundos Estruturados\n",
        "cadastro_fie <- read_csv2(\"/content/fundos_investimentos/cad_fie.csv\",\n",
        "                       locale = locale(encoding = \"latin1\"))"
      ],
      "execution_count": 0,
      "outputs": [
        {
          "output_type": "stream",
          "text": [
            "Using ',' as decimal and '.' as grouping mark. Use read_delim() for more control.\n",
            "\n",
            "Parsed with column specification:\n",
            "cols(\n",
            "  .default = col_character(),\n",
            "  DT_REG = \u001b[34mcol_date(format = \"\")\u001b[39m,\n",
            "  DT_CONST = \u001b[34mcol_date(format = \"\")\u001b[39m,\n",
            "  DT_CANCEL = \u001b[34mcol_date(format = \"\")\u001b[39m,\n",
            "  DT_INI_SIT = \u001b[34mcol_date(format = \"\")\u001b[39m,\n",
            "  DT_INI_ATIV = \u001b[34mcol_date(format = \"\")\u001b[39m,\n",
            "  DT_INI_EXERC = \u001b[34mcol_date(format = \"\")\u001b[39m,\n",
            "  DT_FIM_EXERC = \u001b[34mcol_date(format = \"\")\u001b[39m,\n",
            "  DT_INI_CLASSE = \u001b[34mcol_date(format = \"\")\u001b[39m,\n",
            "  TAXA_PERFM = \u001b[32mcol_double()\u001b[39m,\n",
            "  DT_PATRIM_LIQ = \u001b[34mcol_date(format = \"\")\u001b[39m\n",
            ")\n",
            "\n",
            "See spec(...) for full column specifications.\n",
            "\n",
            "Warning message:\n",
            "“73 parsing failures.\n",
            " row        col               expected actual                                       file\n",
            "2755 TAXA_PERFM no trailing characters    .2  '/content/fundos_investimentos/cad_fi.csv'\n",
            "4172 TAXA_PERFM no trailing characters    .5  '/content/fundos_investimentos/cad_fi.csv'\n",
            "4870 TAXA_PERFM no trailing characters    .05 '/content/fundos_investimentos/cad_fi.csv'\n",
            "4974 TAXA_PERFM no trailing characters    .2  '/content/fundos_investimentos/cad_fi.csv'\n",
            "5425 TAXA_PERFM no trailing characters    .2  '/content/fundos_investimentos/cad_fi.csv'\n",
            ".... .......... ...................... ...... ..........................................\n",
            "See problems(...) for more details.\n",
            "”\n",
            "Using ',' as decimal and '.' as grouping mark. Use read_delim() for more control.\n",
            "\n",
            "Parsed with column specification:\n",
            "cols(\n",
            "  TP_FUNDO = \u001b[31mcol_character()\u001b[39m,\n",
            "  CNPJ_FUNDO = \u001b[31mcol_character()\u001b[39m,\n",
            "  DENOM_SOCIAL = \u001b[31mcol_character()\u001b[39m,\n",
            "  DT_REG = \u001b[34mcol_date(format = \"\")\u001b[39m,\n",
            "  DT_CONST = \u001b[34mcol_date(format = \"\")\u001b[39m,\n",
            "  DT_CANCEL = \u001b[34mcol_date(format = \"\")\u001b[39m,\n",
            "  SIT = \u001b[31mcol_character()\u001b[39m,\n",
            "  DT_INI_SIT = \u001b[34mcol_date(format = \"\")\u001b[39m,\n",
            "  DT_INI_EXERC = \u001b[34mcol_date(format = \"\")\u001b[39m,\n",
            "  DT_FIM_EXERC = \u001b[34mcol_date(format = \"\")\u001b[39m\n",
            ")\n",
            "\n"
          ],
          "name": "stderr"
        }
      ]
    },
    {
      "cell_type": "code",
      "metadata": {
        "id": "uIjTgMsbg32y",
        "colab_type": "code",
        "outputId": "425c2b74-f0a4-407a-befe-7234d58d22cc",
        "colab": {
          "base_uri": "https://localhost:8080/",
          "height": 459
        }
      },
      "source": [
        "glimpse(cadastro_fi)"
      ],
      "execution_count": 0,
      "outputs": [
        {
          "output_type": "stream",
          "text": [
            "Rows: 36,372\n",
            "Columns: 24\n",
            "$ CNPJ_FUNDO      \u001b[3m\u001b[90m<chr>\u001b[39m\u001b[23m \"36.498.416/0001-29\", \"36.729.776/0001-94\", \"36.499.6…\n",
            "$ DENOM_SOCIAL    \u001b[3m\u001b[90m<chr>\u001b[39m\u001b[23m \"03 FUNDO DE INVESTIMENTO EM COTAS DE FUNDOS DE INVES…\n",
            "$ DT_REG          \u001b[3m\u001b[90m<date>\u001b[39m\u001b[23m 2020-04-09, 2020-04-08, 2020-04-09, 2020-04-03, 2005…\n",
            "$ DT_CONST        \u001b[3m\u001b[90m<date>\u001b[39m\u001b[23m 2020-04-09, 2020-04-08, 2020-04-09, 2020-04-02, 2001…\n",
            "$ DT_CANCEL       \u001b[3m\u001b[90m<date>\u001b[39m\u001b[23m NA, NA, NA, NA, NA, NA, NA, NA, NA, NA, NA, NA, NA, …\n",
            "$ SIT             \u001b[3m\u001b[90m<chr>\u001b[39m\u001b[23m \"EM FUNCIONAMENTO NORMAL\", \"FASE PRÉ-OPERACIONAL\", \"E…\n",
            "$ DT_INI_SIT      \u001b[3m\u001b[90m<date>\u001b[39m\u001b[23m 2020-04-27, 2020-04-08, 2020-04-27, 2020-04-02, 2005…\n",
            "$ DT_INI_ATIV     \u001b[3m\u001b[90m<date>\u001b[39m\u001b[23m 2020-04-27, NA, 2020-04-27, NA, 2001-01-19, 2019-08-…\n",
            "$ DT_INI_EXERC    \u001b[3m\u001b[90m<date>\u001b[39m\u001b[23m 2020-04-27, NA, 2020-04-27, NA, 2020-01-01, 2020-06-…\n",
            "$ DT_FIM_EXERC    \u001b[3m\u001b[90m<date>\u001b[39m\u001b[23m 2020-06-30, NA, 2020-06-30, NA, 2020-12-31, 2021-05-…\n",
            "$ CLASSE          \u001b[3m\u001b[90m<chr>\u001b[39m\u001b[23m \"Fundo Multimercado\", \"Fundo de Ações\", \"Fundo Multim…\n",
            "$ DT_INI_CLASSE   \u001b[3m\u001b[90m<date>\u001b[39m\u001b[23m 2020-04-09, 2020-04-08, 2020-04-09, 2020-04-02, 2005…\n",
            "$ RENTAB_FUNDO    \u001b[3m\u001b[90m<chr>\u001b[39m\u001b[23m NA, NA, NA, NA, \"DI de um dia\", \"DI de um dia\", NA, \"…\n",
            "$ CONDOM          \u001b[3m\u001b[90m<chr>\u001b[39m\u001b[23m \"Aberto\", \"Aberto\", \"Aberto\", \"Aberto\", \"Aberto\", \"Fe…\n",
            "$ FUNDO_COTAS     \u001b[3m\u001b[90m<chr>\u001b[39m\u001b[23m \"S\", \"N\", \"N\", \"S\", \"S\", \"N\", \"N\", \"N\", \"N\", \"S\", \"N\"…\n",
            "$ FUNDO_EXCLUSIVO \u001b[3m\u001b[90m<chr>\u001b[39m\u001b[23m \"N\", \"N\", \"N\", \"N\", \"N\", \"S\", \"N\", \"S\", \"S\", \"N\", \"N\"…\n",
            "$ TRIB_LPRAZO     \u001b[3m\u001b[90m<chr>\u001b[39m\u001b[23m \"S\", NA, \"S\", \"S\", \"S\", NA, NA, \"S\", \"S\", \"S\", NA, \"S…\n",
            "$ INVEST_QUALIF   \u001b[3m\u001b[90m<chr>\u001b[39m\u001b[23m \"N\", \"N\", \"N\", \"S\", \"S\", \"S\", \"S\", \"S\", \"S\", \"S\", \"S\"…\n",
            "$ TAXA_PERFM      \u001b[3m\u001b[90m<dbl>\u001b[39m\u001b[23m NA, 0, 0, 10, 0, 20, 0, 0, 8, 0, 0, 0, 0, 0, 0, NA, 8…\n",
            "$ INF_TAXA_PERFM  \u001b[3m\u001b[90m<chr>\u001b[39m\u001b[23m NA, NA, NA, \"O fundo cobrara 10.00 % do que exceder 1…\n",
            "$ TAXA_ADM        \u001b[3m\u001b[90m<chr>\u001b[39m\u001b[23m NA, \"0.05\", \"0.05\", \"0.1\", \"0.4\", \"0.2\", \"0.13\", \"0.4…\n",
            "$ INF_TAXA_ADM    \u001b[3m\u001b[90m<chr>\u001b[39m\u001b[23m NA, NA, NA, NA, NA, NA, NA, NA, NA, NA, NA, NA, NA, N…\n",
            "$ VL_PATRIM_LIQ   \u001b[3m\u001b[90m<chr>\u001b[39m\u001b[23m \"150294862.99\", NA, \"150179419.31\", NA, \"37190353.34\"…\n",
            "$ DT_PATRIM_LIQ   \u001b[3m\u001b[90m<date>\u001b[39m\u001b[23m 2020-05-29, NA, 2020-05-29, NA, 2020-05-29, 2020-05-…\n"
          ],
          "name": "stdout"
        }
      ]
    },
    {
      "cell_type": "code",
      "metadata": {
        "id": "3sCB67JRcWiP",
        "colab_type": "code",
        "outputId": "c5e5db62-5a8e-4161-cef1-54bee0547132",
        "colab": {
          "base_uri": "https://localhost:8080/",
          "height": 221
        }
      },
      "source": [
        "glimpse(cadastro_fie)"
      ],
      "execution_count": 0,
      "outputs": [
        {
          "output_type": "stream",
          "text": [
            "Rows: 15,582\n",
            "Columns: 10\n",
            "$ TP_FUNDO     \u001b[3m\u001b[90m<chr>\u001b[39m\u001b[23m \"F.I.I.\", \"F.I.I.\", \"F.I.I.\", \"F.I.I.\", \"F.I.I.\", \"F.I.I…\n",
            "$ CNPJ_FUNDO   \u001b[3m\u001b[90m<chr>\u001b[39m\u001b[23m \"19.878.616/0001-98\", \"19.419.994/0001-03\", \"19.213.231/…\n",
            "$ DENOM_SOCIAL \u001b[3m\u001b[90m<chr>\u001b[39m\u001b[23m \"17007 NAÇÕES FUNDO DE INVESTIMENTO IMOBILIÁRIO\", \"2509 …\n",
            "$ DT_REG       \u001b[3m\u001b[90m<date>\u001b[39m\u001b[23m 2019-12-16, 2013-12-27, 2017-12-29, 2017-12-29, 2019-09…\n",
            "$ DT_CONST     \u001b[3m\u001b[90m<date>\u001b[39m\u001b[23m 2019-12-13, 2013-12-10, 2013-10-11, 2014-10-10, 2018-10…\n",
            "$ DT_CANCEL    \u001b[3m\u001b[90m<date>\u001b[39m\u001b[23m NA, NA, NA, NA, NA, 2014-06-27, NA, NA, 2018-03-22, 200…\n",
            "$ SIT          \u001b[3m\u001b[90m<chr>\u001b[39m\u001b[23m \"EM FUNCIONAMENTO NORMAL\", \"EM FUNCIONAMENTO NORMAL\", \"E…\n",
            "$ DT_INI_SIT   \u001b[3m\u001b[90m<date>\u001b[39m\u001b[23m 2019-12-27, 2013-12-27, 2017-12-29, 2017-12-29, 2019-10…\n",
            "$ DT_INI_EXERC \u001b[3m\u001b[90m<date>\u001b[39m\u001b[23m 2020-01-01, 2020-01-01, 2020-01-01, 2020-01-01, 2020-01…\n",
            "$ DT_FIM_EXERC \u001b[3m\u001b[90m<date>\u001b[39m\u001b[23m 2020-12-31, 2020-12-31, 2020-12-31, 2020-12-31, 2020-12…\n"
          ],
          "name": "stdout"
        }
      ]
    },
    {
      "cell_type": "code",
      "metadata": {
        "id": "7XdlLaP9CJCv",
        "colab_type": "code",
        "outputId": "1a8a2b61-3841-414e-c99b-6510b84b96a7",
        "colab": {
          "base_uri": "https://localhost:8080/",
          "height": 348
        }
      },
      "source": [
        "head(cadastro_fi, 3)"
      ],
      "execution_count": 0,
      "outputs": [
        {
          "output_type": "display_data",
          "data": {
            "text/plain": [
              "  CNPJ_FUNDO        \n",
              "1 36.498.416/0001-29\n",
              "2 36.729.776/0001-94\n",
              "3 36.499.643/0001-79\n",
              "  DENOM_SOCIAL                                                            \n",
              "1 03 FUNDO DE INVESTIMENTO EM COTAS DE FUNDOS DE INVESTIMENTO MULTIMERCADO\n",
              "2 03 MASTER FUNDO DE INVESTIMENTO EM ACOES                                \n",
              "3 03 MASTER FUNDO DE INVESTIMENTO MULTIMERCADO                            \n",
              "  DT_REG     DT_CONST   DT_CANCEL SIT                     DT_INI_SIT\n",
              "1 2020-04-09 2020-04-09 <NA>      EM FUNCIONAMENTO NORMAL 2020-04-27\n",
              "2 2020-04-08 2020-04-08 <NA>      FASE PRÉ-OPERACIONAL    2020-04-08\n",
              "3 2020-04-09 2020-04-09 <NA>      EM FUNCIONAMENTO NORMAL 2020-04-27\n",
              "  DT_INI_ATIV DT_INI_EXERC DT_FIM_EXERC ⋯ FUNDO_COTAS FUNDO_EXCLUSIVO\n",
              "1 2020-04-27  2020-04-27   2020-06-30   ⋯ S           N              \n",
              "2 <NA>        <NA>         <NA>         ⋯ N           N              \n",
              "3 2020-04-27  2020-04-27   2020-06-30   ⋯ N           N              \n",
              "  TRIB_LPRAZO INVEST_QUALIF TAXA_PERFM INF_TAXA_PERFM TAXA_ADM INF_TAXA_ADM\n",
              "1 S           N             NA         NA             NA       NA          \n",
              "2 NA          N              0         NA             0.05     NA          \n",
              "3 S           N              0         NA             0.05     NA          \n",
              "  VL_PATRIM_LIQ DT_PATRIM_LIQ\n",
              "1 150294862.99  2020-05-29   \n",
              "2 NA            <NA>         \n",
              "3 150179419.31  2020-05-29   "
            ],
            "text/latex": "A tibble: 3 × 24\n\\begin{tabular}{lllllllllllllllllllll}\n CNPJ\\_FUNDO & DENOM\\_SOCIAL & DT\\_REG & DT\\_CONST & DT\\_CANCEL & SIT & DT\\_INI\\_SIT & DT\\_INI\\_ATIV & DT\\_INI\\_EXERC & DT\\_FIM\\_EXERC & ⋯ & FUNDO\\_COTAS & FUNDO\\_EXCLUSIVO & TRIB\\_LPRAZO & INVEST\\_QUALIF & TAXA\\_PERFM & INF\\_TAXA\\_PERFM & TAXA\\_ADM & INF\\_TAXA\\_ADM & VL\\_PATRIM\\_LIQ & DT\\_PATRIM\\_LIQ\\\\\n <chr> & <chr> & <date> & <date> & <date> & <chr> & <date> & <date> & <date> & <date> & ⋯ & <chr> & <chr> & <chr> & <chr> & <dbl> & <chr> & <chr> & <chr> & <chr> & <date>\\\\\n\\hline\n\t 36.498.416/0001-29 & 03 FUNDO DE INVESTIMENTO EM COTAS DE FUNDOS DE INVESTIMENTO MULTIMERCADO & 2020-04-09 & 2020-04-09 & NA & EM FUNCIONAMENTO NORMAL & 2020-04-27 & 2020-04-27 & 2020-04-27 & 2020-06-30 & ⋯ & S & N & S  & N & NA & NA & NA   & NA & 150294862.99 & 2020-05-29\\\\\n\t 36.729.776/0001-94 & 03 MASTER FUNDO DE INVESTIMENTO EM ACOES                                 & 2020-04-08 & 2020-04-08 & NA & FASE PRÉ-OPERACIONAL    & 2020-04-08 & NA & NA & NA & ⋯ & N & N & NA & N &  0 & NA & 0.05 & NA & NA           & NA\\\\\n\t 36.499.643/0001-79 & 03 MASTER FUNDO DE INVESTIMENTO MULTIMERCADO                             & 2020-04-09 & 2020-04-09 & NA & EM FUNCIONAMENTO NORMAL & 2020-04-27 & 2020-04-27 & 2020-04-27 & 2020-06-30 & ⋯ & N & N & S  & N &  0 & NA & 0.05 & NA & 150179419.31 & 2020-05-29\\\\\n\\end{tabular}\n",
            "text/markdown": "\nA tibble: 3 × 24\n\n| CNPJ_FUNDO &lt;chr&gt; | DENOM_SOCIAL &lt;chr&gt; | DT_REG &lt;date&gt; | DT_CONST &lt;date&gt; | DT_CANCEL &lt;date&gt; | SIT &lt;chr&gt; | DT_INI_SIT &lt;date&gt; | DT_INI_ATIV &lt;date&gt; | DT_INI_EXERC &lt;date&gt; | DT_FIM_EXERC &lt;date&gt; | ⋯ ⋯ | FUNDO_COTAS &lt;chr&gt; | FUNDO_EXCLUSIVO &lt;chr&gt; | TRIB_LPRAZO &lt;chr&gt; | INVEST_QUALIF &lt;chr&gt; | TAXA_PERFM &lt;dbl&gt; | INF_TAXA_PERFM &lt;chr&gt; | TAXA_ADM &lt;chr&gt; | INF_TAXA_ADM &lt;chr&gt; | VL_PATRIM_LIQ &lt;chr&gt; | DT_PATRIM_LIQ &lt;date&gt; |\n|---|---|---|---|---|---|---|---|---|---|---|---|---|---|---|---|---|---|---|---|---|\n| 36.498.416/0001-29 | 03 FUNDO DE INVESTIMENTO EM COTAS DE FUNDOS DE INVESTIMENTO MULTIMERCADO | 2020-04-09 | 2020-04-09 | NA | EM FUNCIONAMENTO NORMAL | 2020-04-27 | 2020-04-27 | 2020-04-27 | 2020-06-30 | ⋯ | S | N | S  | N | NA | NA | NA   | NA | 150294862.99 | 2020-05-29 |\n| 36.729.776/0001-94 | 03 MASTER FUNDO DE INVESTIMENTO EM ACOES                                 | 2020-04-08 | 2020-04-08 | NA | FASE PRÉ-OPERACIONAL    | 2020-04-08 | NA | NA | NA | ⋯ | N | N | NA | N |  0 | NA | 0.05 | NA | NA           | NA |\n| 36.499.643/0001-79 | 03 MASTER FUNDO DE INVESTIMENTO MULTIMERCADO                             | 2020-04-09 | 2020-04-09 | NA | EM FUNCIONAMENTO NORMAL | 2020-04-27 | 2020-04-27 | 2020-04-27 | 2020-06-30 | ⋯ | N | N | S  | N |  0 | NA | 0.05 | NA | 150179419.31 | 2020-05-29 |\n\n",
            "text/html": [
              "<table>\n",
              "<caption>A tibble: 3 × 24</caption>\n",
              "<thead>\n",
              "\t<tr><th scope=col>CNPJ_FUNDO</th><th scope=col>DENOM_SOCIAL</th><th scope=col>DT_REG</th><th scope=col>DT_CONST</th><th scope=col>DT_CANCEL</th><th scope=col>SIT</th><th scope=col>DT_INI_SIT</th><th scope=col>DT_INI_ATIV</th><th scope=col>DT_INI_EXERC</th><th scope=col>DT_FIM_EXERC</th><th scope=col>⋯</th><th scope=col>FUNDO_COTAS</th><th scope=col>FUNDO_EXCLUSIVO</th><th scope=col>TRIB_LPRAZO</th><th scope=col>INVEST_QUALIF</th><th scope=col>TAXA_PERFM</th><th scope=col>INF_TAXA_PERFM</th><th scope=col>TAXA_ADM</th><th scope=col>INF_TAXA_ADM</th><th scope=col>VL_PATRIM_LIQ</th><th scope=col>DT_PATRIM_LIQ</th></tr>\n",
              "\t<tr><th scope=col>&lt;chr&gt;</th><th scope=col>&lt;chr&gt;</th><th scope=col>&lt;date&gt;</th><th scope=col>&lt;date&gt;</th><th scope=col>&lt;date&gt;</th><th scope=col>&lt;chr&gt;</th><th scope=col>&lt;date&gt;</th><th scope=col>&lt;date&gt;</th><th scope=col>&lt;date&gt;</th><th scope=col>&lt;date&gt;</th><th scope=col>⋯</th><th scope=col>&lt;chr&gt;</th><th scope=col>&lt;chr&gt;</th><th scope=col>&lt;chr&gt;</th><th scope=col>&lt;chr&gt;</th><th scope=col>&lt;dbl&gt;</th><th scope=col>&lt;chr&gt;</th><th scope=col>&lt;chr&gt;</th><th scope=col>&lt;chr&gt;</th><th scope=col>&lt;chr&gt;</th><th scope=col>&lt;date&gt;</th></tr>\n",
              "</thead>\n",
              "<tbody>\n",
              "\t<tr><td>36.498.416/0001-29</td><td>03 FUNDO DE INVESTIMENTO EM COTAS DE FUNDOS DE INVESTIMENTO MULTIMERCADO</td><td>2020-04-09</td><td>2020-04-09</td><td>NA</td><td>EM FUNCIONAMENTO NORMAL</td><td>2020-04-27</td><td>2020-04-27</td><td>2020-04-27</td><td>2020-06-30</td><td>⋯</td><td>S</td><td>N</td><td>S </td><td>N</td><td>NA</td><td>NA</td><td>NA  </td><td>NA</td><td>150294862.99</td><td>2020-05-29</td></tr>\n",
              "\t<tr><td>36.729.776/0001-94</td><td>03 MASTER FUNDO DE INVESTIMENTO EM ACOES                                </td><td>2020-04-08</td><td>2020-04-08</td><td>NA</td><td>FASE PRÉ-OPERACIONAL   </td><td>2020-04-08</td><td>NA</td><td>NA</td><td>NA</td><td>⋯</td><td>N</td><td>N</td><td>NA</td><td>N</td><td> 0</td><td>NA</td><td>0.05</td><td>NA</td><td>NA          </td><td>NA</td></tr>\n",
              "\t<tr><td>36.499.643/0001-79</td><td>03 MASTER FUNDO DE INVESTIMENTO MULTIMERCADO                            </td><td>2020-04-09</td><td>2020-04-09</td><td>NA</td><td>EM FUNCIONAMENTO NORMAL</td><td>2020-04-27</td><td>2020-04-27</td><td>2020-04-27</td><td>2020-06-30</td><td>⋯</td><td>N</td><td>N</td><td>S </td><td>N</td><td> 0</td><td>NA</td><td>0.05</td><td>NA</td><td>150179419.31</td><td>2020-05-29</td></tr>\n",
              "</tbody>\n",
              "</table>\n"
            ]
          },
          "metadata": {
            "tags": []
          }
        }
      ]
    },
    {
      "cell_type": "code",
      "metadata": {
        "id": "brYh4fInccR_",
        "colab_type": "code",
        "outputId": "0d6d6131-abc9-4c27-e90d-11a5937f0b7a",
        "colab": {
          "base_uri": "https://localhost:8080/",
          "height": 314
        }
      },
      "source": [
        "head(cadastro_fie, 3)"
      ],
      "execution_count": 0,
      "outputs": [
        {
          "output_type": "display_data",
          "data": {
            "text/plain": [
              "  TP_FUNDO CNPJ_FUNDO         DENOM_SOCIAL                                  \n",
              "1 F.I.I.   19.878.616/0001-98 17007 NAÇÕES FUNDO DE INVESTIMENTO IMOBILIÁRIO\n",
              "2 F.I.I.   19.419.994/0001-03 2509 FUNDO DE INVESTIMENTO IMOBILIÁRIO - FII  \n",
              "3 F.I.I.   19.213.231/0001-01 AB CAPITAL FUNDO DE INVESTIMENTO IMOBILIÁRIO  \n",
              "  DT_REG     DT_CONST   DT_CANCEL SIT                     DT_INI_SIT\n",
              "1 2019-12-16 2019-12-13 <NA>      EM FUNCIONAMENTO NORMAL 2019-12-27\n",
              "2 2013-12-27 2013-12-10 <NA>      EM FUNCIONAMENTO NORMAL 2013-12-27\n",
              "3 2017-12-29 2013-10-11 <NA>      EM FUNCIONAMENTO NORMAL 2017-12-29\n",
              "  DT_INI_EXERC DT_FIM_EXERC\n",
              "1 2020-01-01   2020-12-31  \n",
              "2 2020-01-01   2020-12-31  \n",
              "3 2020-01-01   2020-12-31  "
            ],
            "text/latex": "A tibble: 3 × 10\n\\begin{tabular}{llllllllll}\n TP\\_FUNDO & CNPJ\\_FUNDO & DENOM\\_SOCIAL & DT\\_REG & DT\\_CONST & DT\\_CANCEL & SIT & DT\\_INI\\_SIT & DT\\_INI\\_EXERC & DT\\_FIM\\_EXERC\\\\\n <chr> & <chr> & <chr> & <date> & <date> & <date> & <chr> & <date> & <date> & <date>\\\\\n\\hline\n\t F.I.I. & 19.878.616/0001-98 & 17007 NAÇÕES FUNDO DE INVESTIMENTO IMOBILIÁRIO & 2019-12-16 & 2019-12-13 & NA & EM FUNCIONAMENTO NORMAL & 2019-12-27 & 2020-01-01 & 2020-12-31\\\\\n\t F.I.I. & 19.419.994/0001-03 & 2509 FUNDO DE INVESTIMENTO IMOBILIÁRIO - FII   & 2013-12-27 & 2013-12-10 & NA & EM FUNCIONAMENTO NORMAL & 2013-12-27 & 2020-01-01 & 2020-12-31\\\\\n\t F.I.I. & 19.213.231/0001-01 & AB CAPITAL FUNDO DE INVESTIMENTO IMOBILIÁRIO   & 2017-12-29 & 2013-10-11 & NA & EM FUNCIONAMENTO NORMAL & 2017-12-29 & 2020-01-01 & 2020-12-31\\\\\n\\end{tabular}\n",
            "text/markdown": "\nA tibble: 3 × 10\n\n| TP_FUNDO &lt;chr&gt; | CNPJ_FUNDO &lt;chr&gt; | DENOM_SOCIAL &lt;chr&gt; | DT_REG &lt;date&gt; | DT_CONST &lt;date&gt; | DT_CANCEL &lt;date&gt; | SIT &lt;chr&gt; | DT_INI_SIT &lt;date&gt; | DT_INI_EXERC &lt;date&gt; | DT_FIM_EXERC &lt;date&gt; |\n|---|---|---|---|---|---|---|---|---|---|\n| F.I.I. | 19.878.616/0001-98 | 17007 NAÇÕES FUNDO DE INVESTIMENTO IMOBILIÁRIO | 2019-12-16 | 2019-12-13 | NA | EM FUNCIONAMENTO NORMAL | 2019-12-27 | 2020-01-01 | 2020-12-31 |\n| F.I.I. | 19.419.994/0001-03 | 2509 FUNDO DE INVESTIMENTO IMOBILIÁRIO - FII   | 2013-12-27 | 2013-12-10 | NA | EM FUNCIONAMENTO NORMAL | 2013-12-27 | 2020-01-01 | 2020-12-31 |\n| F.I.I. | 19.213.231/0001-01 | AB CAPITAL FUNDO DE INVESTIMENTO IMOBILIÁRIO   | 2017-12-29 | 2013-10-11 | NA | EM FUNCIONAMENTO NORMAL | 2017-12-29 | 2020-01-01 | 2020-12-31 |\n\n",
            "text/html": [
              "<table>\n",
              "<caption>A tibble: 3 × 10</caption>\n",
              "<thead>\n",
              "\t<tr><th scope=col>TP_FUNDO</th><th scope=col>CNPJ_FUNDO</th><th scope=col>DENOM_SOCIAL</th><th scope=col>DT_REG</th><th scope=col>DT_CONST</th><th scope=col>DT_CANCEL</th><th scope=col>SIT</th><th scope=col>DT_INI_SIT</th><th scope=col>DT_INI_EXERC</th><th scope=col>DT_FIM_EXERC</th></tr>\n",
              "\t<tr><th scope=col>&lt;chr&gt;</th><th scope=col>&lt;chr&gt;</th><th scope=col>&lt;chr&gt;</th><th scope=col>&lt;date&gt;</th><th scope=col>&lt;date&gt;</th><th scope=col>&lt;date&gt;</th><th scope=col>&lt;chr&gt;</th><th scope=col>&lt;date&gt;</th><th scope=col>&lt;date&gt;</th><th scope=col>&lt;date&gt;</th></tr>\n",
              "</thead>\n",
              "<tbody>\n",
              "\t<tr><td>F.I.I.</td><td>19.878.616/0001-98</td><td>17007 NAÇÕES FUNDO DE INVESTIMENTO IMOBILIÁRIO</td><td>2019-12-16</td><td>2019-12-13</td><td>NA</td><td>EM FUNCIONAMENTO NORMAL</td><td>2019-12-27</td><td>2020-01-01</td><td>2020-12-31</td></tr>\n",
              "\t<tr><td>F.I.I.</td><td>19.419.994/0001-03</td><td>2509 FUNDO DE INVESTIMENTO IMOBILIÁRIO - FII  </td><td>2013-12-27</td><td>2013-12-10</td><td>NA</td><td>EM FUNCIONAMENTO NORMAL</td><td>2013-12-27</td><td>2020-01-01</td><td>2020-12-31</td></tr>\n",
              "\t<tr><td>F.I.I.</td><td>19.213.231/0001-01</td><td>AB CAPITAL FUNDO DE INVESTIMENTO IMOBILIÁRIO  </td><td>2017-12-29</td><td>2013-10-11</td><td>NA</td><td>EM FUNCIONAMENTO NORMAL</td><td>2017-12-29</td><td>2020-01-01</td><td>2020-12-31</td></tr>\n",
              "</tbody>\n",
              "</table>\n"
            ]
          },
          "metadata": {
            "tags": []
          }
        }
      ]
    },
    {
      "cell_type": "markdown",
      "metadata": {
        "id": "DAJ_1STjzv5N",
        "colab_type": "text"
      },
      "source": [
        "Um ponto para o qual deve-se chamar a atenção é que a base cadastral dos fundos de investimento não estruturados (`cadastro_fi`) possui mais variáveis que a base cadastral dos fundos estruturados (`cadastro_fie`). De qualquer forma, vamos juntar estas duas bases em uma só."
      ]
    },
    {
      "cell_type": "code",
      "metadata": {
        "id": "_pyvLwa8Z1kf",
        "colab_type": "code",
        "colab": {}
      },
      "source": [
        "cadastros_fundos <- bind_rows(cadastro_fi, cadastro_fie)"
      ],
      "execution_count": 0,
      "outputs": []
    },
    {
      "cell_type": "code",
      "metadata": {
        "id": "yTlGDibT1x_f",
        "colab_type": "code",
        "outputId": "9b729b7b-555c-40ab-f7ef-d3b13167282c",
        "colab": {
          "base_uri": "https://localhost:8080/",
          "height": 476
        }
      },
      "source": [
        "glimpse(cadastros_fundos)"
      ],
      "execution_count": 0,
      "outputs": [
        {
          "output_type": "stream",
          "text": [
            "Rows: 51,954\n",
            "Columns: 25\n",
            "$ CNPJ_FUNDO      \u001b[3m\u001b[90m<chr>\u001b[39m\u001b[23m \"36.498.416/0001-29\", \"36.729.776/0001-94\", \"36.499.6…\n",
            "$ DENOM_SOCIAL    \u001b[3m\u001b[90m<chr>\u001b[39m\u001b[23m \"03 FUNDO DE INVESTIMENTO EM COTAS DE FUNDOS DE INVES…\n",
            "$ DT_REG          \u001b[3m\u001b[90m<date>\u001b[39m\u001b[23m 2020-04-09, 2020-04-08, 2020-04-09, 2020-04-03, 2005…\n",
            "$ DT_CONST        \u001b[3m\u001b[90m<date>\u001b[39m\u001b[23m 2020-04-09, 2020-04-08, 2020-04-09, 2020-04-02, 2001…\n",
            "$ DT_CANCEL       \u001b[3m\u001b[90m<date>\u001b[39m\u001b[23m NA, NA, NA, NA, NA, NA, NA, NA, NA, NA, NA, NA, NA, …\n",
            "$ SIT             \u001b[3m\u001b[90m<chr>\u001b[39m\u001b[23m \"EM FUNCIONAMENTO NORMAL\", \"FASE PRÉ-OPERACIONAL\", \"E…\n",
            "$ DT_INI_SIT      \u001b[3m\u001b[90m<date>\u001b[39m\u001b[23m 2020-04-27, 2020-04-08, 2020-04-27, 2020-04-02, 2005…\n",
            "$ DT_INI_ATIV     \u001b[3m\u001b[90m<date>\u001b[39m\u001b[23m 2020-04-27, NA, 2020-04-27, NA, 2001-01-19, 2019-08-…\n",
            "$ DT_INI_EXERC    \u001b[3m\u001b[90m<date>\u001b[39m\u001b[23m 2020-04-27, NA, 2020-04-27, NA, 2020-01-01, 2020-06-…\n",
            "$ DT_FIM_EXERC    \u001b[3m\u001b[90m<date>\u001b[39m\u001b[23m 2020-06-30, NA, 2020-06-30, NA, 2020-12-31, 2021-05-…\n",
            "$ CLASSE          \u001b[3m\u001b[90m<chr>\u001b[39m\u001b[23m \"Fundo Multimercado\", \"Fundo de Ações\", \"Fundo Multim…\n",
            "$ DT_INI_CLASSE   \u001b[3m\u001b[90m<date>\u001b[39m\u001b[23m 2020-04-09, 2020-04-08, 2020-04-09, 2020-04-02, 2005…\n",
            "$ RENTAB_FUNDO    \u001b[3m\u001b[90m<chr>\u001b[39m\u001b[23m NA, NA, NA, NA, \"DI de um dia\", \"DI de um dia\", NA, \"…\n",
            "$ CONDOM          \u001b[3m\u001b[90m<chr>\u001b[39m\u001b[23m \"Aberto\", \"Aberto\", \"Aberto\", \"Aberto\", \"Aberto\", \"Fe…\n",
            "$ FUNDO_COTAS     \u001b[3m\u001b[90m<chr>\u001b[39m\u001b[23m \"S\", \"N\", \"N\", \"S\", \"S\", \"N\", \"N\", \"N\", \"N\", \"S\", \"N\"…\n",
            "$ FUNDO_EXCLUSIVO \u001b[3m\u001b[90m<chr>\u001b[39m\u001b[23m \"N\", \"N\", \"N\", \"N\", \"N\", \"S\", \"N\", \"S\", \"S\", \"N\", \"N\"…\n",
            "$ TRIB_LPRAZO     \u001b[3m\u001b[90m<chr>\u001b[39m\u001b[23m \"S\", NA, \"S\", \"S\", \"S\", NA, NA, \"S\", \"S\", \"S\", NA, \"S…\n",
            "$ INVEST_QUALIF   \u001b[3m\u001b[90m<chr>\u001b[39m\u001b[23m \"N\", \"N\", \"N\", \"S\", \"S\", \"S\", \"S\", \"S\", \"S\", \"S\", \"S\"…\n",
            "$ TAXA_PERFM      \u001b[3m\u001b[90m<dbl>\u001b[39m\u001b[23m NA, 0, 0, 10, 0, 20, 0, 0, 8, 0, 0, 0, 0, 0, 0, NA, 8…\n",
            "$ INF_TAXA_PERFM  \u001b[3m\u001b[90m<chr>\u001b[39m\u001b[23m NA, NA, NA, \"O fundo cobrara 10.00 % do que exceder 1…\n",
            "$ TAXA_ADM        \u001b[3m\u001b[90m<chr>\u001b[39m\u001b[23m NA, \"0.05\", \"0.05\", \"0.1\", \"0.4\", \"0.2\", \"0.13\", \"0.4…\n",
            "$ INF_TAXA_ADM    \u001b[3m\u001b[90m<chr>\u001b[39m\u001b[23m NA, NA, NA, NA, NA, NA, NA, NA, NA, NA, NA, NA, NA, N…\n",
            "$ VL_PATRIM_LIQ   \u001b[3m\u001b[90m<chr>\u001b[39m\u001b[23m \"150294862.99\", NA, \"150179419.31\", NA, \"37190353.34\"…\n",
            "$ DT_PATRIM_LIQ   \u001b[3m\u001b[90m<date>\u001b[39m\u001b[23m 2020-05-29, NA, 2020-05-29, NA, 2020-05-29, 2020-05-…\n",
            "$ TP_FUNDO        \u001b[3m\u001b[90m<chr>\u001b[39m\u001b[23m NA, NA, NA, NA, NA, NA, NA, NA, NA, NA, NA, NA, NA, N…\n"
          ],
          "name": "stdout"
        }
      ]
    },
    {
      "cell_type": "code",
      "metadata": {
        "id": "9TWZ6sVPfyey",
        "colab_type": "code",
        "outputId": "a2412e6b-5111-44f2-ab71-0fc662b33179",
        "colab": {
          "base_uri": "https://localhost:8080/",
          "height": 785
        }
      },
      "source": [
        "head(cadastros_fundos)"
      ],
      "execution_count": 0,
      "outputs": [
        {
          "output_type": "display_data",
          "data": {
            "text/plain": [
              "  CNPJ_FUNDO        \n",
              "1 36.498.416/0001-29\n",
              "2 36.729.776/0001-94\n",
              "3 36.499.643/0001-79\n",
              "4 36.016.411/0001-12\n",
              "5 03.998.582/0001-35\n",
              "6 33.913.620/0001-70\n",
              "  DENOM_SOCIAL                                                                                       \n",
              "1 03 FUNDO DE INVESTIMENTO EM COTAS DE FUNDOS DE INVESTIMENTO MULTIMERCADO                           \n",
              "2 03 MASTER FUNDO DE INVESTIMENTO EM ACOES                                                           \n",
              "3 03 MASTER FUNDO DE INVESTIMENTO MULTIMERCADO                                                       \n",
              "4 051 ALLOCATION FUNDO EM COTAS DE FUNDOS DE INVESTIMENTO MULTIMERCADO CREDITO PRIVADO               \n",
              "5 051 BLUE MARLIN FUNDO DE INVESTIMENTO EM COTAS DE FUNDOS DE INVESTIMENTO MULTIMERCADO- CRED PRIV IE\n",
              "6 051 BRUCUTU FUNDO DE INVESTIMENTO MULTIMERCADO CRÉDITO PRIVADO INVESTIMENTO EXTERIOR               \n",
              "  DT_REG     DT_CONST   DT_CANCEL SIT                     DT_INI_SIT\n",
              "1 2020-04-09 2020-04-09 <NA>      EM FUNCIONAMENTO NORMAL 2020-04-27\n",
              "2 2020-04-08 2020-04-08 <NA>      FASE PRÉ-OPERACIONAL    2020-04-08\n",
              "3 2020-04-09 2020-04-09 <NA>      EM FUNCIONAMENTO NORMAL 2020-04-27\n",
              "4 2020-04-03 2020-04-02 <NA>      FASE PRÉ-OPERACIONAL    2020-04-02\n",
              "5 2005-02-17 2001-01-19 <NA>      EM FUNCIONAMENTO NORMAL 2005-02-02\n",
              "6 2019-07-19 2019-06-04 <NA>      EM FUNCIONAMENTO NORMAL 2019-08-05\n",
              "  DT_INI_ATIV DT_INI_EXERC DT_FIM_EXERC ⋯ FUNDO_EXCLUSIVO TRIB_LPRAZO\n",
              "1 2020-04-27  2020-04-27   2020-06-30   ⋯ N               S          \n",
              "2 <NA>        <NA>         <NA>         ⋯ N               NA         \n",
              "3 2020-04-27  2020-04-27   2020-06-30   ⋯ N               S          \n",
              "4 <NA>        <NA>         <NA>         ⋯ N               S          \n",
              "5 2001-01-19  2020-01-01   2020-12-31   ⋯ N               S          \n",
              "6 2019-08-05  2020-06-01   2021-05-31   ⋯ S               NA         \n",
              "  INVEST_QUALIF TAXA_PERFM\n",
              "1 N             NA        \n",
              "2 N              0        \n",
              "3 N              0        \n",
              "4 S             10        \n",
              "5 S              0        \n",
              "6 S             20        \n",
              "  INF_TAXA_PERFM                                                                                                                 \n",
              "1 NA                                                                                                                             \n",
              "2 NA                                                                                                                             \n",
              "3 NA                                                                                                                             \n",
              "4 O fundo cobrara 10.00 % do que exceder 100.00 % o indice CDIE. A taxa de performance sera paga no(s) mes(es) de Janeiro e Julho\n",
              "5 NA                                                                                                                             \n",
              "6 NA                                                                                                                             \n",
              "  TAXA_ADM INF_TAXA_ADM VL_PATRIM_LIQ DT_PATRIM_LIQ TP_FUNDO\n",
              "1 NA       NA           150294862.99  2020-05-29    NA      \n",
              "2 0.05     NA           NA            <NA>          NA      \n",
              "3 0.05     NA           150179419.31  2020-05-29    NA      \n",
              "4 0.1      NA           NA            <NA>          NA      \n",
              "5 0.4      NA           37190353.34   2020-05-29    NA      \n",
              "6 0.2      NA           24815967.20   2020-05-29    NA      "
            ],
            "text/latex": "A tibble: 6 × 25\n\\begin{tabular}{lllllllllllllllllllll}\n CNPJ\\_FUNDO & DENOM\\_SOCIAL & DT\\_REG & DT\\_CONST & DT\\_CANCEL & SIT & DT\\_INI\\_SIT & DT\\_INI\\_ATIV & DT\\_INI\\_EXERC & DT\\_FIM\\_EXERC & ⋯ & FUNDO\\_EXCLUSIVO & TRIB\\_LPRAZO & INVEST\\_QUALIF & TAXA\\_PERFM & INF\\_TAXA\\_PERFM & TAXA\\_ADM & INF\\_TAXA\\_ADM & VL\\_PATRIM\\_LIQ & DT\\_PATRIM\\_LIQ & TP\\_FUNDO\\\\\n <chr> & <chr> & <date> & <date> & <date> & <chr> & <date> & <date> & <date> & <date> & ⋯ & <chr> & <chr> & <chr> & <dbl> & <chr> & <chr> & <chr> & <chr> & <date> & <chr>\\\\\n\\hline\n\t 36.498.416/0001-29 & 03 FUNDO DE INVESTIMENTO EM COTAS DE FUNDOS DE INVESTIMENTO MULTIMERCADO                            & 2020-04-09 & 2020-04-09 & NA & EM FUNCIONAMENTO NORMAL & 2020-04-27 & 2020-04-27 & 2020-04-27 & 2020-06-30 & ⋯ & N & S  & N & NA & NA                                                                                                                              & NA   & NA & 150294862.99 & 2020-05-29 & NA\\\\\n\t 36.729.776/0001-94 & 03 MASTER FUNDO DE INVESTIMENTO EM ACOES                                                            & 2020-04-08 & 2020-04-08 & NA & FASE PRÉ-OPERACIONAL    & 2020-04-08 & NA & NA & NA & ⋯ & N & NA & N &  0 & NA                                                                                                                              & 0.05 & NA & NA           & NA & NA\\\\\n\t 36.499.643/0001-79 & 03 MASTER FUNDO DE INVESTIMENTO MULTIMERCADO                                                        & 2020-04-09 & 2020-04-09 & NA & EM FUNCIONAMENTO NORMAL & 2020-04-27 & 2020-04-27 & 2020-04-27 & 2020-06-30 & ⋯ & N & S  & N &  0 & NA                                                                                                                              & 0.05 & NA & 150179419.31 & 2020-05-29 & NA\\\\\n\t 36.016.411/0001-12 & 051 ALLOCATION FUNDO EM COTAS DE FUNDOS DE INVESTIMENTO MULTIMERCADO CREDITO PRIVADO                & 2020-04-03 & 2020-04-02 & NA & FASE PRÉ-OPERACIONAL    & 2020-04-02 & NA & NA & NA & ⋯ & N & S  & S & 10 & O fundo cobrara 10.00 \\% do que exceder 100.00 \\% o indice CDIE. A taxa de performance sera paga no(s) mes(es) de Janeiro e Julho & 0.1  & NA & NA           & NA & NA\\\\\n\t 03.998.582/0001-35 & 051 BLUE MARLIN FUNDO DE INVESTIMENTO EM COTAS DE FUNDOS DE INVESTIMENTO MULTIMERCADO- CRED PRIV IE & 2005-02-17 & 2001-01-19 & NA & EM FUNCIONAMENTO NORMAL & 2005-02-02 & 2001-01-19 & 2020-01-01 & 2020-12-31 & ⋯ & N & S  & S &  0 & NA                                                                                                                              & 0.4  & NA & 37190353.34  & 2020-05-29 & NA\\\\\n\t 33.913.620/0001-70 & 051 BRUCUTU FUNDO DE INVESTIMENTO MULTIMERCADO CRÉDITO PRIVADO INVESTIMENTO EXTERIOR                & 2019-07-19 & 2019-06-04 & NA & EM FUNCIONAMENTO NORMAL & 2019-08-05 & 2019-08-05 & 2020-06-01 & 2021-05-31 & ⋯ & S & NA & S & 20 & NA                                                                                                                              & 0.2  & NA & 24815967.20  & 2020-05-29 & NA\\\\\n\\end{tabular}\n",
            "text/markdown": "\nA tibble: 6 × 25\n\n| CNPJ_FUNDO &lt;chr&gt; | DENOM_SOCIAL &lt;chr&gt; | DT_REG &lt;date&gt; | DT_CONST &lt;date&gt; | DT_CANCEL &lt;date&gt; | SIT &lt;chr&gt; | DT_INI_SIT &lt;date&gt; | DT_INI_ATIV &lt;date&gt; | DT_INI_EXERC &lt;date&gt; | DT_FIM_EXERC &lt;date&gt; | ⋯ ⋯ | FUNDO_EXCLUSIVO &lt;chr&gt; | TRIB_LPRAZO &lt;chr&gt; | INVEST_QUALIF &lt;chr&gt; | TAXA_PERFM &lt;dbl&gt; | INF_TAXA_PERFM &lt;chr&gt; | TAXA_ADM &lt;chr&gt; | INF_TAXA_ADM &lt;chr&gt; | VL_PATRIM_LIQ &lt;chr&gt; | DT_PATRIM_LIQ &lt;date&gt; | TP_FUNDO &lt;chr&gt; |\n|---|---|---|---|---|---|---|---|---|---|---|---|---|---|---|---|---|---|---|---|---|\n| 36.498.416/0001-29 | 03 FUNDO DE INVESTIMENTO EM COTAS DE FUNDOS DE INVESTIMENTO MULTIMERCADO                            | 2020-04-09 | 2020-04-09 | NA | EM FUNCIONAMENTO NORMAL | 2020-04-27 | 2020-04-27 | 2020-04-27 | 2020-06-30 | ⋯ | N | S  | N | NA | NA                                                                                                                              | NA   | NA | 150294862.99 | 2020-05-29 | NA |\n| 36.729.776/0001-94 | 03 MASTER FUNDO DE INVESTIMENTO EM ACOES                                                            | 2020-04-08 | 2020-04-08 | NA | FASE PRÉ-OPERACIONAL    | 2020-04-08 | NA | NA | NA | ⋯ | N | NA | N |  0 | NA                                                                                                                              | 0.05 | NA | NA           | NA | NA |\n| 36.499.643/0001-79 | 03 MASTER FUNDO DE INVESTIMENTO MULTIMERCADO                                                        | 2020-04-09 | 2020-04-09 | NA | EM FUNCIONAMENTO NORMAL | 2020-04-27 | 2020-04-27 | 2020-04-27 | 2020-06-30 | ⋯ | N | S  | N |  0 | NA                                                                                                                              | 0.05 | NA | 150179419.31 | 2020-05-29 | NA |\n| 36.016.411/0001-12 | 051 ALLOCATION FUNDO EM COTAS DE FUNDOS DE INVESTIMENTO MULTIMERCADO CREDITO PRIVADO                | 2020-04-03 | 2020-04-02 | NA | FASE PRÉ-OPERACIONAL    | 2020-04-02 | NA | NA | NA | ⋯ | N | S  | S | 10 | O fundo cobrara 10.00 % do que exceder 100.00 % o indice CDIE. A taxa de performance sera paga no(s) mes(es) de Janeiro e Julho | 0.1  | NA | NA           | NA | NA |\n| 03.998.582/0001-35 | 051 BLUE MARLIN FUNDO DE INVESTIMENTO EM COTAS DE FUNDOS DE INVESTIMENTO MULTIMERCADO- CRED PRIV IE | 2005-02-17 | 2001-01-19 | NA | EM FUNCIONAMENTO NORMAL | 2005-02-02 | 2001-01-19 | 2020-01-01 | 2020-12-31 | ⋯ | N | S  | S |  0 | NA                                                                                                                              | 0.4  | NA | 37190353.34  | 2020-05-29 | NA |\n| 33.913.620/0001-70 | 051 BRUCUTU FUNDO DE INVESTIMENTO MULTIMERCADO CRÉDITO PRIVADO INVESTIMENTO EXTERIOR                | 2019-07-19 | 2019-06-04 | NA | EM FUNCIONAMENTO NORMAL | 2019-08-05 | 2019-08-05 | 2020-06-01 | 2021-05-31 | ⋯ | S | NA | S | 20 | NA                                                                                                                              | 0.2  | NA | 24815967.20  | 2020-05-29 | NA |\n\n",
            "text/html": [
              "<table>\n",
              "<caption>A tibble: 6 × 25</caption>\n",
              "<thead>\n",
              "\t<tr><th scope=col>CNPJ_FUNDO</th><th scope=col>DENOM_SOCIAL</th><th scope=col>DT_REG</th><th scope=col>DT_CONST</th><th scope=col>DT_CANCEL</th><th scope=col>SIT</th><th scope=col>DT_INI_SIT</th><th scope=col>DT_INI_ATIV</th><th scope=col>DT_INI_EXERC</th><th scope=col>DT_FIM_EXERC</th><th scope=col>⋯</th><th scope=col>FUNDO_EXCLUSIVO</th><th scope=col>TRIB_LPRAZO</th><th scope=col>INVEST_QUALIF</th><th scope=col>TAXA_PERFM</th><th scope=col>INF_TAXA_PERFM</th><th scope=col>TAXA_ADM</th><th scope=col>INF_TAXA_ADM</th><th scope=col>VL_PATRIM_LIQ</th><th scope=col>DT_PATRIM_LIQ</th><th scope=col>TP_FUNDO</th></tr>\n",
              "\t<tr><th scope=col>&lt;chr&gt;</th><th scope=col>&lt;chr&gt;</th><th scope=col>&lt;date&gt;</th><th scope=col>&lt;date&gt;</th><th scope=col>&lt;date&gt;</th><th scope=col>&lt;chr&gt;</th><th scope=col>&lt;date&gt;</th><th scope=col>&lt;date&gt;</th><th scope=col>&lt;date&gt;</th><th scope=col>&lt;date&gt;</th><th scope=col>⋯</th><th scope=col>&lt;chr&gt;</th><th scope=col>&lt;chr&gt;</th><th scope=col>&lt;chr&gt;</th><th scope=col>&lt;dbl&gt;</th><th scope=col>&lt;chr&gt;</th><th scope=col>&lt;chr&gt;</th><th scope=col>&lt;chr&gt;</th><th scope=col>&lt;chr&gt;</th><th scope=col>&lt;date&gt;</th><th scope=col>&lt;chr&gt;</th></tr>\n",
              "</thead>\n",
              "<tbody>\n",
              "\t<tr><td>36.498.416/0001-29</td><td>03 FUNDO DE INVESTIMENTO EM COTAS DE FUNDOS DE INVESTIMENTO MULTIMERCADO                           </td><td>2020-04-09</td><td>2020-04-09</td><td>NA</td><td>EM FUNCIONAMENTO NORMAL</td><td>2020-04-27</td><td>2020-04-27</td><td>2020-04-27</td><td>2020-06-30</td><td>⋯</td><td>N</td><td>S </td><td>N</td><td>NA</td><td>NA                                                                                                                             </td><td>NA  </td><td>NA</td><td>150294862.99</td><td>2020-05-29</td><td>NA</td></tr>\n",
              "\t<tr><td>36.729.776/0001-94</td><td>03 MASTER FUNDO DE INVESTIMENTO EM ACOES                                                           </td><td>2020-04-08</td><td>2020-04-08</td><td>NA</td><td>FASE PRÉ-OPERACIONAL   </td><td>2020-04-08</td><td>NA</td><td>NA</td><td>NA</td><td>⋯</td><td>N</td><td>NA</td><td>N</td><td> 0</td><td>NA                                                                                                                             </td><td>0.05</td><td>NA</td><td>NA          </td><td>NA</td><td>NA</td></tr>\n",
              "\t<tr><td>36.499.643/0001-79</td><td>03 MASTER FUNDO DE INVESTIMENTO MULTIMERCADO                                                       </td><td>2020-04-09</td><td>2020-04-09</td><td>NA</td><td>EM FUNCIONAMENTO NORMAL</td><td>2020-04-27</td><td>2020-04-27</td><td>2020-04-27</td><td>2020-06-30</td><td>⋯</td><td>N</td><td>S </td><td>N</td><td> 0</td><td>NA                                                                                                                             </td><td>0.05</td><td>NA</td><td>150179419.31</td><td>2020-05-29</td><td>NA</td></tr>\n",
              "\t<tr><td>36.016.411/0001-12</td><td>051 ALLOCATION FUNDO EM COTAS DE FUNDOS DE INVESTIMENTO MULTIMERCADO CREDITO PRIVADO               </td><td>2020-04-03</td><td>2020-04-02</td><td>NA</td><td>FASE PRÉ-OPERACIONAL   </td><td>2020-04-02</td><td>NA</td><td>NA</td><td>NA</td><td>⋯</td><td>N</td><td>S </td><td>S</td><td>10</td><td>O fundo cobrara 10.00 % do que exceder 100.00 % o indice CDIE. A taxa de performance sera paga no(s) mes(es) de Janeiro e Julho</td><td>0.1 </td><td>NA</td><td>NA          </td><td>NA</td><td>NA</td></tr>\n",
              "\t<tr><td>03.998.582/0001-35</td><td>051 BLUE MARLIN FUNDO DE INVESTIMENTO EM COTAS DE FUNDOS DE INVESTIMENTO MULTIMERCADO- CRED PRIV IE</td><td>2005-02-17</td><td>2001-01-19</td><td>NA</td><td>EM FUNCIONAMENTO NORMAL</td><td>2005-02-02</td><td>2001-01-19</td><td>2020-01-01</td><td>2020-12-31</td><td>⋯</td><td>N</td><td>S </td><td>S</td><td> 0</td><td>NA                                                                                                                             </td><td>0.4 </td><td>NA</td><td>37190353.34 </td><td>2020-05-29</td><td>NA</td></tr>\n",
              "\t<tr><td>33.913.620/0001-70</td><td>051 BRUCUTU FUNDO DE INVESTIMENTO MULTIMERCADO CRÉDITO PRIVADO INVESTIMENTO EXTERIOR               </td><td>2019-07-19</td><td>2019-06-04</td><td>NA</td><td>EM FUNCIONAMENTO NORMAL</td><td>2019-08-05</td><td>2019-08-05</td><td>2020-06-01</td><td>2021-05-31</td><td>⋯</td><td>S</td><td>NA</td><td>S</td><td>20</td><td>NA                                                                                                                             </td><td>0.2 </td><td>NA</td><td>24815967.20 </td><td>2020-05-29</td><td>NA</td></tr>\n",
              "</tbody>\n",
              "</table>\n"
            ]
          },
          "metadata": {
            "tags": []
          }
        }
      ]
    },
    {
      "cell_type": "code",
      "metadata": {
        "id": "BCtPX3j01jox",
        "colab_type": "code",
        "outputId": "d1673ac0-4180-49b6-e6b2-ce75a1da570d",
        "colab": {
          "base_uri": "https://localhost:8080/",
          "height": 34
        }
      },
      "source": [
        "nrow(cadastros_fundos)"
      ],
      "execution_count": 0,
      "outputs": [
        {
          "output_type": "display_data",
          "data": {
            "text/plain": [
              "[1] 51954"
            ],
            "text/latex": "51954",
            "text/markdown": "51954",
            "text/html": [
              "51954"
            ]
          },
          "metadata": {
            "tags": []
          }
        }
      ]
    },
    {
      "cell_type": "markdown",
      "metadata": {
        "id": "2_clF-diwt88",
        "colab_type": "text"
      },
      "source": [
        "Será que existem duplicidade de fundos nessa base cadastral?"
      ]
    },
    {
      "cell_type": "code",
      "metadata": {
        "id": "OFHC7WbPws0T",
        "colab_type": "code",
        "outputId": "70fc829c-72ae-4956-9539-4ac07b14433e",
        "colab": {
          "base_uri": "https://localhost:8080/",
          "height": 34
        }
      },
      "source": [
        "any(duplicated(cadastros_fundos$CNPJ_FUNDO))"
      ],
      "execution_count": 0,
      "outputs": [
        {
          "output_type": "display_data",
          "data": {
            "text/plain": [
              "[1] TRUE"
            ],
            "text/latex": "TRUE",
            "text/markdown": "TRUE",
            "text/html": [
              "TRUE"
            ]
          },
          "metadata": {
            "tags": []
          }
        }
      ]
    },
    {
      "cell_type": "markdown",
      "metadata": {
        "id": "lFZDtPK4074l",
        "colab_type": "text"
      },
      "source": [
        "Agora podemos juntar à relação de fundos os dados cadastrais de cada fundo. Mas antes é necessário relizar uma pequena limpeza na variável `CNPJ_FUNDO`."
      ]
    },
    {
      "cell_type": "code",
      "metadata": {
        "id": "NpRDIrthZuUA",
        "colab_type": "code",
        "colab": {}
      },
      "source": [
        "cadastros_fundos <- cadastros_fundos %>%\n",
        "                mutate(CNPJ_FUNDO = str_remove_all(CNPJ_FUNDO, \"[[:punct:]]\"))"
      ],
      "execution_count": 0,
      "outputs": []
    },
    {
      "cell_type": "markdown",
      "metadata": {
        "id": "xaKQwSgkoBVW",
        "colab_type": "text"
      },
      "source": [
        "Agora já é possível juntar as duas bases de dados:"
      ]
    },
    {
      "cell_type": "code",
      "metadata": {
        "id": "AQ1lJBx3OtnW",
        "colab_type": "code",
        "colab": {}
      },
      "source": [
        "relacao_fundos <- relacao_fundos %>%\n",
        "                      left_join(cadastros_fundos, by=c(\"ident_ativo\" = \"CNPJ_FUNDO\"))"
      ],
      "execution_count": 0,
      "outputs": []
    },
    {
      "cell_type": "code",
      "metadata": {
        "id": "vaTecbwJCl_v",
        "colab_type": "code",
        "outputId": "346b5be2-1e11-4b9f-cf8f-e939a1905a4f",
        "colab": {
          "base_uri": "https://localhost:8080/",
          "height": 612
        }
      },
      "source": [
        "glimpse(relacao_fundos)"
      ],
      "execution_count": 0,
      "outputs": [
        {
          "output_type": "stream",
          "text": [
            "Rows: 717\n",
            "Columns: 33\n",
            "$ ident_ativo      \u001b[3m\u001b[90m<chr>\u001b[39m\u001b[23m \"00071477000168\", \"00071477000168\", \"00360305000104\"…\n",
            "$ nm_ativo         \u001b[3m\u001b[90m<chr>\u001b[39m\u001b[23m \" BB RF CP AUTOMATICO\", \" BB RF CP AUTOMATICO\", \" CA…\n",
            "$ eh_fundo_vedado  \u001b[3m\u001b[90m<dbl>\u001b[39m\u001b[23m 0, 0, 0, 0, 0, 0, 0, 0, 0, 0, 0, 0, 0, 0, 0, 0, 0, 0…\n",
            "$ nm_fundo         \u001b[3m\u001b[90m<chr>\u001b[39m\u001b[23m NA, NA, NA, \"BB RENDA FIXA REFERENCIADO DI ÁGIL FUND…\n",
            "$ cnpj_admin       \u001b[3m\u001b[90m<chr>\u001b[39m\u001b[23m NA, NA, NA, \"30822936\", \"30822936\", \"62318407\", \"623…\n",
            "$ cnpj_gestor      \u001b[3m\u001b[90m<chr>\u001b[39m\u001b[23m NA, NA, NA, \"30822936\", \"30822936\", \"07237373\", \"072…\n",
            "$ enquad_sprev     \u001b[3m\u001b[90m<chr>\u001b[39m\u001b[23m NA, NA, NA, \"Artigo 7º, Inciso IV, 'a'\", \"Artigo 7º,…\n",
            "$ enquad_sprev_pad \u001b[3m\u001b[90m<chr>\u001b[39m\u001b[23m NA, NA, NA, \"ART7IVA\", \"ART7IVA\", \"ART7IVA\", \"ART7IV…\n",
            "$ atende_art15     \u001b[3m\u001b[90m<dbl>\u001b[39m\u001b[23m NA, NA, NA, 1, 1, 1, 1, 1, 1, 1, 1, 1, 1, 1, 1, 1, 1…\n",
            "$ DENOM_SOCIAL     \u001b[3m\u001b[90m<chr>\u001b[39m\u001b[23m \"BB RENDA FIXA CURTO PRAZO AUTOMÁTICO EMPRESA FUNDO …\n",
            "$ DT_REG           \u001b[3m\u001b[90m<date>\u001b[39m\u001b[23m 2005-03-29, 2003-04-30, NA, 2005-03-29, 2003-04-30,…\n",
            "$ DT_CONST         \u001b[3m\u001b[90m<date>\u001b[39m\u001b[23m 1994-05-19, 1994-05-19, NA, 1995-08-07, 1995-08-07,…\n",
            "$ DT_CANCEL        \u001b[3m\u001b[90m<date>\u001b[39m\u001b[23m NA, 2005-03-24, NA, NA, 2005-03-24, NA, 2005-03-21,…\n",
            "$ SIT              \u001b[3m\u001b[90m<chr>\u001b[39m\u001b[23m \"EM FUNCIONAMENTO NORMAL\", \"CANCELADA\", NA, \"EM FUNC…\n",
            "$ DT_INI_SIT       \u001b[3m\u001b[90m<date>\u001b[39m\u001b[23m 2005-03-24, 2005-03-24, NA, 2005-03-24, 2005-03-24,…\n",
            "$ DT_INI_ATIV      \u001b[3m\u001b[90m<date>\u001b[39m\u001b[23m 1994-05-19, NA, NA, 1995-08-07, NA, 1995-10-02, NA,…\n",
            "$ DT_INI_EXERC     \u001b[3m\u001b[90m<date>\u001b[39m\u001b[23m 2020-04-01, NA, NA, 2020-04-01, NA, 2020-04-01, 200…\n",
            "$ DT_FIM_EXERC     \u001b[3m\u001b[90m<date>\u001b[39m\u001b[23m 2021-03-31, NA, NA, 2021-03-31, NA, 2021-03-31, 200…\n",
            "$ CLASSE           \u001b[3m\u001b[90m<chr>\u001b[39m\u001b[23m \"Fundo de Renda Fixa\", NA, NA, \"Fundo de Renda Fixa\"…\n",
            "$ DT_INI_CLASSE    \u001b[3m\u001b[90m<date>\u001b[39m\u001b[23m 2016-03-23, NA, NA, 2005-03-24, NA, 2015-10-19, NA,…\n",
            "$ RENTAB_FUNDO     \u001b[3m\u001b[90m<chr>\u001b[39m\u001b[23m \"DI de um dia\", NA, NA, \"DI de um dia\", NA, \"DI de u…\n",
            "$ CONDOM           \u001b[3m\u001b[90m<chr>\u001b[39m\u001b[23m \"Aberto\", NA, NA, \"Aberto\", NA, \"Aberto\", NA, \"Abert…\n",
            "$ FUNDO_COTAS      \u001b[3m\u001b[90m<chr>\u001b[39m\u001b[23m \"S\", NA, NA, \"S\", NA, \"N\", NA, \"S\", \"N\", NA, \"S\", NA…\n",
            "$ FUNDO_EXCLUSIVO  \u001b[3m\u001b[90m<chr>\u001b[39m\u001b[23m \"N\", NA, NA, \"N\", NA, \"N\", NA, \"N\", \"N\", NA, \"N\", NA…\n",
            "$ TRIB_LPRAZO      \u001b[3m\u001b[90m<chr>\u001b[39m\u001b[23m \"N\", NA, NA, \"N\", NA, \"N\", NA, NA, \"N\", NA, \"N\", NA,…\n",
            "$ INVEST_QUALIF    \u001b[3m\u001b[90m<chr>\u001b[39m\u001b[23m \"N\", NA, NA, \"N\", NA, \"N\", NA, \"N\", \"N\", NA, \"N\", NA…\n",
            "$ TAXA_PERFM       \u001b[3m\u001b[90m<dbl>\u001b[39m\u001b[23m 0, NA, NA, 0, NA, 0, NA, 0, 0, NA, 0, NA, 0, NA, 0, …\n",
            "$ INF_TAXA_PERFM   \u001b[3m\u001b[90m<chr>\u001b[39m\u001b[23m NA, NA, NA, NA, NA, NA, NA, NA, NA, NA, NA, NA, NA, …\n",
            "$ TAXA_ADM         \u001b[3m\u001b[90m<chr>\u001b[39m\u001b[23m \"2.25\", NA, NA, \"2\", NA, \"2.5\", NA, \"2\", \"0.18\", NA,…\n",
            "$ INF_TAXA_ADM     \u001b[3m\u001b[90m<chr>\u001b[39m\u001b[23m NA, NA, NA, NA, NA, NA, NA, NA, NA, NA, NA, NA, NA, …\n",
            "$ VL_PATRIM_LIQ    \u001b[3m\u001b[90m<chr>\u001b[39m\u001b[23m \"28500618701.01\", NA, NA, \"14273810591.10\", NA, \"179…\n",
            "$ DT_PATRIM_LIQ    \u001b[3m\u001b[90m<date>\u001b[39m\u001b[23m 2020-05-29, NA, NA, 2020-05-29, NA, 2020-05-29, NA,…\n",
            "$ TP_FUNDO         \u001b[3m\u001b[90m<chr>\u001b[39m\u001b[23m NA, \"FACFIF\", NA, NA, \"FACFIF\", NA, \"FIF\", NA, NA, \"…\n"
          ],
          "name": "stdout"
        }
      ]
    },
    {
      "cell_type": "code",
      "metadata": {
        "id": "RyyxMZgKC6F8",
        "colab_type": "code",
        "outputId": "7bf7c32e-bcdd-4509-e7df-adce06b473b6",
        "colab": {
          "base_uri": "https://localhost:8080/",
          "height": 467
        }
      },
      "source": [
        "head(relacao_fundos, 3)"
      ],
      "execution_count": 0,
      "outputs": [
        {
          "output_type": "display_data",
          "data": {
            "text/plain": [
              "  ident_ativo    nm_ativo                       eh_fundo_vedado nm_fundo\n",
              "1 00071477000168  BB RF CP AUTOMATICO           0               NA      \n",
              "2 00071477000168  BB RF CP AUTOMATICO           0               NA      \n",
              "3 00360305000104  CAIXA FI BRASIL IRF-M 1 TP RF 0               NA      \n",
              "  cnpj_admin cnpj_gestor enquad_sprev enquad_sprev_pad atende_art15\n",
              "1 NA         NA          NA           NA               NA          \n",
              "2 NA         NA          NA           NA               NA          \n",
              "3 NA         NA          NA           NA               NA          \n",
              "  DENOM_SOCIAL                                                                                        \n",
              "1 BB RENDA FIXA CURTO PRAZO AUTOMÁTICO EMPRESA FUNDO DE INVESTIMENTO EM COTAS DE FUNDOS DE INVESTIMENT\n",
              "2 BB RENDA FIXA CURTO PRAZO AUTOMÁTICO EMPRESA FUNDO DE INVESTIMENTO EM COTAS DE FUNDOS DE INVESTIMENT\n",
              "3 NA                                                                                                  \n",
              "  ⋯ FUNDO_EXCLUSIVO TRIB_LPRAZO INVEST_QUALIF TAXA_PERFM INF_TAXA_PERFM\n",
              "1 ⋯ N               N           N              0         NA            \n",
              "2 ⋯ NA              NA          NA            NA         NA            \n",
              "3 ⋯ NA              NA          NA            NA         NA            \n",
              "  TAXA_ADM INF_TAXA_ADM VL_PATRIM_LIQ  DT_PATRIM_LIQ TP_FUNDO\n",
              "1 2.25     NA           28500618701.01 2020-05-29    NA      \n",
              "2 NA       NA           NA             <NA>          FACFIF  \n",
              "3 NA       NA           NA             <NA>          NA      "
            ],
            "text/latex": "A tibble: 3 × 33\n\\begin{tabular}{lllllllllllllllllllll}\n ident\\_ativo & nm\\_ativo & eh\\_fundo\\_vedado & nm\\_fundo & cnpj\\_admin & cnpj\\_gestor & enquad\\_sprev & enquad\\_sprev\\_pad & atende\\_art15 & DENOM\\_SOCIAL & ⋯ & FUNDO\\_EXCLUSIVO & TRIB\\_LPRAZO & INVEST\\_QUALIF & TAXA\\_PERFM & INF\\_TAXA\\_PERFM & TAXA\\_ADM & INF\\_TAXA\\_ADM & VL\\_PATRIM\\_LIQ & DT\\_PATRIM\\_LIQ & TP\\_FUNDO\\\\\n <chr> & <chr> & <dbl> & <chr> & <chr> & <chr> & <chr> & <chr> & <dbl> & <chr> & ⋯ & <chr> & <chr> & <chr> & <dbl> & <chr> & <chr> & <chr> & <chr> & <date> & <chr>\\\\\n\\hline\n\t 00071477000168 &  BB RF CP AUTOMATICO           & 0 & NA & NA & NA & NA & NA & NA & BB RENDA FIXA CURTO PRAZO AUTOMÁTICO EMPRESA FUNDO DE INVESTIMENTO EM COTAS DE FUNDOS DE INVESTIMENT & ⋯ & N  & N  & N  &  0 & NA & 2.25 & NA & 28500618701.01 & 2020-05-29 & NA    \\\\\n\t 00071477000168 &  BB RF CP AUTOMATICO           & 0 & NA & NA & NA & NA & NA & NA & BB RENDA FIXA CURTO PRAZO AUTOMÁTICO EMPRESA FUNDO DE INVESTIMENTO EM COTAS DE FUNDOS DE INVESTIMENT & ⋯ & NA & NA & NA & NA & NA & NA   & NA & NA             & NA & FACFIF\\\\\n\t 00360305000104 &  CAIXA FI BRASIL IRF-M 1 TP RF & 0 & NA & NA & NA & NA & NA & NA & NA                                                                                                   & ⋯ & NA & NA & NA & NA & NA & NA   & NA & NA             & NA & NA    \\\\\n\\end{tabular}\n",
            "text/markdown": "\nA tibble: 3 × 33\n\n| ident_ativo &lt;chr&gt; | nm_ativo &lt;chr&gt; | eh_fundo_vedado &lt;dbl&gt; | nm_fundo &lt;chr&gt; | cnpj_admin &lt;chr&gt; | cnpj_gestor &lt;chr&gt; | enquad_sprev &lt;chr&gt; | enquad_sprev_pad &lt;chr&gt; | atende_art15 &lt;dbl&gt; | DENOM_SOCIAL &lt;chr&gt; | ⋯ ⋯ | FUNDO_EXCLUSIVO &lt;chr&gt; | TRIB_LPRAZO &lt;chr&gt; | INVEST_QUALIF &lt;chr&gt; | TAXA_PERFM &lt;dbl&gt; | INF_TAXA_PERFM &lt;chr&gt; | TAXA_ADM &lt;chr&gt; | INF_TAXA_ADM &lt;chr&gt; | VL_PATRIM_LIQ &lt;chr&gt; | DT_PATRIM_LIQ &lt;date&gt; | TP_FUNDO &lt;chr&gt; |\n|---|---|---|---|---|---|---|---|---|---|---|---|---|---|---|---|---|---|---|---|---|\n| 00071477000168 |  BB RF CP AUTOMATICO           | 0 | NA | NA | NA | NA | NA | NA | BB RENDA FIXA CURTO PRAZO AUTOMÁTICO EMPRESA FUNDO DE INVESTIMENTO EM COTAS DE FUNDOS DE INVESTIMENT | ⋯ | N  | N  | N  |  0 | NA | 2.25 | NA | 28500618701.01 | 2020-05-29 | NA     |\n| 00071477000168 |  BB RF CP AUTOMATICO           | 0 | NA | NA | NA | NA | NA | NA | BB RENDA FIXA CURTO PRAZO AUTOMÁTICO EMPRESA FUNDO DE INVESTIMENTO EM COTAS DE FUNDOS DE INVESTIMENT | ⋯ | NA | NA | NA | NA | NA | NA   | NA | NA             | NA | FACFIF |\n| 00360305000104 |  CAIXA FI BRASIL IRF-M 1 TP RF | 0 | NA | NA | NA | NA | NA | NA | NA                                                                                                   | ⋯ | NA | NA | NA | NA | NA | NA   | NA | NA             | NA | NA     |\n\n",
            "text/html": [
              "<table>\n",
              "<caption>A tibble: 3 × 33</caption>\n",
              "<thead>\n",
              "\t<tr><th scope=col>ident_ativo</th><th scope=col>nm_ativo</th><th scope=col>eh_fundo_vedado</th><th scope=col>nm_fundo</th><th scope=col>cnpj_admin</th><th scope=col>cnpj_gestor</th><th scope=col>enquad_sprev</th><th scope=col>enquad_sprev_pad</th><th scope=col>atende_art15</th><th scope=col>DENOM_SOCIAL</th><th scope=col>⋯</th><th scope=col>FUNDO_EXCLUSIVO</th><th scope=col>TRIB_LPRAZO</th><th scope=col>INVEST_QUALIF</th><th scope=col>TAXA_PERFM</th><th scope=col>INF_TAXA_PERFM</th><th scope=col>TAXA_ADM</th><th scope=col>INF_TAXA_ADM</th><th scope=col>VL_PATRIM_LIQ</th><th scope=col>DT_PATRIM_LIQ</th><th scope=col>TP_FUNDO</th></tr>\n",
              "\t<tr><th scope=col>&lt;chr&gt;</th><th scope=col>&lt;chr&gt;</th><th scope=col>&lt;dbl&gt;</th><th scope=col>&lt;chr&gt;</th><th scope=col>&lt;chr&gt;</th><th scope=col>&lt;chr&gt;</th><th scope=col>&lt;chr&gt;</th><th scope=col>&lt;chr&gt;</th><th scope=col>&lt;dbl&gt;</th><th scope=col>&lt;chr&gt;</th><th scope=col>⋯</th><th scope=col>&lt;chr&gt;</th><th scope=col>&lt;chr&gt;</th><th scope=col>&lt;chr&gt;</th><th scope=col>&lt;dbl&gt;</th><th scope=col>&lt;chr&gt;</th><th scope=col>&lt;chr&gt;</th><th scope=col>&lt;chr&gt;</th><th scope=col>&lt;chr&gt;</th><th scope=col>&lt;date&gt;</th><th scope=col>&lt;chr&gt;</th></tr>\n",
              "</thead>\n",
              "<tbody>\n",
              "\t<tr><td>00071477000168</td><td> BB RF CP AUTOMATICO          </td><td>0</td><td>NA</td><td>NA</td><td>NA</td><td>NA</td><td>NA</td><td>NA</td><td>BB RENDA FIXA CURTO PRAZO AUTOMÁTICO EMPRESA FUNDO DE INVESTIMENTO EM COTAS DE FUNDOS DE INVESTIMENT</td><td>⋯</td><td>N </td><td>N </td><td>N </td><td> 0</td><td>NA</td><td>2.25</td><td>NA</td><td>28500618701.01</td><td>2020-05-29</td><td>NA    </td></tr>\n",
              "\t<tr><td>00071477000168</td><td> BB RF CP AUTOMATICO          </td><td>0</td><td>NA</td><td>NA</td><td>NA</td><td>NA</td><td>NA</td><td>NA</td><td>BB RENDA FIXA CURTO PRAZO AUTOMÁTICO EMPRESA FUNDO DE INVESTIMENTO EM COTAS DE FUNDOS DE INVESTIMENT</td><td>⋯</td><td>NA</td><td>NA</td><td>NA</td><td>NA</td><td>NA</td><td>NA  </td><td>NA</td><td>NA            </td><td>NA</td><td>FACFIF</td></tr>\n",
              "\t<tr><td>00360305000104</td><td> CAIXA FI BRASIL IRF-M 1 TP RF</td><td>0</td><td>NA</td><td>NA</td><td>NA</td><td>NA</td><td>NA</td><td>NA</td><td>NA                                                                                                  </td><td>⋯</td><td>NA</td><td>NA</td><td>NA</td><td>NA</td><td>NA</td><td>NA  </td><td>NA</td><td>NA            </td><td>NA</td><td>NA    </td></tr>\n",
              "</tbody>\n",
              "</table>\n"
            ]
          },
          "metadata": {
            "tags": []
          }
        }
      ]
    },
    {
      "cell_type": "markdown",
      "metadata": {
        "id": "D8zbHQgODJxJ",
        "colab_type": "text"
      },
      "source": [
        "A base de dados **`relacao_fundos`** contem os fundos de investimentos nos quais ao menos um RPPS constante da base de dados do DAIR possui recursos aplicados. \n",
        "\n",
        "Vamos incluir na base de dados a quantidade de RPPS que possuem recursos aplicados em cada fundo de investimento. Esta informação está contida na base de dados `rpps_invest`."
      ]
    },
    {
      "cell_type": "code",
      "metadata": {
        "id": "xCQWVJyT0lZC",
        "colab_type": "code",
        "outputId": "e6de1113-82a6-4694-e9da-13fa07fdac60",
        "colab": {
          "base_uri": "https://localhost:8080/",
          "height": 836
        }
      },
      "source": [
        "relacao_fundos <- relacao_fundos %>%\n",
        "                      left_join(rpps_invest, by=\"ident_ativo\")\n",
        "head(relacao_fundos)"
      ],
      "execution_count": 0,
      "outputs": [
        {
          "output_type": "display_data",
          "data": {
            "text/plain": [
              "  ident_ativo    nm_ativo                                  eh_fundo_vedado\n",
              "1 00071477000168  BB RF CP AUTOMATICO                      0              \n",
              "2 00071477000168  BB RF CP AUTOMATICO                      0              \n",
              "3 00360305000104  CAIXA FI BRASIL IRF-M 1 TP RF            0              \n",
              "4 00756851000169  BB ÁGIL FIC RENDA FIXA REFERENCIADO DI   0              \n",
              "5 00756851000169  BB ÁGIL FIC RENDA FIXA REFERENCIADO DI   0              \n",
              "6 00812433000141  BNB AUTOMÁTICO FI RENDA FIXA CURTO PRAZO 0              \n",
              "  nm_fundo                                                                                   \n",
              "1 NA                                                                                         \n",
              "2 NA                                                                                         \n",
              "3 NA                                                                                         \n",
              "4 BB RENDA FIXA REFERENCIADO DI ÁGIL FUNDO DE INVESTIMENTO EM COTAS DE FUNDOS DE INVESTIMENTO\n",
              "5 BB RENDA FIXA REFERENCIADO DI ÁGIL FUNDO DE INVESTIMENTO EM COTAS DE FUNDOS DE INVESTIMENTO\n",
              "6 BNB AUTOMÁTICO FUNDO DE INVESTIMENTO RENDA FIXA CURTO PRAZO                                \n",
              "  cnpj_admin cnpj_gestor enquad_sprev              enquad_sprev_pad\n",
              "1 NA         NA          NA                        NA              \n",
              "2 NA         NA          NA                        NA              \n",
              "3 NA         NA          NA                        NA              \n",
              "4 30822936   30822936    Artigo 7º, Inciso IV, 'a' ART7IVA         \n",
              "5 30822936   30822936    Artigo 7º, Inciso IV, 'a' ART7IVA         \n",
              "6 62318407   07237373    Artigo 7º, Inciso IV, 'a' ART7IVA         \n",
              "  atende_art15\n",
              "1 NA          \n",
              "2 NA          \n",
              "3 NA          \n",
              "4  1          \n",
              "5  1          \n",
              "6  1          \n",
              "  DENOM_SOCIAL                                                                                        \n",
              "1 BB RENDA FIXA CURTO PRAZO AUTOMÁTICO EMPRESA FUNDO DE INVESTIMENTO EM COTAS DE FUNDOS DE INVESTIMENT\n",
              "2 BB RENDA FIXA CURTO PRAZO AUTOMÁTICO EMPRESA FUNDO DE INVESTIMENTO EM COTAS DE FUNDOS DE INVESTIMENT\n",
              "3 NA                                                                                                  \n",
              "4 BB RENDA FIXA REFERENCIADO DI ÁGIL FUNDO DE INVESTIMENTO EM COTAS DE FUNDOS DE INVESTIMENTO         \n",
              "5 BB RENDA FIXA REFERENCIADO DI ÁGIL FUNDO DE INVESTIMENTO EM COTAS DE FUNDOS DE INVESTIMENTO         \n",
              "6 BNB AUTOMÁTICO FUNDO DE INVESTIMENTO RENDA FIXA CURTO PRAZO                                         \n",
              "  ⋯ TRIB_LPRAZO INVEST_QUALIF TAXA_PERFM INF_TAXA_PERFM TAXA_ADM INF_TAXA_ADM\n",
              "1 ⋯ N           N              0         NA             2.25     NA          \n",
              "2 ⋯ NA          NA            NA         NA             NA       NA          \n",
              "3 ⋯ NA          NA            NA         NA             NA       NA          \n",
              "4 ⋯ N           N              0         NA             2        NA          \n",
              "5 ⋯ NA          NA            NA         NA             NA       NA          \n",
              "6 ⋯ N           N              0         NA             2.5      NA          \n",
              "  VL_PATRIM_LIQ  DT_PATRIM_LIQ TP_FUNDO qtd_rpps_investindo\n",
              "1 28500618701.01 2020-05-29    NA       1                  \n",
              "2 NA             <NA>          FACFIF   1                  \n",
              "3 NA             <NA>          NA       7                  \n",
              "4 14273810591.10 2020-05-29    NA       3                  \n",
              "5 NA             <NA>          FACFIF   3                  \n",
              "6 1797051463.53  2020-05-29    NA       2                  "
            ],
            "text/latex": "A tibble: 6 × 34\n\\begin{tabular}{lllllllllllllllllllll}\n ident\\_ativo & nm\\_ativo & eh\\_fundo\\_vedado & nm\\_fundo & cnpj\\_admin & cnpj\\_gestor & enquad\\_sprev & enquad\\_sprev\\_pad & atende\\_art15 & DENOM\\_SOCIAL & ⋯ & TRIB\\_LPRAZO & INVEST\\_QUALIF & TAXA\\_PERFM & INF\\_TAXA\\_PERFM & TAXA\\_ADM & INF\\_TAXA\\_ADM & VL\\_PATRIM\\_LIQ & DT\\_PATRIM\\_LIQ & TP\\_FUNDO & qtd\\_rpps\\_investindo\\\\\n <chr> & <chr> & <dbl> & <chr> & <chr> & <chr> & <chr> & <chr> & <dbl> & <chr> & ⋯ & <chr> & <chr> & <dbl> & <chr> & <chr> & <chr> & <chr> & <date> & <chr> & <int>\\\\\n\\hline\n\t 00071477000168 &  BB RF CP AUTOMATICO                      & 0 & NA                                                                                          & NA       & NA       & NA                        & NA      & NA & BB RENDA FIXA CURTO PRAZO AUTOMÁTICO EMPRESA FUNDO DE INVESTIMENTO EM COTAS DE FUNDOS DE INVESTIMENT & ⋯ & N  & N  &  0 & NA & 2.25 & NA & 28500618701.01 & 2020-05-29 & NA     & 1\\\\\n\t 00071477000168 &  BB RF CP AUTOMATICO                      & 0 & NA                                                                                          & NA       & NA       & NA                        & NA      & NA & BB RENDA FIXA CURTO PRAZO AUTOMÁTICO EMPRESA FUNDO DE INVESTIMENTO EM COTAS DE FUNDOS DE INVESTIMENT & ⋯ & NA & NA & NA & NA & NA   & NA & NA             & NA & FACFIF & 1\\\\\n\t 00360305000104 &  CAIXA FI BRASIL IRF-M 1 TP RF            & 0 & NA                                                                                          & NA       & NA       & NA                        & NA      & NA & NA                                                                                                   & ⋯ & NA & NA & NA & NA & NA   & NA & NA             & NA & NA     & 7\\\\\n\t 00756851000169 &  BB ÁGIL FIC RENDA FIXA REFERENCIADO DI   & 0 & BB RENDA FIXA REFERENCIADO DI ÁGIL FUNDO DE INVESTIMENTO EM COTAS DE FUNDOS DE INVESTIMENTO & 30822936 & 30822936 & Artigo 7º, Inciso IV, 'a' & ART7IVA &  1 & BB RENDA FIXA REFERENCIADO DI ÁGIL FUNDO DE INVESTIMENTO EM COTAS DE FUNDOS DE INVESTIMENTO          & ⋯ & N  & N  &  0 & NA & 2    & NA & 14273810591.10 & 2020-05-29 & NA     & 3\\\\\n\t 00756851000169 &  BB ÁGIL FIC RENDA FIXA REFERENCIADO DI   & 0 & BB RENDA FIXA REFERENCIADO DI ÁGIL FUNDO DE INVESTIMENTO EM COTAS DE FUNDOS DE INVESTIMENTO & 30822936 & 30822936 & Artigo 7º, Inciso IV, 'a' & ART7IVA &  1 & BB RENDA FIXA REFERENCIADO DI ÁGIL FUNDO DE INVESTIMENTO EM COTAS DE FUNDOS DE INVESTIMENTO          & ⋯ & NA & NA & NA & NA & NA   & NA & NA             & NA & FACFIF & 3\\\\\n\t 00812433000141 &  BNB AUTOMÁTICO FI RENDA FIXA CURTO PRAZO & 0 & BNB AUTOMÁTICO FUNDO DE INVESTIMENTO RENDA FIXA CURTO PRAZO                                 & 62318407 & 07237373 & Artigo 7º, Inciso IV, 'a' & ART7IVA &  1 & BNB AUTOMÁTICO FUNDO DE INVESTIMENTO RENDA FIXA CURTO PRAZO                                          & ⋯ & N  & N  &  0 & NA & 2.5  & NA & 1797051463.53  & 2020-05-29 & NA     & 2\\\\\n\\end{tabular}\n",
            "text/markdown": "\nA tibble: 6 × 34\n\n| ident_ativo &lt;chr&gt; | nm_ativo &lt;chr&gt; | eh_fundo_vedado &lt;dbl&gt; | nm_fundo &lt;chr&gt; | cnpj_admin &lt;chr&gt; | cnpj_gestor &lt;chr&gt; | enquad_sprev &lt;chr&gt; | enquad_sprev_pad &lt;chr&gt; | atende_art15 &lt;dbl&gt; | DENOM_SOCIAL &lt;chr&gt; | ⋯ ⋯ | TRIB_LPRAZO &lt;chr&gt; | INVEST_QUALIF &lt;chr&gt; | TAXA_PERFM &lt;dbl&gt; | INF_TAXA_PERFM &lt;chr&gt; | TAXA_ADM &lt;chr&gt; | INF_TAXA_ADM &lt;chr&gt; | VL_PATRIM_LIQ &lt;chr&gt; | DT_PATRIM_LIQ &lt;date&gt; | TP_FUNDO &lt;chr&gt; | qtd_rpps_investindo &lt;int&gt; |\n|---|---|---|---|---|---|---|---|---|---|---|---|---|---|---|---|---|---|---|---|---|\n| 00071477000168 |  BB RF CP AUTOMATICO                      | 0 | NA                                                                                          | NA       | NA       | NA                        | NA      | NA | BB RENDA FIXA CURTO PRAZO AUTOMÁTICO EMPRESA FUNDO DE INVESTIMENTO EM COTAS DE FUNDOS DE INVESTIMENT | ⋯ | N  | N  |  0 | NA | 2.25 | NA | 28500618701.01 | 2020-05-29 | NA     | 1 |\n| 00071477000168 |  BB RF CP AUTOMATICO                      | 0 | NA                                                                                          | NA       | NA       | NA                        | NA      | NA | BB RENDA FIXA CURTO PRAZO AUTOMÁTICO EMPRESA FUNDO DE INVESTIMENTO EM COTAS DE FUNDOS DE INVESTIMENT | ⋯ | NA | NA | NA | NA | NA   | NA | NA             | NA | FACFIF | 1 |\n| 00360305000104 |  CAIXA FI BRASIL IRF-M 1 TP RF            | 0 | NA                                                                                          | NA       | NA       | NA                        | NA      | NA | NA                                                                                                   | ⋯ | NA | NA | NA | NA | NA   | NA | NA             | NA | NA     | 7 |\n| 00756851000169 |  BB ÁGIL FIC RENDA FIXA REFERENCIADO DI   | 0 | BB RENDA FIXA REFERENCIADO DI ÁGIL FUNDO DE INVESTIMENTO EM COTAS DE FUNDOS DE INVESTIMENTO | 30822936 | 30822936 | Artigo 7º, Inciso IV, 'a' | ART7IVA |  1 | BB RENDA FIXA REFERENCIADO DI ÁGIL FUNDO DE INVESTIMENTO EM COTAS DE FUNDOS DE INVESTIMENTO          | ⋯ | N  | N  |  0 | NA | 2    | NA | 14273810591.10 | 2020-05-29 | NA     | 3 |\n| 00756851000169 |  BB ÁGIL FIC RENDA FIXA REFERENCIADO DI   | 0 | BB RENDA FIXA REFERENCIADO DI ÁGIL FUNDO DE INVESTIMENTO EM COTAS DE FUNDOS DE INVESTIMENTO | 30822936 | 30822936 | Artigo 7º, Inciso IV, 'a' | ART7IVA |  1 | BB RENDA FIXA REFERENCIADO DI ÁGIL FUNDO DE INVESTIMENTO EM COTAS DE FUNDOS DE INVESTIMENTO          | ⋯ | NA | NA | NA | NA | NA   | NA | NA             | NA | FACFIF | 3 |\n| 00812433000141 |  BNB AUTOMÁTICO FI RENDA FIXA CURTO PRAZO | 0 | BNB AUTOMÁTICO FUNDO DE INVESTIMENTO RENDA FIXA CURTO PRAZO                                 | 62318407 | 07237373 | Artigo 7º, Inciso IV, 'a' | ART7IVA |  1 | BNB AUTOMÁTICO FUNDO DE INVESTIMENTO RENDA FIXA CURTO PRAZO                                          | ⋯ | N  | N  |  0 | NA | 2.5  | NA | 1797051463.53  | 2020-05-29 | NA     | 2 |\n\n",
            "text/html": [
              "<table>\n",
              "<caption>A tibble: 6 × 34</caption>\n",
              "<thead>\n",
              "\t<tr><th scope=col>ident_ativo</th><th scope=col>nm_ativo</th><th scope=col>eh_fundo_vedado</th><th scope=col>nm_fundo</th><th scope=col>cnpj_admin</th><th scope=col>cnpj_gestor</th><th scope=col>enquad_sprev</th><th scope=col>enquad_sprev_pad</th><th scope=col>atende_art15</th><th scope=col>DENOM_SOCIAL</th><th scope=col>⋯</th><th scope=col>TRIB_LPRAZO</th><th scope=col>INVEST_QUALIF</th><th scope=col>TAXA_PERFM</th><th scope=col>INF_TAXA_PERFM</th><th scope=col>TAXA_ADM</th><th scope=col>INF_TAXA_ADM</th><th scope=col>VL_PATRIM_LIQ</th><th scope=col>DT_PATRIM_LIQ</th><th scope=col>TP_FUNDO</th><th scope=col>qtd_rpps_investindo</th></tr>\n",
              "\t<tr><th scope=col>&lt;chr&gt;</th><th scope=col>&lt;chr&gt;</th><th scope=col>&lt;dbl&gt;</th><th scope=col>&lt;chr&gt;</th><th scope=col>&lt;chr&gt;</th><th scope=col>&lt;chr&gt;</th><th scope=col>&lt;chr&gt;</th><th scope=col>&lt;chr&gt;</th><th scope=col>&lt;dbl&gt;</th><th scope=col>&lt;chr&gt;</th><th scope=col>⋯</th><th scope=col>&lt;chr&gt;</th><th scope=col>&lt;chr&gt;</th><th scope=col>&lt;dbl&gt;</th><th scope=col>&lt;chr&gt;</th><th scope=col>&lt;chr&gt;</th><th scope=col>&lt;chr&gt;</th><th scope=col>&lt;chr&gt;</th><th scope=col>&lt;date&gt;</th><th scope=col>&lt;chr&gt;</th><th scope=col>&lt;int&gt;</th></tr>\n",
              "</thead>\n",
              "<tbody>\n",
              "\t<tr><td>00071477000168</td><td> BB RF CP AUTOMATICO                     </td><td>0</td><td>NA                                                                                         </td><td>NA      </td><td>NA      </td><td>NA                       </td><td>NA     </td><td>NA</td><td>BB RENDA FIXA CURTO PRAZO AUTOMÁTICO EMPRESA FUNDO DE INVESTIMENTO EM COTAS DE FUNDOS DE INVESTIMENT</td><td>⋯</td><td>N </td><td>N </td><td> 0</td><td>NA</td><td>2.25</td><td>NA</td><td>28500618701.01</td><td>2020-05-29</td><td>NA    </td><td>1</td></tr>\n",
              "\t<tr><td>00071477000168</td><td> BB RF CP AUTOMATICO                     </td><td>0</td><td>NA                                                                                         </td><td>NA      </td><td>NA      </td><td>NA                       </td><td>NA     </td><td>NA</td><td>BB RENDA FIXA CURTO PRAZO AUTOMÁTICO EMPRESA FUNDO DE INVESTIMENTO EM COTAS DE FUNDOS DE INVESTIMENT</td><td>⋯</td><td>NA</td><td>NA</td><td>NA</td><td>NA</td><td>NA  </td><td>NA</td><td>NA            </td><td>NA</td><td>FACFIF</td><td>1</td></tr>\n",
              "\t<tr><td>00360305000104</td><td> CAIXA FI BRASIL IRF-M 1 TP RF           </td><td>0</td><td>NA                                                                                         </td><td>NA      </td><td>NA      </td><td>NA                       </td><td>NA     </td><td>NA</td><td>NA                                                                                                  </td><td>⋯</td><td>NA</td><td>NA</td><td>NA</td><td>NA</td><td>NA  </td><td>NA</td><td>NA            </td><td>NA</td><td>NA    </td><td>7</td></tr>\n",
              "\t<tr><td>00756851000169</td><td> BB ÁGIL FIC RENDA FIXA REFERENCIADO DI  </td><td>0</td><td>BB RENDA FIXA REFERENCIADO DI ÁGIL FUNDO DE INVESTIMENTO EM COTAS DE FUNDOS DE INVESTIMENTO</td><td>30822936</td><td>30822936</td><td>Artigo 7º, Inciso IV, 'a'</td><td>ART7IVA</td><td> 1</td><td>BB RENDA FIXA REFERENCIADO DI ÁGIL FUNDO DE INVESTIMENTO EM COTAS DE FUNDOS DE INVESTIMENTO         </td><td>⋯</td><td>N </td><td>N </td><td> 0</td><td>NA</td><td>2   </td><td>NA</td><td>14273810591.10</td><td>2020-05-29</td><td>NA    </td><td>3</td></tr>\n",
              "\t<tr><td>00756851000169</td><td> BB ÁGIL FIC RENDA FIXA REFERENCIADO DI  </td><td>0</td><td>BB RENDA FIXA REFERENCIADO DI ÁGIL FUNDO DE INVESTIMENTO EM COTAS DE FUNDOS DE INVESTIMENTO</td><td>30822936</td><td>30822936</td><td>Artigo 7º, Inciso IV, 'a'</td><td>ART7IVA</td><td> 1</td><td>BB RENDA FIXA REFERENCIADO DI ÁGIL FUNDO DE INVESTIMENTO EM COTAS DE FUNDOS DE INVESTIMENTO         </td><td>⋯</td><td>NA</td><td>NA</td><td>NA</td><td>NA</td><td>NA  </td><td>NA</td><td>NA            </td><td>NA</td><td>FACFIF</td><td>3</td></tr>\n",
              "\t<tr><td>00812433000141</td><td> BNB AUTOMÁTICO FI RENDA FIXA CURTO PRAZO</td><td>0</td><td>BNB AUTOMÁTICO FUNDO DE INVESTIMENTO RENDA FIXA CURTO PRAZO                                </td><td>62318407</td><td>07237373</td><td>Artigo 7º, Inciso IV, 'a'</td><td>ART7IVA</td><td> 1</td><td>BNB AUTOMÁTICO FUNDO DE INVESTIMENTO RENDA FIXA CURTO PRAZO                                         </td><td>⋯</td><td>N </td><td>N </td><td> 0</td><td>NA</td><td>2.5 </td><td>NA</td><td>1797051463.53 </td><td>2020-05-29</td><td>NA    </td><td>2</td></tr>\n",
              "</tbody>\n",
              "</table>\n"
            ]
          },
          "metadata": {
            "tags": []
          }
        }
      ]
    },
    {
      "cell_type": "markdown",
      "metadata": {
        "id": "I8sA1fwI1-FZ",
        "colab_type": "text"
      },
      "source": [
        "Agora vamos criar uma nova variável para indicar quais fundos estão na lista de fundos investigados."
      ]
    },
    {
      "cell_type": "code",
      "metadata": {
        "id": "hSoOQt3Y2LdH",
        "colab_type": "code",
        "outputId": "bca67a6c-d1fe-44cb-e5b5-d1f6334ec62e",
        "colab": {
          "base_uri": "https://localhost:8080/",
          "height": 836
        }
      },
      "source": [
        "relacao_fundos <- relacao_fundos %>%\n",
        "                    mutate(eh_investigado = ifelse(ident_ativo %in% fundos_investigados, 1, 0))\n",
        "\n",
        "head(relacao_fundos)"
      ],
      "execution_count": 0,
      "outputs": [
        {
          "output_type": "display_data",
          "data": {
            "text/plain": [
              "  ident_ativo    nm_ativo                                  eh_fundo_vedado\n",
              "1 00071477000168  BB RF CP AUTOMATICO                      0              \n",
              "2 00071477000168  BB RF CP AUTOMATICO                      0              \n",
              "3 00360305000104  CAIXA FI BRASIL IRF-M 1 TP RF            0              \n",
              "4 00756851000169  BB ÁGIL FIC RENDA FIXA REFERENCIADO DI   0              \n",
              "5 00756851000169  BB ÁGIL FIC RENDA FIXA REFERENCIADO DI   0              \n",
              "6 00812433000141  BNB AUTOMÁTICO FI RENDA FIXA CURTO PRAZO 0              \n",
              "  nm_fundo                                                                                   \n",
              "1 NA                                                                                         \n",
              "2 NA                                                                                         \n",
              "3 NA                                                                                         \n",
              "4 BB RENDA FIXA REFERENCIADO DI ÁGIL FUNDO DE INVESTIMENTO EM COTAS DE FUNDOS DE INVESTIMENTO\n",
              "5 BB RENDA FIXA REFERENCIADO DI ÁGIL FUNDO DE INVESTIMENTO EM COTAS DE FUNDOS DE INVESTIMENTO\n",
              "6 BNB AUTOMÁTICO FUNDO DE INVESTIMENTO RENDA FIXA CURTO PRAZO                                \n",
              "  cnpj_admin cnpj_gestor enquad_sprev              enquad_sprev_pad\n",
              "1 NA         NA          NA                        NA              \n",
              "2 NA         NA          NA                        NA              \n",
              "3 NA         NA          NA                        NA              \n",
              "4 30822936   30822936    Artigo 7º, Inciso IV, 'a' ART7IVA         \n",
              "5 30822936   30822936    Artigo 7º, Inciso IV, 'a' ART7IVA         \n",
              "6 62318407   07237373    Artigo 7º, Inciso IV, 'a' ART7IVA         \n",
              "  atende_art15\n",
              "1 NA          \n",
              "2 NA          \n",
              "3 NA          \n",
              "4  1          \n",
              "5  1          \n",
              "6  1          \n",
              "  DENOM_SOCIAL                                                                                        \n",
              "1 BB RENDA FIXA CURTO PRAZO AUTOMÁTICO EMPRESA FUNDO DE INVESTIMENTO EM COTAS DE FUNDOS DE INVESTIMENT\n",
              "2 BB RENDA FIXA CURTO PRAZO AUTOMÁTICO EMPRESA FUNDO DE INVESTIMENTO EM COTAS DE FUNDOS DE INVESTIMENT\n",
              "3 NA                                                                                                  \n",
              "4 BB RENDA FIXA REFERENCIADO DI ÁGIL FUNDO DE INVESTIMENTO EM COTAS DE FUNDOS DE INVESTIMENTO         \n",
              "5 BB RENDA FIXA REFERENCIADO DI ÁGIL FUNDO DE INVESTIMENTO EM COTAS DE FUNDOS DE INVESTIMENTO         \n",
              "6 BNB AUTOMÁTICO FUNDO DE INVESTIMENTO RENDA FIXA CURTO PRAZO                                         \n",
              "  ⋯ INVEST_QUALIF TAXA_PERFM INF_TAXA_PERFM TAXA_ADM INF_TAXA_ADM\n",
              "1 ⋯ N              0         NA             2.25     NA          \n",
              "2 ⋯ NA            NA         NA             NA       NA          \n",
              "3 ⋯ NA            NA         NA             NA       NA          \n",
              "4 ⋯ N              0         NA             2        NA          \n",
              "5 ⋯ NA            NA         NA             NA       NA          \n",
              "6 ⋯ N              0         NA             2.5      NA          \n",
              "  VL_PATRIM_LIQ  DT_PATRIM_LIQ TP_FUNDO qtd_rpps_investindo eh_investigado\n",
              "1 28500618701.01 2020-05-29    NA       1                   0             \n",
              "2 NA             <NA>          FACFIF   1                   0             \n",
              "3 NA             <NA>          NA       7                   0             \n",
              "4 14273810591.10 2020-05-29    NA       3                   0             \n",
              "5 NA             <NA>          FACFIF   3                   0             \n",
              "6 1797051463.53  2020-05-29    NA       2                   0             "
            ],
            "text/latex": "A tibble: 6 × 35\n\\begin{tabular}{lllllllllllllllllllll}\n ident\\_ativo & nm\\_ativo & eh\\_fundo\\_vedado & nm\\_fundo & cnpj\\_admin & cnpj\\_gestor & enquad\\_sprev & enquad\\_sprev\\_pad & atende\\_art15 & DENOM\\_SOCIAL & ⋯ & INVEST\\_QUALIF & TAXA\\_PERFM & INF\\_TAXA\\_PERFM & TAXA\\_ADM & INF\\_TAXA\\_ADM & VL\\_PATRIM\\_LIQ & DT\\_PATRIM\\_LIQ & TP\\_FUNDO & qtd\\_rpps\\_investindo & eh\\_investigado\\\\\n <chr> & <chr> & <dbl> & <chr> & <chr> & <chr> & <chr> & <chr> & <dbl> & <chr> & ⋯ & <chr> & <dbl> & <chr> & <chr> & <chr> & <chr> & <date> & <chr> & <int> & <dbl>\\\\\n\\hline\n\t 00071477000168 &  BB RF CP AUTOMATICO                      & 0 & NA                                                                                          & NA       & NA       & NA                        & NA      & NA & BB RENDA FIXA CURTO PRAZO AUTOMÁTICO EMPRESA FUNDO DE INVESTIMENTO EM COTAS DE FUNDOS DE INVESTIMENT & ⋯ & N  &  0 & NA & 2.25 & NA & 28500618701.01 & 2020-05-29 & NA     & 1 & 0\\\\\n\t 00071477000168 &  BB RF CP AUTOMATICO                      & 0 & NA                                                                                          & NA       & NA       & NA                        & NA      & NA & BB RENDA FIXA CURTO PRAZO AUTOMÁTICO EMPRESA FUNDO DE INVESTIMENTO EM COTAS DE FUNDOS DE INVESTIMENT & ⋯ & NA & NA & NA & NA   & NA & NA             & NA & FACFIF & 1 & 0\\\\\n\t 00360305000104 &  CAIXA FI BRASIL IRF-M 1 TP RF            & 0 & NA                                                                                          & NA       & NA       & NA                        & NA      & NA & NA                                                                                                   & ⋯ & NA & NA & NA & NA   & NA & NA             & NA & NA     & 7 & 0\\\\\n\t 00756851000169 &  BB ÁGIL FIC RENDA FIXA REFERENCIADO DI   & 0 & BB RENDA FIXA REFERENCIADO DI ÁGIL FUNDO DE INVESTIMENTO EM COTAS DE FUNDOS DE INVESTIMENTO & 30822936 & 30822936 & Artigo 7º, Inciso IV, 'a' & ART7IVA &  1 & BB RENDA FIXA REFERENCIADO DI ÁGIL FUNDO DE INVESTIMENTO EM COTAS DE FUNDOS DE INVESTIMENTO          & ⋯ & N  &  0 & NA & 2    & NA & 14273810591.10 & 2020-05-29 & NA     & 3 & 0\\\\\n\t 00756851000169 &  BB ÁGIL FIC RENDA FIXA REFERENCIADO DI   & 0 & BB RENDA FIXA REFERENCIADO DI ÁGIL FUNDO DE INVESTIMENTO EM COTAS DE FUNDOS DE INVESTIMENTO & 30822936 & 30822936 & Artigo 7º, Inciso IV, 'a' & ART7IVA &  1 & BB RENDA FIXA REFERENCIADO DI ÁGIL FUNDO DE INVESTIMENTO EM COTAS DE FUNDOS DE INVESTIMENTO          & ⋯ & NA & NA & NA & NA   & NA & NA             & NA & FACFIF & 3 & 0\\\\\n\t 00812433000141 &  BNB AUTOMÁTICO FI RENDA FIXA CURTO PRAZO & 0 & BNB AUTOMÁTICO FUNDO DE INVESTIMENTO RENDA FIXA CURTO PRAZO                                 & 62318407 & 07237373 & Artigo 7º, Inciso IV, 'a' & ART7IVA &  1 & BNB AUTOMÁTICO FUNDO DE INVESTIMENTO RENDA FIXA CURTO PRAZO                                          & ⋯ & N  &  0 & NA & 2.5  & NA & 1797051463.53  & 2020-05-29 & NA     & 2 & 0\\\\\n\\end{tabular}\n",
            "text/markdown": "\nA tibble: 6 × 35\n\n| ident_ativo &lt;chr&gt; | nm_ativo &lt;chr&gt; | eh_fundo_vedado &lt;dbl&gt; | nm_fundo &lt;chr&gt; | cnpj_admin &lt;chr&gt; | cnpj_gestor &lt;chr&gt; | enquad_sprev &lt;chr&gt; | enquad_sprev_pad &lt;chr&gt; | atende_art15 &lt;dbl&gt; | DENOM_SOCIAL &lt;chr&gt; | ⋯ ⋯ | INVEST_QUALIF &lt;chr&gt; | TAXA_PERFM &lt;dbl&gt; | INF_TAXA_PERFM &lt;chr&gt; | TAXA_ADM &lt;chr&gt; | INF_TAXA_ADM &lt;chr&gt; | VL_PATRIM_LIQ &lt;chr&gt; | DT_PATRIM_LIQ &lt;date&gt; | TP_FUNDO &lt;chr&gt; | qtd_rpps_investindo &lt;int&gt; | eh_investigado &lt;dbl&gt; |\n|---|---|---|---|---|---|---|---|---|---|---|---|---|---|---|---|---|---|---|---|---|\n| 00071477000168 |  BB RF CP AUTOMATICO                      | 0 | NA                                                                                          | NA       | NA       | NA                        | NA      | NA | BB RENDA FIXA CURTO PRAZO AUTOMÁTICO EMPRESA FUNDO DE INVESTIMENTO EM COTAS DE FUNDOS DE INVESTIMENT | ⋯ | N  |  0 | NA | 2.25 | NA | 28500618701.01 | 2020-05-29 | NA     | 1 | 0 |\n| 00071477000168 |  BB RF CP AUTOMATICO                      | 0 | NA                                                                                          | NA       | NA       | NA                        | NA      | NA | BB RENDA FIXA CURTO PRAZO AUTOMÁTICO EMPRESA FUNDO DE INVESTIMENTO EM COTAS DE FUNDOS DE INVESTIMENT | ⋯ | NA | NA | NA | NA   | NA | NA             | NA | FACFIF | 1 | 0 |\n| 00360305000104 |  CAIXA FI BRASIL IRF-M 1 TP RF            | 0 | NA                                                                                          | NA       | NA       | NA                        | NA      | NA | NA                                                                                                   | ⋯ | NA | NA | NA | NA   | NA | NA             | NA | NA     | 7 | 0 |\n| 00756851000169 |  BB ÁGIL FIC RENDA FIXA REFERENCIADO DI   | 0 | BB RENDA FIXA REFERENCIADO DI ÁGIL FUNDO DE INVESTIMENTO EM COTAS DE FUNDOS DE INVESTIMENTO | 30822936 | 30822936 | Artigo 7º, Inciso IV, 'a' | ART7IVA |  1 | BB RENDA FIXA REFERENCIADO DI ÁGIL FUNDO DE INVESTIMENTO EM COTAS DE FUNDOS DE INVESTIMENTO          | ⋯ | N  |  0 | NA | 2    | NA | 14273810591.10 | 2020-05-29 | NA     | 3 | 0 |\n| 00756851000169 |  BB ÁGIL FIC RENDA FIXA REFERENCIADO DI   | 0 | BB RENDA FIXA REFERENCIADO DI ÁGIL FUNDO DE INVESTIMENTO EM COTAS DE FUNDOS DE INVESTIMENTO | 30822936 | 30822936 | Artigo 7º, Inciso IV, 'a' | ART7IVA |  1 | BB RENDA FIXA REFERENCIADO DI ÁGIL FUNDO DE INVESTIMENTO EM COTAS DE FUNDOS DE INVESTIMENTO          | ⋯ | NA | NA | NA | NA   | NA | NA             | NA | FACFIF | 3 | 0 |\n| 00812433000141 |  BNB AUTOMÁTICO FI RENDA FIXA CURTO PRAZO | 0 | BNB AUTOMÁTICO FUNDO DE INVESTIMENTO RENDA FIXA CURTO PRAZO                                 | 62318407 | 07237373 | Artigo 7º, Inciso IV, 'a' | ART7IVA |  1 | BNB AUTOMÁTICO FUNDO DE INVESTIMENTO RENDA FIXA CURTO PRAZO                                          | ⋯ | N  |  0 | NA | 2.5  | NA | 1797051463.53  | 2020-05-29 | NA     | 2 | 0 |\n\n",
            "text/html": [
              "<table>\n",
              "<caption>A tibble: 6 × 35</caption>\n",
              "<thead>\n",
              "\t<tr><th scope=col>ident_ativo</th><th scope=col>nm_ativo</th><th scope=col>eh_fundo_vedado</th><th scope=col>nm_fundo</th><th scope=col>cnpj_admin</th><th scope=col>cnpj_gestor</th><th scope=col>enquad_sprev</th><th scope=col>enquad_sprev_pad</th><th scope=col>atende_art15</th><th scope=col>DENOM_SOCIAL</th><th scope=col>⋯</th><th scope=col>INVEST_QUALIF</th><th scope=col>TAXA_PERFM</th><th scope=col>INF_TAXA_PERFM</th><th scope=col>TAXA_ADM</th><th scope=col>INF_TAXA_ADM</th><th scope=col>VL_PATRIM_LIQ</th><th scope=col>DT_PATRIM_LIQ</th><th scope=col>TP_FUNDO</th><th scope=col>qtd_rpps_investindo</th><th scope=col>eh_investigado</th></tr>\n",
              "\t<tr><th scope=col>&lt;chr&gt;</th><th scope=col>&lt;chr&gt;</th><th scope=col>&lt;dbl&gt;</th><th scope=col>&lt;chr&gt;</th><th scope=col>&lt;chr&gt;</th><th scope=col>&lt;chr&gt;</th><th scope=col>&lt;chr&gt;</th><th scope=col>&lt;chr&gt;</th><th scope=col>&lt;dbl&gt;</th><th scope=col>&lt;chr&gt;</th><th scope=col>⋯</th><th scope=col>&lt;chr&gt;</th><th scope=col>&lt;dbl&gt;</th><th scope=col>&lt;chr&gt;</th><th scope=col>&lt;chr&gt;</th><th scope=col>&lt;chr&gt;</th><th scope=col>&lt;chr&gt;</th><th scope=col>&lt;date&gt;</th><th scope=col>&lt;chr&gt;</th><th scope=col>&lt;int&gt;</th><th scope=col>&lt;dbl&gt;</th></tr>\n",
              "</thead>\n",
              "<tbody>\n",
              "\t<tr><td>00071477000168</td><td> BB RF CP AUTOMATICO                     </td><td>0</td><td>NA                                                                                         </td><td>NA      </td><td>NA      </td><td>NA                       </td><td>NA     </td><td>NA</td><td>BB RENDA FIXA CURTO PRAZO AUTOMÁTICO EMPRESA FUNDO DE INVESTIMENTO EM COTAS DE FUNDOS DE INVESTIMENT</td><td>⋯</td><td>N </td><td> 0</td><td>NA</td><td>2.25</td><td>NA</td><td>28500618701.01</td><td>2020-05-29</td><td>NA    </td><td>1</td><td>0</td></tr>\n",
              "\t<tr><td>00071477000168</td><td> BB RF CP AUTOMATICO                     </td><td>0</td><td>NA                                                                                         </td><td>NA      </td><td>NA      </td><td>NA                       </td><td>NA     </td><td>NA</td><td>BB RENDA FIXA CURTO PRAZO AUTOMÁTICO EMPRESA FUNDO DE INVESTIMENTO EM COTAS DE FUNDOS DE INVESTIMENT</td><td>⋯</td><td>NA</td><td>NA</td><td>NA</td><td>NA  </td><td>NA</td><td>NA            </td><td>NA</td><td>FACFIF</td><td>1</td><td>0</td></tr>\n",
              "\t<tr><td>00360305000104</td><td> CAIXA FI BRASIL IRF-M 1 TP RF           </td><td>0</td><td>NA                                                                                         </td><td>NA      </td><td>NA      </td><td>NA                       </td><td>NA     </td><td>NA</td><td>NA                                                                                                  </td><td>⋯</td><td>NA</td><td>NA</td><td>NA</td><td>NA  </td><td>NA</td><td>NA            </td><td>NA</td><td>NA    </td><td>7</td><td>0</td></tr>\n",
              "\t<tr><td>00756851000169</td><td> BB ÁGIL FIC RENDA FIXA REFERENCIADO DI  </td><td>0</td><td>BB RENDA FIXA REFERENCIADO DI ÁGIL FUNDO DE INVESTIMENTO EM COTAS DE FUNDOS DE INVESTIMENTO</td><td>30822936</td><td>30822936</td><td>Artigo 7º, Inciso IV, 'a'</td><td>ART7IVA</td><td> 1</td><td>BB RENDA FIXA REFERENCIADO DI ÁGIL FUNDO DE INVESTIMENTO EM COTAS DE FUNDOS DE INVESTIMENTO         </td><td>⋯</td><td>N </td><td> 0</td><td>NA</td><td>2   </td><td>NA</td><td>14273810591.10</td><td>2020-05-29</td><td>NA    </td><td>3</td><td>0</td></tr>\n",
              "\t<tr><td>00756851000169</td><td> BB ÁGIL FIC RENDA FIXA REFERENCIADO DI  </td><td>0</td><td>BB RENDA FIXA REFERENCIADO DI ÁGIL FUNDO DE INVESTIMENTO EM COTAS DE FUNDOS DE INVESTIMENTO</td><td>30822936</td><td>30822936</td><td>Artigo 7º, Inciso IV, 'a'</td><td>ART7IVA</td><td> 1</td><td>BB RENDA FIXA REFERENCIADO DI ÁGIL FUNDO DE INVESTIMENTO EM COTAS DE FUNDOS DE INVESTIMENTO         </td><td>⋯</td><td>NA</td><td>NA</td><td>NA</td><td>NA  </td><td>NA</td><td>NA            </td><td>NA</td><td>FACFIF</td><td>3</td><td>0</td></tr>\n",
              "\t<tr><td>00812433000141</td><td> BNB AUTOMÁTICO FI RENDA FIXA CURTO PRAZO</td><td>0</td><td>BNB AUTOMÁTICO FUNDO DE INVESTIMENTO RENDA FIXA CURTO PRAZO                                </td><td>62318407</td><td>07237373</td><td>Artigo 7º, Inciso IV, 'a'</td><td>ART7IVA</td><td> 1</td><td>BNB AUTOMÁTICO FUNDO DE INVESTIMENTO RENDA FIXA CURTO PRAZO                                         </td><td>⋯</td><td>N </td><td> 0</td><td>NA</td><td>2.5 </td><td>NA</td><td>1797051463.53 </td><td>2020-05-29</td><td>NA    </td><td>2</td><td>0</td></tr>\n",
              "</tbody>\n",
              "</table>\n"
            ]
          },
          "metadata": {
            "tags": []
          }
        }
      ]
    },
    {
      "cell_type": "markdown",
      "metadata": {
        "id": "qRd3eD1-czNj",
        "colab_type": "text"
      },
      "source": [
        "## Dados das transações diárias dos fundos\n",
        "\n",
        "Vamos agora importar dados das transações diárias disponíveis no site de dados abertos da CVM: http://dados.cvm.gov.br/dataset/fi-doc-inf_diario\n"
      ]
    },
    {
      "cell_type": "code",
      "metadata": {
        "id": "Ggm8BdlAeLXk",
        "colab_type": "code",
        "outputId": "3266c5b1-0c11-4172-e90d-450155994738",
        "colab": {
          "base_uri": "https://localhost:8080/",
          "height": 221
        }
      },
      "source": [
        "trans2020_05 <- read_delim(\"http://dados.cvm.gov.br/dados/FI/DOC/INF_DIARIO/DADOS/inf_diario_fi_202005.csv\",\n",
        "                            delim = \";\",\n",
        "                            locale = locale(decimal_mark = \".\",\n",
        "                                            grouping_mark = \"\"))\n"
      ],
      "execution_count": 0,
      "outputs": [
        {
          "output_type": "stream",
          "text": [
            "Parsed with column specification:\n",
            "cols(\n",
            "  CNPJ_FUNDO = \u001b[31mcol_character()\u001b[39m,\n",
            "  DT_COMPTC = \u001b[34mcol_date(format = \"\")\u001b[39m,\n",
            "  VL_TOTAL = \u001b[32mcol_double()\u001b[39m,\n",
            "  VL_QUOTA = \u001b[32mcol_double()\u001b[39m,\n",
            "  VL_PATRIM_LIQ = \u001b[32mcol_double()\u001b[39m,\n",
            "  CAPTC_DIA = \u001b[32mcol_double()\u001b[39m,\n",
            "  RESG_DIA = \u001b[32mcol_double()\u001b[39m,\n",
            "  NR_COTST = \u001b[32mcol_double()\u001b[39m\n",
            ")\n",
            "\n"
          ],
          "name": "stderr"
        }
      ]
    },
    {
      "cell_type": "code",
      "metadata": {
        "id": "AK1FFSGLgrij",
        "colab_type": "code",
        "outputId": "c28f2c81-4886-469d-c464-c1c33a16a7b9",
        "colab": {
          "base_uri": "https://localhost:8080/",
          "height": 187
        }
      },
      "source": [
        "glimpse(trans2020_05)"
      ],
      "execution_count": 0,
      "outputs": [
        {
          "output_type": "stream",
          "text": [
            "Rows: 349,270\n",
            "Columns: 8\n",
            "$ CNPJ_FUNDO    \u001b[3m\u001b[90m<chr>\u001b[39m\u001b[23m \"00.017.024/0001-53\", \"00.017.024/0001-53\", \"00.017.024…\n",
            "$ DT_COMPTC     \u001b[3m\u001b[90m<date>\u001b[39m\u001b[23m 2020-05-04, 2020-05-05, 2020-05-06, 2020-05-07, 2020-0…\n",
            "$ VL_TOTAL      \u001b[3m\u001b[90m<dbl>\u001b[39m\u001b[23m 1124995, 1125158, 1125317, 1125478, 1125299, 1125428, 1…\n",
            "$ VL_QUOTA      \u001b[3m\u001b[90m<dbl>\u001b[39m\u001b[23m 27.42568, 27.42878, 27.43193, 27.43498, 27.43729, 27.43…\n",
            "$ VL_PATRIM_LIQ \u001b[3m\u001b[90m<dbl>\u001b[39m\u001b[23m 1119404, 1119530, 1119659, 1119784, 1119878, 1119971, 1…\n",
            "$ CAPTC_DIA     \u001b[3m\u001b[90m<dbl>\u001b[39m\u001b[23m 0.00, 0.00, 0.00, 0.00, 0.00, 0.00, 0.00, 0.00, 0.00, 0…\n",
            "$ RESG_DIA      \u001b[3m\u001b[90m<dbl>\u001b[39m\u001b[23m 0.00, 0.00, 0.00, 0.00, 0.00, 0.00, 0.00, 0.00, 0.00, 0…\n",
            "$ NR_COTST      \u001b[3m\u001b[90m<dbl>\u001b[39m\u001b[23m 1, 1, 1, 1, 1, 1, 1, 1, 1, 1, 1, 1, 1, 1, 1, 1, 1, 1, 1…\n"
          ],
          "name": "stdout"
        }
      ]
    },
    {
      "cell_type": "code",
      "metadata": {
        "id": "Nz-8ZuEQFyle",
        "colab_type": "code",
        "outputId": "37a716f6-37c2-4081-b6ff-e8529563fd0c",
        "colab": {
          "base_uri": "https://localhost:8080/",
          "height": 204
        }
      },
      "source": [
        "head(trans2020_05)"
      ],
      "execution_count": 0,
      "outputs": [
        {
          "output_type": "display_data",
          "data": {
            "text/plain": [
              "  CNPJ_FUNDO         DT_COMPTC  VL_TOTAL VL_QUOTA VL_PATRIM_LIQ CAPTC_DIA\n",
              "1 00.017.024/0001-53 2020-05-04 1124995  27.42568 1119404       0        \n",
              "2 00.017.024/0001-53 2020-05-05 1125158  27.42878 1119530       0        \n",
              "3 00.017.024/0001-53 2020-05-06 1125317  27.43193 1119659       0        \n",
              "4 00.017.024/0001-53 2020-05-07 1125478  27.43498 1119784       0        \n",
              "5 00.017.024/0001-53 2020-05-08 1125299  27.43729 1119878       0        \n",
              "6 00.017.024/0001-53 2020-05-11 1125428  27.43957 1119971       0        \n",
              "  RESG_DIA NR_COTST\n",
              "1 0        1       \n",
              "2 0        1       \n",
              "3 0        1       \n",
              "4 0        1       \n",
              "5 0        1       \n",
              "6 0        1       "
            ],
            "text/latex": "A tibble: 6 × 8\n\\begin{tabular}{llllllll}\n CNPJ\\_FUNDO & DT\\_COMPTC & VL\\_TOTAL & VL\\_QUOTA & VL\\_PATRIM\\_LIQ & CAPTC\\_DIA & RESG\\_DIA & NR\\_COTST\\\\\n <chr> & <date> & <dbl> & <dbl> & <dbl> & <dbl> & <dbl> & <dbl>\\\\\n\\hline\n\t 00.017.024/0001-53 & 2020-05-04 & 1124995 & 27.42568 & 1119404 & 0 & 0 & 1\\\\\n\t 00.017.024/0001-53 & 2020-05-05 & 1125158 & 27.42878 & 1119530 & 0 & 0 & 1\\\\\n\t 00.017.024/0001-53 & 2020-05-06 & 1125317 & 27.43193 & 1119659 & 0 & 0 & 1\\\\\n\t 00.017.024/0001-53 & 2020-05-07 & 1125478 & 27.43498 & 1119784 & 0 & 0 & 1\\\\\n\t 00.017.024/0001-53 & 2020-05-08 & 1125299 & 27.43729 & 1119878 & 0 & 0 & 1\\\\\n\t 00.017.024/0001-53 & 2020-05-11 & 1125428 & 27.43957 & 1119971 & 0 & 0 & 1\\\\\n\\end{tabular}\n",
            "text/markdown": "\nA tibble: 6 × 8\n\n| CNPJ_FUNDO &lt;chr&gt; | DT_COMPTC &lt;date&gt; | VL_TOTAL &lt;dbl&gt; | VL_QUOTA &lt;dbl&gt; | VL_PATRIM_LIQ &lt;dbl&gt; | CAPTC_DIA &lt;dbl&gt; | RESG_DIA &lt;dbl&gt; | NR_COTST &lt;dbl&gt; |\n|---|---|---|---|---|---|---|---|\n| 00.017.024/0001-53 | 2020-05-04 | 1124995 | 27.42568 | 1119404 | 0 | 0 | 1 |\n| 00.017.024/0001-53 | 2020-05-05 | 1125158 | 27.42878 | 1119530 | 0 | 0 | 1 |\n| 00.017.024/0001-53 | 2020-05-06 | 1125317 | 27.43193 | 1119659 | 0 | 0 | 1 |\n| 00.017.024/0001-53 | 2020-05-07 | 1125478 | 27.43498 | 1119784 | 0 | 0 | 1 |\n| 00.017.024/0001-53 | 2020-05-08 | 1125299 | 27.43729 | 1119878 | 0 | 0 | 1 |\n| 00.017.024/0001-53 | 2020-05-11 | 1125428 | 27.43957 | 1119971 | 0 | 0 | 1 |\n\n",
            "text/html": [
              "<table>\n",
              "<caption>A tibble: 6 × 8</caption>\n",
              "<thead>\n",
              "\t<tr><th scope=col>CNPJ_FUNDO</th><th scope=col>DT_COMPTC</th><th scope=col>VL_TOTAL</th><th scope=col>VL_QUOTA</th><th scope=col>VL_PATRIM_LIQ</th><th scope=col>CAPTC_DIA</th><th scope=col>RESG_DIA</th><th scope=col>NR_COTST</th></tr>\n",
              "\t<tr><th scope=col>&lt;chr&gt;</th><th scope=col>&lt;date&gt;</th><th scope=col>&lt;dbl&gt;</th><th scope=col>&lt;dbl&gt;</th><th scope=col>&lt;dbl&gt;</th><th scope=col>&lt;dbl&gt;</th><th scope=col>&lt;dbl&gt;</th><th scope=col>&lt;dbl&gt;</th></tr>\n",
              "</thead>\n",
              "<tbody>\n",
              "\t<tr><td>00.017.024/0001-53</td><td>2020-05-04</td><td>1124995</td><td>27.42568</td><td>1119404</td><td>0</td><td>0</td><td>1</td></tr>\n",
              "\t<tr><td>00.017.024/0001-53</td><td>2020-05-05</td><td>1125158</td><td>27.42878</td><td>1119530</td><td>0</td><td>0</td><td>1</td></tr>\n",
              "\t<tr><td>00.017.024/0001-53</td><td>2020-05-06</td><td>1125317</td><td>27.43193</td><td>1119659</td><td>0</td><td>0</td><td>1</td></tr>\n",
              "\t<tr><td>00.017.024/0001-53</td><td>2020-05-07</td><td>1125478</td><td>27.43498</td><td>1119784</td><td>0</td><td>0</td><td>1</td></tr>\n",
              "\t<tr><td>00.017.024/0001-53</td><td>2020-05-08</td><td>1125299</td><td>27.43729</td><td>1119878</td><td>0</td><td>0</td><td>1</td></tr>\n",
              "\t<tr><td>00.017.024/0001-53</td><td>2020-05-11</td><td>1125428</td><td>27.43957</td><td>1119971</td><td>0</td><td>0</td><td>1</td></tr>\n",
              "</tbody>\n",
              "</table>\n"
            ]
          },
          "metadata": {
            "tags": []
          }
        }
      ]
    },
    {
      "cell_type": "markdown",
      "metadata": {
        "id": "cgM0l5HjOA6s",
        "colab_type": "text"
      },
      "source": [
        "Para efeito de juntar à nossa base de dados as variáveis `NR_COTST` e `VL_PATRIM_LIQ` vamos pegar os registros relativos à data mais recente. "
      ]
    },
    {
      "cell_type": "code",
      "metadata": {
        "id": "fsW1zVR_ECny",
        "colab_type": "code",
        "outputId": "2fcb12c2-a2b2-47f1-bd61-9882cb134a9b",
        "colab": {
          "base_uri": "https://localhost:8080/",
          "height": 204
        }
      },
      "source": [
        "trans2020_05_tmp <- trans2020_05 %>%\n",
        "                        mutate(CNPJ_FUNDO = str_remove_all(CNPJ_FUNDO, \"[[:punct:]]\")) %>%\n",
        "                        filter(DT_COMPTC == max(DT_COMPTC)) %>%\n",
        "                        select(CNPJ_FUNDO, DT_COMPTC, VL_PATRIM_LIQ, NR_COTST)\n",
        "\n",
        "head(trans2020_05_tmp)"
      ],
      "execution_count": 0,
      "outputs": [
        {
          "output_type": "display_data",
          "data": {
            "text/plain": [
              "  CNPJ_FUNDO     DT_COMPTC  VL_PATRIM_LIQ NR_COTST\n",
              "1 00017024000153 2020-05-29     1118247        1  \n",
              "2 00068305000135 2020-05-29    52119853     7640  \n",
              "3 00071477000168 2020-05-29 28500618701   321474  \n",
              "4 00073041000108 2020-05-29    19385642      969  \n",
              "5 00083181000167 2020-05-29 12834060989        4  \n",
              "6 00102322000141 2020-05-29    56512432        1  "
            ],
            "text/latex": "A tibble: 6 × 4\n\\begin{tabular}{llll}\n CNPJ\\_FUNDO & DT\\_COMPTC & VL\\_PATRIM\\_LIQ & NR\\_COTST\\\\\n <chr> & <date> & <dbl> & <dbl>\\\\\n\\hline\n\t 00017024000153 & 2020-05-29 &     1118247 &      1\\\\\n\t 00068305000135 & 2020-05-29 &    52119853 &   7640\\\\\n\t 00071477000168 & 2020-05-29 & 28500618701 & 321474\\\\\n\t 00073041000108 & 2020-05-29 &    19385642 &    969\\\\\n\t 00083181000167 & 2020-05-29 & 12834060989 &      4\\\\\n\t 00102322000141 & 2020-05-29 &    56512432 &      1\\\\\n\\end{tabular}\n",
            "text/markdown": "\nA tibble: 6 × 4\n\n| CNPJ_FUNDO &lt;chr&gt; | DT_COMPTC &lt;date&gt; | VL_PATRIM_LIQ &lt;dbl&gt; | NR_COTST &lt;dbl&gt; |\n|---|---|---|---|\n| 00017024000153 | 2020-05-29 |     1118247 |      1 |\n| 00068305000135 | 2020-05-29 |    52119853 |   7640 |\n| 00071477000168 | 2020-05-29 | 28500618701 | 321474 |\n| 00073041000108 | 2020-05-29 |    19385642 |    969 |\n| 00083181000167 | 2020-05-29 | 12834060989 |      4 |\n| 00102322000141 | 2020-05-29 |    56512432 |      1 |\n\n",
            "text/html": [
              "<table>\n",
              "<caption>A tibble: 6 × 4</caption>\n",
              "<thead>\n",
              "\t<tr><th scope=col>CNPJ_FUNDO</th><th scope=col>DT_COMPTC</th><th scope=col>VL_PATRIM_LIQ</th><th scope=col>NR_COTST</th></tr>\n",
              "\t<tr><th scope=col>&lt;chr&gt;</th><th scope=col>&lt;date&gt;</th><th scope=col>&lt;dbl&gt;</th><th scope=col>&lt;dbl&gt;</th></tr>\n",
              "</thead>\n",
              "<tbody>\n",
              "\t<tr><td>00017024000153</td><td>2020-05-29</td><td>    1118247</td><td>     1</td></tr>\n",
              "\t<tr><td>00068305000135</td><td>2020-05-29</td><td>   52119853</td><td>  7640</td></tr>\n",
              "\t<tr><td>00071477000168</td><td>2020-05-29</td><td>28500618701</td><td>321474</td></tr>\n",
              "\t<tr><td>00073041000108</td><td>2020-05-29</td><td>   19385642</td><td>   969</td></tr>\n",
              "\t<tr><td>00083181000167</td><td>2020-05-29</td><td>12834060989</td><td>     4</td></tr>\n",
              "\t<tr><td>00102322000141</td><td>2020-05-29</td><td>   56512432</td><td>     1</td></tr>\n",
              "</tbody>\n",
              "</table>\n"
            ]
          },
          "metadata": {
            "tags": []
          }
        }
      ]
    },
    {
      "cell_type": "code",
      "metadata": {
        "id": "qpU6MVVtFkub",
        "colab_type": "code",
        "colab": {}
      },
      "source": [
        "relacao_fundos <- relacao_fundos %>%\n",
        "                    left_join(trans2020_05_tmp, by=c(\"ident_ativo\" = \"CNPJ_FUNDO\"))"
      ],
      "execution_count": 0,
      "outputs": []
    },
    {
      "cell_type": "code",
      "metadata": {
        "id": "CQ_Gq6LMGBx9",
        "colab_type": "code",
        "outputId": "f590fbd6-3967-4e45-9dd2-2a379175464c",
        "colab": {
          "base_uri": "https://localhost:8080/",
          "height": 1000
        }
      },
      "source": [
        "head(relacao_fundos, 3)\n",
        "glimpse(relacao_fundos)"
      ],
      "execution_count": 0,
      "outputs": [
        {
          "output_type": "display_data",
          "data": {
            "text/plain": [
              "  ident_ativo    nm_ativo                       eh_fundo_vedado nm_fundo\n",
              "1 00071477000168  BB RF CP AUTOMATICO           0               NA      \n",
              "2 00071477000168  BB RF CP AUTOMATICO           0               NA      \n",
              "3 00360305000104  CAIXA FI BRASIL IRF-M 1 TP RF 0               NA      \n",
              "  cnpj_admin cnpj_gestor enquad_sprev enquad_sprev_pad atende_art15\n",
              "1 NA         NA          NA           NA               NA          \n",
              "2 NA         NA          NA           NA               NA          \n",
              "3 NA         NA          NA           NA               NA          \n",
              "  DENOM_SOCIAL                                                                                        \n",
              "1 BB RENDA FIXA CURTO PRAZO AUTOMÁTICO EMPRESA FUNDO DE INVESTIMENTO EM COTAS DE FUNDOS DE INVESTIMENT\n",
              "2 BB RENDA FIXA CURTO PRAZO AUTOMÁTICO EMPRESA FUNDO DE INVESTIMENTO EM COTAS DE FUNDOS DE INVESTIMENT\n",
              "3 NA                                                                                                  \n",
              "  ⋯ TAXA_ADM INF_TAXA_ADM VL_PATRIM_LIQ.x DT_PATRIM_LIQ TP_FUNDO\n",
              "1 ⋯ 2.25     NA           28500618701.01  2020-05-29    NA      \n",
              "2 ⋯ NA       NA           NA              <NA>          FACFIF  \n",
              "3 ⋯ NA       NA           NA              <NA>          NA      \n",
              "  qtd_rpps_investindo eh_investigado DT_COMPTC  VL_PATRIM_LIQ.y NR_COTST\n",
              "1 1                   0              2020-05-29 28500618701     321474  \n",
              "2 1                   0              2020-05-29 28500618701     321474  \n",
              "3 7                   0              <NA>                NA         NA  "
            ],
            "text/latex": "A tibble: 3 × 38\n\\begin{tabular}{lllllllllllllllllllll}\n ident\\_ativo & nm\\_ativo & eh\\_fundo\\_vedado & nm\\_fundo & cnpj\\_admin & cnpj\\_gestor & enquad\\_sprev & enquad\\_sprev\\_pad & atende\\_art15 & DENOM\\_SOCIAL & ⋯ & TAXA\\_ADM & INF\\_TAXA\\_ADM & VL\\_PATRIM\\_LIQ.x & DT\\_PATRIM\\_LIQ & TP\\_FUNDO & qtd\\_rpps\\_investindo & eh\\_investigado & DT\\_COMPTC & VL\\_PATRIM\\_LIQ.y & NR\\_COTST\\\\\n <chr> & <chr> & <dbl> & <chr> & <chr> & <chr> & <chr> & <chr> & <dbl> & <chr> & ⋯ & <chr> & <chr> & <chr> & <date> & <chr> & <int> & <dbl> & <date> & <dbl> & <dbl>\\\\\n\\hline\n\t 00071477000168 &  BB RF CP AUTOMATICO           & 0 & NA & NA & NA & NA & NA & NA & BB RENDA FIXA CURTO PRAZO AUTOMÁTICO EMPRESA FUNDO DE INVESTIMENTO EM COTAS DE FUNDOS DE INVESTIMENT & ⋯ & 2.25 & NA & 28500618701.01 & 2020-05-29 & NA     & 1 & 0 & 2020-05-29 & 28500618701 & 321474\\\\\n\t 00071477000168 &  BB RF CP AUTOMATICO           & 0 & NA & NA & NA & NA & NA & NA & BB RENDA FIXA CURTO PRAZO AUTOMÁTICO EMPRESA FUNDO DE INVESTIMENTO EM COTAS DE FUNDOS DE INVESTIMENT & ⋯ & NA   & NA & NA             & NA & FACFIF & 1 & 0 & 2020-05-29 & 28500618701 & 321474\\\\\n\t 00360305000104 &  CAIXA FI BRASIL IRF-M 1 TP RF & 0 & NA & NA & NA & NA & NA & NA & NA                                                                                                   & ⋯ & NA   & NA & NA             & NA & NA     & 7 & 0 & NA &          NA &     NA\\\\\n\\end{tabular}\n",
            "text/markdown": "\nA tibble: 3 × 38\n\n| ident_ativo &lt;chr&gt; | nm_ativo &lt;chr&gt; | eh_fundo_vedado &lt;dbl&gt; | nm_fundo &lt;chr&gt; | cnpj_admin &lt;chr&gt; | cnpj_gestor &lt;chr&gt; | enquad_sprev &lt;chr&gt; | enquad_sprev_pad &lt;chr&gt; | atende_art15 &lt;dbl&gt; | DENOM_SOCIAL &lt;chr&gt; | ⋯ ⋯ | TAXA_ADM &lt;chr&gt; | INF_TAXA_ADM &lt;chr&gt; | VL_PATRIM_LIQ.x &lt;chr&gt; | DT_PATRIM_LIQ &lt;date&gt; | TP_FUNDO &lt;chr&gt; | qtd_rpps_investindo &lt;int&gt; | eh_investigado &lt;dbl&gt; | DT_COMPTC &lt;date&gt; | VL_PATRIM_LIQ.y &lt;dbl&gt; | NR_COTST &lt;dbl&gt; |\n|---|---|---|---|---|---|---|---|---|---|---|---|---|---|---|---|---|---|---|---|---|\n| 00071477000168 |  BB RF CP AUTOMATICO           | 0 | NA | NA | NA | NA | NA | NA | BB RENDA FIXA CURTO PRAZO AUTOMÁTICO EMPRESA FUNDO DE INVESTIMENTO EM COTAS DE FUNDOS DE INVESTIMENT | ⋯ | 2.25 | NA | 28500618701.01 | 2020-05-29 | NA     | 1 | 0 | 2020-05-29 | 28500618701 | 321474 |\n| 00071477000168 |  BB RF CP AUTOMATICO           | 0 | NA | NA | NA | NA | NA | NA | BB RENDA FIXA CURTO PRAZO AUTOMÁTICO EMPRESA FUNDO DE INVESTIMENTO EM COTAS DE FUNDOS DE INVESTIMENT | ⋯ | NA   | NA | NA             | NA | FACFIF | 1 | 0 | 2020-05-29 | 28500618701 | 321474 |\n| 00360305000104 |  CAIXA FI BRASIL IRF-M 1 TP RF | 0 | NA | NA | NA | NA | NA | NA | NA                                                                                                   | ⋯ | NA   | NA | NA             | NA | NA     | 7 | 0 | NA |          NA |     NA |\n\n",
            "text/html": [
              "<table>\n",
              "<caption>A tibble: 3 × 38</caption>\n",
              "<thead>\n",
              "\t<tr><th scope=col>ident_ativo</th><th scope=col>nm_ativo</th><th scope=col>eh_fundo_vedado</th><th scope=col>nm_fundo</th><th scope=col>cnpj_admin</th><th scope=col>cnpj_gestor</th><th scope=col>enquad_sprev</th><th scope=col>enquad_sprev_pad</th><th scope=col>atende_art15</th><th scope=col>DENOM_SOCIAL</th><th scope=col>⋯</th><th scope=col>TAXA_ADM</th><th scope=col>INF_TAXA_ADM</th><th scope=col>VL_PATRIM_LIQ.x</th><th scope=col>DT_PATRIM_LIQ</th><th scope=col>TP_FUNDO</th><th scope=col>qtd_rpps_investindo</th><th scope=col>eh_investigado</th><th scope=col>DT_COMPTC</th><th scope=col>VL_PATRIM_LIQ.y</th><th scope=col>NR_COTST</th></tr>\n",
              "\t<tr><th scope=col>&lt;chr&gt;</th><th scope=col>&lt;chr&gt;</th><th scope=col>&lt;dbl&gt;</th><th scope=col>&lt;chr&gt;</th><th scope=col>&lt;chr&gt;</th><th scope=col>&lt;chr&gt;</th><th scope=col>&lt;chr&gt;</th><th scope=col>&lt;chr&gt;</th><th scope=col>&lt;dbl&gt;</th><th scope=col>&lt;chr&gt;</th><th scope=col>⋯</th><th scope=col>&lt;chr&gt;</th><th scope=col>&lt;chr&gt;</th><th scope=col>&lt;chr&gt;</th><th scope=col>&lt;date&gt;</th><th scope=col>&lt;chr&gt;</th><th scope=col>&lt;int&gt;</th><th scope=col>&lt;dbl&gt;</th><th scope=col>&lt;date&gt;</th><th scope=col>&lt;dbl&gt;</th><th scope=col>&lt;dbl&gt;</th></tr>\n",
              "</thead>\n",
              "<tbody>\n",
              "\t<tr><td>00071477000168</td><td> BB RF CP AUTOMATICO          </td><td>0</td><td>NA</td><td>NA</td><td>NA</td><td>NA</td><td>NA</td><td>NA</td><td>BB RENDA FIXA CURTO PRAZO AUTOMÁTICO EMPRESA FUNDO DE INVESTIMENTO EM COTAS DE FUNDOS DE INVESTIMENT</td><td>⋯</td><td>2.25</td><td>NA</td><td>28500618701.01</td><td>2020-05-29</td><td>NA    </td><td>1</td><td>0</td><td>2020-05-29</td><td>28500618701</td><td>321474</td></tr>\n",
              "\t<tr><td>00071477000168</td><td> BB RF CP AUTOMATICO          </td><td>0</td><td>NA</td><td>NA</td><td>NA</td><td>NA</td><td>NA</td><td>NA</td><td>BB RENDA FIXA CURTO PRAZO AUTOMÁTICO EMPRESA FUNDO DE INVESTIMENTO EM COTAS DE FUNDOS DE INVESTIMENT</td><td>⋯</td><td>NA  </td><td>NA</td><td>NA            </td><td>NA</td><td>FACFIF</td><td>1</td><td>0</td><td>2020-05-29</td><td>28500618701</td><td>321474</td></tr>\n",
              "\t<tr><td>00360305000104</td><td> CAIXA FI BRASIL IRF-M 1 TP RF</td><td>0</td><td>NA</td><td>NA</td><td>NA</td><td>NA</td><td>NA</td><td>NA</td><td>NA                                                                                                  </td><td>⋯</td><td>NA  </td><td>NA</td><td>NA            </td><td>NA</td><td>NA    </td><td>7</td><td>0</td><td>NA</td><td>         NA</td><td>    NA</td></tr>\n",
              "</tbody>\n",
              "</table>\n"
            ]
          },
          "metadata": {
            "tags": []
          }
        },
        {
          "output_type": "stream",
          "text": [
            "Rows: 717\n",
            "Columns: 38\n",
            "$ ident_ativo         \u001b[3m\u001b[90m<chr>\u001b[39m\u001b[23m \"00071477000168\", \"00071477000168\", \"003603050001…\n",
            "$ nm_ativo            \u001b[3m\u001b[90m<chr>\u001b[39m\u001b[23m \" BB RF CP AUTOMATICO\", \" BB RF CP AUTOMATICO\", \"…\n",
            "$ eh_fundo_vedado     \u001b[3m\u001b[90m<dbl>\u001b[39m\u001b[23m 0, 0, 0, 0, 0, 0, 0, 0, 0, 0, 0, 0, 0, 0, 0, 0, 0…\n",
            "$ nm_fundo            \u001b[3m\u001b[90m<chr>\u001b[39m\u001b[23m NA, NA, NA, \"BB RENDA FIXA REFERENCIADO DI ÁGIL F…\n",
            "$ cnpj_admin          \u001b[3m\u001b[90m<chr>\u001b[39m\u001b[23m NA, NA, NA, \"30822936\", \"30822936\", \"62318407\", \"…\n",
            "$ cnpj_gestor         \u001b[3m\u001b[90m<chr>\u001b[39m\u001b[23m NA, NA, NA, \"30822936\", \"30822936\", \"07237373\", \"…\n",
            "$ enquad_sprev        \u001b[3m\u001b[90m<chr>\u001b[39m\u001b[23m NA, NA, NA, \"Artigo 7º, Inciso IV, 'a'\", \"Artigo …\n",
            "$ enquad_sprev_pad    \u001b[3m\u001b[90m<chr>\u001b[39m\u001b[23m NA, NA, NA, \"ART7IVA\", \"ART7IVA\", \"ART7IVA\", \"ART…\n",
            "$ atende_art15        \u001b[3m\u001b[90m<dbl>\u001b[39m\u001b[23m NA, NA, NA, 1, 1, 1, 1, 1, 1, 1, 1, 1, 1, 1, 1, 1…\n",
            "$ DENOM_SOCIAL        \u001b[3m\u001b[90m<chr>\u001b[39m\u001b[23m \"BB RENDA FIXA CURTO PRAZO AUTOMÁTICO EMPRESA FUN…\n",
            "$ DT_REG              \u001b[3m\u001b[90m<date>\u001b[39m\u001b[23m 2005-03-29, 2003-04-30, NA, 2005-03-29, 2003-04-…\n",
            "$ DT_CONST            \u001b[3m\u001b[90m<date>\u001b[39m\u001b[23m 1994-05-19, 1994-05-19, NA, 1995-08-07, 1995-08-…\n",
            "$ DT_CANCEL           \u001b[3m\u001b[90m<date>\u001b[39m\u001b[23m NA, 2005-03-24, NA, NA, 2005-03-24, NA, 2005-03-…\n",
            "$ SIT                 \u001b[3m\u001b[90m<chr>\u001b[39m\u001b[23m \"EM FUNCIONAMENTO NORMAL\", \"CANCELADA\", NA, \"EM F…\n",
            "$ DT_INI_SIT          \u001b[3m\u001b[90m<date>\u001b[39m\u001b[23m 2005-03-24, 2005-03-24, NA, 2005-03-24, 2005-03-…\n",
            "$ DT_INI_ATIV         \u001b[3m\u001b[90m<date>\u001b[39m\u001b[23m 1994-05-19, NA, NA, 1995-08-07, NA, 1995-10-02, …\n",
            "$ DT_INI_EXERC        \u001b[3m\u001b[90m<date>\u001b[39m\u001b[23m 2020-04-01, NA, NA, 2020-04-01, NA, 2020-04-01, …\n",
            "$ DT_FIM_EXERC        \u001b[3m\u001b[90m<date>\u001b[39m\u001b[23m 2021-03-31, NA, NA, 2021-03-31, NA, 2021-03-31, …\n",
            "$ CLASSE              \u001b[3m\u001b[90m<chr>\u001b[39m\u001b[23m \"Fundo de Renda Fixa\", NA, NA, \"Fundo de Renda Fi…\n",
            "$ DT_INI_CLASSE       \u001b[3m\u001b[90m<date>\u001b[39m\u001b[23m 2016-03-23, NA, NA, 2005-03-24, NA, 2015-10-19, …\n",
            "$ RENTAB_FUNDO        \u001b[3m\u001b[90m<chr>\u001b[39m\u001b[23m \"DI de um dia\", NA, NA, \"DI de um dia\", NA, \"DI d…\n",
            "$ CONDOM              \u001b[3m\u001b[90m<chr>\u001b[39m\u001b[23m \"Aberto\", NA, NA, \"Aberto\", NA, \"Aberto\", NA, \"Ab…\n",
            "$ FUNDO_COTAS         \u001b[3m\u001b[90m<chr>\u001b[39m\u001b[23m \"S\", NA, NA, \"S\", NA, \"N\", NA, \"S\", \"N\", NA, \"S\",…\n",
            "$ FUNDO_EXCLUSIVO     \u001b[3m\u001b[90m<chr>\u001b[39m\u001b[23m \"N\", NA, NA, \"N\", NA, \"N\", NA, \"N\", \"N\", NA, \"N\",…\n",
            "$ TRIB_LPRAZO         \u001b[3m\u001b[90m<chr>\u001b[39m\u001b[23m \"N\", NA, NA, \"N\", NA, \"N\", NA, NA, \"N\", NA, \"N\", …\n",
            "$ INVEST_QUALIF       \u001b[3m\u001b[90m<chr>\u001b[39m\u001b[23m \"N\", NA, NA, \"N\", NA, \"N\", NA, \"N\", \"N\", NA, \"N\",…\n",
            "$ TAXA_PERFM          \u001b[3m\u001b[90m<dbl>\u001b[39m\u001b[23m 0, NA, NA, 0, NA, 0, NA, 0, 0, NA, 0, NA, 0, NA, …\n",
            "$ INF_TAXA_PERFM      \u001b[3m\u001b[90m<chr>\u001b[39m\u001b[23m NA, NA, NA, NA, NA, NA, NA, NA, NA, NA, NA, NA, N…\n",
            "$ TAXA_ADM            \u001b[3m\u001b[90m<chr>\u001b[39m\u001b[23m \"2.25\", NA, NA, \"2\", NA, \"2.5\", NA, \"2\", \"0.18\", …\n",
            "$ INF_TAXA_ADM        \u001b[3m\u001b[90m<chr>\u001b[39m\u001b[23m NA, NA, NA, NA, NA, NA, NA, NA, NA, NA, NA, NA, N…\n",
            "$ VL_PATRIM_LIQ.x     \u001b[3m\u001b[90m<chr>\u001b[39m\u001b[23m \"28500618701.01\", NA, NA, \"14273810591.10\", NA, \"…\n",
            "$ DT_PATRIM_LIQ       \u001b[3m\u001b[90m<date>\u001b[39m\u001b[23m 2020-05-29, NA, NA, 2020-05-29, NA, 2020-05-29, …\n",
            "$ TP_FUNDO            \u001b[3m\u001b[90m<chr>\u001b[39m\u001b[23m NA, \"FACFIF\", NA, NA, \"FACFIF\", NA, \"FIF\", NA, NA…\n",
            "$ qtd_rpps_investindo \u001b[3m\u001b[90m<int>\u001b[39m\u001b[23m 1, 1, 7, 3, 3, 2, 2, 13, 31, 31, 241, 241, 13, 13…\n",
            "$ eh_investigado      \u001b[3m\u001b[90m<dbl>\u001b[39m\u001b[23m 0, 0, 0, 0, 0, 0, 0, 0, 0, 0, 0, 0, 0, 0, 0, 0, 0…\n",
            "$ DT_COMPTC           \u001b[3m\u001b[90m<date>\u001b[39m\u001b[23m 2020-05-29, 2020-05-29, NA, 2020-05-29, 2020-05-…\n",
            "$ VL_PATRIM_LIQ.y     \u001b[3m\u001b[90m<dbl>\u001b[39m\u001b[23m 28500618701, 28500618701, NA, 14273810591, 142738…\n",
            "$ NR_COTST            \u001b[3m\u001b[90m<dbl>\u001b[39m\u001b[23m 321474, 321474, NA, 418765, 418765, 42038, 42038,…\n"
          ],
          "name": "stdout"
        }
      ]
    },
    {
      "cell_type": "markdown",
      "metadata": {
        "id": "TVep41he3jRG",
        "colab_type": "text"
      },
      "source": [
        "Pronto. Chegamos á nossa base de dados \"final\" (sempre é possível colocar uma variável nova...).\n",
        "\n",
        "Agora é começar a explorá-la para ver se sai alguma coisa interessante.\n",
        "\n",
        "Mas antes, vamos salvá-la nos formatos `Rds` e `csv`."
      ]
    },
    {
      "cell_type": "code",
      "metadata": {
        "id": "0YXKyre6pvDV",
        "colab_type": "code",
        "colab": {}
      },
      "source": [
        "saveRDS(relacao_fundos, file=\"relacao_fundos_DtGer_2020-06-08.Rds\")\n",
        "write_csv2(relacao_fundos, path=\"relacao_fundos_DtGer2020-06-08.csv\")"
      ],
      "execution_count": 0,
      "outputs": []
    },
    {
      "cell_type": "markdown",
      "metadata": {
        "id": "Vv8B1QBiyDeW",
        "colab_type": "text"
      },
      "source": [
        "Para os colegas não familiarizados essa base de dados, vamos apresentar a seguir a descrição das variáveis.\n",
        "\n",
        "Variável         |  Descrição\n",
        ":----------------|:------------------------------------------------------------\n",
        "`ident_ativo` | identificação do ativo. no caso de fundos de investimento, o CNPJ do mesmo \n",
        "`nm_ativo` | nome do ativo. nome do fundo de investimento\n",
        "`eh_fundo_vedado` | variável indicadora (_dummy_) que indica se o fundo é vedado aos RPPS, ou seja, os RPPS não podem investir recursos nos mesmos. 0 - não é fundo vedado, 1 - é fundo vedado.\n",
        "`nm_fundo` | nome do fundo de investimento\n",
        "`cnpj_admin` | CNPJ do Administrador do fundo de investimento\n",
        "`cnpj_gestor` | CNPJ do Gestor do fundo de investimento\n",
        "`enquad_sprev` | enquadramento do fundo realizado pela SPrev. o enquadramento é a indicação do tipo de fundo, de acordo com as disposições da Resolução CMN 3922/10de qual \n",
        "`enquad_sprev_pad` | valores \"padronizados\" da variável anterior\n",
        "`atende_art15` | variável indicadora (_dummy_) que informa se um fundo atendo ao art. 15 da Resolução 3922/10 ou não. 0 - não atende, 1 - atende\n",
        "`TP_FUNDO` | tipo de fundo\n",
        "`DENOM_SOCIAL` | nome do fundo\n",
        "`DT_REG` | data de registro do fundo\n",
        "`DT_CONST` | data de constituição do fundo\n",
        "`DT_CANCEL` | data de cancelamento\n",
        "`SIT` | situação do fundo\n",
        "`DT_INI_SIT` | data de início da situação\n",
        "`DT_INI_EXERC` | \n",
        "`DT_FIM_EXERC` |\n",
        "`qtd_rpps_investindo` | quantidade de RPPS que possuem recursos investidos no fundo em xx/05/2020\n",
        "eh_investigado | variável indicadora (_dummy_) que indica se o fundo já foi objeti de investigação pela Polícia Federal.\n",
        "DT_COMPTC |\n",
        "VL_PATRIM_LIQ | valor do patrimonio líquido do fundo em xx/05/2020\n",
        "NR_COTST | quantidade de cotistas que o fundo possui em xx/05/2020"
      ]
    },
    {
      "cell_type": "markdown",
      "metadata": {
        "id": "f2dZPJEJy-XU",
        "colab_type": "text"
      },
      "source": [
        "<br>\n",
        "<br>\n",
        "\n",
        "---\n",
        "\n",
        "# **PARTE II - ANÁLISE EXPLORATÓRIA PRELIMINAR DA BASE DE DADOS DE FUNDOS DE INVESTIMENTOS**\n",
        "\n",
        "---\n",
        "\n"
      ]
    },
    {
      "cell_type": "markdown",
      "metadata": {
        "id": "OrzDOioh2InK",
        "colab_type": "text"
      },
      "source": [
        "Olhando a relação de variáveis apresentada na tabela acima, é possível ver algumas duplicidades criadas no processo de agregação de variáveis. As variáveis `nm_ativo`, `nm_fundo` e `DENOM_SOCIAL` se referem ao nome do fundo de investimentos. A seguir vamos fazer algumas alterações na base de dados com vistas a torná-la um pouco melhor. "
      ]
    },
    {
      "cell_type": "code",
      "metadata": {
        "id": "-Z2i5h6V3eEe",
        "colab_type": "code",
        "colab": {}
      },
      "source": [
        "# Remoção de variáveis em duplicidade - nm_ativo, nm_fundo\n",
        "\n",
        "# "
      ],
      "execution_count": 0,
      "outputs": []
    },
    {
      "cell_type": "markdown",
      "metadata": {
        "id": "M9I_6p41zmZS",
        "colab_type": "text"
      },
      "source": [
        "**Ponto 1** - Vamos começar nossa análise preliminar tentando idenfificar a relação entre as variáveis `eh_fundo_vedado` e `atende_art15`. Uma forma inicial é obter a tabulação cruzada dessas variáveis."
      ]
    },
    {
      "cell_type": "code",
      "metadata": {
        "id": "NHN99YB-ymCM",
        "colab_type": "code",
        "colab": {}
      },
      "source": [
        "# Importar a base de dados\n",
        "relacao_fundos <- readRDS(\"relacao_fundos_DtGer_2020-06-08.Rds\")"
      ],
      "execution_count": 0,
      "outputs": []
    },
    {
      "cell_type": "code",
      "metadata": {
        "id": "K8taBdZr0Dx1",
        "colab_type": "code",
        "outputId": "eefb0b3a-6632-47e1-f6d8-df4a68c0daf8",
        "colab": {
          "base_uri": "https://localhost:8080/",
          "height": 85
        }
      },
      "source": [
        "tab1 <- with(relacao_fundos,\n",
        "              table(eh_fundo_vedado, atende_art15))\n",
        "\n",
        "tab1"
      ],
      "execution_count": 0,
      "outputs": [
        {
          "output_type": "display_data",
          "data": {
            "text/plain": [
              "               atende_art15\n",
              "eh_fundo_vedado   0   1\n",
              "              0  77 491\n",
              "              1  94   5"
            ]
          },
          "metadata": {
            "tags": []
          }
        }
      ]
    },
    {
      "cell_type": "code",
      "metadata": {
        "id": "ovOs-A3Y0kF5",
        "colab_type": "code",
        "outputId": "f90ae012-4e01-42ae-cf58-7a11588a153d",
        "colab": {
          "base_uri": "https://localhost:8080/",
          "height": 437
        }
      },
      "source": [
        "mosaicplot(tab1)"
      ],
      "execution_count": 0,
      "outputs": [
        {
          "output_type": "display_data",
          "data": {
            "image/png": "[encoded data removed]",
            "text/plain": [
              "Plot with title “tab1”"
            ]
          },
          "metadata": {
            "tags": [],
            "image/png": {
              "width": 420,
              "height": 420
            },
            "text/plain": {
              "width": 420,
              "height": 420
            }
          }
        }
      ]
    },
    {
      "cell_type": "markdown",
      "metadata": {
        "id": "IIsjkkqX4PsW",
        "colab_type": "text"
      },
      "source": [
        "**Ponto 2** - Uma outra questão que pode ser interessante é saber se os fundos vedados (`eh_vedado`) ou os fundos que violem o art. 15 da Resolução 3922/10 (`atende_art15`) guardam alguma relação com o enquadramento dos mesmos (`enquad_sprev_pad`) "
      ]
    },
    {
      "cell_type": "code",
      "metadata": {
        "id": "YLMpuWB-paCE",
        "colab_type": "code",
        "colab": {}
      },
      "source": [
        ""
      ],
      "execution_count": 0,
      "outputs": []
    },
    {
      "cell_type": "markdown",
      "metadata": {
        "id": "WYxalHK67Xp-",
        "colab_type": "text"
      },
      "source": [
        "**Ponto 3** - Também pode ser interessante saber se a proporção de RPPS no total de quotistas do fundo pode ter relação com fundos vedados ou fundos que não atendam ao art. 15 da Resolução 3922/10."
      ]
    },
    {
      "cell_type": "code",
      "metadata": {
        "id": "KswOXPtLpbJl",
        "colab_type": "code",
        "colab": {}
      },
      "source": [
        ""
      ],
      "execution_count": 0,
      "outputs": []
    },
    {
      "cell_type": "markdown",
      "metadata": {
        "id": "G14VoyhE7sjB",
        "colab_type": "text"
      },
      "source": [
        "**Ponto 4** - Será que os fundos vedados ou que violem o art. 14 tem relação com administradores e gestores?\n",
        "\n",
        "Nota: aqui temos que ter cuidado porque os administradores e gestores dos fundos podem ter mudado desque que o fundo tenha começado a dar problema."
      ]
    },
    {
      "cell_type": "code",
      "metadata": {
        "id": "HGAqOyQ8pdjK",
        "colab_type": "code",
        "colab": {}
      },
      "source": [
        ""
      ],
      "execution_count": 0,
      "outputs": []
    },
    {
      "cell_type": "markdown",
      "metadata": {
        "id": "ZMjitVLN6HHE",
        "colab_type": "text"
      },
      "source": [
        "**Ponto 5** - A lista de fundos investigados tem relação com os fundos vedados?"
      ]
    },
    {
      "cell_type": "code",
      "metadata": {
        "id": "SdaCqpfnpeqP",
        "colab_type": "code",
        "colab": {}
      },
      "source": [
        ""
      ],
      "execution_count": 0,
      "outputs": []
    },
    {
      "cell_type": "markdown",
      "metadata": {
        "id": "uM94GOAj5wL-",
        "colab_type": "text"
      },
      "source": [
        "**Ponto 6** - Será que o tipo de fundo tem relação com ele ser vedado ou não atender ao art. 15 ou, ainda, está na lista de suspeitos?"
      ]
    },
    {
      "cell_type": "code",
      "metadata": {
        "id": "sWYUjilPpfuF",
        "colab_type": "code",
        "colab": {}
      },
      "source": [
        ""
      ],
      "execution_count": 0,
      "outputs": []
    },
    {
      "cell_type": "markdown",
      "metadata": {
        "id": "d94H0lQ16iJf",
        "colab_type": "text"
      },
      "source": [
        "**Ponto 7** - Será que a proporção de RPPS no total de quotistas pode ter relação com fundos problemáticos? É razoável imaginar que alguns fundos de investimentos de baixa qualidade possa ser prepardos para serem oferecidos a RPPS..."
      ]
    },
    {
      "cell_type": "code",
      "metadata": {
        "id": "4JSukAfXpEsN",
        "colab_type": "code",
        "outputId": "4027a4c3-0d02-4988-b478-1d86476dd020",
        "colab": {
          "base_uri": "https://localhost:8080/",
          "height": 119
        }
      },
      "source": [
        "summary(relacao_fundos$NR_COTST)\n",
        "summary(relacao_fundos$qtd_rpps_investindo)\n",
        "summary(relacao_fundos$prop_rpps_cotista)"
      ],
      "execution_count": 0,
      "outputs": [
        {
          "output_type": "display_data",
          "data": {
            "text/plain": [
              "   Min. 1st Qu.  Median    Mean 3rd Qu.    Max.    NA's \n",
              "      0      57     441   16811    4048  984773     174 "
            ]
          },
          "metadata": {
            "tags": []
          }
        },
        {
          "output_type": "display_data",
          "data": {
            "text/plain": [
              "   Min. 1st Qu.  Median    Mean 3rd Qu.    Max. \n",
              "   1.00    2.00    8.00   48.41   26.00 1408.00 "
            ]
          },
          "metadata": {
            "tags": []
          }
        },
        {
          "output_type": "display_data",
          "data": {
            "text/plain": [
              "   Min. 1st Qu.  Median    Mean 3rd Qu.    Max.    NA's \n",
              "   0.00    0.17    2.61     Inf   79.28     Inf     174 "
            ]
          },
          "metadata": {
            "tags": []
          }
        }
      ]
    },
    {
      "cell_type": "code",
      "metadata": {
        "id": "sO060JNt68xK",
        "colab_type": "code",
        "outputId": "153c6948-21b7-4116-89b2-e3eb9c523a41",
        "colab": {
          "base_uri": "https://localhost:8080/",
          "height": 437
        }
      },
      "source": [
        "relacao_fundos <- relacao_fundos %>%\n",
        "                    mutate(prop_rpps_cotista = round(qtd_rpps_investindo / NR_COTST * 100, 2))\n",
        "\n",
        "boxplot(prop_rpps_cotista ~ eh_fundo_vedado, subset(relacao_fundos, is.finite(prop_rpps_cotista)))"
      ],
      "execution_count": 0,
      "outputs": [
        {
          "output_type": "display_data",
          "data": {
            "image/png": "[encoded data removed]",
            "text/plain": [
              "plot without title"
            ]
          },
          "metadata": {
            "tags": [],
            "image/png": {
              "width": 420,
              "height": 420
            },
            "text/plain": {
              "width": 420,
              "height": 420
            }
          }
        }
      ]
    },
    {
      "cell_type": "markdown",
      "metadata": {
        "id": "emoY0QDa5EkN",
        "colab_type": "text"
      },
      "source": [
        "### **Outras análises exploratórias...**"
      ]
    },
    {
      "cell_type": "code",
      "metadata": {
        "id": "YvuczZQI4YDb",
        "colab_type": "code",
        "outputId": "5a4fc0af-f46e-483d-cd4f-416b46fdfcdb",
        "colab": {
          "base_uri": "https://localhost:8080/",
          "height": 306
        }
      },
      "source": [
        "# Relação entre as variáveis- Fundos Estruturados \n",
        "with(relacao_fundos,\n",
        "      table(enquad_sprev_pad, TP_FUNDO))"
      ],
      "execution_count": 0,
      "outputs": [
        {
          "output_type": "display_data",
          "data": {
            "text/plain": [
              "                TP_FUNDO\n",
              "enquad_sprev_pad F.I.I. FACFIF FIDC FIF FIIM FIP\n",
              "        ART7IB        0      0    0   2    0   0\n",
              "        ART7IIIA      0      0    0   0    0   0\n",
              "        ART7IVA       0     19    0  24    0   0\n",
              "        ART7IVB       0      0    0   0    2   0\n",
              "        ART7VIIA      0      0   34   0    0   0\n",
              "        ART7VIIB      0      1    0   3    0   0\n",
              "        ART8IA        0      0    0   1    0   0\n",
              "        ART8IB        0      0    0   0    3   0\n",
              "        ART8IIA       0      0    0   0    0   0\n",
              "        ART8IIB       0      0    0   0    1   0\n",
              "        ART8III       0      1    0   7    0   0\n",
              "        ART8IVA       0      0    0   0    0  41\n",
              "        ART8IVB      42      0    0   0    0   1\n",
              "        ART9AII       0      0    0   0    1   0\n",
              "        ART9AIII      0      0    0   0    0   0"
            ]
          },
          "metadata": {
            "tags": []
          }
        }
      ]
    },
    {
      "cell_type": "code",
      "metadata": {
        "id": "AsPm0x_d6bno",
        "colab_type": "code",
        "outputId": "afb87c65-e0c1-4d7a-a85e-e8de9fda1c23",
        "colab": {
          "base_uri": "https://localhost:8080/",
          "height": 306
        }
      },
      "source": [
        "# Relação entreas variáveis\n",
        "with(relacao_fundos,\n",
        "      table(enquad_sprev_pad, CLASSE))"
      ],
      "execution_count": 0,
      "outputs": [
        {
          "output_type": "display_data",
          "data": {
            "text/plain": [
              "                CLASSE\n",
              "enquad_sprev_pad Fundo de Ações Fundo de Renda Fixa Fundo Multimercado\n",
              "        ART7IB                0                  84                  0\n",
              "        ART7IIIA              0                  12                  0\n",
              "        ART7IVA               0                 135                  1\n",
              "        ART7IVB               0                   0                  0\n",
              "        ART7VIIA              0                   0                  0\n",
              "        ART7VIIB              0                  28                  0\n",
              "        ART8IA               20                   0                  0\n",
              "        ART8IB                1                   0                  0\n",
              "        ART8IIA             129                   0                  0\n",
              "        ART8IIB               1                   0                  0\n",
              "        ART8III               0                   0                 57\n",
              "        ART8IVA               0                   0                  0\n",
              "        ART8IVB               0                   0                  0\n",
              "        ART9AII               3                   0                  6\n",
              "        ART9AIII              7                   0                  0"
            ]
          },
          "metadata": {
            "tags": []
          }
        }
      ]
    },
    {
      "cell_type": "markdown",
      "metadata": {
        "id": "xwGYHzYTDK0M",
        "colab_type": "text"
      },
      "source": [
        "<br>\n",
        "<br>\n",
        "\n",
        "---\n",
        "\n",
        "# **PARTE III - CÁLCULO DA RENTABILIDADE DA CARTEIRA DE FUNDOS DE INVESTIMENTOS**\n",
        "\n",
        "---\n",
        "\n"
      ]
    },
    {
      "cell_type": "markdown",
      "metadata": {
        "id": "-wGuL9vEPRBG",
        "colab_type": "text"
      },
      "source": [
        "Nesta parte do documento, nosso objetivo é estruturar uma metodologia para calcular a rentabilidade de uma carteira de fundos de investimentos de um RPPS."
      ]
    },
    {
      "cell_type": "markdown",
      "metadata": {
        "id": "3YECrPbBPR20",
        "colab_type": "text"
      },
      "source": [
        "<br>\n",
        "<br>\n",
        "\n",
        "---\n",
        "\n",
        "# **PARTE III - ANÁLISE FUNDOS DE INVESTIMENTOS DE RPPS DO RJ**\n",
        "\n",
        "---\n",
        "\n",
        "<br>"
      ]
    },
    {
      "cell_type": "markdown",
      "metadata": {
        "id": "gM0TmJGsPf45",
        "colab_type": "text"
      },
      "source": [
        "Vamos agora restringir a base de dados para examinar apenas os registros relativos a RPPS do Estado do Rio de Janeiro."
      ]
    },
    {
      "cell_type": "code",
      "metadata": {
        "id": "xk62DjWXSykT",
        "colab_type": "code",
        "colab": {}
      },
      "source": [
        "dair_fundos_rj <- dair_fundos %>%\n",
        "                    filter(uf == \"RJ\")\n",
        "\n",
        "# criar uma lista contendo os rpps de um ente"
      ],
      "execution_count": 0,
      "outputs": []
    },
    {
      "cell_type": "code",
      "metadata": {
        "id": "zqHXV0OBPhpw",
        "colab_type": "code",
        "colab": {}
      },
      "source": [
        "fundos_representacao_sprev_rj <- c(12845801000137, # \n",
        "                                   13344834000166,\n",
        "                                   13594673000169,\n",
        "                                   12845801000137,\n",
        "                                   14655180000154,\n",
        "                                   18373362000193,\n",
        "                                   15798354000109)\n"
      ],
      "execution_count": 0,
      "outputs": []
    },
    {
      "cell_type": "markdown",
      "metadata": {
        "id": "MjkcINMDHKf9",
        "colab_type": "text"
      },
      "source": [
        "**Quais RPPS possuem recursos aplicados nos fundos elencados acima?**"
      ]
    },
    {
      "cell_type": "code",
      "metadata": {
        "id": "Sz29X00cHUmf",
        "colab_type": "code",
        "colab": {}
      },
      "source": [
        "entes_fundos_ruins <- dair_fundos_rj %>%\n",
        "                          filter(ident_ativo %in% fundos_representacao_sprev_rj) %>%\n",
        "                          distinct(ident_ativo, nm_ativo, ente, tipo_ativo, ) %>%\n",
        "                          arrange(ident_ativo)"
      ],
      "execution_count": 0,
      "outputs": []
    },
    {
      "cell_type": "code",
      "metadata": {
        "id": "Tw4TFFNwH5S_",
        "colab_type": "code",
        "outputId": "7186c868-0b5e-4b93-f1c7-9843c1b175b8",
        "colab": {
          "base_uri": "https://localhost:8080/",
          "height": 288
        }
      },
      "source": [
        "entes_fundos_ruins"
      ],
      "execution_count": 0,
      "outputs": [
        {
          "output_type": "display_data",
          "data": {
            "text/plain": [
              "   ident_ativo    nm_ativo                                 ente         \n",
              "1  12845801000137 TOWER BRIDGE FI RF IMAB 5                Japeri       \n",
              "2  12845801000137 TOWER BRIDGE RF FI IMA-B 5               Japeri       \n",
              "3  12845801000137 TOWER BRIDGE IMA-B 5 FI RENDA FIXA       Queimados    \n",
              "4  12845801000137 TOWER BRIDGE IMA-B 5 FI RENDA FIXA       Queimados    \n",
              "5  13344834000166 INCENTIVO FI em DC MULTISETORIAL II      Japeri       \n",
              "6  13594673000169 TMJ IMA B FI RF                          Japeri       \n",
              "7  13594673000169 TMJ IMA B FI RF                          Japeri       \n",
              "8  14655180000154 FI MULTIMERCADO SCULPTOR CRÉDITO PRIVADO Belford Roxo \n",
              "9  15798354000109 FIP LSH MULTIESTRATÉGIA                  Iguaba Grande\n",
              "10 18373362000193 ÁTICO  GESTÃO EMPRESARIAL - FIP          Belford Roxo \n",
              "   tipo_ativo                                                \n",
              "1  ETF - Renda Fixa \"Referenciado\" - Art. 7º, III, b         \n",
              "2  FI Renda Fixa - Geral - Art. 7º, IV, a                    \n",
              "3  FI Renda Fixa \"Referenciado\" - Art. 7º, III, a            \n",
              "4  FI Renda Fixa - Geral - Art. 7º, IV, a                    \n",
              "5  FI em Direitos Creditórios - Cota Sênior - Art. 7º, VII, a\n",
              "6  FI Renda Fixa - Geral - Art. 7º, IV, a                    \n",
              "7  ETF - Renda Fixa \"Referenciado\" - Art. 7º, III, b         \n",
              "8  FI Multimercado - Aberto - Art. 8º, III                   \n",
              "9  FI em Participações - Art. 8º, IV, a                      \n",
              "10 FI em Participações - Art. 8º, IV, a                      "
            ],
            "text/latex": "A tibble: 10 × 4\n\\begin{tabular}{llll}\n ident\\_ativo & nm\\_ativo & ente & tipo\\_ativo\\\\\n <chr> & <chr> & <chr> & <chr>\\\\\n\\hline\n\t 12845801000137 & TOWER BRIDGE FI RF IMAB 5                & Japeri        & ETF - Renda Fixa \"Referenciado\" - Art. 7º, III, b         \\\\\n\t 12845801000137 & TOWER BRIDGE RF FI IMA-B 5               & Japeri        & FI Renda Fixa - Geral - Art. 7º, IV, a                    \\\\\n\t 12845801000137 & TOWER BRIDGE IMA-B 5 FI RENDA FIXA       & Queimados     & FI Renda Fixa \"Referenciado\" - Art. 7º, III, a            \\\\\n\t 12845801000137 & TOWER BRIDGE IMA-B 5 FI RENDA FIXA       & Queimados     & FI Renda Fixa - Geral - Art. 7º, IV, a                    \\\\\n\t 13344834000166 & INCENTIVO FI em DC MULTISETORIAL II      & Japeri        & FI em Direitos Creditórios - Cota Sênior - Art. 7º, VII, a\\\\\n\t 13594673000169 & TMJ IMA B FI RF                          & Japeri        & FI Renda Fixa - Geral - Art. 7º, IV, a                    \\\\\n\t 13594673000169 & TMJ IMA B FI RF                          & Japeri        & ETF - Renda Fixa \"Referenciado\" - Art. 7º, III, b         \\\\\n\t 14655180000154 & FI MULTIMERCADO SCULPTOR CRÉDITO PRIVADO & Belford Roxo  & FI Multimercado - Aberto - Art. 8º, III                   \\\\\n\t 15798354000109 & FIP LSH MULTIESTRATÉGIA                  & Iguaba Grande & FI em Participações - Art. 8º, IV, a                      \\\\\n\t 18373362000193 & ÁTICO  GESTÃO EMPRESARIAL - FIP          & Belford Roxo  & FI em Participações - Art. 8º, IV, a                      \\\\\n\\end{tabular}\n",
            "text/markdown": "\nA tibble: 10 × 4\n\n| ident_ativo &lt;chr&gt; | nm_ativo &lt;chr&gt; | ente &lt;chr&gt; | tipo_ativo &lt;chr&gt; |\n|---|---|---|---|\n| 12845801000137 | TOWER BRIDGE FI RF IMAB 5                | Japeri        | ETF - Renda Fixa \"Referenciado\" - Art. 7º, III, b          |\n| 12845801000137 | TOWER BRIDGE RF FI IMA-B 5               | Japeri        | FI Renda Fixa - Geral - Art. 7º, IV, a                     |\n| 12845801000137 | TOWER BRIDGE IMA-B 5 FI RENDA FIXA       | Queimados     | FI Renda Fixa \"Referenciado\" - Art. 7º, III, a             |\n| 12845801000137 | TOWER BRIDGE IMA-B 5 FI RENDA FIXA       | Queimados     | FI Renda Fixa - Geral - Art. 7º, IV, a                     |\n| 13344834000166 | INCENTIVO FI em DC MULTISETORIAL II      | Japeri        | FI em Direitos Creditórios - Cota Sênior - Art. 7º, VII, a |\n| 13594673000169 | TMJ IMA B FI RF                          | Japeri        | FI Renda Fixa - Geral - Art. 7º, IV, a                     |\n| 13594673000169 | TMJ IMA B FI RF                          | Japeri        | ETF - Renda Fixa \"Referenciado\" - Art. 7º, III, b          |\n| 14655180000154 | FI MULTIMERCADO SCULPTOR CRÉDITO PRIVADO | Belford Roxo  | FI Multimercado - Aberto - Art. 8º, III                    |\n| 15798354000109 | FIP LSH MULTIESTRATÉGIA                  | Iguaba Grande | FI em Participações - Art. 8º, IV, a                       |\n| 18373362000193 | ÁTICO  GESTÃO EMPRESARIAL - FIP          | Belford Roxo  | FI em Participações - Art. 8º, IV, a                       |\n\n",
            "text/html": [
              "<table>\n",
              "<caption>A tibble: 10 × 4</caption>\n",
              "<thead>\n",
              "\t<tr><th scope=col>ident_ativo</th><th scope=col>nm_ativo</th><th scope=col>ente</th><th scope=col>tipo_ativo</th></tr>\n",
              "\t<tr><th scope=col>&lt;chr&gt;</th><th scope=col>&lt;chr&gt;</th><th scope=col>&lt;chr&gt;</th><th scope=col>&lt;chr&gt;</th></tr>\n",
              "</thead>\n",
              "<tbody>\n",
              "\t<tr><td>12845801000137</td><td>TOWER BRIDGE FI RF IMAB 5               </td><td>Japeri       </td><td>ETF - Renda Fixa \"Referenciado\" - Art. 7º, III, b         </td></tr>\n",
              "\t<tr><td>12845801000137</td><td>TOWER BRIDGE RF FI IMA-B 5              </td><td>Japeri       </td><td>FI Renda Fixa - Geral - Art. 7º, IV, a                    </td></tr>\n",
              "\t<tr><td>12845801000137</td><td>TOWER BRIDGE IMA-B 5 FI RENDA FIXA      </td><td>Queimados    </td><td>FI Renda Fixa \"Referenciado\" - Art. 7º, III, a            </td></tr>\n",
              "\t<tr><td>12845801000137</td><td>TOWER BRIDGE IMA-B 5 FI RENDA FIXA      </td><td>Queimados    </td><td>FI Renda Fixa - Geral - Art. 7º, IV, a                    </td></tr>\n",
              "\t<tr><td>13344834000166</td><td>INCENTIVO FI em DC MULTISETORIAL II     </td><td>Japeri       </td><td>FI em Direitos Creditórios - Cota Sênior - Art. 7º, VII, a</td></tr>\n",
              "\t<tr><td>13594673000169</td><td>TMJ IMA B FI RF                         </td><td>Japeri       </td><td>FI Renda Fixa - Geral - Art. 7º, IV, a                    </td></tr>\n",
              "\t<tr><td>13594673000169</td><td>TMJ IMA B FI RF                         </td><td>Japeri       </td><td>ETF - Renda Fixa \"Referenciado\" - Art. 7º, III, b         </td></tr>\n",
              "\t<tr><td>14655180000154</td><td>FI MULTIMERCADO SCULPTOR CRÉDITO PRIVADO</td><td>Belford Roxo </td><td>FI Multimercado - Aberto - Art. 8º, III                   </td></tr>\n",
              "\t<tr><td>15798354000109</td><td>FIP LSH MULTIESTRATÉGIA                 </td><td>Iguaba Grande</td><td>FI em Participações - Art. 8º, IV, a                      </td></tr>\n",
              "\t<tr><td>18373362000193</td><td>ÁTICO  GESTÃO EMPRESARIAL - FIP         </td><td>Belford Roxo </td><td>FI em Participações - Art. 8º, IV, a                      </td></tr>\n",
              "</tbody>\n",
              "</table>\n"
            ]
          },
          "metadata": {
            "tags": []
          }
        }
      ]
    },
    {
      "cell_type": "markdown",
      "metadata": {
        "id": "5VESDCjrtK3t",
        "colab_type": "text"
      },
      "source": [
        ""
      ]
    }
  ]
}