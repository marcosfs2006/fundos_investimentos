{
  "nbformat": 4,
  "nbformat_minor": 0,
  "metadata": {
    "kernelspec": {
      "display_name": "R",
      "language": "R",
      "name": "ir"
    },
    "language_info": {
      "codemirror_mode": "r",
      "file_extension": ".r",
      "mimetype": "text/x-r-source",
      "name": "R",
      "pygments_lexer": "r",
      "version": "3.3.1"
    },
    "colab": {
      "name": "Analise_Fundos_Investimentos.ipynb",
      "provenance": [],
      "collapsed_sections": [],
      "include_colab_link": true
    }
  },
  "cells": [
    {
      "cell_type": "markdown",
      "metadata": {
        "id": "view-in-github",
        "colab_type": "text"
      },
      "source": [
        "<a href=\"https://colab.research.google.com/github/marcosfs2006/rede-rpps/blob/master/Analise_Fundos_Investimentos.ipynb\" target=\"_parent\"><img src=\"https://colab.research.google.com/assets/colab-badge.svg\" alt=\"Open In Colab\"/></a>"
      ]
    },
    {
      "cell_type": "markdown",
      "metadata": {
        "id": "zeCWjfyphbGB",
        "colab_type": "text"
      },
      "source": [
        "# Fundos de Investimento\n",
        "\n",
        "O dados do DAIR utilizados neste notebook são oriundos dos aquivos disponibilizados pela SPrev em seu [site de dados abertos](http://www.previdencia.gov.br/dados-abertos/estatisticas-e-informacoes-dos-rpps/).\n",
        "\n",
        " Os arquivos importados são os seguintes:\n",
        "\n",
        "* `carteira2018_atualizacao_ de_ fev_2020.xlsx`   \n",
        "* `carteira2019_atualizacao_ de_ fev_2020_B.xlsx`   \n",
        "\n",
        "A importação desses dados e geração do conjunto de dados `dair_DtRef_FEV2020.Rds` disponibilizado neste repositório é feita utilizando-se o código contido no _script_ `importacao_dados_dair.R` disponível neste repositório."
      ]
    },
    {
      "cell_type": "code",
      "metadata": {
        "id": "Cis35TLo12FS",
        "colab_type": "code",
        "colab": {}
      },
      "source": [
        "# Anexar o repositório do GitHub contendo os dados...\n",
        "system('git clone https://github.com/marcosfs2006/rede-rpps.git')\n",
        "setwd(\"/content/rede-rpps\")"
      ],
      "execution_count": 0,
      "outputs": []
    },
    {
      "cell_type": "code",
      "metadata": {
        "id": "w069CIxReU-Q",
        "colab_type": "code",
        "colab": {}
      },
      "source": [
        "# Carregar os pacotes necessários...\n",
        "options(scipen = 999, message = FALSE)\n",
        "library(readr)\n",
        "library(dplyr)\n",
        "library(ggplot2)\n",
        "library(stringr)\n",
        "library(readxl)\n",
        "library(lubridate)"
      ],
      "execution_count": 0,
      "outputs": []
    },
    {
      "cell_type": "code",
      "metadata": {
        "id": "tLqNPbSbrWr1",
        "colab_type": "code",
        "outputId": "0c9c2eec-9028-47a8-d4fd-8205fb92f109",
        "colab": {
          "base_uri": "https://localhost:8080/",
          "height": 314
        }
      },
      "source": [
        "# Importar os dados do DAIR...\n",
        "dair <- readRDS(\"dair_DtRef_FEV2020.Rds\")\n",
        "head(dair, 3)"
      ],
      "execution_count": 0,
      "outputs": [
        {
          "output_type": "display_data",
          "data": {
            "text/plain": [
              "  cnpj         uf ente                      competencia\n",
              "1 6.360648e+13 AC Governo do Estado do Acre 2018-01-01 \n",
              "2 6.360648e+13 AC Governo do Estado do Acre 2018-01-01 \n",
              "3 6.360648e+13 AC Governo do Estado do Acre 2018-01-01 \n",
              "  segmento                     tipo_ativo limite_resol_cmn ident_ativo\n",
              "1 Disponibilidades Financeiras Disp       NA               3550  60801\n",
              "2 Disponibilidades Financeiras Disp       NA               3550  5738X\n",
              "3 Disponibilidades Financeiras Disp       NA               3550  83070\n",
              "  nm_ativo               qtd_quotas vlr_atual_ativo vlr_total_atual\n",
              "1 1 Banco do Brasil S.A. 1                 0               0       \n",
              "2 1 Banco do Brasil S.A. 1          14391810        14391810       \n",
              "3 1 Banco do Brasil S.A. 1                 0               0       \n",
              "  perc_recursos_rpps pl_fundo perc_pl_fundo\n",
              "1  0.00              NA       NA           \n",
              "2 96.07              NA       NA           \n",
              "3  0.00              NA       NA           "
            ],
            "text/latex": "A tibble: 3 × 15\n\\begin{tabular}{r|lllllllllllllll}\n  & cnpj & uf & ente & competencia & segmento & tipo\\_ativo & limite\\_resol\\_cmn & ident\\_ativo & nm\\_ativo & qtd\\_quotas & vlr\\_atual\\_ativo & vlr\\_total\\_atual & perc\\_recursos\\_rpps & pl\\_fundo & perc\\_pl\\_fundo\\\\\n  & <dbl> & <chr> & <chr> & <date> & <chr> & <chr> & <dbl> & <chr> & <chr> & <dbl> & <dbl> & <dbl> & <dbl> & <dbl> & <dbl>\\\\\n\\hline\n\t1 & 6.360648e+13 & AC & Governo do Estado do Acre & 2018-01-01 & Disponibilidades Financeiras & Disp & NA & 3550  60801 & 1 Banco do Brasil S.A. & 1 &        0 &        0 &  0.00 & NA & NA\\\\\n\t2 & 6.360648e+13 & AC & Governo do Estado do Acre & 2018-01-01 & Disponibilidades Financeiras & Disp & NA & 3550  5738X & 1 Banco do Brasil S.A. & 1 & 14391810 & 14391810 & 96.07 & NA & NA\\\\\n\t3 & 6.360648e+13 & AC & Governo do Estado do Acre & 2018-01-01 & Disponibilidades Financeiras & Disp & NA & 3550  83070 & 1 Banco do Brasil S.A. & 1 &        0 &        0 &  0.00 & NA & NA\\\\\n\\end{tabular}\n",
            "text/markdown": "\nA tibble: 3 × 15\n\n| <!--/--> | cnpj &lt;dbl&gt; | uf &lt;chr&gt; | ente &lt;chr&gt; | competencia &lt;date&gt; | segmento &lt;chr&gt; | tipo_ativo &lt;chr&gt; | limite_resol_cmn &lt;dbl&gt; | ident_ativo &lt;chr&gt; | nm_ativo &lt;chr&gt; | qtd_quotas &lt;dbl&gt; | vlr_atual_ativo &lt;dbl&gt; | vlr_total_atual &lt;dbl&gt; | perc_recursos_rpps &lt;dbl&gt; | pl_fundo &lt;dbl&gt; | perc_pl_fundo &lt;dbl&gt; |\n|---|---|---|---|---|---|---|---|---|---|---|---|---|---|---|---|\n| 1 | 6.360648e+13 | AC | Governo do Estado do Acre | 2018-01-01 | Disponibilidades Financeiras | Disp | NA | 3550  60801 | 1 Banco do Brasil S.A. | 1 |        0 |        0 |  0.00 | NA | NA |\n| 2 | 6.360648e+13 | AC | Governo do Estado do Acre | 2018-01-01 | Disponibilidades Financeiras | Disp | NA | 3550  5738X | 1 Banco do Brasil S.A. | 1 | 14391810 | 14391810 | 96.07 | NA | NA |\n| 3 | 6.360648e+13 | AC | Governo do Estado do Acre | 2018-01-01 | Disponibilidades Financeiras | Disp | NA | 3550  83070 | 1 Banco do Brasil S.A. | 1 |        0 |        0 |  0.00 | NA | NA |\n\n",
            "text/html": [
              "<table>\n",
              "<caption>A tibble: 3 × 15</caption>\n",
              "<thead>\n",
              "\t<tr><th></th><th scope=col>cnpj</th><th scope=col>uf</th><th scope=col>ente</th><th scope=col>competencia</th><th scope=col>segmento</th><th scope=col>tipo_ativo</th><th scope=col>limite_resol_cmn</th><th scope=col>ident_ativo</th><th scope=col>nm_ativo</th><th scope=col>qtd_quotas</th><th scope=col>vlr_atual_ativo</th><th scope=col>vlr_total_atual</th><th scope=col>perc_recursos_rpps</th><th scope=col>pl_fundo</th><th scope=col>perc_pl_fundo</th></tr>\n",
              "\t<tr><th></th><th scope=col>&lt;dbl&gt;</th><th scope=col>&lt;chr&gt;</th><th scope=col>&lt;chr&gt;</th><th scope=col>&lt;date&gt;</th><th scope=col>&lt;chr&gt;</th><th scope=col>&lt;chr&gt;</th><th scope=col>&lt;dbl&gt;</th><th scope=col>&lt;chr&gt;</th><th scope=col>&lt;chr&gt;</th><th scope=col>&lt;dbl&gt;</th><th scope=col>&lt;dbl&gt;</th><th scope=col>&lt;dbl&gt;</th><th scope=col>&lt;dbl&gt;</th><th scope=col>&lt;dbl&gt;</th><th scope=col>&lt;dbl&gt;</th></tr>\n",
              "</thead>\n",
              "<tbody>\n",
              "\t<tr><th scope=row>1</th><td>6.360648e+13</td><td>AC</td><td>Governo do Estado do Acre</td><td>2018-01-01</td><td>Disponibilidades Financeiras</td><td>Disp</td><td>NA</td><td>3550  60801</td><td>1 Banco do Brasil S.A.</td><td>1</td><td>       0</td><td>       0</td><td> 0.00</td><td>NA</td><td>NA</td></tr>\n",
              "\t<tr><th scope=row>2</th><td>6.360648e+13</td><td>AC</td><td>Governo do Estado do Acre</td><td>2018-01-01</td><td>Disponibilidades Financeiras</td><td>Disp</td><td>NA</td><td>3550  5738X</td><td>1 Banco do Brasil S.A.</td><td>1</td><td>14391810</td><td>14391810</td><td>96.07</td><td>NA</td><td>NA</td></tr>\n",
              "\t<tr><th scope=row>3</th><td>6.360648e+13</td><td>AC</td><td>Governo do Estado do Acre</td><td>2018-01-01</td><td>Disponibilidades Financeiras</td><td>Disp</td><td>NA</td><td>3550  83070</td><td>1 Banco do Brasil S.A.</td><td>1</td><td>       0</td><td>       0</td><td> 0.00</td><td>NA</td><td>NA</td></tr>\n",
              "</tbody>\n",
              "</table>\n"
            ]
          },
          "metadata": {
            "tags": []
          }
        }
      ]
    },
    {
      "cell_type": "markdown",
      "metadata": {
        "id": "qRd3eD1-czNj",
        "colab_type": "text"
      },
      "source": [
        "# Importar dados das transações diárias - CVM\n",
        "\n",
        "Dados disponíveis no site de dados abertos da CVM: http://dados.cvm.gov.br/dataset/fi-doc-inf_diario\n",
        "\n",
        "\n"
      ]
    },
    {
      "cell_type": "code",
      "metadata": {
        "id": "Ggm8BdlAeLXk",
        "colab_type": "code",
        "outputId": "b5f20d28-f8af-4970-8d0c-69d3d6423040",
        "colab": {
          "base_uri": "https://localhost:8080/",
          "height": 255
        }
      },
      "source": [
        "transacoes_2020_05 <- read_csv2(\"http://dados.cvm.gov.br/dados/FI/DOC/INF_DIARIO/DADOS/inf_diario_fi_202005.csv\")\n"
      ],
      "execution_count": 0,
      "outputs": [
        {
          "output_type": "stream",
          "text": [
            "Using ',' as decimal and '.' as grouping mark. Use read_delim() for more control.\n",
            "\n",
            "Parsed with column specification:\n",
            "cols(\n",
            "  CNPJ_FUNDO = \u001b[31mcol_character()\u001b[39m,\n",
            "  DT_COMPTC = \u001b[34mcol_date(format = \"\")\u001b[39m,\n",
            "  VL_TOTAL = \u001b[32mcol_number()\u001b[39m,\n",
            "  VL_QUOTA = \u001b[32mcol_number()\u001b[39m,\n",
            "  VL_PATRIM_LIQ = \u001b[32mcol_number()\u001b[39m,\n",
            "  CAPTC_DIA = \u001b[31mcol_character()\u001b[39m,\n",
            "  RESG_DIA = \u001b[31mcol_character()\u001b[39m,\n",
            "  NR_COTST = \u001b[32mcol_double()\u001b[39m\n",
            ")\n",
            "\n"
          ],
          "name": "stderr"
        }
      ]
    },
    {
      "cell_type": "code",
      "metadata": {
        "id": "AK1FFSGLgrij",
        "colab_type": "code",
        "outputId": "0e8e3708-10a0-42a1-e6fa-6815fb2981f1",
        "colab": {
          "base_uri": "https://localhost:8080/",
          "height": 187
        }
      },
      "source": [
        "glimpse(transacoes_2020_05)"
      ],
      "execution_count": 0,
      "outputs": [
        {
          "output_type": "stream",
          "text": [
            "Rows: 156,711\n",
            "Columns: 8\n",
            "$ CNPJ_FUNDO    \u001b[3m\u001b[90m<chr>\u001b[39m\u001b[23m \"00.017.024/0001-53\", \"00.017.024/0001-53\", \"00.017.024…\n",
            "$ DT_COMPTC     \u001b[3m\u001b[90m<date>\u001b[39m\u001b[23m 2020-05-04, 2020-05-05, 2020-05-06, 2020-05-07, 2020-0…\n",
            "$ VL_TOTAL      \u001b[3m\u001b[90m<dbl>\u001b[39m\u001b[23m 112499525, 112515809, 112531716, 112547816, 112529946, …\n",
            "$ VL_QUOTA      \u001b[3m\u001b[90m<dbl>\u001b[39m\u001b[23m 27425677300000, 27428777800000, 27431926000000, 2743498…\n",
            "$ VL_PATRIM_LIQ \u001b[3m\u001b[90m<dbl>\u001b[39m\u001b[23m 111940391, 111953046, 111965896, 111978363, 111987782, …\n",
            "$ CAPTC_DIA     \u001b[3m\u001b[90m<chr>\u001b[39m\u001b[23m \"0.00\", \"0.00\", \"0.00\", \"0.00\", \"0.00\", \"0.00\", \"0.00\",…\n",
            "$ RESG_DIA      \u001b[3m\u001b[90m<chr>\u001b[39m\u001b[23m \"0.00\", \"0.00\", \"0.00\", \"0.00\", \"0.00\", \"0.00\", \"0.00\",…\n",
            "$ NR_COTST      \u001b[3m\u001b[90m<dbl>\u001b[39m\u001b[23m 1, 1, 1, 1, 1, 1, 1, 1, 1, 7660, 7660, 7663, 7664, 7664…\n"
          ],
          "name": "stdout"
        }
      ]
    },
    {
      "cell_type": "markdown",
      "metadata": {
        "id": "N7XDezAhfjIh",
        "colab_type": "text"
      },
      "source": [
        "# Importar dados cadastrais dos fundos de investimentos\n",
        "\n",
        "Dados disponíveis no site de dados abertos da CVM: http://dados.cvm.gov.br/dataset/fie-cad\n",
        "\n"
      ]
    },
    {
      "cell_type": "code",
      "metadata": {
        "id": "jXgR0fxPfkJS",
        "colab_type": "code",
        "outputId": "4903a707-57e3-46d3-cf16-97d6917fb1e6",
        "colab": {
          "base_uri": "https://localhost:8080/",
          "height": 408
        }
      },
      "source": [
        "cadastro <- read_csv2(\"http://dados.cvm.gov.br/dados/FIE/CAD/DADOS/inf_cadastral_fie.csv\")"
      ],
      "execution_count": 0,
      "outputs": [
        {
          "output_type": "stream",
          "text": [
            "Using ',' as decimal and '.' as grouping mark. Use read_delim() for more control.\n",
            "\n",
            "Parsed with column specification:\n",
            "cols(\n",
            "  TP_FUNDO = \u001b[31mcol_character()\u001b[39m,\n",
            "  CNPJ_FUNDO = \u001b[31mcol_character()\u001b[39m,\n",
            "  DENOM_SOCIAL = \u001b[31mcol_character()\u001b[39m,\n",
            "  DT_REG = \u001b[34mcol_date(format = \"\")\u001b[39m,\n",
            "  DT_CONST = \u001b[34mcol_date(format = \"\")\u001b[39m,\n",
            "  DT_CANCEL = \u001b[34mcol_date(format = \"\")\u001b[39m,\n",
            "  SIT = \u001b[31mcol_character()\u001b[39m,\n",
            "  DT_INI_SIT = \u001b[34mcol_date(format = \"\")\u001b[39m,\n",
            "  DT_INI_EXERC = \u001b[34mcol_date(format = \"\")\u001b[39m,\n",
            "  DT_FIM_EXERC = \u001b[34mcol_date(format = \"\")\u001b[39m,\n",
            "  CNPJ_ADMIN = \u001b[31mcol_character()\u001b[39m,\n",
            "  ADMIN = \u001b[31mcol_character()\u001b[39m,\n",
            "  PF_PJ_GESTOR = \u001b[31mcol_character()\u001b[39m,\n",
            "  CPF_CNPJ_GESTOR = \u001b[31mcol_character()\u001b[39m,\n",
            "  GESTOR = \u001b[31mcol_character()\u001b[39m,\n",
            "  CNPJ_AUDITOR = \u001b[31mcol_character()\u001b[39m,\n",
            "  AUDITOR = \u001b[31mcol_character()\u001b[39m\n",
            ")\n",
            "\n"
          ],
          "name": "stderr"
        }
      ]
    },
    {
      "cell_type": "code",
      "metadata": {
        "id": "uIjTgMsbg32y",
        "colab_type": "code",
        "outputId": "e2debc43-c300-4fb2-e65a-5d9f9fe683e2",
        "colab": {
          "base_uri": "https://localhost:8080/",
          "height": 340
        }
      },
      "source": [
        "glimpse(cadastro)"
      ],
      "execution_count": 0,
      "outputs": [
        {
          "output_type": "stream",
          "text": [
            "Rows: 16,134\n",
            "Columns: 17\n",
            "$ TP_FUNDO        \u001b[3m\u001b[90m<chr>\u001b[39m\u001b[23m \"F.I.I.\", \"F.I.I.\", \"F.I.I.\", \"F.I.I.\", \"F.I.I.\", \"F.…\n",
            "$ CNPJ_FUNDO      \u001b[3m\u001b[90m<chr>\u001b[39m\u001b[23m \"19.878.616/0001-98\", \"19.419.994/0001-03\", \"19.213.2…\n",
            "$ DENOM_SOCIAL    \u001b[3m\u001b[90m<chr>\u001b[39m\u001b[23m \"17007 NA\\xc7\\xd5ES FUNDO DE INVESTIMENTO IMOBILI\\xc1…\n",
            "$ DT_REG          \u001b[3m\u001b[90m<date>\u001b[39m\u001b[23m 2019-12-16, 2013-12-27, 2017-12-29, 2017-12-29, 2019…\n",
            "$ DT_CONST        \u001b[3m\u001b[90m<date>\u001b[39m\u001b[23m 2019-12-13, 2013-12-10, 2013-10-11, 2014-10-10, 2018…\n",
            "$ DT_CANCEL       \u001b[3m\u001b[90m<date>\u001b[39m\u001b[23m NA, NA, NA, NA, NA, 2014-06-27, NA, NA, 2018-03-22, …\n",
            "$ SIT             \u001b[3m\u001b[90m<chr>\u001b[39m\u001b[23m \"EM FUNCIONAMENTO NORMAL\", \"EM FUNCIONAMENTO NORMAL\",…\n",
            "$ DT_INI_SIT      \u001b[3m\u001b[90m<date>\u001b[39m\u001b[23m 2019-12-27, 2013-12-27, 2017-12-29, 2017-12-29, 2019…\n",
            "$ DT_INI_EXERC    \u001b[3m\u001b[90m<date>\u001b[39m\u001b[23m 2020-01-01, 2020-01-01, 2020-01-01, 2020-01-01, 2020…\n",
            "$ DT_FIM_EXERC    \u001b[3m\u001b[90m<date>\u001b[39m\u001b[23m 2020-12-31, 2020-12-31, 2020-12-31, 2020-12-31, 2020…\n",
            "$ CNPJ_ADMIN      \u001b[3m\u001b[90m<chr>\u001b[39m\u001b[23m \"45.246.410/0001-55\", \"36.113.876/0001-91\", \"03.317.6…\n",
            "$ ADMIN           \u001b[3m\u001b[90m<chr>\u001b[39m\u001b[23m \"PLURAL S.A. BANCO MULTIPLO\", \"OLIVEIRA TRUST DTVM S.…\n",
            "$ PF_PJ_GESTOR    \u001b[3m\u001b[90m<chr>\u001b[39m\u001b[23m \"PJ\", \"PJ\", \"PJ\", \"PJ\", \"PJ\", NA, \"PJ\", \"PJ\", \"PJ\", N…\n",
            "$ CPF_CNPJ_GESTOR \u001b[3m\u001b[90m<chr>\u001b[39m\u001b[23m \"22.119.959/0001-83\", \"36.113.876/0001-91\", \"09.146.7…\n",
            "$ GESTOR          \u001b[3m\u001b[90m<chr>\u001b[39m\u001b[23m \"BRPP GEST\\xc3O DE PRODUTOS ESTRUTURADOS LTDA.\", \"OLI…\n",
            "$ CNPJ_AUDITOR    \u001b[3m\u001b[90m<chr>\u001b[39m\u001b[23m \"57.755.217/0001-29\", \"61.562.112/0001-20\", \"10.830.1…\n",
            "$ AUDITOR         \u001b[3m\u001b[90m<chr>\u001b[39m\u001b[23m \"KPMG AUDITORES INDEPENDENTES\", \"PRICEWATERHOUSECOOPE…\n"
          ],
          "name": "stdout"
        }
      ]
    }
  ]
}